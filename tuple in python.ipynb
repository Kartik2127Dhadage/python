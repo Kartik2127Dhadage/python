{
 "cells": [
  {
   "cell_type": "markdown",
   "id": "bca5f526-fbc9-45e8-ac53-ce6d5dfcaa9b",
   "metadata": {},
   "source": [
    "## Tuples in python \n",
    "* Tuples are immutable list cannot be changed in any way once it is created.\n",
    "* Tuples are defined in the same way as lists.\n",
    "* They are encolsed parenthisis and not within squre brakets.\n",
    "* Similar to string indices,the first value in the tuple will have the index[0],the second value is[1].\n",
    "* Tuple are ordred,index collection of data.\n",
    "* Negative indices are counted from the end of the tuple,just like list.\n",
    "* Tuple can not save duplicate value.\n",
    "* Tuple allows you store seversl data items including string,intager,float,in one variable ."
   ]
  },
  {
   "cell_type": "code",
   "execution_count": 1,
   "id": "3b220619-d3c4-47cc-a00f-be06a2808b90",
   "metadata": {},
   "outputs": [
    {
     "name": "stdout",
     "output_type": "stream",
     "text": [
      "(1, 2, 3, 4, 5, 6, 7)\n"
     ]
    }
   ],
   "source": [
    "lis=[1,2,3,4,5,6,7]\n",
    "print(tuple(lis))"
   ]
  },
  {
   "cell_type": "code",
   "execution_count": 3,
   "id": "41db6e29-8e7b-4d59-8e18-639879335a34",
   "metadata": {},
   "outputs": [
    {
     "name": "stdout",
     "output_type": "stream",
     "text": [
      "('k', 'a', 'r', 't', 'i', 'k')\n"
     ]
    }
   ],
   "source": [
    "tup=tuple(\"kartik\")\n",
    "print(tup)"
   ]
  },
  {
   "cell_type": "code",
   "execution_count": 10,
   "id": "eeb36d9c-4e14-4a14-9aed-8a9f04eee0d3",
   "metadata": {},
   "outputs": [
    {
     "name": "stdout",
     "output_type": "stream",
     "text": [
      "(1, 2, 3, 4, 5, 6, 7)\n"
     ]
    }
   ],
   "source": [
    "tup1=(1,2,3,4)\n",
    "tup2=(5,6,7,)\n",
    "tup3=tup1+tup2\n",
    "print(tup3)"
   ]
  },
  {
   "cell_type": "code",
   "execution_count": 6,
   "id": "15334342-1e6d-4aaa-9ba7-d90e06ef112d",
   "metadata": {},
   "outputs": [
    {
     "name": "stdout",
     "output_type": "stream",
     "text": [
      "kartikkartikkartik\n"
     ]
    }
   ],
   "source": [
    "tup4=(\"kartik\")*3\n",
    "print(tup4)"
   ]
  },
  {
   "cell_type": "code",
   "execution_count": 8,
   "id": "c1b401d3-119d-4d33-b30f-17e48c46984b",
   "metadata": {},
   "outputs": [
    {
     "name": "stdout",
     "output_type": "stream",
     "text": [
      "art\n",
      "kar\n"
     ]
    }
   ],
   "source": [
    "tup5=(\"kartik\")\n",
    "print(tup5[1:4])\n",
    "print(tup5[:3])"
   ]
  },
  {
   "cell_type": "code",
   "execution_count": 11,
   "id": "91732730-c655-4812-89ac-407516c37830",
   "metadata": {},
   "outputs": [
    {
     "name": "stdout",
     "output_type": "stream",
     "text": [
      "artik\n"
     ]
    }
   ],
   "source": [
    "print(tup5[1:])"
   ]
  },
  {
   "cell_type": "code",
   "execution_count": 12,
   "id": "b087f027-a811-450f-93ef-5496e4f30c16",
   "metadata": {},
   "outputs": [
    {
     "name": "stdout",
     "output_type": "stream",
     "text": [
      "kitrak\n"
     ]
    }
   ],
   "source": [
    "print(tup5[::-1])"
   ]
  },
  {
   "cell_type": "code",
   "execution_count": 13,
   "id": "4b3535d1-b1b3-492c-8242-936cb01fd43a",
   "metadata": {},
   "outputs": [
    {
     "name": "stdout",
     "output_type": "stream",
     "text": [
      "(1, 2, 3, 4)\n"
     ]
    }
   ],
   "source": [
    "print(tup1)"
   ]
  },
  {
   "cell_type": "code",
   "execution_count": 14,
   "id": "96a9323e-cb38-4f70-a523-8180f9469077",
   "metadata": {},
   "outputs": [
    {
     "name": "stdout",
     "output_type": "stream",
     "text": [
      "True\n"
     ]
    }
   ],
   "source": [
    "res=3 in tup1\n",
    "print(res)"
   ]
  },
  {
   "cell_type": "code",
   "execution_count": 17,
   "id": "878340b6-32ff-42c3-874e-f7ddb3dce456",
   "metadata": {},
   "outputs": [
    {
     "name": "stdout",
     "output_type": "stream",
     "text": [
      "True\n"
     ]
    }
   ],
   "source": [
    "res=6 not in tup1\n",
    "print(res)"
   ]
  },
  {
   "cell_type": "code",
   "execution_count": 1,
   "id": "7d6db588-69e2-4a78-95b7-d564a6f2ff6b",
   "metadata": {},
   "outputs": [
    {
     "name": "stdout",
     "output_type": "stream",
     "text": [
      "(1, 2, 3, 4, 5, 6, 7, 8, 9, 10, 1, 2, 3, 4, 5, 6, 7, 8, 9, 10)\n"
     ]
    }
   ],
   "source": [
    "rep=(1,2,3,4,5,6,7,8,9,10)\n",
    "print(2*rep)"
   ]
  },
  {
   "cell_type": "code",
   "execution_count": null,
   "id": "3dc29a54-72dd-4fed-8006-94048a3e9fbf",
   "metadata": {},
   "outputs": [],
   "source": []
  }
 ],
 "metadata": {
  "kernelspec": {
   "display_name": "Python 3 (ipykernel)",
   "language": "python",
   "name": "python3"
  },
  "language_info": {
   "codemirror_mode": {
    "name": "ipython",
    "version": 3
   },
   "file_extension": ".py",
   "mimetype": "text/x-python",
   "name": "python",
   "nbconvert_exporter": "python",
   "pygments_lexer": "ipython3",
   "version": "3.13.5"
  }
 },
 "nbformat": 4,
 "nbformat_minor": 5
}
