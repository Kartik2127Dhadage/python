{
 "cells": [
  {
   "cell_type": "code",
   "execution_count": null,
   "id": "7935cef7-5e66-4c7d-9260-74f00ff373fd",
   "metadata": {},
   "outputs": [],
   "source": []
  },
  {
   "cell_type": "code",
   "execution_count": 1,
   "id": "9fc633dc-75c7-43ad-ba1f-12c32bd1fd6a",
   "metadata": {},
   "outputs": [
    {
     "name": "stdout",
     "output_type": "stream",
     "text": [
      "1\n",
      "4\n",
      "9\n",
      "16\n",
      "25\n",
      "36\n",
      "49\n",
      "64\n",
      "81\n",
      "100\n"
     ]
    }
   ],
   "source": [
    "#squre 1-10\n",
    "for i in range(1,11):\n",
    "    print(i**2)"
   ]
  },
  {
   "cell_type": "code",
   "execution_count": 4,
   "id": "6a0014c1-afed-4c9c-831c-9d028c2dfbba",
   "metadata": {},
   "outputs": [
    {
     "data": {
      "text/plain": [
       "[1, 4, 9, 16, 25, 36, 49, 64, 81, 100]"
      ]
     },
     "execution_count": 4,
     "metadata": {},
     "output_type": "execute_result"
    }
   ],
   "source": [
    "# using list comprihenion\n",
    "[i**2 for i in range(1,11)]"
   ]
  },
  {
   "cell_type": "code",
   "execution_count": 5,
   "id": "f6c265fe-a9d9-43b1-837b-888168f8cadd",
   "metadata": {},
   "outputs": [
    {
     "name": "stdout",
     "output_type": "stream",
     "text": [
      "2\n",
      "4\n",
      "6\n",
      "8\n",
      "10\n"
     ]
    }
   ],
   "source": [
    "# 1-10 pick even or odd\n",
    "for i in range(1,11):\n",
    "    if i%2==0:\n",
    "        print(i)"
   ]
  },
  {
   "cell_type": "code",
   "execution_count": 7,
   "id": "cbdc8fdb-4339-4042-910b-6e01af5980f7",
   "metadata": {},
   "outputs": [
    {
     "name": "stdout",
     "output_type": "stream",
     "text": [
      "[2, 4, 6, 8, 10]\n",
      "[1, 3, 5, 7, 9]\n"
     ]
    }
   ],
   "source": [
    "# using list comprihenion\n",
    "print([i for i in range(1,11) if i%2==0])\n",
    "print([i for i in range(1,11) if i%2!=0])"
   ]
  },
  {
   "cell_type": "code",
   "execution_count": 8,
   "id": "b9e35d91-4acb-4630-bd0a-3942a1173545",
   "metadata": {},
   "outputs": [
    {
     "name": "stdout",
     "output_type": "stream",
     "text": [
      "C++\n",
      "C\n",
      "C#\n"
     ]
    }
   ],
   "source": [
    "languages=[\"Python\",\"C++\",\"JavaScript\",\"C\",\"C#\",\"ForTran\",\"BASIC\"]\n",
    "# pick start with c\n",
    "for i in range(len(languages)):\n",
    "    if languages[i][0]==\"C\":\n",
    "        print(languages[i])"
   ]
  },
  {
   "cell_type": "code",
   "execution_count": 9,
   "id": "e8abb312-4680-4823-89e9-0b5d051b1dfe",
   "metadata": {},
   "outputs": [
    {
     "name": "stdout",
     "output_type": "stream",
     "text": [
      "C++\n",
      "C\n",
      "C#\n"
     ]
    }
   ],
   "source": [
    "for i in languages:\n",
    "    if i[0]==\"C\":\n",
    "        print(i)"
   ]
  },
  {
   "cell_type": "code",
   "execution_count": 10,
   "id": "530e4261-635b-46a3-b2d4-b01f20dd7e89",
   "metadata": {},
   "outputs": [
    {
     "data": {
      "text/plain": [
       "['C++', 'C', 'C#']"
      ]
     },
     "execution_count": 10,
     "metadata": {},
     "output_type": "execute_result"
    }
   ],
   "source": [
    "#using list comprihenion\n",
    "[i for i in languages if i[0]==\"C\"]"
   ]
  },
  {
   "cell_type": "code",
   "execution_count": 11,
   "id": "1916f4ff-6a57-4dcd-925e-25d9cbc841e0",
   "metadata": {},
   "outputs": [
    {
     "data": {
      "text/plain": [
       "['C++', 'C', 'C#']"
      ]
     },
     "execution_count": 11,
     "metadata": {},
     "output_type": "execute_result"
    }
   ],
   "source": [
    "[languages[i] for i in range(len(languages)) if languages[i][0]==\"C\"]"
   ]
  },
  {
   "cell_type": "code",
   "execution_count": 12,
   "id": "0a1a4fd7-096f-4995-bcfb-dec7c31111d2",
   "metadata": {},
   "outputs": [
    {
     "name": "stdout",
     "output_type": "stream",
     "text": [
      "JavaScript\n",
      "BASIC\n"
     ]
    }
   ],
   "source": [
    "# pick out s in strings in languages\n",
    "for i in range(len(languages)):\n",
    "    if \"S\" in languages[i]:\n",
    "        print(languages[i])"
   ]
  },
  {
   "cell_type": "code",
   "execution_count": 13,
   "id": "b16337d9-02d9-484a-bd4d-5764a1f342a4",
   "metadata": {},
   "outputs": [
    {
     "data": {
      "text/plain": [
       "['JavaScript', 'BASIC']"
      ]
     },
     "execution_count": 13,
     "metadata": {},
     "output_type": "execute_result"
    }
   ],
   "source": [
    "[i for i in languages if \"S\" in i]"
   ]
  },
  {
   "cell_type": "code",
   "execution_count": 15,
   "id": "b9a892aa-53be-4313-b984-6a24e45b97a2",
   "metadata": {},
   "outputs": [
    {
     "data": {
      "text/plain": [
       "['PYTHON', 'C++', 'JAVASCRIPT', 'C', 'C#', 'FORTRAN', 'BASIC']"
      ]
     },
     "execution_count": 15,
     "metadata": {},
     "output_type": "execute_result"
    }
   ],
   "source": [
    "[a.upper() for a in languages]"
   ]
  },
  {
   "cell_type": "code",
   "execution_count": 16,
   "id": "fe983681-160e-4bde-8c97-1e8ac4aa34a3",
   "metadata": {},
   "outputs": [
    {
     "name": "stdout",
     "output_type": "stream",
     "text": [
      "120\n"
     ]
    }
   ],
   "source": [
    "# calculate factorial of 5\n",
    "\n",
    "fact=1\n",
    "for i in range(1,6):\n",
    "    fact*=i\n",
    "print(fact)"
   ]
  },
  {
   "cell_type": "code",
   "execution_count": 22,
   "id": "48ea911d-fcbc-49fe-9c8f-7f79737f359c",
   "metadata": {},
   "outputs": [
    {
     "name": "stdin",
     "output_type": "stream",
     "text": [
      "enter any number 5\n"
     ]
    },
    {
     "name": "stdout",
     "output_type": "stream",
     "text": [
      "120\n"
     ]
    }
   ],
   "source": [
    "fact=1\n",
    "n=int(input(\"enter any number\"))\n",
    "[i for i in range(1,n+1) if not(fact:=fact*i)]\n",
    "print(fact)"
   ]
  },
  {
   "cell_type": "markdown",
   "id": "5fdeb80b-56de-49e1-a622-7728bbc1fa1d",
   "metadata": {},
   "source": [
    "## practice set"
   ]
  },
  {
   "cell_type": "code",
   "execution_count": 23,
   "id": "84cc4246-b1c8-464e-b8f3-a1a43454db63",
   "metadata": {},
   "outputs": [
    {
     "data": {
      "text/plain": [
       "[1, 4, 9, 16, 25, 36, 49, 64, 81, 100]"
      ]
     },
     "execution_count": 23,
     "metadata": {},
     "output_type": "execute_result"
    }
   ],
   "source": [
    "#1. Genarate a list of squres from 1 to 10 using list comprihension.\n",
    "[i**2 for i in range(1,11)]"
   ]
  },
  {
   "cell_type": "code",
   "execution_count": 24,
   "id": "b5547662-ab92-481b-aa3e-0711689d5fb2",
   "metadata": {},
   "outputs": [
    {
     "data": {
      "text/plain": [
       "[2,\n",
       " 4,\n",
       " 6,\n",
       " 8,\n",
       " 10,\n",
       " 12,\n",
       " 14,\n",
       " 16,\n",
       " 18,\n",
       " 20,\n",
       " 22,\n",
       " 24,\n",
       " 26,\n",
       " 28,\n",
       " 30,\n",
       " 32,\n",
       " 34,\n",
       " 36,\n",
       " 38,\n",
       " 40,\n",
       " 42,\n",
       " 44,\n",
       " 46,\n",
       " 48,\n",
       " 50]"
      ]
     },
     "execution_count": 24,
     "metadata": {},
     "output_type": "execute_result"
    }
   ],
   "source": [
    "# 2. creat a list of even number fron 1 to 50 .\n",
    "[i for i in range(1,51) if i%2==0]"
   ]
  },
  {
   "cell_type": "code",
   "execution_count": 25,
   "id": "ef2a94e1-6159-4e79-902b-0da64737689a",
   "metadata": {},
   "outputs": [
    {
     "data": {
      "text/plain": [
       "['CAT', 'GOD', 'LION']"
      ]
     },
     "execution_count": 25,
     "metadata": {},
     "output_type": "execute_result"
    }
   ],
   "source": [
    "# 3. convert the listt of string to uppercase using list comprehension.\n",
    "words=[\"cat\",\"god\",\"lion\"]\n",
    "[i.upper() for i in words]"
   ]
  },
  {
   "cell_type": "code",
   "execution_count": 26,
   "id": "5d507efd-faee-422c-a60a-206e5d51f3dd",
   "metadata": {},
   "outputs": [
    {
     "data": {
      "text/plain": [
       "[15, 30, 45, 60, 75, 90]"
      ]
     },
     "execution_count": 26,
     "metadata": {},
     "output_type": "execute_result"
    }
   ],
   "source": [
    "#4. get a list of numbers divisible by 3 and 5 both from 1 to 100.\n",
    "[i for i in range(1,101) if i%3==0 and i%5==0]"
   ]
  },
  {
   "cell_type": "code",
   "execution_count": 27,
   "id": "aa9f6697-669e-4c65-b436-c2b8b043412b",
   "metadata": {},
   "outputs": [
    {
     "data": {
      "text/plain": [
       "['o', 'e', 'e', 'i', 'o']"
      ]
     },
     "execution_count": 27,
     "metadata": {},
     "output_type": "execute_result"
    }
   ],
   "source": [
    "# 5. extract all vowels in string.\n",
    "string=\"Comprehension\"\n",
    "vow=\"AEIOUaeiou\"\n",
    "[i for i in string if i in vow]"
   ]
  },
  {
   "cell_type": "code",
   "execution_count": 33,
   "id": "16451bde-d5e2-4ca3-a949-44c517fb321f",
   "metadata": {},
   "outputs": [],
   "source": [
    "# 6 given a matrix falttan it in single matrix\n",
    "matrix=[[1,2,3],[4,5,6],[7,8,9]]\n"
   ]
  },
  {
   "cell_type": "code",
   "execution_count": 37,
   "id": "a9453631-7333-4f9c-a5c7-7ba7429a0df0",
   "metadata": {},
   "outputs": [
    {
     "data": {
      "text/plain": [
       "['tree']"
      ]
     },
     "execution_count": 37,
     "metadata": {},
     "output_type": "execute_result"
    }
   ],
   "source": [
    "#7. given a list that extract words that contain the latter \"e\"\n",
    "word=[\"tree\",\"book\",\"python\",\"sky\"]\n",
    "[word[i] for i in range(len(word)) if \"e\" in word[i]]"
   ]
  },
  {
   "cell_type": "code",
   "execution_count": 47,
   "id": "0742e245-12f5-4a83-b751-bbcf94f79e5b",
   "metadata": {},
   "outputs": [],
   "source": [
    "# 8\n"
   ]
  },
  {
   "cell_type": "code",
   "execution_count": 59,
   "id": "9df39173-1d66-439e-b6fa-b548317525e9",
   "metadata": {},
   "outputs": [
    {
     "data": {
      "text/plain": [
       "['ODD', 2, 'ODD', 4, 'ODD', 6]"
      ]
     },
     "execution_count": 59,
     "metadata": {},
     "output_type": "execute_result"
    }
   ],
   "source": [
    "#9 from a list of numbers replace odd number \"ODD\" and keep even number as is .\n",
    "nums=[1,2,3,4,5,6]\n",
    "[ \"ODD\" if i%2!=0 else i for i in nums]"
   ]
  },
  {
   "cell_type": "code",
   "execution_count": null,
   "id": "ece18453-5e24-4dca-a9f0-3b5a49d9bbfb",
   "metadata": {},
   "outputs": [],
   "source": [
    "# 10. using nested list "
   ]
  }
 ],
 "metadata": {
  "kernelspec": {
   "display_name": "Python 3 (ipykernel)",
   "language": "python",
   "name": "python3"
  },
  "language_info": {
   "codemirror_mode": {
    "name": "ipython",
    "version": 3
   },
   "file_extension": ".py",
   "mimetype": "text/x-python",
   "name": "python",
   "nbconvert_exporter": "python",
   "pygments_lexer": "ipython3",
   "version": "3.13.5"
  }
 },
 "nbformat": 4,
 "nbformat_minor": 5
}
