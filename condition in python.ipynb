{
 "cells": [
  {
   "cell_type": "markdown",
   "id": "9e801fbf-99d5-4730-85d4-dc80ab5f0dfd",
   "metadata": {},
   "source": [
    "### conditions in python\n",
    "* operators\n",
    "    * \"assignement operator\"\n",
    "    * \"arithmatic operator\",+,-,*,%,/,**\n",
    "    * \"comparison operator / relational operator \".<,>,<=,>=,==,!=\n",
    "    * \"membership operator\".in,not in,\n",
    "    * \"logical operator\",\"AND,OR,NOT\"\n",
    "    * \"identity operator\",is,is not"
   ]
  },
  {
   "cell_type": "markdown",
   "id": "93c2f62e-13a7-452d-8aa8-6c8ec3f3d718",
   "metadata": {},
   "source": [
    "### Branching ( if , elif , else)\n",
    "* dicision making is required when we want to execute a code only if a certain condition is satisfide.\n",
    "* the if/elif/else statement is used in python for decision making.\n",
    "* an else statement can be combined with an if statement.\n",
    "* an else statement cantain that block of code that execute if the conditional expression in the first statment revolse to 0 or a False value.\n",
    "* the else statement is an optional statement and there could be at most only one else statment following if.\n",
    "* the if else statement allows you to check multiple condition for True and execute a block of code as soon as one of the condition evaluates to true.\n",
    "* similar to the else the elif statement is optional.\n",
    "* however unlike else for which there can be an arbitary number of elif starement folloeing an if."
   ]
  },
  {
   "cell_type": "code",
   "execution_count": 11,
   "id": "18105a2d-221c-44ae-9bee-45538300720a",
   "metadata": {},
   "outputs": [
    {
     "name": "stdin",
     "output_type": "stream",
     "text": [
      "enter any number 11\n"
     ]
    },
    {
     "name": "stdout",
     "output_type": "stream",
     "text": [
      "11 is not divided by 5 or 3\n"
     ]
    }
   ],
   "source": [
    "num=int(input(\"enter any number\"))\n",
    "if num%3==0 and num%5==0:\n",
    "    print(f\"{num} id divided by 3 or 5\")\n",
    "elif num%3==0 and num%5!=0:\n",
    "    print(f\"{num} is divided by 3 not 5\")\n",
    "elif num%3!=0 and num%5==0:\n",
    "    print(f\"{num} id divided by 5 not 3\")\n",
    "else:\n",
    "    print(f\"{num} is not divided by 5 or 3\")\n"
   ]
  },
  {
   "cell_type": "code",
   "execution_count": 14,
   "id": "e5665299-4de9-4d10-bbd9-11bf4e78acf8",
   "metadata": {},
   "outputs": [
    {
     "name": "stdin",
     "output_type": "stream",
     "text": [
      "enter your age 87\n"
     ]
    },
    {
     "name": "stdout",
     "output_type": "stream",
     "text": [
      "your are sinior citizion\n"
     ]
    }
   ],
   "source": [
    "age=int(input(\"enter your age\"))\n",
    "if age>=60:\n",
    "        print(\"your are sinior citizion\")\n",
    "else:\n",
    "        print(\"your are not sinior citizion\")\n"
   ]
  },
  {
   "cell_type": "code",
   "execution_count": 5,
   "id": "963e66ce-8928-48e8-8106-e114c96e98e4",
   "metadata": {},
   "outputs": [
    {
     "name": "stdin",
     "output_type": "stream",
     "text": [
      "enter any number 0\n"
     ]
    },
    {
     "name": "stdout",
     "output_type": "stream",
     "text": [
      "0 is a nutral number\n"
     ]
    }
   ],
   "source": [
    "num=int(input(\"enter any number\"))\n",
    "if num>0:\n",
    "    print(f\"{num} is a positive number\")\n",
    "elif num==0:\n",
    "    print(f\"{num} is a nutral number\")\n",
    "else:\n",
    "    print(f\"{num} is a negative number\")"
   ]
  },
  {
   "cell_type": "code",
   "execution_count": 12,
   "id": "e135c180-b169-4ab2-a594-b1ba414ef9a3",
   "metadata": {},
   "outputs": [
    {
     "name": "stdin",
     "output_type": "stream",
     "text": [
      "enter your salary 70000\n",
      "enter your service time 11\n"
     ]
    },
    {
     "name": "stdout",
     "output_type": "stream",
     "text": [
      "your salary is 70000 \n",
      " bonus is  10% \n",
      " total bonus amount is 7000.0 \n",
      " total salary is  77000.0\n"
     ]
    }
   ],
   "source": [
    "salary=int(input(\"enter your salary\"))\n",
    "servicetime=int(input(\"enter your service time\"))\n",
    "if salary>0:\n",
    "    if servicetime>0:\n",
    "        if servicetime>10:\n",
    "            bonus=\"10%\"\n",
    "            totalbonus=(salary*10)/100\n",
    "            totalsalary=salary+totalbonus\n",
    "            print(\"your salary is\",salary,\"\\n bonus is \",bonus,\"\\n total bonus amount is\",totalbonus,\"\\n total salary is \",totalsalary)\n",
    "        elif servicetime>6 and servicetime<=10:\n",
    "            bonus=\"8\"\n",
    "            totalbonus=(salary*8)/100\n",
    "            totalsalary=salary+totalbonus\n",
    "            print(\"your salary is\",salary,\"\\n bonus is \",bonus,\"\\n total bonus amount is\",totalbonus,\"\\n total salary is \",totalsalary)\n",
    "        elif servicetime<6:\n",
    "            bonus=\"5%\"\n",
    "            totalbonus=(salary*5)/100\n",
    "            totalsalary=salary+totalbonus\n",
    "            print(\"your salary is\",salary,\"\\n bonus is \",bonus,\"\\n total bonus amount is\",totalbonus,\"\\n total salary is \",totalsalary)\n",
    "        else:\n",
    "            print(\"no data found\")\n",
    "    else:\n",
    "        print(\"service time not in negative\")\n",
    "else:\n",
    "    print(\"salary not be negative\")\n",
    "    \n",
    "    "
   ]
  },
  {
   "cell_type": "code",
   "execution_count": 3,
   "id": "56bd10a4-15cf-4a2f-b932-6091dd771e7b",
   "metadata": {},
   "outputs": [
    {
     "name": "stdin",
     "output_type": "stream",
     "text": [
      "enter your age  -8\n"
     ]
    },
    {
     "name": "stdout",
     "output_type": "stream",
     "text": [
      "age is not negative\n"
     ]
    }
   ],
   "source": [
    "# chake you are elagible to voting\n",
    "age=int(input(\"enter your age \"))\n",
    "if age>0:\n",
    "    if age>=18:\n",
    "        print(\"your are elagible to voting\")\n",
    "    else:\n",
    "        print(\"your are not elagible to voting\")\n",
    "else:\n",
    "    print(\"age is not negative\")"
   ]
  },
  {
   "cell_type": "code",
   "execution_count": 8,
   "id": "480d80fb-321a-49da-b03c-87c988af4f54",
   "metadata": {},
   "outputs": [
    {
     "name": "stdin",
     "output_type": "stream",
     "text": [
      "enter month number 111\n"
     ]
    },
    {
     "name": "stdout",
     "output_type": "stream",
     "text": [
      "invalid\n"
     ]
    }
   ],
   "source": [
    "# press 1 to print janwary ,2 februwry,etc.......\n",
    "\n",
    "monthno=int(input(\"enter month number\"))\n",
    "if monthno==1:\n",
    "    print(\"janwary\")\n",
    "elif monthno==2:\n",
    "    print(\"februwary\")\n",
    "elif monthno==3:\n",
    "    print(\"march\")\n",
    "elif monthno==4:\n",
    "    print(\"april\")\n",
    "elif monthno==5:\n",
    "    print(\"may\")\n",
    "elif monthno==6:\n",
    "    print(\"june\")\n",
    "elif monthno==7:\n",
    "    print(\"julai\")\n",
    "elif monthno==8:\n",
    "    print(\"augast\")\n",
    "elif monthno==9:\n",
    "    print(\"suptember\")\n",
    "elif monthno==10:\n",
    "    print(\"october\")\n",
    "elif monthno==11:\n",
    "    print(\"nohember\")\n",
    "elif monthno==12:\n",
    "    print(\"december\")\n",
    "else:\n",
    "    print(\"invalid\")"
   ]
  },
  {
   "cell_type": "code",
   "execution_count": 13,
   "id": "5357dbdc-304a-4e51-876d-b607e3686f47",
   "metadata": {},
   "outputs": [
    {
     "name": "stdin",
     "output_type": "stream",
     "text": [
      "emter city name  delhi\n"
     ]
    },
    {
     "name": "stdout",
     "output_type": "stream",
     "text": [
      " monument is : redfort,qurtubminar\n"
     ]
    }
   ],
   "source": [
    "# accept the city and print thire monument\n",
    "\n",
    "city=[\"delhi,agra,jaipur,amritsar,madhurai,mysore,mumbai,sanchi,hydrabad,gujrat\"]\n",
    "cityname1=input(\"emter city name \")\n",
    "cityname=cityname1.lower()\n",
    "if cityname==\"delhi\":\n",
    "    print(\" monument is : redfort,qurtubminar\")\n",
    "elif cityname==\"agra\":\n",
    "    print(\"monument is : tagmahal\")\n",
    "elif cityname==\"jaipur\":\n",
    "    print(\"monument is : hawamahal,jalmahal\")\n",
    "elif cityname==\"amritsar\":\n",
    "    print(\"monument is : goldentemple\")\n",
    "elif cityname==\"madhurai\":\n",
    "    print(\"monument is: meenakshi temple\")\n",
    "elif cityname==\"mysore\":\n",
    "    print(\"monument is : mysore palace\")\n",
    "elif cityname==\"mumbai\":\n",
    "    print(\"monument is : gate way of the india\")\n",
    "elif cityname==\"sanchi\":\n",
    "    print(\" monument is: sanchi stupa\")\n",
    "elif cityname==\"hydrabad\":\n",
    "    print(\"monument is: chsrminar\")\n",
    "elif cityname==\"gujrat\":\n",
    "    print(\"monument is : statue of unity\")\n",
    "else:\n",
    "    print(\"invalid city name\")"
   ]
  },
  {
   "cell_type": "code",
   "execution_count": 21,
   "id": "9b2ab097-0983-4619-a899-3e80520170c6",
   "metadata": {},
   "outputs": [
    {
     "name": "stdin",
     "output_type": "stream",
     "text": [
      "enter shopping price -1888\n"
     ]
    },
    {
     "name": "stdout",
     "output_type": "stream",
     "text": [
      "shopping price not negative\n"
     ]
    }
   ],
   "source": [
    "# if shopping price more thwn and equle2000 the you will get discount 20%\n",
    "#  shopping price more than 1000 to discount is 10%\n",
    "# less than 1000 to no discount print how more purches to get discount\n",
    "\n",
    "shopping=int(input(\"enter shopping price\"))\n",
    "if shopping>0:\n",
    "    if shopping>=2000:\n",
    "        dis=\"20%\"\n",
    "        disamount=(shopping*20)/100\n",
    "        totalamount=shopping-disamount\n",
    "        print(\"shopping price is:\",shopping,\"\\n discount is:\",dis,\"\\n total discount amount is :\",disamount,\n",
    "              \"\\n total amount after minus discount:\",totalamount)\n",
    "    elif shopping>=1000:\n",
    "        dis=\"10%\"\n",
    "        disamount=(shopping*10)/100\n",
    "        totalamount=shopping-disamount\n",
    "        print(\"shopping price is:\",shopping,\"\\n discount is:\",dis,\"\\n total discount amount is :\",disamount,\n",
    "              \"\\n total amount after minus discount:\",totalamount)\n",
    "    elif shopping<1000:\n",
    "        dis=\"0%\"\n",
    "        disamount=(shopping*0)/100\n",
    "        totalamount=shopping-disamount\n",
    "        needtopurches=1000-shopping\n",
    "        print(\"shopping price is:\",shopping,\"\\n discount is:\",dis,\"\\n total discount amount is :\",disamount,\n",
    "              \"\\n total amount after minus discount:\",totalamount,\"\\n you need to purches  more  to you will get 10% discount\",needtopurches)\n",
    "    else:\n",
    "        print(\"no data found\")\n",
    "else:\n",
    "    print(\"shopping price not negative\")"
   ]
  },
  {
   "cell_type": "code",
   "execution_count": 23,
   "id": "839b1eb2-7e70-449c-964d-2a452c2a92cc",
   "metadata": {},
   "outputs": [
    {
     "name": "stdin",
     "output_type": "stream",
     "text": [
      "enter your bike price 40000\n"
     ]
    },
    {
     "name": "stdout",
     "output_type": "stream",
     "text": [
      "bike price is: 40000 \n",
      " total tax is : 8% \n",
      " total tax amount is : 3200.0 \n",
      " total bike price after adding tax : 43200.0\n"
     ]
    }
   ],
   "source": [
    "# write a program to accept cost price ofif bike and displey the road tax to be paid according to following critari\n",
    "#cost of bike________________road tax\n",
    "# > 100000___________________ 15%\n",
    "# > 50000 and <=100000________10%\n",
    "#<50000 ______________________8%\n",
    "\n",
    "bikePrice=int(input(\"enter your bike price\"))\n",
    "if bikePrice>0:\n",
    "    if bikePrice>100000:\n",
    "        tax=\"15%\"\n",
    "        taxAmount=(bikePrice*15)/100\n",
    "        totalBikeprice=bikePrice+taxAmount\n",
    "        print(\"bike price is:\",bikePrice,\"\\n total tax is :\",tax,\"\\n total tax amount is :\",taxAmount,\n",
    "              \"\\n total bike price after adding tax :\",totalBikeprice)\n",
    "    elif bikePrice <=100000 and bikePrice>50000:\n",
    "        tax=\"10%\"\n",
    "        taxAmount=(bikePrice*10)/100\n",
    "        totalBikeprice=bikePrice+taxAmount\n",
    "        print(\"bike price is:\",bikePrice,\"\\n total tax is :\",tax,\"\\n total tax amount is :\",taxAmount,\n",
    "              \"\\n total bike price after adding tax :\",totalBikeprice)\n",
    "    elif bikePrice<50000:\n",
    "        tax=\"8%\"\n",
    "        taxAmount=(bikePrice*8)/100\n",
    "        totalBikeprice=bikePrice+taxAmount\n",
    "        print(\"bike price is:\",bikePrice,\"\\n total tax is :\",tax,\"\\n total tax amount is :\",taxAmount,\n",
    "              \"\\n total bike price after adding tax :\",totalBikeprice)\n",
    "else:\n",
    "    print(\"bike price is not negative\")\n"
   ]
  },
  {
   "cell_type": "code",
   "execution_count": 25,
   "id": "8c36b899-13ef-4c50-a024-2d1b7f573d74",
   "metadata": {},
   "outputs": [
    {
     "name": "stdin",
     "output_type": "stream",
     "text": [
      "enter working day 200\n",
      "enter absent day 30\n"
     ]
    },
    {
     "name": "stdout",
     "output_type": "stream",
     "text": [
      "85.0 %\n",
      "student elagible to examination\n"
     ]
    }
   ],
   "source": [
    "workingday=int(input(\"enter working day\"))\n",
    "absentday=int(input(\"enter absent day\"))\n",
    "\n",
    "if workingday>absentday:\n",
    "    presentday=workingday-absentday\n",
    "    presentpercent=((presentday/workingday)*100)\n",
    "    print(presentpercent,\"%\")\n",
    "    if presentpercent>=75:\n",
    "        print(\"student elagible to examination\")\n",
    "    else:\n",
    "        print(\"student not elagible to examination\")\n",
    "else:\n",
    "    print(\"working day should be grater than absent day\")"
   ]
  },
  {
   "cell_type": "code",
   "execution_count": 27,
   "id": "2699fb93-e8eb-4ffa-8e7e-fb11c8819c61",
   "metadata": {},
   "outputs": [
    {
     "name": "stdin",
     "output_type": "stream",
     "text": [
      "enter your charector k\n"
     ]
    },
    {
     "name": "stdout",
     "output_type": "stream",
     "text": [
      "k is consonant\n"
     ]
    }
   ],
   "source": [
    "char=input(\"enter your charector\")\n",
    "vow=\"aeiouAEIOU\"\n",
    "if char in vow:\n",
    "    print(f\"{char} is vowel\")\n",
    "else:\n",
    "    print(f\"{char} is consonant\")"
   ]
  },
  {
   "cell_type": "code",
   "execution_count": 31,
   "id": "4939cd0a-1a32-46d7-9f22-af52adaab6ba",
   "metadata": {},
   "outputs": [
    {
     "name": "stdin",
     "output_type": "stream",
     "text": [
      "enter first number 30\n",
      "enter operator +\n",
      "enter second number  20\n"
     ]
    },
    {
     "name": "stdout",
     "output_type": "stream",
     "text": [
      "50\n"
     ]
    }
   ],
   "source": [
    "num1=int(input(\"enter first number\"))\n",
    "add=\"+\"\n",
    "sub=\"-\"\n",
    "multi=\"*\"\n",
    "div=\"/\"\n",
    "remindar=\"%\"\n",
    "operator=input(\"enter operator\")\n",
    "num2=int(input(\"enter second number \"))\n",
    "if operator==\"+\":\n",
    "    print(num1+num2)\n",
    "elif operator==\"-\":\n",
    "    print(num1-num2)\n",
    "elif operator==\"*\":\n",
    "    print(num1*num2)\n",
    "elif operator==\"/\":\n",
    "    print(num1/num2)\n",
    "elif operator==\"%\":\n",
    "    print(num1%num2)\n",
    "else:\n",
    "    print(\"operator invalid\")\n"
   ]
  },
  {
   "cell_type": "code",
   "execution_count": 34,
   "id": "ef48a5fb-f7e6-47bc-b26e-89cb7be7fea4",
   "metadata": {},
   "outputs": [
    {
     "name": "stdin",
     "output_type": "stream",
     "text": [
      "enter first number 80\n",
      "enter second number 80\n",
      "enter third number 70\n"
     ]
    },
    {
     "name": "stdout",
     "output_type": "stream",
     "text": [
      " largest is a 80\n"
     ]
    }
   ],
   "source": [
    "# chack largest at three\n",
    "a=int(input(\"enter first number\"))\n",
    "b=int(input(\"enter second number\"))\n",
    "c=int(input(\"enter third number\"))\n",
    "if a>=b and a>=c:\n",
    "    print(\" largest is a\",a)\n",
    "elif b>=a and b>=c:\n",
    "    print(\"largest is b\",b)\n",
    "else:\n",
    "    print(\"largest is c\",c)"
   ]
  },
  {
   "cell_type": "code",
   "execution_count": 39,
   "id": "7b99b5f9-a5de-4e72-be02-e5eae2be7465",
   "metadata": {},
   "outputs": [
    {
     "name": "stdin",
     "output_type": "stream",
     "text": [
      "enter charector 2\n"
     ]
    },
    {
     "name": "stdout",
     "output_type": "stream",
     "text": [
      "char is not alphabet\n"
     ]
    }
   ],
   "source": [
    "# checke charector is alpha or not\n",
    "char=input(\"enter charector\")\n",
    "if  char.isalpha():\n",
    "    print(\"char is alphabet\")\n",
    "else:\n",
    "    print(\"char is not alphabet\")"
   ]
  },
  {
   "cell_type": "code",
   "execution_count": 43,
   "id": "4262a101-22a8-40bd-a99b-407c3541d56f",
   "metadata": {},
   "outputs": [
    {
     "name": "stdin",
     "output_type": "stream",
     "text": [
      "enter first side 90\n",
      "enter second side 90\n",
      "enter third side 0\n"
     ]
    },
    {
     "name": "stdout",
     "output_type": "stream",
     "text": [
      "side is not 0\n"
     ]
    }
   ],
   "source": [
    "# check trangle is valide or not \n",
    "a=int(input(\"enter first side\"))\n",
    "b=int(input(\"enter second side\"))\n",
    "c=int(input(\"enter third side\"))\n",
    "if a>0 and b>0 and c>0:\n",
    "    if a+b+c==180:\n",
    "        print(\" it is valid trangle\")\n",
    "    else:\n",
    "        print(\"it is invalid trangel\")\n",
    "else:\n",
    "    print(\"side is not 0\")"
   ]
  },
  {
   "cell_type": "code",
   "execution_count": null,
   "id": "a8d5b49c-ff0e-4e6e-97e0-3f8200597859",
   "metadata": {},
   "outputs": [],
   "source": []
  },
  {
   "cell_type": "code",
   "execution_count": null,
   "id": "1c31decf-a738-4f6e-974d-169756d6ef0a",
   "metadata": {},
   "outputs": [],
   "source": []
  }
 ],
 "metadata": {
  "kernelspec": {
   "display_name": "Python 3 (ipykernel)",
   "language": "python",
   "name": "python3"
  },
  "language_info": {
   "codemirror_mode": {
    "name": "ipython",
    "version": 3
   },
   "file_extension": ".py",
   "mimetype": "text/x-python",
   "name": "python",
   "nbconvert_exporter": "python",
   "pygments_lexer": "ipython3",
   "version": "3.13.5"
  }
 },
 "nbformat": 4,
 "nbformat_minor": 5
}
