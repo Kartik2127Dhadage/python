{
 "cells": [
  {
   "cell_type": "markdown",
   "id": "657bd2a4-0d6b-46e6-bba9-3ad3dbde369c",
   "metadata": {},
   "source": [
    "## Functions in python \n",
    "* In python a function is group of related statement tha perform a specific task.\n",
    "* Function helps to break our program into smaller and moduler chunks.As per our program grows larger and alrger,function makes it more organized or manegable.\n",
    "* Furthermare it avoids repetation of code and make reusable.\n",
    "* There are two type of Functions\n",
    "    * Pre-define Function \n",
    "    * user-define Function \n",
    "* In python a functiion is defined using the def keywod followed by the function name and parenthesis().\n",
    "* Kyeword def that start the function heder.\n",
    "* A function name to uniquly identify the name of function.\n",
    "* Function naming followse the same roule of as per writng identifyers.\n",
    "* Paremeter(arguments )througs which we pass value to a function. They are optional.\n",
    "* A colan(:) mark the end of the function heder.\n",
    "* "
   ]
  },
  {
   "cell_type": "code",
   "execution_count": null,
   "id": "6ae2e954-8176-4ff1-a983-55f165c5760e",
   "metadata": {},
   "outputs": [],
   "source": [
    "\n",
    "### function in python\n",
    "# write a function to print sum of 20 natural number  \n",
    "def sumNatural():\n",
    "    sum1=0\n",
    "    for i in range(0,21):\n",
    "        sum1+=i\n",
    "    print(\"the sum of 20 natural number:\",sum1)\n",
    "sumNatural()\n",
    "        "
   ]
  },
  {
   "cell_type": "code",
   "execution_count": 4,
   "id": "5d4ca0eb-15f4-4886-94cb-2b2c9c20d503",
   "metadata": {},
   "outputs": [
    {
     "name": "stdout",
     "output_type": "stream",
     "text": [
      "the sum of 20 natural number: 210\n"
     ]
    }
   ],
   "source": [
    "sumNatural()"
   ]
  },
  {
   "cell_type": "code",
   "execution_count": 10,
   "id": "7627d287-4580-4f7a-81c0-fde7227764ad",
   "metadata": {},
   "outputs": [
    {
     "name": "stdout",
     "output_type": "stream",
     "text": [
      "hello kartik\n"
     ]
    }
   ],
   "source": [
    "#2. write a function that takes a name as argument and print\"hello\"+ name\n",
    "\n",
    "def greet(name):\n",
    "    return \"hello \"+name\n",
    "obj=greet(\"kartik\")\n",
    "print(obj)"
   ]
  },
  {
   "cell_type": "code",
   "execution_count": 12,
   "id": "add1f7a7-ce80-4c5f-b73f-d8ed54e15032",
   "metadata": {},
   "outputs": [
    {
     "name": "stdin",
     "output_type": "stream",
     "text": [
      "entre first number 10\n",
      "enter second number 20\n"
     ]
    },
    {
     "data": {
      "text/plain": [
       "'the sum of two number is:30'"
      ]
     },
     "execution_count": 12,
     "metadata": {},
     "output_type": "execute_result"
    }
   ],
   "source": [
    "# 3.take two number and return thair sum using function\n",
    "sum1=0\n",
    "def sum2():\n",
    "    num1=int(input(\"entre first number\"))\n",
    "    num2=int(input(\"enter second number\"))\n",
    "    sum1=num1+num2\n",
    "    return f\"the sum of two number is:{sum1}\"\n",
    "sum2()"
   ]
  },
  {
   "cell_type": "code",
   "execution_count": 13,
   "id": "4d1d9c97-840a-4d85-9b9e-68569d47ebc2",
   "metadata": {},
   "outputs": [
    {
     "name": "stdin",
     "output_type": "stream",
     "text": [
      "entre first number 39\n",
      "enter second number 11\n"
     ]
    },
    {
     "data": {
      "text/plain": [
       "'the sum of two number is:50'"
      ]
     },
     "execution_count": 13,
     "metadata": {},
     "output_type": "execute_result"
    }
   ],
   "source": [
    "sum2()"
   ]
  },
  {
   "cell_type": "code",
   "execution_count": 14,
   "id": "373cce22-fb3b-45d9-94a1-3b9b2e6e7476",
   "metadata": {},
   "outputs": [
    {
     "name": "stdin",
     "output_type": "stream",
     "text": [
      "enter any number 8\n"
     ]
    },
    {
     "data": {
      "text/plain": [
       "True"
      ]
     },
     "execution_count": 14,
     "metadata": {},
     "output_type": "execute_result"
    }
   ],
   "source": [
    "# 4. chake integer is even or odd int is even that return true otherwise false\n",
    "\n",
    "def even():\n",
    "    num=int(input(\"enter any number\"))\n",
    "    if num%2==0:\n",
    "        return True\n",
    "    else:\n",
    "        return False\n",
    "even()"
   ]
  },
  {
   "cell_type": "code",
   "execution_count": 16,
   "id": "5ce87102-ae8b-4191-b111-cbf96b94e57e",
   "metadata": {},
   "outputs": [
    {
     "name": "stdin",
     "output_type": "stream",
     "text": [
      "enter first number 48\n",
      "enter second number 90\n"
     ]
    },
    {
     "name": "stdout",
     "output_type": "stream",
     "text": [
      "90 is greter than 48\n"
     ]
    }
   ],
   "source": [
    "# 5 write function that takes two number and print larger one\n",
    "def larger():\n",
    "    a=int(input(\"enter first number\"))\n",
    "    b=int(input(\"enter second number\"))\n",
    "    if a>b:\n",
    "        print(f\"{a} is greter than{b}\")\n",
    "    else:\n",
    "        print(f\"{b} is greter than {a}\")\n",
    "larger()"
   ]
  },
  {
   "cell_type": "code",
   "execution_count": 17,
   "id": "b3371b45-030a-440c-b994-7dc243ee7d58",
   "metadata": {},
   "outputs": [
    {
     "name": "stdin",
     "output_type": "stream",
     "text": [
      "enter length of ractangle 35\n",
      "enter width of rectangle 79\n"
     ]
    },
    {
     "data": {
      "text/plain": [
       "'the area of ractangle is:2765'"
      ]
     },
     "execution_count": 17,
     "metadata": {},
     "output_type": "execute_result"
    }
   ],
   "source": [
    "#6 write a function that takes length and width of ractangel and print area\n",
    "def area():\n",
    "    length=int(input(\"enter length of ractangle\"))\n",
    "    width=int(input(\"enter width of rectangle\"))\n",
    "    area=length*width\n",
    "    return f\"the area of ractangle is:{area}\"\n",
    "area()"
   ]
  },
  {
   "cell_type": "code",
   "execution_count": 20,
   "id": "b1e9a927-5a87-40c3-b499-5419e28f60e0",
   "metadata": {},
   "outputs": [
    {
     "name": "stdin",
     "output_type": "stream",
     "text": [
      "enter tenpreture 37\n"
     ]
    },
    {
     "data": {
      "text/plain": [
       "'37 celcious in farenhite98.60000000000001'"
      ]
     },
     "execution_count": 20,
     "metadata": {},
     "output_type": "execute_result"
    }
   ],
   "source": [
    "# 7. write a function that conver celcious in farenhite.\n",
    "def convert():\n",
    "    celcious=int(input(\"enter tenpreture\"))\n",
    "    farenhite=((celcious*(9/5))+32)\n",
    "    return f\"{celcious} celcious in farenhite{farenhite}\"\n",
    "convert()"
   ]
  },
  {
   "cell_type": "code",
   "execution_count": 22,
   "id": "af7c7167-7f7b-46b8-9b72-cbb778d36337",
   "metadata": {},
   "outputs": [
    {
     "data": {
      "text/plain": [
       "'that total length of string is:5'"
      ]
     },
     "execution_count": 22,
     "metadata": {},
     "output_type": "execute_result"
    }
   ],
   "source": [
    "#8. write a function that takes list and return its length withoute length function\n",
    "list1=[\"apple\",\"banana\",\"orange\",\"mango\",\"pineapple\"]\n",
    "def lingth(list1):\n",
    "    count=0\n",
    "    for i in list1:\n",
    "        count+=1\n",
    "    return f\"that total length of string is:{count}\"\n",
    "lingth(list1)"
   ]
  },
  {
   "cell_type": "code",
   "execution_count": 24,
   "id": "8301363c-066d-4a5b-adf0-212b4614807b",
   "metadata": {},
   "outputs": [
    {
     "name": "stdin",
     "output_type": "stream",
     "text": [
      "enter number 4\n",
      "enter number 6\n",
      "enter number 2\n",
      "enter number 0\n"
     ]
    },
    {
     "name": "stdout",
     "output_type": "stream",
     "text": [
      "list is entered by user: [4, 6, 2]\n",
      "list is squre by list1 [16, 36, 4]\n"
     ]
    }
   ],
   "source": [
    "#9. write  finction that takes input from user and return it's squre\n",
    "\n",
    "def sqrnum():\n",
    "    list1=[]\n",
    "    sqrlist=[]\n",
    "    for i in iter(int,1):\n",
    "        num=int(input(\"enter number\"))\n",
    "        if num==0:\n",
    "            break\n",
    "        list1.append(num)\n",
    "        sqr=num**2\n",
    "        sqrlist.append(sqr)\n",
    "    print(\"list is entered by user:\",list1)\n",
    "    print(\"list is squre by list1\",sqrlist)\n",
    "sqrnum()"
   ]
  },
  {
   "cell_type": "code",
   "execution_count": 27,
   "id": "5e6cef86-5c7b-4411-8dbb-59bb28c154bf",
   "metadata": {},
   "outputs": [
    {
     "name": "stdin",
     "output_type": "stream",
     "text": [
      "enter a any number 0\n"
     ]
    },
    {
     "data": {
      "text/plain": [
       "'0 is not a negative not a positive '"
      ]
     },
     "execution_count": 27,
     "metadata": {},
     "output_type": "execute_result"
    }
   ],
   "source": [
    "# 10.write a function that takes number its positive that return true otherwise false\n",
    "\n",
    "def positive():\n",
    "    num=int(input(\"enter a any number\"))\n",
    "    if num>0:\n",
    "        return True\n",
    "    elif num==0:\n",
    "        return \"0 is not a negative not a positive \"\n",
    "    else:\n",
    "        return False\n",
    "positive()"
   ]
  },
  {
   "cell_type": "code",
   "execution_count": 28,
   "id": "06cdbd1e-8fe3-44a7-9bc4-ce57b64a61d2",
   "metadata": {},
   "outputs": [
    {
     "name": "stdin",
     "output_type": "stream",
     "text": [
      "enter any number 4\n",
      "enter any number 5\n",
      "enter any number 6\n",
      "enter any number 7\n",
      "enter any number 0\n"
     ]
    },
    {
     "name": "stdout",
     "output_type": "stream",
     "text": [
      "list is entered by user [4, 5, 6, 7]\n",
      "total elements in list 4\n",
      "sum of the list 22\n",
      "avarage of the list is 5.5\n"
     ]
    }
   ],
   "source": [
    "#11. write a function that take list forn user and return its avarege.\n",
    "\n",
    "def avarage():\n",
    "    list1=[]\n",
    "    count=0\n",
    "    sum1=0\n",
    "    while True:\n",
    "        num=int(input(\"enter any number\"))\n",
    "        if num==0:\n",
    "            break\n",
    "        list1.append(num)\n",
    "        count+=1\n",
    "        sum1+=num\n",
    "        avg=sum1/count\n",
    "    print(\"list is entered by user\",list1)\n",
    "    print(\"total elements in list\",count)\n",
    "    print(\"sum of the list\",sum1)\n",
    "    print(\"avarage of the list is\",avg)\n",
    "avarage()\n",
    "    "
   ]
  },
  {
   "cell_type": "code",
   "execution_count": 30,
   "id": "d749f96c-434d-4994-bd97-641fb5a2b331",
   "metadata": {},
   "outputs": [
    {
     "name": "stdin",
     "output_type": "stream",
     "text": [
      "enter your string Kayak\n"
     ]
    },
    {
     "name": "stdout",
     "output_type": "stream",
     "text": [
      "True\n"
     ]
    }
   ],
   "source": [
    "#12 write a function that takes string and return a true if its palindrome\n",
    "\n",
    "def palindrome():\n",
    "    stri1=input(\"enter your string\")\n",
    "    stri=stri1.lower()\n",
    "    rev=stri==stri[::-1]\n",
    "    print(rev)\n",
    "palindrome()"
   ]
  },
  {
   "cell_type": "code",
   "execution_count": 37,
   "id": "4fe48132-a94c-40f5-90ec-842836833f31",
   "metadata": {},
   "outputs": [
    {
     "name": "stdin",
     "output_type": "stream",
     "text": [
      "enter string kartik\n"
     ]
    },
    {
     "name": "stdout",
     "output_type": "stream",
     "text": [
      "a\n",
      "i\n"
     ]
    },
    {
     "data": {
      "text/plain": [
       "('total vowels in string is:', 2)"
      ]
     },
     "execution_count": 37,
     "metadata": {},
     "output_type": "execute_result"
    }
   ],
   "source": [
    "#13 write a function that takes a string and return vowels\n",
    "\n",
    "def countvowel():\n",
    "    str=input(\"enter string\")\n",
    "    vowel=\"aeiouAEIOU\"\n",
    "    count=0\n",
    "    for i in str:\n",
    "        if i in vowel:\n",
    "            print(i)\n",
    "            count+=1\n",
    "    return \"total vowels in string is:\",count\n",
    "countvowel()"
   ]
  },
  {
   "cell_type": "code",
   "execution_count": 39,
   "id": "95aafcc9-43db-4542-b99a-085801114a83",
   "metadata": {},
   "outputs": [
    {
     "name": "stdin",
     "output_type": "stream",
     "text": [
      "enter any number 5\n"
     ]
    },
    {
     "data": {
      "text/plain": [
       "'the factorial of 5 is:120'"
      ]
     },
     "execution_count": 39,
     "metadata": {},
     "output_type": "execute_result"
    }
   ],
   "source": [
    "#14 write recorcive function to calculate factorial\n",
    "\n",
    "def factnum():\n",
    "    num=int(input(\"enter any number\"))\n",
    "    fact=1\n",
    "    for i in range(1,num+1):\n",
    "        fact=fact*i\n",
    "    return f\"the factorial of {num} is:{fact}\"\n",
    "factnum()"
   ]
  },
  {
   "cell_type": "code",
   "execution_count": 47,
   "id": "a1c2431a-2842-446c-a0da-f18349dbeae7",
   "metadata": {},
   "outputs": [
    {
     "name": "stdin",
     "output_type": "stream",
     "text": [
      "enter string kartik\n"
     ]
    },
    {
     "name": "stdout",
     "output_type": "stream",
     "text": [
      "origanal string is kartik\n",
      "revers string is  kitrak\n"
     ]
    }
   ],
   "source": [
    "# 15 write a function that takes string and return revers virsion\n",
    "def revstring():\n",
    "    userData=input(\"enter string\")\n",
    "    revStr=userData[::-1]\n",
    "    print(\"origanal string is\",userData)\n",
    "    print(\"revers string is \",revStr)\n",
    "revstring()"
   ]
  },
  {
   "cell_type": "code",
   "execution_count": 1,
   "id": "89e39d68-cfa6-4ea7-87ff-69d1acfe97ff",
   "metadata": {},
   "outputs": [
    {
     "name": "stdout",
     "output_type": "stream",
     "text": [
      "smallest valu in the list is : 1\n"
     ]
    }
   ],
   "source": [
    "#16.write a function that takes a list and find the smallest number\n",
    "\n",
    "list1=[20,13,25,45,65,7,5,76,1]\n",
    "def findsmall():\n",
    "    smallest=list1[0]\n",
    "    for i in list1:\n",
    "        if i<smallest:\n",
    "            smallest=i\n",
    "    print(\"smallest valu in the list is :\",smallest)\n",
    "findsmall()"
   ]
  },
  {
   "cell_type": "code",
   "execution_count": 4,
   "id": "707c2619-fd8e-412d-aefa-547051717509",
   "metadata": {},
   "outputs": [
    {
     "data": {
      "text/plain": [
       "[34, 67, 66, 4, 5, 45, 55, 56]"
      ]
     },
     "execution_count": 4,
     "metadata": {},
     "output_type": "execute_result"
    }
   ],
   "source": [
    "#17.remove duplicate in list using function\n",
    "list1=[34,45,45,66,67,56,4,5,34,45,5,45,5,55]\n",
    "def removeduplicate(x):\n",
    "    return list(set(x))\n",
    "removeduplicate(list1)"
   ]
  },
  {
   "cell_type": "code",
   "execution_count": 3,
   "id": "98e027a6-215d-4f1a-97e0-ee5c95482cc6",
   "metadata": {},
   "outputs": [
    {
     "name": "stdin",
     "output_type": "stream",
     "text": [
      "enter any number 10\n"
     ]
    },
    {
     "data": {
      "text/plain": [
       "False"
      ]
     },
     "execution_count": 3,
     "metadata": {},
     "output_type": "execute_result"
    }
   ],
   "source": [
    "#18.write a function that chake the number is primr or not\n",
    "def primefunction():\n",
    "    num=int(input(\"enter any number\"))\n",
    "    \n",
    "    for i in range(2,int(num**0.5)+1):\n",
    "        if num%i==0:\n",
    "        \n",
    "            return False\n",
    "    return True\n",
    "primefunction()        "
   ]
  },
  {
   "cell_type": "code",
   "execution_count": 23,
   "id": "7ce336f7-515e-4940-926d-2894b418cdb9",
   "metadata": {},
   "outputs": [
    {
     "name": "stdin",
     "output_type": "stream",
     "text": [
      "enter number 10\n"
     ]
    },
    {
     "name": "stdout",
     "output_type": "stream",
     "text": [
      "0 1 1 2 3 5 8 13 21 34 55 89 144\n"
     ]
    }
   ],
   "source": [
    "# 19 write a function to print fabonecci serise\n",
    "def fabonecci():\n",
    "    n=int(input(\"enter number\"))\n",
    "    a=0\n",
    "    b=1\n",
    "    for _ in range(n+1):\n",
    "        print(a,end=\" \")\n",
    "        a,b=b,a+b\n",
    "    print(a,b)\n",
    "fabonecci()"
   ]
  },
  {
   "cell_type": "code",
   "execution_count": 25,
   "id": "734ee060-2c1e-4763-97ff-d09ccfff2f7a",
   "metadata": {},
   "outputs": [
    {
     "name": "stdout",
     "output_type": "stream",
     "text": [
      "81\n"
     ]
    }
   ],
   "source": [
    "#20. write a function that calculate base raise to the power of exponent without using ** operator or pow() function.\n",
    "\n",
    "def power(base,expo):\n",
    "    result=1\n",
    "    for i in range(abs(expo)):\n",
    "        result*=base\n",
    "    print(result)\n",
    "power(9,2)"
   ]
  },
  {
   "cell_type": "code",
   "execution_count": 33,
   "id": "cac673d3-cfc1-42d3-a27d-68482199cb46",
   "metadata": {},
   "outputs": [
    {
     "name": "stdin",
     "output_type": "stream",
     "text": [
      "enter sentens python is a programming language\n"
     ]
    },
    {
     "name": "stdout",
     "output_type": "stream",
     "text": [
      "{'python': 1, 'is': 1, 'a': 1, 'programming': 1, 'language': 1}\n"
     ]
    }
   ],
   "source": [
    "#21. writr a function that takes santence and return a dictionry keys and values.\n",
    "def convertdict():\n",
    "    sent= input(\"enter sentens\")\n",
    "    words=sent.split()\n",
    "    freq={}\n",
    "    for word in words:\n",
    "        freq[word]=freq.get(word,0)+1\n",
    "    print(freq)\n",
    "convertdict()"
   ]
  },
  {
   "cell_type": "code",
   "execution_count": 39,
   "id": "7f97c5f7-24d4-4326-9bbf-5b9070ab08b7",
   "metadata": {},
   "outputs": [
    {
     "name": "stdin",
     "output_type": "stream",
     "text": [
      "enter your email @gamal.com\n"
     ]
    },
    {
     "name": "stdout",
     "output_type": "stream",
     "text": [
      "@gamal.com\n"
     ]
    },
    {
     "data": {
      "text/plain": [
       "True"
      ]
     },
     "execution_count": 39,
     "metadata": {},
     "output_type": "execute_result"
    }
   ],
   "source": [
    "#22.write a function to chake given string is email format.\n",
    "def checkemail(email):\n",
    "    print(email)\n",
    "    return '@' in email and '.' in email and email.index('@')<email.index('.')\n",
    "useremail=input(\"enter your email\")\n",
    "checkemail(useremail)"
   ]
  },
  {
   "cell_type": "code",
   "execution_count": 48,
   "id": "69e744fb-7243-4320-91e2-2dd942a6ce9d",
   "metadata": {},
   "outputs": [
    {
     "name": "stdout",
     "output_type": "stream",
     "text": [
      "the sorted list after merge two list [11, 12, 13, 24, 27, 34, 45, 48, 78, 90]\n"
     ]
    }
   ],
   "source": [
    "#23 write a function that takes two sorted list and merge in one single sorted list.\n",
    "def sortedlist():\n",
    "    list1=[11,13,24,27,48]\n",
    "    list2=[12,34,45,78,90]\n",
    "    list3=(list1+list2)\n",
    "    sortedlist=sorted(list3)\n",
    "    print(\"the sorted list after merge two list\",sortedlist)\n",
    "sortedlist()"
   ]
  },
  {
   "cell_type": "code",
   "execution_count": 51,
   "id": "e6d9d6c1-b2a1-4710-b210-5bd5a87bec81",
   "metadata": {},
   "outputs": [
    {
     "name": "stdout",
     "output_type": "stream",
     "text": [
      "['Apple', 'Carrot', 'Daikon', 'Mango', 'Pinapple', 'banana']\n"
     ]
    }
   ],
   "source": [
    "# sorting string\n",
    "def sortstring():\n",
    "    x=['Apple','banana','Pinapple',]\n",
    "    y=['Carrot','Daikon','Mango']\n",
    "    z=x+y\n",
    "    sortedstr=sorted(z)\n",
    "    print(sortedstr)\n",
    "sortstring()\n",
    "    "
   ]
  },
  {
   "cell_type": "code",
   "execution_count": 60,
   "id": "23c70025-6c47-4560-8c94-7257632abbff",
   "metadata": {},
   "outputs": [
    {
     "name": "stdout",
     "output_type": "stream",
     "text": [
      "[700, 583, 200, 94, 85, 83, 74, 58, 57, 48, 47]\n",
      "second largest number is: 583\n"
     ]
    }
   ],
   "source": [
    "#24.write a function that print second largest number\n",
    "def secondlargest():\n",
    "        list1=[74,47,57,58,85,83,94,200,48,583,700]\n",
    "        list2=sorted(list1)\n",
    "        rev=list2[::-1]\n",
    "        print(rev)\n",
    "        print(\"second largest number is:\",rev[1])\n",
    "secondlargest()"
   ]
  },
  {
   "cell_type": "code",
   "execution_count": 64,
   "id": "73762bcc-a306-422c-b2b1-a2e1d5748f38",
   "metadata": {},
   "outputs": [
    {
     "name": "stdin",
     "output_type": "stream",
     "text": [
      "enter first number 80\n",
      "enter any operater that you perform task -\n",
      "enter second number 60\n"
     ]
    },
    {
     "name": "stdout",
     "output_type": "stream",
     "text": [
      " the substraction of 80 and 60 is:20\n"
     ]
    }
   ],
   "source": [
    "#25.write a function to make a simple calculater.\n",
    "def calculater():\n",
    "    num1=int(input(\"enter first number\"))\n",
    "    chooseoperator=(\"+\",\"-\",\"*\",\"/\")\n",
    "    operator=input(\"enter any operater that you perform task\")\n",
    "    num2=int(input(\"enter second number\"))\n",
    "    if operator=='+':\n",
    "        sum1=num1+num2\n",
    "        print(f\"the sum of {num1} and {num2} is:{sum1}\")\n",
    "    elif operator=='-':\n",
    "        sub=num1-num2\n",
    "        print(f\" the substraction of {num1} and {num2} is:{sub}\")\n",
    "    elif operator==\"*\":\n",
    "        multi=num1*num2\n",
    "        print(f\" the multiplication of {num1} and {num2} is:{multi}\")\n",
    "    elif operator=='/':\n",
    "        div=num1/num2\n",
    "        print(f\" the division of {num1} and {num2} is:{div}\")\n",
    "calculater()\n",
    "        \n",
    "    "
   ]
  },
  {
   "cell_type": "code",
   "execution_count": 72,
   "id": "c2cdf91b-e3ad-4c01-b3b2-9437e7cef076",
   "metadata": {},
   "outputs": [
    {
     "data": {
      "text/plain": [
       "'Olm9p#m9>!'"
      ]
     },
     "execution_count": 72,
     "metadata": {},
     "output_type": "execute_result"
    }
   ],
   "source": [
    "#26. write a function to genarete password a given lenght using letters,digits,symbols(requrid random module)\n",
    "import random\n",
    "import string \n",
    "def randompass(length):\n",
    "    char = string.digits+string.ascii_letters+string.punctuation\n",
    "    return\"\".join(random.choice(char)for i in range(length))\n",
    "randompass(10)\n",
    "\n",
    "    "
   ]
  },
  {
   "cell_type": "code",
   "execution_count": null,
   "id": "bf2d68f9-257a-4140-86af-157926ee2f49",
   "metadata": {},
   "outputs": [],
   "source": [
    "#27 write a function that takes two matrics and add that matrics\n"
   ]
  },
  {
   "cell_type": "code",
   "execution_count": 10,
   "id": "be028f4d-544d-45e8-b829-316ffc5685a7",
   "metadata": {},
   "outputs": [
    {
     "name": "stdout",
     "output_type": "stream",
     "text": [
      "[25, 26, 67, 23]\n"
     ]
    }
   ],
   "source": [
    "#28 write a function that takes two list and return a new list that cantains only the common elements\n",
    "list1=[23,45,65,67,34,28,25,26]\n",
    "list2=[23,67,89,26,76,82,25,60]\n",
    "def commonlist():\n",
    "    set1=set(list1)\n",
    "    set2=set(list2)\n",
    "    commonelement=list(set1.intersection(set2))\n",
    "    \n",
    "    print(commonelement)    \n",
    "commonlist()\n",
    "    "
   ]
  },
  {
   "cell_type": "code",
   "execution_count": 11,
   "id": "6eca5396-5427-4b87-aac4-8524dd7151d0",
   "metadata": {},
   "outputs": [],
   "source": [
    "#29."
   ]
  },
  {
   "cell_type": "code",
   "execution_count": 12,
   "id": "d55fca3b-97ff-4c3b-ae50-c3c9115c7abd",
   "metadata": {},
   "outputs": [],
   "source": [
    "#30"
   ]
  },
  {
   "cell_type": "markdown",
   "id": "0b9cbff9-76db-4554-95e5-c78d8089907d",
   "metadata": {},
   "source": [
    "### practice question  set 2"
   ]
  },
  {
   "cell_type": "code",
   "execution_count": 13,
   "id": "bf494d8d-7a82-4214-a11d-145d599401d6",
   "metadata": {},
   "outputs": [
    {
     "name": "stdin",
     "output_type": "stream",
     "text": [
      "enter tenpreture 37\n"
     ]
    },
    {
     "data": {
      "text/plain": [
       "'37 celcious in farenhite98.60000000000001'"
      ]
     },
     "execution_count": 13,
     "metadata": {},
     "output_type": "execute_result"
    }
   ],
   "source": [
    "#1 write a function to conver celcious in farenhite\n",
    "def convert():\n",
    "    celcious=int(input(\"enter tenpreture\"))\n",
    "    farenhite=((celcious*(9/5))+32)\n",
    "    return f\"{celcious} celcious in farenhite{farenhite}\"\n",
    "convert()"
   ]
  },
  {
   "cell_type": "code",
   "execution_count": 14,
   "id": "2493146d-c5ca-4f58-b932-b8cba3f8023b",
   "metadata": {},
   "outputs": [],
   "source": [
    "# 2 write a function to check if a number is  a perfect squre\n"
   ]
  },
  {
   "cell_type": "code",
   "execution_count": 16,
   "id": "dbaa2081-4b6e-4e1e-b2ed-eabd4b203c10",
   "metadata": {},
   "outputs": [
    {
     "name": "stdin",
     "output_type": "stream",
     "text": [
      "enter your string kartik dhadge\n"
     ]
    },
    {
     "name": "stdout",
     "output_type": "stream",
     "text": [
      "k\n",
      "a\n",
      "r\n",
      "t\n",
      "i\n",
      "k\n",
      " \n",
      "d\n",
      "h\n",
      "a\n",
      "d\n",
      "g\n",
      "e\n"
     ]
    },
    {
     "data": {
      "text/plain": [
       "13"
      ]
     },
     "execution_count": 16,
     "metadata": {},
     "output_type": "execute_result"
    }
   ],
   "source": [
    "#3 write a function to return the length of string.\n",
    "def lengthstr():\n",
    "    string=input(\"enter your string\")\n",
    "    count=0\n",
    "    for i in string:\n",
    "        print(i)\n",
    "        count+=1\n",
    "    return count\n",
    "lengthstr()"
   ]
  },
  {
   "cell_type": "code",
   "execution_count": 17,
   "id": "bf51be06-976d-4479-9d7b-58a7c0b6c59b",
   "metadata": {},
   "outputs": [
    {
     "data": {
      "text/plain": [
       "241"
      ]
     },
     "execution_count": 17,
     "metadata": {},
     "output_type": "execute_result"
    }
   ],
   "source": [
    "# 4 write a function to find the sum of all digits in number\n",
    "def sumnumber():\n",
    "    number=[23,44,54,55,65]\n",
    "    sum1=0\n",
    "    for i in number:\n",
    "        sum1+=i\n",
    "    return sum1\n",
    "sumnumber()"
   ]
  },
  {
   "cell_type": "code",
   "execution_count": 18,
   "id": "f7b3e5ee-0346-45dd-903b-315871f32e90",
   "metadata": {},
   "outputs": [
    {
     "name": "stdin",
     "output_type": "stream",
     "text": [
      "enter your string kartik\n"
     ]
    },
    {
     "data": {
      "text/plain": [
       "'KARTIK'"
      ]
     },
     "execution_count": 18,
     "metadata": {},
     "output_type": "execute_result"
    }
   ],
   "source": [
    "#5 write a function that takes a string and return a that upper case\n",
    "def upperstring():\n",
    "    string=input(\"enter your string\")\n",
    "    return string.upper()\n",
    "upperstring()"
   ]
  },
  {
   "cell_type": "code",
   "execution_count": 49,
   "id": "b7541f6b-dcc4-4e85-9642-085ddfcd31ae",
   "metadata": {},
   "outputs": [
    {
     "name": "stdin",
     "output_type": "stream",
     "text": [
      "enter your sentens kartikdhadge\n"
     ]
    },
    {
     "name": "stdout",
     "output_type": "stream",
     "text": [
      "kartikdhadge\n"
     ]
    },
    {
     "data": {
      "text/plain": [
       "1"
      ]
     },
     "execution_count": 49,
     "metadata": {},
     "output_type": "execute_result"
    }
   ],
   "source": [
    "# 6 write a function to count the number of wordes in sentens:\n",
    "def countwords():\n",
    "    sentens=input(\"enter your sentens\")\n",
    "    word=sentens.split()\n",
    "    count=0\n",
    "    for i in word:\n",
    "        print(i)\n",
    "        count+=1\n",
    "    return count\n",
    "        \n",
    "countwords()"
   ]
  },
  {
   "cell_type": "code",
   "execution_count": 53,
   "id": "dd017f8b-dc34-4cdd-a7cf-f95819d03c35",
   "metadata": {},
   "outputs": [
    {
     "data": {
      "text/plain": [
       "4"
      ]
     },
     "execution_count": 53,
     "metadata": {},
     "output_type": "execute_result"
    }
   ],
   "source": [
    "#7 write a function to return smallest number in list\n",
    "def smallestnumber():\n",
    "    list1=[43,456,76,858,67,4,76,47,97]\n",
    "    y=min(list1)\n",
    "    return y\n",
    "smallestnumber()"
   ]
  },
  {
   "cell_type": "code",
   "execution_count": 56,
   "id": "efd722b1-612b-468d-9647-c51b1869d7c9",
   "metadata": {},
   "outputs": [
    {
     "data": {
      "text/plain": [
       "[68, 112, 112, 90, 68, 68, 18]"
      ]
     },
     "execution_count": 56,
     "metadata": {},
     "output_type": "execute_result"
    }
   ],
   "source": [
    "# 8 write a function that multiplis all number in list .\n",
    "def multiplication():\n",
    "    list1=[34,56,56,45,34,34,9]\n",
    "    multi=[]\n",
    "    for i in list1:\n",
    "        y=i*2\n",
    "        multi.append(y)\n",
    "    return multi\n",
    "multiplication()"
   ]
  },
  {
   "cell_type": "code",
   "execution_count": 4,
   "id": "46f4a4b2-acbc-46de-b2d2-c821f5886376",
   "metadata": {},
   "outputs": [
    {
     "name": "stdin",
     "output_type": "stream",
     "text": [
      "enter any number 153\n"
     ]
    },
    {
     "ename": "TypeError",
     "evalue": "unsupported operand type(s) for ** or pow(): 'str' and 'int'",
     "output_type": "error",
     "traceback": [
      "\u001b[31m---------------------------------------------------------------------------\u001b[39m",
      "\u001b[31mTypeError\u001b[39m                                 Traceback (most recent call last)",
      "\u001b[36mCell\u001b[39m\u001b[36m \u001b[39m\u001b[32mIn[4]\u001b[39m\u001b[32m, line 12\u001b[39m\n\u001b[32m     10\u001b[39m         \u001b[38;5;28;01melse\u001b[39;00m:\n\u001b[32m     11\u001b[39m             \u001b[38;5;28;01mreturn\u001b[39;00m \u001b[33mf\u001b[39m\u001b[33m\"\u001b[39m\u001b[38;5;132;01m{\u001b[39;00mnum\u001b[38;5;132;01m}\u001b[39;00m\u001b[33m is not armstrong\u001b[39m\u001b[33m\"\u001b[39m\n\u001b[32m---> \u001b[39m\u001b[32m12\u001b[39m \u001b[43marmstrong\u001b[49m\u001b[43m(\u001b[49m\u001b[43m)\u001b[49m\n",
      "\u001b[36mCell\u001b[39m\u001b[36m \u001b[39m\u001b[32mIn[4]\u001b[39m\u001b[32m, line 6\u001b[39m, in \u001b[36marmstrong\u001b[39m\u001b[34m()\u001b[39m\n\u001b[32m      4\u001b[39m \u001b[38;5;28;01mfor\u001b[39;00m i \u001b[38;5;129;01min\u001b[39;00m num:\n\u001b[32m      5\u001b[39m     arm=\u001b[32m0\u001b[39m\n\u001b[32m----> \u001b[39m\u001b[32m6\u001b[39m     power=\u001b[43mi\u001b[49m\u001b[43m*\u001b[49m\u001b[43m*\u001b[49m\u001b[32;43m3\u001b[39;49m\n\u001b[32m      7\u001b[39m     arm+=power\n\u001b[32m      8\u001b[39m     \u001b[38;5;28;01mif\u001b[39;00m num==arm:\n",
      "\u001b[31mTypeError\u001b[39m: unsupported operand type(s) for ** or pow(): 'str' and 'int'"
     ]
    }
   ],
   "source": [
    "#9 \n",
    "def armstrong():\n",
    "    num=input(\"enter any number\")\n",
    "    for i in num:\n",
    "        arm=0\n",
    "        power=i**3\n",
    "        arm+=power\n",
    "        if num==arm:\n",
    "            return f\"{num} is armstorng\"\n",
    "        else:\n",
    "            return f\"{num} is not armstrong\"\n",
    "armstrong()"
   ]
  },
  {
   "cell_type": "code",
   "execution_count": 8,
   "id": "291c4c01-fe7f-4550-95d6-dc11821d0d9e",
   "metadata": {},
   "outputs": [
    {
     "name": "stdin",
     "output_type": "stream",
     "text": [
      "enter number 123\n"
     ]
    },
    {
     "data": {
      "text/plain": [
       "False"
      ]
     },
     "execution_count": 8,
     "metadata": {},
     "output_type": "execute_result"
    }
   ],
   "source": [
    "#10. write a function that return true if number is palindrom else false.\n",
    "def checkpalindrom():\n",
    "    result=0\n",
    "    num=int(input(\"enter number\"))\n",
    "    original=num\n",
    "    while num!=0:\n",
    "        digit=num%10\n",
    "        result=result*10+digit\n",
    "        num=num//10\n",
    "    if original==result:\n",
    "        return True\n",
    "    else:\n",
    "        return False\n",
    "checkpalindrom()"
   ]
  },
  {
   "cell_type": "code",
   "execution_count": 9,
   "id": "8c179de0-e354-48b2-b7d5-73b7eb6d42a1",
   "metadata": {},
   "outputs": [
    {
     "data": {
      "text/plain": [
       "37.285714285714285"
      ]
     },
     "execution_count": 9,
     "metadata": {},
     "output_type": "execute_result"
    }
   ],
   "source": [
    "#11 write a function that takes a list and return a avarege of numbers.\n",
    "def averagelist():\n",
    "    list1=[34,24,44,45,48,34,32]\n",
    "    sumlist=0\n",
    "    count=0\n",
    "    avrg=0\n",
    "    for i in list1:\n",
    "        sumlist+=i\n",
    "        count+=1\n",
    "        avrg=sumlist/count\n",
    "    return avrg\n",
    "averagelist()\n",
    "        "
   ]
  },
  {
   "cell_type": "code",
   "execution_count": null,
   "id": "642ac98b-7fc0-4cef-9db7-85bb00f47720",
   "metadata": {},
   "outputs": [],
   "source": [
    "#12 "
   ]
  },
  {
   "cell_type": "code",
   "execution_count": 12,
   "id": "b69f5fde-4532-490f-be4d-0f0eb3bb8747",
   "metadata": {},
   "outputs": [
    {
     "name": "stdout",
     "output_type": "stream",
     "text": [
      "total even number in list is [34, 24, 44, 48, 34, 32, 34, 54, 546] = 9\n"
     ]
    }
   ],
   "source": [
    "#13 write a function that a list and return the count of even number.\n",
    "def counteven():\n",
    "    list1=[34,24,44,45,48,34,32,34,54,47,87,95,23,11,65,546]\n",
    "    evenlist=[]\n",
    "    count=0\n",
    "    for i in list1:\n",
    "        if i%2==0:\n",
    "            count+=1\n",
    "            evenlist.append(i)\n",
    "    print(\"total even number in list is\",evenlist,\"=\",count )\n",
    "counteven()"
   ]
  },
  {
   "cell_type": "code",
   "execution_count": 13,
   "id": "f29a51ab-0bf4-47f6-8f62-10ca25fd5529",
   "metadata": {},
   "outputs": [
    {
     "data": {
      "text/plain": [
       "[32, 65, 34, 546, 11, 44, 45, 77, 47, 54, 23, 24, 95]"
      ]
     },
     "execution_count": 13,
     "metadata": {},
     "output_type": "execute_result"
    }
   ],
   "source": [
    "#14 write a function to remove duplicate from list\n",
    "def removeduplicate():\n",
    "    list1=[34,24,44,23,45,45,34,32,34,54,47,77,95,23,11,65,546]\n",
    "    y=set(list1)\n",
    "    remove_duplicate=list(y)\n",
    "    return remove_duplicate\n",
    "removeduplicate()\n",
    "\n"
   ]
  },
  {
   "cell_type": "code",
   "execution_count": 20,
   "id": "e1a39f1f-e0ec-4174-9c04-cd46e5b2f6c0",
   "metadata": {},
   "outputs": [
    {
     "name": "stdin",
     "output_type": "stream",
     "text": [
      "enter your range 7\n"
     ]
    },
    {
     "name": "stdout",
     "output_type": "stream",
     "text": [
      "2 3 5 7 "
     ]
    }
   ],
   "source": [
    "# 15 write a function that return a list of all prime number in range\n",
    "def prime():\n",
    "    n=int(input(\"enter your range\"))\n",
    "    for num in range(2,n+1):\n",
    "        prime=True\n",
    "        for i in range(2,int(num**0.5)+1):\n",
    "            if num%i==0:\n",
    "                prime=False\n",
    "        if prime:\n",
    "            print(num,end=\" \")\n",
    "prime()\n",
    "        "
   ]
  },
  {
   "cell_type": "code",
   "execution_count": 23,
   "id": "c031a341-407e-4867-a6c6-0eeeeae7314f",
   "metadata": {},
   "outputs": [
    {
     "name": "stdin",
     "output_type": "stream",
     "text": [
      "enter any number 10\n"
     ]
    },
    {
     "data": {
      "text/plain": [
       "100"
      ]
     },
     "execution_count": 23,
     "metadata": {},
     "output_type": "execute_result"
    }
   ],
   "source": [
    "#16 write a function that calculate power without using operator **\n",
    "num=int(input(\"enter any number\"))\n",
    "def powernumber(base,exponant):\n",
    "    power=1\n",
    "    for i in range(abs(exponant)):\n",
    "        power*=base\n",
    "    return power\n",
    "powernumber(num,2)"
   ]
  },
  {
   "cell_type": "code",
   "execution_count": 38,
   "id": "7856bb5d-6543-4a55-8621-0c7b180be216",
   "metadata": {},
   "outputs": [
    {
     "name": "stdout",
     "output_type": "stream",
     "text": [
      "[900, 546, 95, 77, 65, 54, 47, 45, 45, 44, 34, 34, 34, 32, 24, 23, 23, 11]\n"
     ]
    },
    {
     "data": {
      "text/plain": [
       "546"
      ]
     },
     "execution_count": 38,
     "metadata": {},
     "output_type": "execute_result"
    }
   ],
   "source": [
    "#17 write a function that return second largest number in list.\n",
    "def secondlargest():\n",
    "    list1=[34,24,44,23,45,45,34,32,34,54,47,77,900,95,23,11,65,546]\n",
    "    y=sorted(list1)\n",
    "    rev=y[::-1]\n",
    "    print (rev)\n",
    "    return rev[1]\n",
    "secondlargest()\n",
    "    "
   ]
  },
  {
   "cell_type": "code",
   "execution_count": 40,
   "id": "6088f524-a021-47b9-8b70-5ae7ab6585e8",
   "metadata": {},
   "outputs": [
    {
     "name": "stdin",
     "output_type": "stream",
     "text": [
      "enter string kartikdhadge\n"
     ]
    },
    {
     "name": "stdout",
     "output_type": "stream",
     "text": [
      "total vowel in string is: ['a', 'i', 'a', 'e'] = 4\n",
      "total consonant in string is: ['k', 'r', 't', 'k', 'd', 'h', 'd', 'g'] = 8\n"
     ]
    }
   ],
   "source": [
    "#18 write a function that accept string and count number of vowels and number of cansonant.\n",
    "def countvowelconsonant():\n",
    "    string=input(\"enter string\")\n",
    "    vow=\"aeiouAEIOU\"\n",
    "    vowel=[]\n",
    "    vowcount=0\n",
    "    consonant=[]\n",
    "    conscount=0\n",
    "    for i in string:\n",
    "        if i in vow:\n",
    "            vowcount+=1\n",
    "            vowel.append(i)\n",
    "        else:\n",
    "            conscount+=1\n",
    "            consonant.append(i)\n",
    "    print(\"total vowel in string is:\",vowel,\"=\",vowcount)\n",
    "    print(\"total consonant in string is:\",consonant,\"=\",conscount)\n",
    "    \n",
    "countvowelconsonant()\n",
    "        "
   ]
  },
  {
   "cell_type": "code",
   "execution_count": null,
   "id": "85fb600f-b7fd-46cb-a7d2-5619307f2482",
   "metadata": {},
   "outputs": [],
   "source": [
    "#19  "
   ]
  },
  {
   "cell_type": "code",
   "execution_count": 41,
   "id": "aace2336-72cc-4939-89d2-319ec1c0868d",
   "metadata": {},
   "outputs": [
    {
     "data": {
      "text/plain": [
       "[11, 23, 23, 24, 32, 34, 34, 34, 44, 45, 45, 47, 54, 65, 77, 95, 546, 900]"
      ]
     },
     "execution_count": 41,
     "metadata": {},
     "output_type": "execute_result"
    }
   ],
   "source": [
    "#20 write a fanction that recurses a given list without using built in function\n",
    "def recurslist():\n",
    "    list1=[900, 546, 95, 77, 65, 54, 47, 45, 45, 44, 34, 34, 34, 32, 24, 23, 23, 11]\n",
    "    rev=list1[::-1]\n",
    "    return rev\n",
    "recurslist()\n",
    "    "
   ]
  },
  {
   "cell_type": "code",
   "execution_count": 50,
   "id": "28d8b87d-4968-4008-9551-431e6647f1e3",
   "metadata": {},
   "outputs": [
    {
     "name": "stdout",
     "output_type": "stream",
     "text": [
      "keys in dictionary: dict_keys(['a', 'b', 'c', 'd', 'e', 'f'])\n",
      "values in doctionary: dict_values([1, 2, 3, 4, 5, 6])\n"
     ]
    }
   ],
   "source": [
    "#21. werit a function that takes a dictionry and return key and value.\n",
    "def keyvalue():\n",
    "    dict1={'a':1,'b':2,'c':3,'d':4,'e':5,'f':6}\n",
    "    keys=dict1.keys()\n",
    "    value=dict1.values()\n",
    "    print(\"keys in dictionary:\",keys)\n",
    "    print(\"values in doctionary:\",value)\n",
    "keyvalue()"
   ]
  },
  {
   "cell_type": "code",
   "execution_count": null,
   "id": "d4cef622-9052-4b8b-9685-92b94ea809bb",
   "metadata": {},
   "outputs": [],
   "source": [
    "#22 "
   ]
  },
  {
   "cell_type": "code",
   "execution_count": 62,
   "id": "b238656a-dff0-4f53-8e64-f7826cfad4f5",
   "metadata": {},
   "outputs": [
    {
     "data": {
      "text/plain": [
       "[900, 23, 23, 24, 32, 34, 34, 34, 44, 45, 45, 47, 54, 65, 77, 95, 546, 11]"
      ]
     },
     "execution_count": 62,
     "metadata": {},
     "output_type": "execute_result"
    }
   ],
   "source": [
    "# 23 write a function that takes list and swap first and list element.\n",
    "def swap():\n",
    "    list1=[11, 23, 23, 24, 32, 34, 34, 34, 44, 45, 45, 47, 54, 65, 77, 95, 546, 900]\n",
    "    list1[0],list1[-1]=list1[-1],list1[0]\n",
    "    return list1\n",
    "swap()"
   ]
  },
  {
   "cell_type": "code",
   "execution_count": 4,
   "id": "e5311856-996a-423f-85e4-2483b5a97f8a",
   "metadata": {},
   "outputs": [
    {
     "data": {
      "text/plain": [
       "[56, 34, 13, 23]"
      ]
     },
     "execution_count": 4,
     "metadata": {},
     "output_type": "execute_result"
    }
   ],
   "source": [
    "#24 write a function to find the common element of two list.\n",
    "def commonelement():\n",
    "    list1=[10,20,23,34,29,12,13,56]\n",
    "    list2=[23,56,45,34,76,89,56,13]\n",
    "    common=list(set(list1).intersection(set(list2)))\n",
    "    return common\n",
    "commonelement()"
   ]
  },
  {
   "cell_type": "code",
   "execution_count": 13,
   "id": "a2b55a9d-739a-436f-b7b0-151e436baf85",
   "metadata": {},
   "outputs": [
    {
     "name": "stdin",
     "output_type": "stream",
     "text": [
      "enter string kartik dhadge\n"
     ]
    },
    {
     "name": "stdout",
     "output_type": "stream",
     "text": [
      "krtk dhdg"
     ]
    }
   ],
   "source": [
    "#25 write a function that accept string and return a new string with vowel removed.\n",
    "def removevowel():\n",
    "    string=input(\"enter string\")\n",
    "    vowel='aeiouAEIOU'\n",
    "    vow=\" \"\n",
    "    for i in string:\n",
    "        if i in vowel:\n",
    "            vow=i     \n",
    "        else:\n",
    "            print(i,end=\"\")\n",
    "removevowel()"
   ]
  },
  {
   "cell_type": "code",
   "execution_count": 19,
   "id": "ce9327b4-0b78-429c-b73c-b40637eeba79",
   "metadata": {},
   "outputs": [],
   "source": [
    "#26.write a function to flatten a nested list .\n"
   ]
  },
  {
   "cell_type": "code",
   "execution_count": 23,
   "id": "87347465-5041-4308-8d50-ffb37dd148ba",
   "metadata": {},
   "outputs": [
    {
     "name": "stdin",
     "output_type": "stream",
     "text": [
      "enter your sentence i am kartik\n"
     ]
    },
    {
     "data": {
      "text/plain": [
       "'kartik'"
      ]
     },
     "execution_count": 23,
     "metadata": {},
     "output_type": "execute_result"
    }
   ],
   "source": [
    "# 27. write a function that accept a sentence and return a longest word.\n",
    "def longestword():\n",
    "    sentence=input(\"enter your sentence\")\n",
    "    word=sentence.split(\" \")\n",
    "    longestword=max(word)\n",
    "    return longestword\n",
    "longestword()"
   ]
  },
  {
   "cell_type": "code",
   "execution_count": 31,
   "id": "ccc2a64f-5a4a-4d35-bd43-92e7bf631c70",
   "metadata": {},
   "outputs": [
    {
     "name": "stdin",
     "output_type": "stream",
     "text": [
      "enter your string THE QUICK BROWN FOX JUMPS OVER THE LAZY DOG\n"
     ]
    },
    {
     "data": {
      "text/plain": [
       "True"
      ]
     },
     "execution_count": 31,
     "metadata": {},
     "output_type": "execute_result"
    }
   ],
   "source": [
    "#28.creat a function that accept a string and return true if its pangram.\n",
    "def pangram():\n",
    "    string1=input(\"enter your string\")\n",
    "    string=string1.lower()\n",
    "    alpha='abcdefghijklmnopqrstuvwxyz'\n",
    "    for i in alpha:\n",
    "        if i not in string:\n",
    "            return False\n",
    "    return True\n",
    "pangram()"
   ]
  },
  {
   "cell_type": "code",
   "execution_count": 34,
   "id": "3ea7110e-87a4-44bd-aaa8-42751ee76375",
   "metadata": {},
   "outputs": [
    {
     "data": {
      "text/plain": [
       "('the number is even or divisible by 3 is:',\n",
       " [6, 12, 18, 24, 30, 36, 42, 48, 54, 60, 66, 72, 78, 84, 90, 96])"
      ]
     },
     "execution_count": 34,
     "metadata": {},
     "output_type": "execute_result"
    }
   ],
   "source": [
    "#29.write a function that return a list of number that are both even or divisible by 3\n",
    "def number():\n",
    "    list2=[]\n",
    "    for i in range(1,100+1):\n",
    "        if i%2==0 and i%3==0:\n",
    "            list2.append(i)\n",
    "    return \"the number is even or divisible by 3 is:\",list2\n",
    "number()\n",
    "            "
   ]
  },
  {
   "cell_type": "code",
   "execution_count": null,
   "id": "f2fe46df-d7f5-4b51-abbd-61c5951126f7",
   "metadata": {},
   "outputs": [],
   "source": [
    "# 30. "
   ]
  },
  {
   "cell_type": "code",
   "execution_count": null,
   "id": "c8fd8e4b-0df8-4b66-941d-6c06d0d8686a",
   "metadata": {},
   "outputs": [],
   "source": []
  },
  {
   "cell_type": "markdown",
   "id": "e3df56a9-d8fc-4f0c-bb1e-da0c03be5f8b",
   "metadata": {},
   "source": [
    "## practice question set 3"
   ]
  },
  {
   "cell_type": "code",
   "execution_count": 1,
   "id": "8c932d42-3884-4751-bbb9-fe50541b8a3e",
   "metadata": {},
   "outputs": [
    {
     "data": {
      "text/plain": [
       "[87, 56, 67, 35, 45, 56, 34]"
      ]
     },
     "execution_count": 1,
     "metadata": {},
     "output_type": "execute_result"
    }
   ],
   "source": [
    "# 1. write a function that accept list and return a list it's revers version\n",
    "def revers ():\n",
    "    list1=[34,56,45,35,67,56,87]\n",
    "    rev=list1[::-1]\n",
    "    return rev\n",
    "revers()"
   ]
  },
  {
   "cell_type": "code",
   "execution_count": 4,
   "id": "7a486b68-a3c5-4447-a567-0da86ca58113",
   "metadata": {},
   "outputs": [
    {
     "name": "stdin",
     "output_type": "stream",
     "text": [
      "enter any number 47\n"
     ]
    },
    {
     "data": {
      "text/plain": [
       "True"
      ]
     },
     "execution_count": 4,
     "metadata": {},
     "output_type": "execute_result"
    }
   ],
   "source": [
    "#2. write a function that takes number and return true if its odd else false\n",
    "def oddnum():\n",
    "    num=int(input(\"enter any number\"))\n",
    "    if num%2!=0:\n",
    "        return True\n",
    "    else:\n",
    "        return False\n",
    "oddnum()"
   ]
  },
  {
   "cell_type": "code",
   "execution_count": 5,
   "id": "251a3de7-c8b7-471b-afef-1aad07716265",
   "metadata": {},
   "outputs": [
    {
     "name": "stdin",
     "output_type": "stream",
     "text": [
      "enter a last number 9\n"
     ]
    },
    {
     "data": {
      "text/plain": [
       "[1, 4, 9, 16, 25, 36, 49, 64, 81]"
      ]
     },
     "execution_count": 5,
     "metadata": {},
     "output_type": "execute_result"
    }
   ],
   "source": [
    "#3. write a function to ganarete a list to squre 1 to n.\n",
    "def squrelist():\n",
    "    n=int(input(\"enter a last number\"))\n",
    "    sqrlist=[]\n",
    "    for i in range(1,n+1):\n",
    "        sqr=i**2\n",
    "        sqrlist.append(sqr)\n",
    "    return sqrlist\n",
    "squrelist()"
   ]
  },
  {
   "cell_type": "code",
   "execution_count": 8,
   "id": "2ba6d557-c26a-4de8-9d98-43d7a139f1b0",
   "metadata": {},
   "outputs": [
    {
     "name": "stdin",
     "output_type": "stream",
     "text": [
      "enter sentence i am kartik dhadge\n"
     ]
    },
    {
     "name": "stdout",
     "output_type": "stream",
     "text": [
      "{'i': 1, 'am': 1, 'kartik': 1, 'dhadge': 1}\n"
     ]
    }
   ],
   "source": [
    "#4 write a function that return dictionry of wordes frequencies from sentence\n",
    "def dictionry():\n",
    "    sentence=input(\"enter sentence\")\n",
    "    words=sentence.split()\n",
    "    freq={}\n",
    "    for word in words:\n",
    "        freq[word]=freq.get(word,0)+1\n",
    "    print(freq)\n",
    "dictionry()"
   ]
  },
  {
   "cell_type": "code",
   "execution_count": 4,
   "id": "e3b521dd-ef33-4aa1-821a-856d513cc993",
   "metadata": {},
   "outputs": [
    {
     "data": {
      "text/plain": [
       "{6, 12, 18, 24, 30, 36, 42, 48, 54, 60, 66, 72, 78, 84, 90, 96}"
      ]
     },
     "execution_count": 4,
     "metadata": {},
     "output_type": "execute_result"
    }
   ],
   "source": [
    "#5 write a function to check all element are uniqu in list.\n",
    "def unique():\n",
    "    list1= [6, 12, 18, 24, 30, 36,36,36, 42,42, 48, 54, 60, 66,66, 72, 78, 84, 90, 96]\n",
    "    list2=set(list1)\n",
    "    return list2\n",
    "unique()"
   ]
  },
  {
   "cell_type": "code",
   "execution_count": 10,
   "id": "52877354-b48b-43da-b5fa-9747b399460d",
   "metadata": {},
   "outputs": [
    {
     "name": "stdout",
     "output_type": "stream",
     "text": [
      "0 6\n",
      "2 18\n",
      "4 30\n",
      "6 36\n",
      "8 42\n",
      "10 48\n",
      "12 60\n",
      "14 66\n",
      "16 78\n",
      "18 90\n"
     ]
    },
    {
     "data": {
      "text/plain": [
       "474"
      ]
     },
     "execution_count": 10,
     "metadata": {},
     "output_type": "execute_result"
    }
   ],
   "source": [
    "#6. write a function that return sum of even indexed in list.\n",
    "def sumevenindex():\n",
    "    list1= [6, 12, 18, 24, 30, 36,36,36, 42,42, 48, 54, 60, 66,66, 72, 78, 84, 90, 96]\n",
    "    sum1=0\n",
    "    for i in range(len(list1)):\n",
    "        if i%2==0:\n",
    "            print(i,list1[i])\n",
    "            sum1+=list1[i]\n",
    "    return sum1      \n",
    "sumevenindex()"
   ]
  },
  {
   "cell_type": "code",
   "execution_count": null,
   "id": "4373230d-c1c1-44ca-bbeb-856be75cfdd8",
   "metadata": {},
   "outputs": [],
   "source": [
    "# 7 write a function tom extract digits in string and return it as list\n",
    "def extractdigit():\n",
    "    string=input(\"enter string\")\n",
    "    digitlist=[]\n",
    "    digit='0123456789'\n",
    "    for i in string:\n",
    "        if i in digit:\n",
    "            digitlist.append(i)\n",
    "    return digitlist\n",
    "extractdigit()"
   ]
  },
  {
   "cell_type": "code",
   "execution_count": null,
   "id": "77a052d9-f982-4b42-bc46-27162cb4c7ac",
   "metadata": {},
   "outputs": [],
   "source": [
    "#8"
   ]
  },
  {
   "cell_type": "code",
   "execution_count": null,
   "id": "c0c830b1-8a12-426c-b3ba-b258abbb1193",
   "metadata": {},
   "outputs": [],
   "source": [
    "#9 creat a function that count a uppecase and lower case latter in string.\n",
    "def countlatter():\n",
    "    string=input(\"enter your string \")\n",
    "    upperlatter=0\n",
    "    lowerlatter=0\n",
    "    for i in string:\n",
    "        if i.isupper():\n",
    "            upperlatter+=1\n",
    "        if i.islower():\n",
    "            lowerlatter+=1\n",
    "    print(\"total upper case latter in string is:\",upperlatter)\n",
    "    print(\"total lower case latter in string is:\",lowerlatter)\n",
    "countlatter()"
   ]
  },
  {
   "cell_type": "code",
   "execution_count": 12,
   "id": "de0ef223-0644-4f99-a703-32f905af7701",
   "metadata": {},
   "outputs": [
    {
     "data": {
      "text/plain": [
       "False"
      ]
     },
     "execution_count": 12,
     "metadata": {},
     "output_type": "execute_result"
    }
   ],
   "source": [
    "#10. write a function that takes a list and return true if list is sorted eles false.\n",
    "def sortedlist():\n",
    "    list1=[32, 65, 34, 546, 11, 44, 45, 77, 47, 54, 23, 24, 95]\n",
    "    if list1==sorted(list1):\n",
    "        return True\n",
    "    else:\n",
    "        return False\n",
    "sortedlist()\n",
    "    "
   ]
  },
  {
   "cell_type": "code",
   "execution_count": 22,
   "id": "3271307d-36bc-42cb-9063-c272a0918079",
   "metadata": {},
   "outputs": [
    {
     "name": "stdin",
     "output_type": "stream",
     "text": [
      " enter  sentence:  The girl said, \"Dad, after hearing your story that you stole $9.20 from grandma's purse at 6:30 AM on 18 March 2003; you said it was for buying sweets, did I say 'Oh my gosh!'? \"\n"
     ]
    },
    {
     "data": {
      "text/plain": [
       "14"
      ]
     },
     "execution_count": 22,
     "metadata": {},
     "output_type": "execute_result"
    }
   ],
   "source": [
    "# 11. write a function that takes a sentens and return the number of punctuation mark\n",
    "import string\n",
    "def countpunctuation():\n",
    "    sent=input(\" enter  sentence: \")\n",
    "    count=0\n",
    "    for i in sent:\n",
    "        if i in string.punctuation:\n",
    "            count+=1\n",
    "    return count\n",
    "countpunctuation()          "
   ]
  },
  {
   "cell_type": "code",
   "execution_count": null,
   "id": "15765243-3129-4288-92a2-a7900f998bef",
   "metadata": {},
   "outputs": [],
   "source": [
    "#12"
   ]
  },
  {
   "cell_type": "code",
   "execution_count": null,
   "id": "61f3f9a8-f922-4908-a531-786044bf9c04",
   "metadata": {},
   "outputs": [],
   "source": [
    "# 13"
   ]
  },
  {
   "cell_type": "code",
   "execution_count": 23,
   "id": "b8e2afb9-86bb-44fd-bd54-a5d24b257ab6",
   "metadata": {},
   "outputs": [
    {
     "data": {
      "text/plain": [
       "['kayak', 'madam', 'nitin']"
      ]
     },
     "execution_count": 23,
     "metadata": {},
     "output_type": "execute_result"
    }
   ],
   "source": [
    "# 14 write a function that return a list of palindrom string from string list.\n",
    "def listpalindrome():\n",
    "    list1=['orange','kayak','mango','madam','apple','nitin']\n",
    "    list2=[]\n",
    "    for i in list1:\n",
    "        if i==i[::-1]:\n",
    "            list2.append(i)\n",
    "    return list2\n",
    "listpalindrome()"
   ]
  },
  {
   "cell_type": "code",
   "execution_count": 32,
   "id": "67e3741a-4912-4de8-9bc1-99f61d5a95be",
   "metadata": {},
   "outputs": [
    {
     "name": "stdin",
     "output_type": "stream",
     "text": [
      "enter number 13\n"
     ]
    },
    {
     "data": {
      "text/plain": [
       "'13 is not harshade number'"
      ]
     },
     "execution_count": 32,
     "metadata": {},
     "output_type": "execute_result"
    }
   ],
   "source": [
    "#15 write a function to check if a number is harshad number (divisible by sum of digit).\n",
    "def harshadnumber():\n",
    "    num=int(input(\"enter number\"))\n",
    "    sum1=sum(int(digit) for digit in str(num))\n",
    "    if num%sum1==0:\n",
    "        return f\"{num} is harshad number\"\n",
    "    else:\n",
    "        return f\"{num} is not harshade number\"\n",
    "harshadnumber()\n",
    "        "
   ]
  },
  {
   "cell_type": "code",
   "execution_count": 36,
   "id": "a5368b4e-d6e7-4d2c-bbc5-e0cc9f236b3a",
   "metadata": {},
   "outputs": [
    {
     "data": {
      "text/plain": [
       "[23, 45, 67, 21, 98, 76]"
      ]
     },
     "execution_count": 36,
     "metadata": {},
     "output_type": "execute_result"
    }
   ],
   "source": [
    "# 16. write a function that remove all none value in the list .\n",
    "def removenonevalue():\n",
    "    list1=[23,45,None,67,None,21,98,None,76]\n",
    "    cleanlist=[]\n",
    "    for i in list1:\n",
    "        if i!=None:\n",
    "            cleanlist.append(i)\n",
    "    return cleanlist\n",
    "removenonevalue()"
   ]
  },
  {
   "cell_type": "code",
   "execution_count": 37,
   "id": "8c4b0581-24dd-4ddc-8971-d4485369ac76",
   "metadata": {},
   "outputs": [],
   "source": [
    "# 17. write a function "
   ]
  },
  {
   "cell_type": "code",
   "execution_count": 45,
   "id": "77b439e1-41ac-44bf-841b-2b319e6affb3",
   "metadata": {},
   "outputs": [
    {
     "name": "stdin",
     "output_type": "stream",
     "text": [
      "enter string i am kartik dhadge\n"
     ]
    },
    {
     "data": {
      "text/plain": [
       "'dhadge kartik am i'"
      ]
     },
     "execution_count": 45,
     "metadata": {},
     "output_type": "execute_result"
    }
   ],
   "source": [
    "#18 write a function that takes a string and return a revers word version \n",
    "def revers():\n",
    "    string=input(\"enter string\")\n",
    "    stri=string.split()\n",
    "    rev=stri[::-1]\n",
    "    revstri=\" \".join(rev)\n",
    "    return revstri\n",
    "revers()"
   ]
  },
  {
   "cell_type": "code",
   "execution_count": 46,
   "id": "8091acc2-e36d-4cf8-a231-f7bd618471a9",
   "metadata": {},
   "outputs": [],
   "source": [
    "# 19. write a function that find first non repeating charetor in a string."
   ]
  },
  {
   "cell_type": "code",
   "execution_count": 52,
   "id": "9a2e425d-f3a9-47ed-9667-501ed5053598",
   "metadata": {},
   "outputs": [
    {
     "data": {
      "text/plain": [
       "84"
      ]
     },
     "execution_count": 52,
     "metadata": {},
     "output_type": "execute_result"
    }
   ],
   "source": [
    "# 20. write a function to return the difference bettewn max and min in list.\n",
    "def difference():\n",
    "    list1=[32, 65, 34, 11, 44, 45, 77, 47, 54, 23, 24, 95]\n",
    "    diff=(max(list1)-min(list1))\n",
    "    return diff\n",
    "difference()"
   ]
  },
  {
   "cell_type": "code",
   "execution_count": null,
   "id": "3a812f2a-c852-4ff1-85cf-64d5797714dc",
   "metadata": {},
   "outputs": [],
   "source": []
  }
 ],
 "metadata": {
  "kernelspec": {
   "display_name": "Python 3 (ipykernel)",
   "language": "python",
   "name": "python3"
  },
  "language_info": {
   "codemirror_mode": {
    "name": "ipython",
    "version": 3
   },
   "file_extension": ".py",
   "mimetype": "text/x-python",
   "name": "python",
   "nbconvert_exporter": "python",
   "pygments_lexer": "ipython3",
   "version": "3.13.5"
  }
 },
 "nbformat": 4,
 "nbformat_minor": 5
}
