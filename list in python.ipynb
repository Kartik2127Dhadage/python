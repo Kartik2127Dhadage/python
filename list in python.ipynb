{
 "cells": [
  {
   "cell_type": "markdown",
   "id": "33e3db47-e14d-4228-9d3b-9e31e62d932f",
   "metadata": {},
   "source": [
    "## List in python \n",
    "* List are ordered\n",
    "* List can contains any arbitrary\n",
    "* List element can be accessed by an index\n",
    "* List can be nested to arbitrary  depth\n",
    "* List are mutable \n",
    "* List are dynamic"
   ]
  },
  {
   "cell_type": "code",
   "execution_count": 1,
   "id": "2c252e1a-f0bc-4bed-ba4c-5498dc628b32",
   "metadata": {},
   "outputs": [
    {
     "name": "stdout",
     "output_type": "stream",
     "text": [
      "[] <class 'list'>\n"
     ]
    }
   ],
   "source": [
    "# empty list\n",
    "x=[]\n",
    "print(x,type(x))"
   ]
  },
  {
   "cell_type": "markdown",
   "id": "9045fab4-cef5-4a7d-b71f-999ebfe67991",
   "metadata": {},
   "source": [
    "#### positive indexing"
   ]
  },
  {
   "cell_type": "code",
   "execution_count": 8,
   "id": "4009f584-c196-4967-a18f-36a1270bcb11",
   "metadata": {},
   "outputs": [
    {
     "name": "stdout",
     "output_type": "stream",
     "text": [
      "kartik <class 'str'>\n",
      "2 <class 'int'>\n",
      "True <class 'bool'>\n"
     ]
    }
   ],
   "source": [
    "x=[\"kartik\",2,98.76,4,True,6,False,8,9,10]\n",
    "print(x[0],type(x[0]))\n",
    "print(x[1],type(x[1]))\n",
    "print(x[4],type(x[4]))"
   ]
  },
  {
   "cell_type": "markdown",
   "id": "dc85250d-8f6d-4554-896a-6fc4bc288cbd",
   "metadata": {},
   "source": [
    "#### Negative indexing"
   ]
  },
  {
   "cell_type": "code",
   "execution_count": 12,
   "id": "aa0bf990-8b89-4ad6-b82d-065b611127d6",
   "metadata": {},
   "outputs": [
    {
     "name": "stdout",
     "output_type": "stream",
     "text": [
      "10\n",
      "False <class 'bool'>\n"
     ]
    }
   ],
   "source": [
    "x=[\"kartik\",2,98.76,4,True,6,False,8,9,10]\n",
    "print(x[-1])\n",
    "print(x[-4],type(x[-4]))"
   ]
  },
  {
   "cell_type": "code",
   "execution_count": 2,
   "id": "a615f102-2f7f-4eb8-ae21-a39befb5be13",
   "metadata": {},
   "outputs": [
    {
     "name": "stdout",
     "output_type": "stream",
     "text": [
      "40.34\n"
     ]
    }
   ],
   "source": [
    "a=[10,20,\"kartik\",40.34,'true']\n",
    "print(a[3])"
   ]
  },
  {
   "cell_type": "code",
   "execution_count": 3,
   "id": "8b3cd666-550e-4c29-95ed-8f11517f1b4c",
   "metadata": {},
   "outputs": [
    {
     "name": "stdout",
     "output_type": "stream",
     "text": [
      "10\n"
     ]
    }
   ],
   "source": [
    "print(a[0])"
   ]
  },
  {
   "cell_type": "code",
   "execution_count": 6,
   "id": "2c0a384e-bbd3-47fc-abb6-69fd91a5a05d",
   "metadata": {},
   "outputs": [
    {
     "name": "stdout",
     "output_type": "stream",
     "text": [
      "<class 'str'>\n"
     ]
    }
   ],
   "source": [
    "print(type(a[2]))"
   ]
  },
  {
   "cell_type": "code",
   "execution_count": 7,
   "id": "26a05897-bdfe-4a36-ae6d-e2034490e356",
   "metadata": {},
   "outputs": [
    {
     "name": "stdout",
     "output_type": "stream",
     "text": [
      "40.34\n"
     ]
    }
   ],
   "source": [
    "print(a[-2])"
   ]
  },
  {
   "cell_type": "code",
   "execution_count": 12,
   "id": "ae90c57f-7d31-4ba2-b6b3-317ac05ab2d6",
   "metadata": {},
   "outputs": [
    {
     "name": "stdout",
     "output_type": "stream",
     "text": [
      "[10, 20, 'kartik', 40.34, 'true', 90, 90]\n"
     ]
    }
   ],
   "source": [
    "print(a)\n",
    "   "
   ]
  },
  {
   "cell_type": "code",
   "execution_count": 13,
   "id": "a23ff54f-9d9e-4f27-9b1b-e8e41e185161",
   "metadata": {},
   "outputs": [
    {
     "name": "stdout",
     "output_type": "stream",
     "text": [
      "[10, 20, 'kartik', 40.34, 'true', 90, 90, 90]\n"
     ]
    }
   ],
   "source": [
    "a.append(90)\n",
    "print(a)"
   ]
  },
  {
   "cell_type": "code",
   "execution_count": 18,
   "id": "e3e1614c-95d0-4dec-970f-618168939104",
   "metadata": {},
   "outputs": [
    {
     "name": "stdout",
     "output_type": "stream",
     "text": [
      "[10, 20, 'kartik', 40.34, 'true', 90, 90, 90, 'r', 'u', 'c', 'h', 'i', 'k', 'a', 'r', 'u', 'c', 'h', 'i', 'k', 'a', 'ruchika']\n"
     ]
    }
   ],
   "source": [
    "print(a)"
   ]
  },
  {
   "cell_type": "code",
   "execution_count": 20,
   "id": "06a0b107-d964-4084-a4fc-35a41f39e18c",
   "metadata": {},
   "outputs": [
    {
     "name": "stdout",
     "output_type": "stream",
     "text": [
      "[20, 20, 30, 40, 50, 60]\n"
     ]
    }
   ],
   "source": [
    "b=[10000,20,30,40,50,60]\n",
    "b[0]=20\n",
    "print(b)"
   ]
  },
  {
   "cell_type": "code",
   "execution_count": 23,
   "id": "13eb98dc-c627-4255-8e18-9e56ffeed132",
   "metadata": {},
   "outputs": [
    {
     "name": "stdout",
     "output_type": "stream",
     "text": [
      "[20, 20, 40, 50]\n"
     ]
    }
   ],
   "source": [
    "b.pop()\n",
    "print(b)"
   ]
  },
  {
   "cell_type": "code",
   "execution_count": null,
   "id": "a0f6df70-41dc-46f8-a879-aa8ca0a7f33b",
   "metadata": {},
   "outputs": [],
   "source": []
  },
  {
   "cell_type": "raw",
   "id": "307ad37b-632c-40cd-82b2-f30f08f0c57c",
   "metadata": {},
   "source": [
    "##calculation of list\n"
   ]
  },
  {
   "cell_type": "code",
   "execution_count": 26,
   "id": "2a84dabc-21a4-41f0-8c58-ecf8768fd195",
   "metadata": {},
   "outputs": [
    {
     "data": {
      "text/plain": [
       "260"
      ]
     },
     "execution_count": 26,
     "metadata": {},
     "output_type": "execute_result"
    }
   ],
   "source": [
    "k=[20,90,80,70]\n",
    "sum(k)\n",
    "\n"
   ]
  },
  {
   "cell_type": "code",
   "execution_count": 28,
   "id": "8d963802-4aef-4814-af54-156479ba68b0",
   "metadata": {},
   "outputs": [
    {
     "name": "stdout",
     "output_type": "stream",
     "text": [
      "4\n"
     ]
    }
   ],
   "source": [
    "print(len(k))"
   ]
  },
  {
   "cell_type": "code",
   "execution_count": 29,
   "id": "c08d894c-9a50-4f60-8b80-8834697410e1",
   "metadata": {},
   "outputs": [
    {
     "name": "stdout",
     "output_type": "stream",
     "text": [
      "20\n"
     ]
    }
   ],
   "source": [
    "print(min(k))"
   ]
  },
  {
   "cell_type": "code",
   "execution_count": 30,
   "id": "b58d4cc9-c88e-4831-ba3a-67a944a4b771",
   "metadata": {},
   "outputs": [
    {
     "name": "stdout",
     "output_type": "stream",
     "text": [
      "90\n"
     ]
    }
   ],
   "source": [
    "print(max(k))"
   ]
  },
  {
   "cell_type": "code",
   "execution_count": 31,
   "id": "b6f4d7f4-f6dc-49f8-8e0b-4aec98cba432",
   "metadata": {},
   "outputs": [
    {
     "name": "stdout",
     "output_type": "stream",
     "text": [
      "1\n"
     ]
    }
   ],
   "source": [
    "print(k.count(90))"
   ]
  },
  {
   "cell_type": "code",
   "execution_count": 19,
   "id": "6bc100f7-5753-4721-953c-23d794df731b",
   "metadata": {},
   "outputs": [
    {
     "name": "stdout",
     "output_type": "stream",
     "text": [
      "kartik\n"
     ]
    }
   ],
   "source": [
    "# accessing element in a list using index value \n",
    "y=[\"datta\",[[[\"ruchika\",\"kartik\"],\"sivaraj\",\"sagar\"]]]\n",
    "print(y[1][0][0][1])"
   ]
  },
  {
   "cell_type": "code",
   "execution_count": null,
   "id": "e1cb530f-bb80-48ec-9a27-3d6da4aca28f",
   "metadata": {},
   "outputs": [],
   "source": []
  }
 ],
 "metadata": {
  "kernelspec": {
   "display_name": "Python 3 (ipykernel)",
   "language": "python",
   "name": "python3"
  },
  "language_info": {
   "codemirror_mode": {
    "name": "ipython",
    "version": 3
   },
   "file_extension": ".py",
   "mimetype": "text/x-python",
   "name": "python",
   "nbconvert_exporter": "python",
   "pygments_lexer": "ipython3",
   "version": "3.13.5"
  }
 },
 "nbformat": 4,
 "nbformat_minor": 5
}
