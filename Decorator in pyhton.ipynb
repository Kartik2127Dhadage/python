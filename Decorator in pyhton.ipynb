{
 "cells": [
  {
   "cell_type": "markdown",
   "id": "26521d3b-67fa-4082-87e6-8bfb9418ee52",
   "metadata": {},
   "source": [
    "## 20. Decorator in Python\n",
    "* Decorator provides a simple syntax for calling higher-order functions.\n",
    "* By definition, a decorator is a function that takes other functions and extends their behaviours without modifying them.\n",
    "* Decorators can be extremely useful as they allow the extension of an existing function, without any modification to the original function source code.\n",
    "* In fact, there are two types of decorators in Python: class decorator and function decorator.\n",
    "* In application, decorators are mainly used in creating a middle layer in the backend, which performs tasks like token authentication, image compression, validation, and many more."
   ]
  },
  {
   "cell_type": "code",
   "execution_count": null,
   "id": "9d34b602-6c76-4767-851c-a13b1cce49ef",
   "metadata": {},
   "outputs": [],
   "source": []
  }
 ],
 "metadata": {
  "kernelspec": {
   "display_name": "Python 3 (ipykernel)",
   "language": "python",
   "name": "python3"
  },
  "language_info": {
   "codemirror_mode": {
    "name": "ipython",
    "version": 3
   },
   "file_extension": ".py",
   "mimetype": "text/x-python",
   "name": "python",
   "nbconvert_exporter": "python",
   "pygments_lexer": "ipython3",
   "version": "3.13.5"
  }
 },
 "nbformat": 4,
 "nbformat_minor": 5
}
