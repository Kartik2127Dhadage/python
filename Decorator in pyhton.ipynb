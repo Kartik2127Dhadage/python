{
 "cells": [
  {
   "cell_type": "markdown",
   "id": "26521d3b-67fa-4082-87e6-8bfb9418ee52",
   "metadata": {},
   "source": [
    "## 20. Decorator in Python\n",
    "* Decorator provides a simple syntax for calling higher-order functions.\n",
    "* By definition, a decorator is a function that takes other functions and extends their behaviours without modifying them.\n",
    "* Decorators can be extremely useful as they allow the extension of an existing function, without any modification to the original function source code.\n",
    "* In fact, there are two types of decorators in Python: class decorator and function decorator.\n",
    "* In application, decorators are mainly used in creating a middle layer in the backend, which performs tasks like token authentication, image compression, validation, and many more."
   ]
  },
  {
   "cell_type": "code",
   "execution_count": 1,
   "id": "9d34b602-6c76-4767-851c-a13b1cce49ef",
   "metadata": {},
   "outputs": [],
   "source": [
    "import decorator\n"
   ]
  },
  {
   "cell_type": "code",
   "execution_count": 2,
   "id": "f14a78b5-d602-4941-8e25-00aa995f6b39",
   "metadata": {},
   "outputs": [],
   "source": [
    "import math"
   ]
  },
  {
   "cell_type": "code",
   "execution_count": 3,
   "id": "68eec8f5-0ebe-4e4f-b850-bdcf6298b681",
   "metadata": {},
   "outputs": [
    {
     "name": "stdout",
     "output_type": "stream",
     "text": [
      "9.42477796076938\n"
     ]
    },
    {
     "data": {
      "text/plain": [
       "10.0"
      ]
     },
     "execution_count": 3,
     "metadata": {},
     "output_type": "execute_result"
    }
   ],
   "source": [
    "def multi(x):\n",
    "    return x*math.pi\n",
    "def divide(y):\n",
    "    return 20/y\n",
    "print(multi(3))\n",
    "divide(2)"
   ]
  },
  {
   "cell_type": "code",
   "execution_count": 4,
   "id": "88d2c2e1-47ae-4724-8a12-d9f34171678a",
   "metadata": {},
   "outputs": [
    {
     "data": {
      "text/plain": [
       "9.42477796076938"
      ]
     },
     "execution_count": 4,
     "metadata": {},
     "output_type": "execute_result"
    }
   ],
   "source": [
    "def operator(func,x1):\n",
    "    num=func(x1)\n",
    "    return num\n",
    "operator(multi,3)"
   ]
  },
  {
   "cell_type": "code",
   "execution_count": 5,
   "id": "50bc69fb-d1ab-4796-8bda-3fdc28d7c502",
   "metadata": {},
   "outputs": [
    {
     "data": {
      "text/plain": [
       "10.0"
      ]
     },
     "execution_count": 5,
     "metadata": {},
     "output_type": "execute_result"
    }
   ],
   "source": [
    "operator(divide,2)"
   ]
  },
  {
   "cell_type": "code",
   "execution_count": 9,
   "id": "5b498745-a091-4fc9-bc72-a5073a795c90",
   "metadata": {},
   "outputs": [
    {
     "name": "stdin",
     "output_type": "stream",
     "text": [
      "Enter first number 10\n",
      "Enter second number 20\n"
     ]
    },
    {
     "data": {
      "text/plain": [
       "' the sum of two number is 30'"
      ]
     },
     "execution_count": 9,
     "metadata": {},
     "output_type": "execute_result"
    }
   ],
   "source": [
    "def add():\n",
    "    num1=int(input(\"Enter first number\"))\n",
    "    num2=int(input(\"Enter second number\"))\n",
    "    sum1=num1+num2\n",
    "    return f\" the sum of two number is {sum1}\"\n",
    "def calledfunc(fun):\n",
    "    val=fun()\n",
    "    return val\n",
    "calledfunc(add)"
   ]
  },
  {
   "cell_type": "code",
   "execution_count": 11,
   "id": "9ca62d92-c67e-4b01-8736-bb10be59a515",
   "metadata": {},
   "outputs": [
    {
     "data": {
      "text/plain": [
       "100"
      ]
     },
     "execution_count": 11,
     "metadata": {},
     "output_type": "execute_result"
    }
   ],
   "source": [
    "def addition(num):\n",
    "    return num+30\n",
    "def called_func(x):\n",
    "    sum2=70\n",
    "    return x(sum2)\n",
    "called_func(addition)"
   ]
  },
  {
   "cell_type": "code",
   "execution_count": 23,
   "id": "3b53e8a9-b9b7-465f-b865-e9c098c4ec09",
   "metadata": {},
   "outputs": [
    {
     "data": {
      "text/plain": [
       "'KARTIK'"
      ]
     },
     "execution_count": 23,
     "metadata": {},
     "output_type": "execute_result"
    }
   ],
   "source": [
    "def decoratorCase(val):\n",
    "    def text():\n",
    "        function=val()\n",
    "        textUpper=function.upper()\n",
    "        return textUpper\n",
    "    return text\n",
    "@decoratorCase\n",
    "def text1():\n",
    "    name=\"kartik\"\n",
    "    return name\n",
    "text1()"
   ]
  },
  {
   "cell_type": "code",
   "execution_count": 24,
   "id": "5a6a91c6-6609-4b6a-a904-e9e08c6b3cf6",
   "metadata": {},
   "outputs": [
    {
     "name": "stdin",
     "output_type": "stream",
     "text": [
      "Enter data Shivaji I (Shivaji Shahaji Bhonsale, Marathi pronunciation: [ʃiˈʋaːdʑiː ˈbʱos(ə)le]; c. 19 February 1630 – 3 April 1680)[6] was an Indian ruler and a member of the Bhonsle dynasty.[7] Shivaji carved out his own independent kingdom from the Sultanate of Bijapur that formed the genesis of the Maratha Empire. In 1674, he was formally crowned the Chhatrapati of his realm at Raigad Fort.[8]  Shivaji offered passage and his service to the Mughal emperor Aurangzeb to invade the declining Sultanate of Bijapur. After Aurangzeb's departure for the north due to a war of succession, Shivaji conquered territories ceded by Bijapur in the name of the Mughals.[9]: 63  Following his defeat at the hands of Jai Singh I in the Battle of Purandar, Shivaji entered into vassalage with the Mughal empire, assuming the role of a Mughal chief and was conferred with the title of Raja by Aurangzeb.[10] He undertook military expeditions on behalf of the Mughal Empire for a brief duration.[11] Over the course of his life, Shivaji engaged in both alliances and hostilities with the Mughal Empire, the Sultanate of Golconda, the Sultanate of Bijapur and the European colonial powers.\n"
     ]
    },
    {
     "data": {
      "text/plain": [
       "\"SHIVAJI I (SHIVAJI SHAHAJI BHONSALE, MARATHI PRONUNCIATION: [ƩIˈƲAːDʑIː ˈBʱOS(Ə)LE]; C.\\u200919 FEBRUARY 1630 – 3 APRIL 1680)[6] WAS AN INDIAN RULER AND A MEMBER OF THE BHONSLE DYNASTY.[7] SHIVAJI CARVED OUT HIS OWN INDEPENDENT KINGDOM FROM THE SULTANATE OF BIJAPUR THAT FORMED THE GENESIS OF THE MARATHA EMPIRE. IN 1674, HE WAS FORMALLY CROWNED THE CHHATRAPATI OF HIS REALM AT RAIGAD FORT.[8]  SHIVAJI OFFERED PASSAGE AND HIS SERVICE TO THE MUGHAL EMPEROR AURANGZEB TO INVADE THE DECLINING SULTANATE OF BIJAPUR. AFTER AURANGZEB'S DEPARTURE FOR THE NORTH DUE TO A WAR OF SUCCESSION, SHIVAJI CONQUERED TERRITORIES CEDED BY BIJAPUR IN THE NAME OF THE MUGHALS.[9]:\\u200a63\\u200a FOLLOWING HIS DEFEAT AT THE HANDS OF JAI SINGH I IN THE BATTLE OF PURANDAR, SHIVAJI ENTERED INTO VASSALAGE WITH THE MUGHAL EMPIRE, ASSUMING THE ROLE OF A MUGHAL CHIEF AND WAS CONFERRED WITH THE TITLE OF RAJA BY AURANGZEB.[10] HE UNDERTOOK MILITARY EXPEDITIONS ON BEHALF OF THE MUGHAL EMPIRE FOR A BRIEF DURATION.[11] OVER THE COURSE OF HIS LIFE, SHIVAJI ENGAGED IN BOTH ALLIANCES AND HOSTILITIES WITH THE MUGHAL EMPIRE, THE SULTANATE OF GOLCONDA, THE SULTANATE OF BIJAPUR AND THE EUROPEAN COLONIAL POWERS.\""
      ]
     },
     "execution_count": 24,
     "metadata": {},
     "output_type": "execute_result"
    }
   ],
   "source": [
    "@decoratorCase\n",
    "def text2():\n",
    "    data=input(\"Enter data\")\n",
    "    return data\n",
    "text2()"
   ]
  },
  {
   "cell_type": "code",
   "execution_count": 30,
   "id": "ceeb8cbe-1a27-44ab-8bbd-1dbaee7f5e84",
   "metadata": {},
   "outputs": [
    {
     "name": "stdin",
     "output_type": "stream",
     "text": [
      "Enter your data Shivaji I (Shivaji Shahaji Bhonsale, Marathi pronunciation: [ʃiˈʋaːdʑiː ˈbʱos(ə)le]; c. 19 February 1630 – 3 April 1680)[6] was an Indian ruler and a member of the Bhonsle dynasty.[7] Shivaji carved out his own independent kingdom from the Sultanate of Bijapur that formed the genesis of the Maratha Empire. In 1674, he was formally crowned the Chhatrapati of his realm at Raigad Fort.[8]  Shivaji offered passage and his service to the Mughal emperor Aurangzeb to invade the declining Sultanate of Bijapur. After Aurangzeb's departure for the north due to a war of succession, Shivaji conquered territories ceded by Bijapur in the name of the Mughals.[9]: 63  Following his defeat at the hands of Jai Singh I in the Battle of Purandar, Shivaji entered into vassalage with the Mughal empire, assuming the role of a Mughal chief and was conferred with the title of Raja by Aurangzeb.[10] He undertook military expeditions on behalf of the Mughal Empire for a brief duration.[11] Over the course of his life, Shivaji engaged in both alliances and hostilities with the Mughal Empire, the Sultanate of Golconda, the Sultanate of Bijapur and the European colonial powers.\n"
     ]
    },
    {
     "name": "stdout",
     "output_type": "stream",
     "text": [
      "_______________________________________________________________________________________________________________________________________\n",
      "Total charector in data is: ShivajiIShivajiShahajiBhonsaleMarathipronunciationʃiˈʋaːdʑiːˈbʱosəlecFebruaryAprilwasanIndianrulerandamemberoftheBhonsledynastyShivajicarvedouthisownindependentkingdomfromtheSultanateofBijapurthatformedthegenesisoftheMarathaEmpireInhewasformallycrownedtheChhatrapatiofhisrealmatRaigadFortShivajiofferedpassageandhisservicetotheMughalemperorAurangzebtoinvadethedecliningSultanateofBijapurAfterAurangzebsdepartureforthenorthduetoawarofsuccessionShivajiconqueredterritoriescededbyBijapurinthenameoftheMughalsFollowinghisdefeatatthehandsofJaiSinghIintheBattleofPurandarShivajienteredintovassalagewiththeMughalempireassumingtheroleofaMughalchiefandwasconferredwiththetitleofRajabyAurangzebHeundertookmilitaryexpeditionsonbehalfoftheMughalEmpireforabriefdurationOverthecourseofhislifeShivajiengagedinbothalliancesandhostilitieswiththeMughalEmpiretheSultanateofGolcondatheSultanateofBijapurandtheEuropeancolonialpowers\n",
      "Total digit in data is :1916303168067167489631011\n",
      "Total special charector in data is :(,:[()];.)[].[].,.[].',.[]:,,.[].[],,,.\n"
     ]
    }
   ],
   "source": [
    "# write a decorator to takes input from user and filter charector,digit and punctuation\n",
    "import string\n",
    "\n",
    "def textFilter(y1):\n",
    "    def text_digit():\n",
    "        userInput=input(\"Enter your data\")\n",
    "        char=\"\".join([i for i in userInput if i.isalpha()])\n",
    "        digit=\"\".join([x for x in userInput if x.isdigit()])\n",
    "        specialchar=\"\".join([y for y in userInput if y in string.punctuation ])\n",
    "        return y1(char,digit,specialchar)\n",
    "    return text_digit\n",
    "@textFilter\n",
    "def calledFunc_2(char,digit,specialchar):\n",
    "    print(\"_______________________________________________________________________________________________________________________________________\")\n",
    "    print(f\"Total charector in data is: {char}\")\n",
    "    print(f\"Total digit in data is :{digit}\")\n",
    "    print(f\"Total special charector in data is :{specialchar}\")\n",
    "calledFunc_2()"
   ]
  },
  {
   "cell_type": "code",
   "execution_count": 39,
   "id": "7d28d93f-1e32-402d-84b4-c90aa39d74b5",
   "metadata": {},
   "outputs": [
    {
     "name": "stdin",
     "output_type": "stream",
     "text": [
      "Enter your data Shivaji I (Shivaji Shahaji Bhonsale, Marathi pronunciation: [ʃiˈʋaːdʑiː ˈbʱos(ə)le]; c. 19 February 1630 – 3 April 1680)[6] was an Indian ruler and a member of the Bhonsle dynasty.[7] Shivaji carved out his own independent kingdom from the Sultanate of Bijapur that formed the genesis of the Maratha Empire. In 1674, he was formally crowned the Chhatrapati of his realm at Raigad Fort.[8]  Shivaji offered passage and his service to the Mughal emperor Aurangzeb to invade the declining Sultanate of Bijapur. After Aurangzeb's departure for the north due to a war of succession, Shivaji conquered territories ceded by Bijapur in the name of the Mughals.[9]: 63  Following his defeat at the hands of Jai Singh I in the Battle of Purandar, Shivaji entered into vassalage with the Mughal empire, assuming the role of a Mughal chief and was conferred with the title of Raja by Aurangzeb.[10] He undertook military expeditions on behalf of the Mughal Empire for a brief duration.[11] Over the course of his life, Shivaji engaged in both alliances and hostilities with the Mughal Empire, the Sultanate of Golconda, the Sultanate of Bijapur and the European colonial powers.\n"
     ]
    },
    {
     "name": "stdout",
     "output_type": "stream",
     "text": [
      " total charecter in data: ['S', 'h', 'i', 'v', 'a', 'j', 'i', 'I', 'S', 'h', 'i', 'v', 'a', 'j', 'i', 'S', 'h', 'a', 'h', 'a', 'j', 'i', 'B', 'h', 'o', 'n', 's', 'a', 'l', 'e', 'M', 'a', 'r', 'a', 't', 'h', 'i', 'p', 'r', 'o', 'n', 'u', 'n', 'c', 'i', 'a', 't', 'i', 'o', 'n', 'ʃ', 'i', 'ˈ', 'ʋ', 'a', 'ː', 'd', 'ʑ', 'i', 'ː', 'ˈ', 'b', 'ʱ', 'o', 's', 'ə', 'l', 'e', 'c', 'F', 'e', 'b', 'r', 'u', 'a', 'r', 'y', 'A', 'p', 'r', 'i', 'l', 'w', 'a', 's', 'a', 'n', 'I', 'n', 'd', 'i', 'a', 'n', 'r', 'u', 'l', 'e', 'r', 'a', 'n', 'd', 'a', 'm', 'e', 'm', 'b', 'e', 'r', 'o', 'f', 't', 'h', 'e', 'B', 'h', 'o', 'n', 's', 'l', 'e', 'd', 'y', 'n', 'a', 's', 't', 'y', 'S', 'h', 'i', 'v', 'a', 'j', 'i', 'c', 'a', 'r', 'v', 'e', 'd', 'o', 'u', 't', 'h', 'i', 's', 'o', 'w', 'n', 'i', 'n', 'd', 'e', 'p', 'e', 'n', 'd', 'e', 'n', 't', 'k', 'i', 'n', 'g', 'd', 'o', 'm', 'f', 'r', 'o', 'm', 't', 'h', 'e', 'S', 'u', 'l', 't', 'a', 'n', 'a', 't', 'e', 'o', 'f', 'B', 'i', 'j', 'a', 'p', 'u', 'r', 't', 'h', 'a', 't', 'f', 'o', 'r', 'm', 'e', 'd', 't', 'h', 'e', 'g', 'e', 'n', 'e', 's', 'i', 's', 'o', 'f', 't', 'h', 'e', 'M', 'a', 'r', 'a', 't', 'h', 'a', 'E', 'm', 'p', 'i', 'r', 'e', 'I', 'n', 'h', 'e', 'w', 'a', 's', 'f', 'o', 'r', 'm', 'a', 'l', 'l', 'y', 'c', 'r', 'o', 'w', 'n', 'e', 'd', 't', 'h', 'e', 'C', 'h', 'h', 'a', 't', 'r', 'a', 'p', 'a', 't', 'i', 'o', 'f', 'h', 'i', 's', 'r', 'e', 'a', 'l', 'm', 'a', 't', 'R', 'a', 'i', 'g', 'a', 'd', 'F', 'o', 'r', 't', 'S', 'h', 'i', 'v', 'a', 'j', 'i', 'o', 'f', 'f', 'e', 'r', 'e', 'd', 'p', 'a', 's', 's', 'a', 'g', 'e', 'a', 'n', 'd', 'h', 'i', 's', 's', 'e', 'r', 'v', 'i', 'c', 'e', 't', 'o', 't', 'h', 'e', 'M', 'u', 'g', 'h', 'a', 'l', 'e', 'm', 'p', 'e', 'r', 'o', 'r', 'A', 'u', 'r', 'a', 'n', 'g', 'z', 'e', 'b', 't', 'o', 'i', 'n', 'v', 'a', 'd', 'e', 't', 'h', 'e', 'd', 'e', 'c', 'l', 'i', 'n', 'i', 'n', 'g', 'S', 'u', 'l', 't', 'a', 'n', 'a', 't', 'e', 'o', 'f', 'B', 'i', 'j', 'a', 'p', 'u', 'r', 'A', 'f', 't', 'e', 'r', 'A', 'u', 'r', 'a', 'n', 'g', 'z', 'e', 'b', 's', 'd', 'e', 'p', 'a', 'r', 't', 'u', 'r', 'e', 'f', 'o', 'r', 't', 'h', 'e', 'n', 'o', 'r', 't', 'h', 'd', 'u', 'e', 't', 'o', 'a', 'w', 'a', 'r', 'o', 'f', 's', 'u', 'c', 'c', 'e', 's', 's', 'i', 'o', 'n', 'S', 'h', 'i', 'v', 'a', 'j', 'i', 'c', 'o', 'n', 'q', 'u', 'e', 'r', 'e', 'd', 't', 'e', 'r', 'r', 'i', 't', 'o', 'r', 'i', 'e', 's', 'c', 'e', 'd', 'e', 'd', 'b', 'y', 'B', 'i', 'j', 'a', 'p', 'u', 'r', 'i', 'n', 't', 'h', 'e', 'n', 'a', 'm', 'e', 'o', 'f', 't', 'h', 'e', 'M', 'u', 'g', 'h', 'a', 'l', 's', 'F', 'o', 'l', 'l', 'o', 'w', 'i', 'n', 'g', 'h', 'i', 's', 'd', 'e', 'f', 'e', 'a', 't', 'a', 't', 't', 'h', 'e', 'h', 'a', 'n', 'd', 's', 'o', 'f', 'J', 'a', 'i', 'S', 'i', 'n', 'g', 'h', 'I', 'i', 'n', 't', 'h', 'e', 'B', 'a', 't', 't', 'l', 'e', 'o', 'f', 'P', 'u', 'r', 'a', 'n', 'd', 'a', 'r', 'S', 'h', 'i', 'v', 'a', 'j', 'i', 'e', 'n', 't', 'e', 'r', 'e', 'd', 'i', 'n', 't', 'o', 'v', 'a', 's', 's', 'a', 'l', 'a', 'g', 'e', 'w', 'i', 't', 'h', 't', 'h', 'e', 'M', 'u', 'g', 'h', 'a', 'l', 'e', 'm', 'p', 'i', 'r', 'e', 'a', 's', 's', 'u', 'm', 'i', 'n', 'g', 't', 'h', 'e', 'r', 'o', 'l', 'e', 'o', 'f', 'a', 'M', 'u', 'g', 'h', 'a', 'l', 'c', 'h', 'i', 'e', 'f', 'a', 'n', 'd', 'w', 'a', 's', 'c', 'o', 'n', 'f', 'e', 'r', 'r', 'e', 'd', 'w', 'i', 't', 'h', 't', 'h', 'e', 't', 'i', 't', 'l', 'e', 'o', 'f', 'R', 'a', 'j', 'a', 'b', 'y', 'A', 'u', 'r', 'a', 'n', 'g', 'z', 'e', 'b', 'H', 'e', 'u', 'n', 'd', 'e', 'r', 't', 'o', 'o', 'k', 'm', 'i', 'l', 'i', 't', 'a', 'r', 'y', 'e', 'x', 'p', 'e', 'd', 'i', 't', 'i', 'o', 'n', 's', 'o', 'n', 'b', 'e', 'h', 'a', 'l', 'f', 'o', 'f', 't', 'h', 'e', 'M', 'u', 'g', 'h', 'a', 'l', 'E', 'm', 'p', 'i', 'r', 'e', 'f', 'o', 'r', 'a', 'b', 'r', 'i', 'e', 'f', 'd', 'u', 'r', 'a', 't', 'i', 'o', 'n', 'O', 'v', 'e', 'r', 't', 'h', 'e', 'c', 'o', 'u', 'r', 's', 'e', 'o', 'f', 'h', 'i', 's', 'l', 'i', 'f', 'e', 'S', 'h', 'i', 'v', 'a', 'j', 'i', 'e', 'n', 'g', 'a', 'g', 'e', 'd', 'i', 'n', 'b', 'o', 't', 'h', 'a', 'l', 'l', 'i', 'a', 'n', 'c', 'e', 's', 'a', 'n', 'd', 'h', 'o', 's', 't', 'i', 'l', 'i', 't', 'i', 'e', 's', 'w', 'i', 't', 'h', 't', 'h', 'e', 'M', 'u', 'g', 'h', 'a', 'l', 'E', 'm', 'p', 'i', 'r', 'e', 't', 'h', 'e', 'S', 'u', 'l', 't', 'a', 'n', 'a', 't', 'e', 'o', 'f', 'G', 'o', 'l', 'c', 'o', 'n', 'd', 'a', 't', 'h', 'e', 'S', 'u', 'l', 't', 'a', 'n', 'a', 't', 'e', 'o', 'f', 'B', 'i', 'j', 'a', 'p', 'u', 'r', 'a', 'n', 'd', 't', 'h', 'e', 'E', 'u', 'r', 'o', 'p', 'e', 'a', 'n', 'c', 'o', 'l', 'o', 'n', 'i', 'a', 'l', 'p', 'o', 'w', 'e', 'r', 's']\n",
      "total digit in data ['1', '9', '1', '6', '3', '0', '3', '1', '6', '8', '0', '6', '7', '1', '6', '7', '4', '8', '9', '6', '3', '1', '0', '1', '1']\n",
      " total special chareter in data: ['(', ',', ':', '[', '(', ')', ']', ';', '.', ')', '[', ']', '.', '[', ']', '.', ',', '.', '[', ']', '.', \"'\", ',', '.', '[', ']', ':', ',', ',', '.', '[', ']', '.', '[', ']', ',', ',', ',', '.']\n"
     ]
    }
   ],
   "source": [
    "def filterData(y2):\n",
    "    def kartik():\n",
    "        char=[]\n",
    "        digit=[]\n",
    "        specialchar=[]\n",
    "        data=input(\"Enter your data\")\n",
    "        for i in data:\n",
    "            if i.isalpha():\n",
    "               char.append(i)\n",
    "            elif i.isdigit():\n",
    "                digit.append(i)\n",
    "            elif i in string.punctuation:\n",
    "                specialchar.append(i)\n",
    "        return y2(char,digit,specialchar)\n",
    "    return kartik\n",
    "@filterData\n",
    "def text_digit2(char,digit,specialchar):\n",
    "    print(\" total charecter in data:\",char)\n",
    "    print(\"total digit in data\",digit)\n",
    "    print(\" total special chareter in data:\",specialchar)\n",
    "\n",
    "text_digit2()\n",
    "            "
   ]
  },
  {
   "cell_type": "code",
   "execution_count": null,
   "id": "52bef3b5-0134-4fb3-80df-560c1e8fc6e1",
   "metadata": {},
   "outputs": [],
   "source": [
    "                                                           "
   ]
  }
 ],
 "metadata": {
  "kernelspec": {
   "display_name": "Python 3 (ipykernel)",
   "language": "python",
   "name": "python3"
  },
  "language_info": {
   "codemirror_mode": {
    "name": "ipython",
    "version": 3
   },
   "file_extension": ".py",
   "mimetype": "text/x-python",
   "name": "python",
   "nbconvert_exporter": "python",
   "pygments_lexer": "ipython3",
   "version": "3.13.5"
  }
 },
 "nbformat": 4,
 "nbformat_minor": 5
}
