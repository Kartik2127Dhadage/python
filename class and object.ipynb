{
 "cells": [
  {
   "cell_type": "markdown",
   "id": "d8cfca19-9a26-45ec-b732-9e71cead5d5f",
   "metadata": {},
   "source": [
    "### class and objects \n",
    "\n",
    "* python is a object orianted programming language\n",
    "* unlike procedure orianted programming where the main enphasis is a function, object orianted programming stresses on objects\n",
    "* an objects is a simply collection of data(variables) and method(function) that acts on those data\n",
    "* similarly class is a blue print of that objects\n",
    "* like function defination beign with the def keyword in python ,class defination being with a class daifination \n",
    "* the first string inside the class is called docstring and has a brife discription of the class\n",
    "* althout not mandatory .this is highly recommended\n",
    "* syntax\n",
    "    * school_name=\"abc school\"\n",
    "    * def__init(self,name,age)\n",
    "        * self.name=name\n",
    "        * self.age=age\n",
    "* obj=student(\"kartik\",20)\n",
    "* obj.name\n",
    "* obj.age\n"
   ]
  },
  {
   "cell_type": "code",
   "execution_count": 5,
   "id": "1f81df63-4c0e-47a5-832d-420fc3c48e1a",
   "metadata": {},
   "outputs": [
    {
     "data": {
      "text/plain": [
       "__main__.Data"
      ]
     },
     "execution_count": 5,
     "metadata": {},
     "output_type": "execute_result"
    }
   ],
   "source": [
    "class Data:\n",
    "    num=12\n",
    "    num2=20\n",
    "Data"
   ]
  },
  {
   "cell_type": "code",
   "execution_count": 7,
   "id": "f046b0d4-20ce-4dbd-8deb-c7a5e142ad22",
   "metadata": {},
   "outputs": [
    {
     "name": "stdout",
     "output_type": "stream",
     "text": [
      "12\n"
     ]
    }
   ],
   "source": [
    "\n",
    "print(Data.num)"
   ]
  },
  {
   "cell_type": "code",
   "execution_count": 8,
   "id": "c01afb3a-0aae-4f71-bb5c-f2c38bdade97",
   "metadata": {},
   "outputs": [
    {
     "name": "stdout",
     "output_type": "stream",
     "text": [
      "20\n"
     ]
    }
   ],
   "source": [
    "print(Data.num2)"
   ]
  },
  {
   "cell_type": "code",
   "execution_count": 14,
   "id": "39fa7e42-7db8-4f8b-8d1d-b550bca7524f",
   "metadata": {},
   "outputs": [
    {
     "name": "stdout",
     "output_type": "stream",
     "text": [
      "kartik\n"
     ]
    }
   ],
   "source": [
    "class student:\n",
    "    def __init__(self,name,age,address):\n",
    "        self.name=name\n",
    "        self.age=age\n",
    "        self.address=address\n",
    "obj=student(\"kartik\",20,\"chincholi\")\n",
    "print(obj.name)"
   ]
  },
  {
   "cell_type": "code",
   "execution_count": 23,
   "id": "33c330a8-dde6-4c1f-9a57-560b34c6dae5",
   "metadata": {},
   "outputs": [
    {
     "name": "stdout",
     "output_type": "stream",
     "text": [
      "my name is :kartik\n",
      "my age is :20\n",
      "i live at :chincholi\n",
      "my name is :ruchika\n",
      "my age is :23\n",
      "i live at :chincholi\n"
     ]
    }
   ],
   "source": [
    "# print user datilas using class and object.\n",
    "class student:\n",
    "    def __init__(self,name,age,address):\n",
    "        self.name=name\n",
    "        self.age=age\n",
    "        self.address=address\n",
    "    def studentDetials(self):\n",
    "        print(f\"my name is :{self.name}\")\n",
    "        print(f\"my age is :{self.age}\")\n",
    "        print(f\"i live at :{self.address}\")\n",
    "obj1=student(\"kartik\",20,\"chincholi\")\n",
    "obj2=student(\"ruchika\",23,\"chincholi\")\n",
    "obj1.studentDetials()\n",
    "obj2.studentDetials()\n",
    "    "
   ]
  },
  {
   "cell_type": "code",
   "execution_count": 33,
   "id": "7b3bd71e-aadc-44c0-909e-c7b64a75f384",
   "metadata": {},
   "outputs": [
    {
     "name": "stdin",
     "output_type": "stream",
     "text": [
      "enter your name kartik\n",
      "enter your age 20\n",
      "enter your address chincholi\n",
      "enter your name ruchika\n",
      "enter your age 23\n",
      "enter your address chincholi\n"
     ]
    },
    {
     "name": "stdout",
     "output_type": "stream",
     "text": [
      "my name is :kartik\n",
      "my age is :20.0\n",
      "i live at :chincholi\n",
      "my name is :ruchika\n",
      "my age is :23.0\n",
      "i live at :chincholi\n"
     ]
    }
   ],
   "source": [
    "# write a program that takes input user deatials and print it\n",
    "class student:\n",
    "    def __init__(self):\n",
    "        self.name=input(\"enter your name\")\n",
    "        self.age=float(input(\"enter your age\"))\n",
    "        self.address=input(\"enter your address\")\n",
    "    def studentDetials(self):\n",
    "        print(f\"my name is :{self.name}\")\n",
    "        print(f\"my age is :{self.age}\")\n",
    "        print(f\"i live at :{self.address}\")\n",
    "obj1=student()\n",
    "obj2=student()\n",
    "obj1.studentDetials()\n",
    "obj2.studentDetials()\n",
    "    "
   ]
  },
  {
   "cell_type": "code",
   "execution_count": 31,
   "id": "a1455960-d0a1-4844-80b9-682076ac0dae",
   "metadata": {},
   "outputs": [
    {
     "name": "stdin",
     "output_type": "stream",
     "text": [
      "enter any number 5\n"
     ]
    },
    {
     "name": "stdout",
     "output_type": "stream",
     "text": [
      "the area of circle is :78.53981633974483\n",
      " circumferance of circle is:31.41592653589793\n"
     ]
    }
   ],
   "source": [
    "# write a program that takes input form user and calculate area of circle \n",
    "import math\n",
    "class circle:\n",
    "    def __init__(self):\n",
    "        self.radius=int(input(\"enter any number\"))\n",
    "    def areaCircle(self):\n",
    "        area=math.pi*self.radius*self.radius\n",
    "        print(f\"the area of circle is :{area}\")\n",
    "        circumferance=2*math.pi*self.radius\n",
    "        print(f\" circumferance of circle is:{circumferance}\")\n",
    "obj=circle()\n",
    "obj.areaCircle()\n",
    "        "
   ]
  },
  {
   "cell_type": "markdown",
   "id": "01baafdd-c6cf-4818-8ee8-3fb9788465e6",
   "metadata": {},
   "source": [
    "### self\n",
    "* this self parameter is a reference to the current  instance of the class ,and is used to access variable that belong to the class\n",
    "* it does not have to be named self.you can call it whatever youlike ,but it has to be the first parameter of any function in the class"
   ]
  },
  {
   "cell_type": "code",
   "execution_count": 38,
   "id": "6577f816-a91a-43f0-8f21-ee25c3dbcd38",
   "metadata": {},
   "outputs": [
    {
     "name": "stdin",
     "output_type": "stream",
     "text": [
      "enter triangle hight 5\n",
      "enter tringle base 6\n"
     ]
    },
    {
     "name": "stdout",
     "output_type": "stream",
     "text": [
      "area of triangle is:15.0\n"
     ]
    }
   ],
   "source": [
    "# write a program that takes input  hight of triangle and base of triangle and claculate area of triangle.\n",
    "class triangle:\n",
    "    def __init__(self):\n",
    "        self.h=float(input(\"enter triangle hight\"))\n",
    "        self.b=float(input(\"enter tringle base\"))\n",
    "    def areaTriangle(self):\n",
    "        area=(1/2)*self.h*self.b\n",
    "        print(f\"area of triangle is:{area}\")\n",
    "obj=triangle()\n",
    "obj.areaTriangle()"
   ]
  },
  {
   "cell_type": "code",
   "execution_count": 39,
   "id": "0f084157-f9d0-486f-9914-87e4ed3dd559",
   "metadata": {},
   "outputs": [
    {
     "name": "stdin",
     "output_type": "stream",
     "text": [
      "enter triangle hight 81\n",
      "enter tringle base 5\n"
     ]
    },
    {
     "name": "stdout",
     "output_type": "stream",
     "text": [
      "area of triangle is:202.5\n"
     ]
    }
   ],
   "source": [
    "obj=triangle()\n",
    "obj.areaTriangle()"
   ]
  },
  {
   "cell_type": "code",
   "execution_count": null,
   "id": "506e5186-851c-4749-8bb9-00602a07e856",
   "metadata": {},
   "outputs": [],
   "source": []
  }
 ],
 "metadata": {
  "kernelspec": {
   "display_name": "Python 3 (ipykernel)",
   "language": "python",
   "name": "python3"
  },
  "language_info": {
   "codemirror_mode": {
    "name": "ipython",
    "version": 3
   },
   "file_extension": ".py",
   "mimetype": "text/x-python",
   "name": "python",
   "nbconvert_exporter": "python",
   "pygments_lexer": "ipython3",
   "version": "3.13.5"
  }
 },
 "nbformat": 4,
 "nbformat_minor": 5
}
