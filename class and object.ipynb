{
 "cells": [
  {
   "cell_type": "markdown",
   "id": "d8cfca19-9a26-45ec-b732-9e71cead5d5f",
   "metadata": {},
   "source": [
    "### class and objects \n",
    "\n",
    "* python is a object orianted programming language\n",
    "* unlike procedure orianted programming where the main enphasis is a function, object orianted programming stresses on objects\n",
    "* an objects is a simply collection of data(variables) and method(function) that acts on those data\n",
    "* similarly class is a blue print of that objects\n",
    "* like function defination beign with the def keyword in python ,class defination being with a class daifination \n",
    "* the first string inside the class is called docstring and has a brife discription of the class\n",
    "* althout not mandatory .this is highly recommended\n",
    "* syntax\n",
    "    * school_name=\"abc school\"\n",
    "    * def__init(self,name,age)\n",
    "        * self.name=name\n",
    "        * self.age=age\n",
    "* obj=student(\"kartik\",20)\n",
    "* obj.name\n",
    "* obj.age\n"
   ]
  },
  {
   "cell_type": "code",
   "execution_count": 5,
   "id": "1f81df63-4c0e-47a5-832d-420fc3c48e1a",
   "metadata": {},
   "outputs": [
    {
     "data": {
      "text/plain": [
       "__main__.Data"
      ]
     },
     "execution_count": 5,
     "metadata": {},
     "output_type": "execute_result"
    }
   ],
   "source": [
    "class Data:\n",
    "    num=12\n",
    "    num2=20\n",
    "Data"
   ]
  },
  {
   "cell_type": "code",
   "execution_count": 7,
   "id": "f046b0d4-20ce-4dbd-8deb-c7a5e142ad22",
   "metadata": {},
   "outputs": [
    {
     "name": "stdout",
     "output_type": "stream",
     "text": [
      "12\n"
     ]
    }
   ],
   "source": [
    "\n",
    "print(Data.num)"
   ]
  },
  {
   "cell_type": "code",
   "execution_count": 8,
   "id": "c01afb3a-0aae-4f71-bb5c-f2c38bdade97",
   "metadata": {},
   "outputs": [
    {
     "name": "stdout",
     "output_type": "stream",
     "text": [
      "20\n"
     ]
    }
   ],
   "source": [
    "print(Data.num2)"
   ]
  },
  {
   "cell_type": "code",
   "execution_count": 14,
   "id": "39fa7e42-7db8-4f8b-8d1d-b550bca7524f",
   "metadata": {},
   "outputs": [
    {
     "name": "stdout",
     "output_type": "stream",
     "text": [
      "kartik\n"
     ]
    }
   ],
   "source": [
    "class student:\n",
    "    def __init__(self,name,age,address):\n",
    "        self.name=name\n",
    "        self.age=age\n",
    "        self.address=address\n",
    "obj=student(\"kartik\",20,\"chincholi\")\n",
    "print(obj.name)"
   ]
  },
  {
   "cell_type": "code",
   "execution_count": 23,
   "id": "33c330a8-dde6-4c1f-9a57-560b34c6dae5",
   "metadata": {},
   "outputs": [
    {
     "name": "stdout",
     "output_type": "stream",
     "text": [
      "my name is :kartik\n",
      "my age is :20\n",
      "i live at :chincholi\n",
      "my name is :ruchika\n",
      "my age is :23\n",
      "i live at :chincholi\n"
     ]
    }
   ],
   "source": [
    "# print user datilas using class and object.\n",
    "class student:\n",
    "    def __init__(self,name,age,address):\n",
    "        self.name=name\n",
    "        self.age=age\n",
    "        self.address=address\n",
    "    def studentDetials(self):\n",
    "        print(f\"my name is :{self.name}\")\n",
    "        print(f\"my age is :{self.age}\")\n",
    "        print(f\"i live at :{self.address}\")\n",
    "obj1=student(\"kartik\",20,\"chincholi\")\n",
    "obj2=student(\"ruchika\",23,\"chincholi\")\n",
    "obj1.studentDetials()\n",
    "obj2.studentDetials()\n",
    "    "
   ]
  },
  {
   "cell_type": "code",
   "execution_count": 33,
   "id": "7b3bd71e-aadc-44c0-909e-c7b64a75f384",
   "metadata": {},
   "outputs": [
    {
     "name": "stdin",
     "output_type": "stream",
     "text": [
      "enter your name kartik\n",
      "enter your age 20\n",
      "enter your address chincholi\n",
      "enter your name ruchika\n",
      "enter your age 23\n",
      "enter your address chincholi\n"
     ]
    },
    {
     "name": "stdout",
     "output_type": "stream",
     "text": [
      "my name is :kartik\n",
      "my age is :20.0\n",
      "i live at :chincholi\n",
      "my name is :ruchika\n",
      "my age is :23.0\n",
      "i live at :chincholi\n"
     ]
    }
   ],
   "source": [
    "# write a program that takes input user deatials and print it\n",
    "class student:\n",
    "    def __init__(self):\n",
    "        self.name=input(\"enter your name\")\n",
    "        self.age=float(input(\"enter your age\"))\n",
    "        self.address=input(\"enter your address\")\n",
    "    def studentDetials(self):\n",
    "        print(f\"my name is :{self.name}\")\n",
    "        print(f\"my age is :{self.age}\")\n",
    "        print(f\"i live at :{self.address}\")\n",
    "obj1=student()\n",
    "obj2=student()\n",
    "obj1.studentDetials()\n",
    "obj2.studentDetials()\n",
    "    "
   ]
  },
  {
   "cell_type": "code",
   "execution_count": 31,
   "id": "a1455960-d0a1-4844-80b9-682076ac0dae",
   "metadata": {},
   "outputs": [
    {
     "name": "stdin",
     "output_type": "stream",
     "text": [
      "enter any number 5\n"
     ]
    },
    {
     "name": "stdout",
     "output_type": "stream",
     "text": [
      "the area of circle is :78.53981633974483\n",
      " circumferance of circle is:31.41592653589793\n"
     ]
    }
   ],
   "source": [
    "# write a program that takes input form user and calculate area of circle \n",
    "import math\n",
    "class circle:\n",
    "    def __init__(self):\n",
    "        self.radius=int(input(\"enter any number\"))\n",
    "    def areaCircle(self):\n",
    "        area=math.pi*self.radius*self.radius\n",
    "        print(f\"the area of circle is :{area}\")\n",
    "        circumferance=2*math.pi*self.radius\n",
    "        print(f\" circumferance of circle is:{circumferance}\")\n",
    "obj=circle()\n",
    "obj.areaCircle()\n",
    "        "
   ]
  },
  {
   "cell_type": "markdown",
   "id": "01baafdd-c6cf-4818-8ee8-3fb9788465e6",
   "metadata": {},
   "source": [
    "### self\n",
    "* this self parameter is a reference to the current  instance of the class ,and is used to access variable that belong to the class\n",
    "* it does not have to be named self.you can call it whatever youlike ,but it has to be the first parameter of any function in the class"
   ]
  },
  {
   "cell_type": "code",
   "execution_count": 38,
   "id": "6577f816-a91a-43f0-8f21-ee25c3dbcd38",
   "metadata": {},
   "outputs": [
    {
     "name": "stdin",
     "output_type": "stream",
     "text": [
      "enter triangle hight 5\n",
      "enter tringle base 6\n"
     ]
    },
    {
     "name": "stdout",
     "output_type": "stream",
     "text": [
      "area of triangle is:15.0\n"
     ]
    }
   ],
   "source": [
    "# write a program that takes input  hight of triangle and base of triangle and claculate area of triangle.\n",
    "class triangle:\n",
    "    def __init__(self):\n",
    "        self.h=float(input(\"enter triangle hight\"))\n",
    "        self.b=float(input(\"enter tringle base\"))\n",
    "    def areaTriangle(self):\n",
    "        area=(1/2)*self.h*self.b\n",
    "        print(f\"area of triangle is:{area}\")\n",
    "obj=triangle()\n",
    "obj.areaTriangle()"
   ]
  },
  {
   "cell_type": "code",
   "execution_count": 39,
   "id": "0f084157-f9d0-486f-9914-87e4ed3dd559",
   "metadata": {},
   "outputs": [
    {
     "name": "stdin",
     "output_type": "stream",
     "text": [
      "enter triangle hight 81\n",
      "enter tringle base 5\n"
     ]
    },
    {
     "name": "stdout",
     "output_type": "stream",
     "text": [
      "area of triangle is:202.5\n"
     ]
    }
   ],
   "source": [
    "obj=triangle()\n",
    "obj.areaTriangle()"
   ]
  },
  {
   "cell_type": "code",
   "execution_count": 3,
   "id": "506e5186-851c-4749-8bb9-00602a07e856",
   "metadata": {},
   "outputs": [
    {
     "name": "stdin",
     "output_type": "stream",
     "text": [
      "enter your name here kartik\n",
      "enter your age here 20\n",
      "enter your contact number 74569324\n",
      "enter your address here pune\n"
     ]
    },
    {
     "name": "stdout",
     "output_type": "stream",
     "text": [
      "my name is kartik\n",
      "i am 20 old\n",
      " my contact number is 74569324 \n",
      "i live at pune\n",
      "kartik you can vote now\n"
     ]
    }
   ],
   "source": [
    "class student:\n",
    "    def __init__(self):\n",
    "        self.name=input(\"enter your name here\")\n",
    "        self.age=int(input(\"enter your age here\"))\n",
    "        self.contactno=input(\"enter your contact number\")\n",
    "        self.address=input(\"enter your address here\")\n",
    "    def studentdetails(self):\n",
    "        print(f\"my name is {self.name}\")\n",
    "        print(f\"i am {self.age} old\")\n",
    "        print(f\" my contact number is {self.contactno} \")\n",
    "        print(f\"i live at {self.address}\")\n",
    "        if self.age>18:\n",
    "            print(f\"{self.name} you can vote now\")\n",
    "        else:\n",
    "            print(\"you can not vote now\")\n",
    "obj=student()\n",
    "obj.studentdetails()\n",
    "        "
   ]
  },
  {
   "cell_type": "code",
   "execution_count": 5,
   "id": "70507cea-a745-4c81-aa52-77f7d1d5435c",
   "metadata": {},
   "outputs": [
    {
     "name": "stdin",
     "output_type": "stream",
     "text": [
      "enter your name kartik\n"
     ]
    },
    {
     "name": "stdout",
     "output_type": "stream",
     "text": [
      "vowels in a name ['a', 'i'] = 2\n",
      "consonant in a name ['k', 'r', 't', 'k'] = 4\n"
     ]
    }
   ],
   "source": [
    "# write a program to count vowel and consonant in user's name.\n",
    "class countalpha:\n",
    "    def __init__(self):\n",
    "        self.name1=input(\"enter your name\")\n",
    "        self.name=self.name1.replace(\" \",\"\")\n",
    "    def countvowcons(self):\n",
    "        if self.name.isalpha():\n",
    "            vowchar=[]\n",
    "            countvow=0\n",
    "            conschar=[]\n",
    "            countcons=0\n",
    "            vow=\"aeiouAEIOU\"\n",
    "            for i in range(len(self.name)):\n",
    "                if self.name[i] in vow:\n",
    "                    vowchar.append(self.name[i])\n",
    "                    countvow+=1\n",
    "                else:\n",
    "                    conschar.append(self.name[i])\n",
    "                    countcons+=1\n",
    "            print(\"vowels in a name\",vowchar,\"=\",countvow)\n",
    "            print(\"consonant in a name\",conschar,\"=\",countcons)\n",
    "obj=countalpha()\n",
    "obj.countvowcons()"
   ]
  },
  {
   "cell_type": "code",
   "execution_count": 39,
   "id": "7a25c861-149a-4154-9d9c-ee7082da4d9f",
   "metadata": {},
   "outputs": [
    {
     "name": "stdin",
     "output_type": "stream",
     "text": [
      "enter side 6\n"
     ]
    },
    {
     "name": "stdout",
     "output_type": "stream",
     "text": [
      "area of square is : 36\n",
      " perimter of square is : 24\n"
     ]
    }
   ],
   "source": [
    "# 1.write a programe to find the area of squre and their perimter.\n",
    "class square:\n",
    "    def __init__(self):\n",
    "        self.side=int(input(\"enter side\"))\n",
    "    def areasquare(self):\n",
    "        area=(self.side*self.side)\n",
    "        print(f\"area of square is : {area}\")\n",
    "        perimter=(4*self.side)\n",
    "        print(f\" perimter of square is : {perimter}\")\n",
    "obj1=square()\n",
    "obj1.areasquare()"
   ]
  },
  {
   "cell_type": "code",
   "execution_count": 15,
   "id": "1394259f-c2d3-4b0b-ab0b-9ed3edcd5490",
   "metadata": {},
   "outputs": [
    {
     "name": "stdin",
     "output_type": "stream",
     "text": [
      "enter length of ractangle 10\n",
      "enter width if ractangle 5\n"
     ]
    },
    {
     "name": "stdout",
     "output_type": "stream",
     "text": [
      "area of ractangle is : 50 units\n",
      "the perimter of ractangle is : 30 units\n"
     ]
    }
   ],
   "source": [
    "# 2 write a program to find area of ractangle and their perimter.\n",
    "class ractangle:\n",
    "    def __init__(self):\n",
    "        self.length=int(input(\"enter length of ractangle\"))\n",
    "        self.width=int(input(\"enter width if ractangle\"))\n",
    "    def areaRactangle(self):\n",
    "        area=(self.length*self.width)\n",
    "        print(f\"area of ractangle is : {area} units\")\n",
    "        perimter=(2*(self.length+self.width))\n",
    "        print(f\"the perimter of ractangle is : {perimter} units\")\n",
    "obj=ractangle()\n",
    "obj.areaRactangle()"
   ]
  },
  {
   "cell_type": "code",
   "execution_count": 18,
   "id": "7b28c083-ea49-4a10-a44a-7c202358d8d8",
   "metadata": {},
   "outputs": [
    {
     "name": "stdin",
     "output_type": "stream",
     "text": [
      "enter radius of circle 5\n"
     ]
    },
    {
     "name": "stdout",
     "output_type": "stream",
     "text": [
      " area of circle is : 78.53981633974483 units\n",
      " circumferance of circle is :31.41592653589793 units \n",
      " diameter of circle is : 10 units\n"
     ]
    }
   ],
   "source": [
    "# 3. write a program to find area of circle and circumferance and their daimeter.\n",
    "import math\n",
    "class circle:\n",
    "    def __init__(self):\n",
    "        self.radius=int(input(\"enter radius of circle\"))\n",
    "    def areacircle(self):\n",
    "        area=(math.pi*self.radius*self.radius)\n",
    "        print(f\" area of circle is : {area} units\")\n",
    "        circumferance=(2*math.pi*self.radius)\n",
    "        print(f\" circumferance of circle is :{circumferance} units \")\n",
    "        daimeter=2*self.radius\n",
    "        print(f\" diameter of circle is : {daimeter} units\")\n",
    "obj=circle()\n",
    "obj.areacircle()\n",
    "        "
   ]
  },
  {
   "cell_type": "code",
   "execution_count": 23,
   "id": "ec1ccedf-5172-4f6f-85a6-12c56062989b",
   "metadata": {},
   "outputs": [
    {
     "name": "stdin",
     "output_type": "stream",
     "text": [
      "enter side 1 54\n",
      "enter side 2 67\n",
      "enter side 3 98\n"
     ]
    },
    {
     "name": "stdout",
     "output_type": "stream",
     "text": [
      "the side of scalen triangle is : 109.5\n",
      " area of scalen triangle is : 1723.443047361879\n"
     ]
    }
   ],
   "source": [
    "#4.find the area of scalen triangle and their perimeter.\n",
    "import math\n",
    "class scalen:\n",
    "    def __init__(self):\n",
    "        self.side1=int(input('enter side 1'))\n",
    "        self.side2=int(input(\"enter side 2\"))\n",
    "        self.side3=int(input(\"enter side 3\"))\n",
    "    def areaScalen(self):\n",
    "        s=((self.side1+self.side2+self.side3)/2)\n",
    "        print(f\"the side of scalen triangle is : {s}\")\n",
    "        area=math.sqrt(s*(s-self.side1)*(s-self.side2)*(s-self.side3))\n",
    "        print(f\" area of scalen triangle is : {area}\")\n",
    "obj=scalen()\n",
    "obj.areaScalen()"
   ]
  },
  {
   "cell_type": "code",
   "execution_count": 25,
   "id": "8a748649-89f8-4f0f-af6f-23e94d1c7cd8",
   "metadata": {},
   "outputs": [
    {
     "name": "stdin",
     "output_type": "stream",
     "text": [
      "enter triangle side 7\n"
     ]
    },
    {
     "name": "stdout",
     "output_type": "stream",
     "text": [
      " area of equilatral triamgle is : 21.217622392718745 units\n",
      " perimeter of equilatral triangle is : 21\n"
     ]
    }
   ],
   "source": [
    "#5 find the area of equilatral triangle and their perimeter.\n",
    "import math\n",
    "class equilatral:\n",
    "    def __init__(self):\n",
    "        self.side=int(input(\"enter triangle side\"))\n",
    "    def areaEquilatral(self):\n",
    "        area=((math.sqrt(3)/4)*self.side*self.side)\n",
    "        print(f\" area of equilatral triamgle is : {area} units\")\n",
    "        perimeter=3*self.side\n",
    "        print(f\" perimeter of equilatral triangle is : {perimeter}\")\n",
    "obj=equilatral()\n",
    "obj.areaEquilatral()\n",
    "        "
   ]
  },
  {
   "cell_type": "code",
   "execution_count": 31,
   "id": "9d347a63-d256-42b8-a54b-65133ef062e3",
   "metadata": {},
   "outputs": [
    {
     "name": "stdin",
     "output_type": "stream",
     "text": [
      "enter base of right angle triangle 3\n",
      "enter hight of right angle triangle 4\n"
     ]
    },
    {
     "name": "stdout",
     "output_type": "stream",
     "text": [
      "5.0\n",
      "area of right angle triangle is 6.0\n",
      " peimeter of right angle triangle is :12.0\n"
     ]
    }
   ],
   "source": [
    "# 6 find the area of right angle triangle and their perimeter.\n",
    "import math\n",
    "class rightAngle:\n",
    "    def __init__(self):\n",
    "        self.base=int(input(\"enter base of right angle triangle\"))\n",
    "        self.hight=int(input(\"enter hight of right angle triangle\"))\n",
    "        self.hypotenuse=math.sqrt(self.base**2+self.hight**2)\n",
    "        print(self.hypotenuse)\n",
    "    def areaRightangle(self):\n",
    "        area=((1/2)*self.base*self.hight)\n",
    "        print(f\"area of right angle triangle is {area}\")\n",
    "        perimeter=(self.base+self.hight+self.hypotenuse)\n",
    "        print(f\" peimeter of right angle triangle is :{perimeter}\")\n",
    "obj=rightAngle()\n",
    "obj.areaRightangle()"
   ]
  },
  {
   "cell_type": "code",
   "execution_count": 33,
   "id": "6a968124-66b7-46a4-a1b8-ad42750da6cd",
   "metadata": {},
   "outputs": [
    {
     "name": "stdin",
     "output_type": "stream",
     "text": [
      "enter a length of side  5\n",
      "enter a length of diagonal 6\n",
      "enter a length of diagonal 8\n"
     ]
    },
    {
     "name": "stdout",
     "output_type": "stream",
     "text": [
      "area of rhombus is : 24.0\n",
      " peimeter of rhombus is :20 \n"
     ]
    }
   ],
   "source": [
    "# 7. find the area of rhombus and thire perimeter.\n",
    "class rhombus:\n",
    "    def __init__(self):\n",
    "        self.side=int(input(\"enter a length of side \"))\n",
    "        self.diagonal1=int(input(\"enter a length of diagonal\"))\n",
    "        self.diagonal2=int(input(\"enter a length of diagonal\"))\n",
    "    def areaRhombus(self):\n",
    "        area=((1/2)*self.diagonal1*self.diagonal2)\n",
    "        print(f\"area of rhombus is : {area}\")\n",
    "        perimeter=4*self.side\n",
    "        print(f\" peimeter of rhombus is :{perimeter} \")\n",
    "obj=rhombus()\n",
    "obj.areaRhombus()"
   ]
  },
  {
   "cell_type": "code",
   "execution_count": 36,
   "id": "ba2e4ceb-ee82-4f7a-bf01-a9bf3be009f7",
   "metadata": {},
   "outputs": [
    {
     "name": "stdin",
     "output_type": "stream",
     "text": [
      "enter a lenght of two equle side 5\n",
      "enter a length of base 6\n"
     ]
    },
    {
     "name": "stdout",
     "output_type": "stream",
     "text": [
      "area of isosclase is : 12.0\n",
      "perimeter of isosclase is : 16\n"
     ]
    }
   ],
   "source": [
    "# 8. find the area of isosclase triangle and thire perimeter .\n",
    "import math\n",
    "class isosclase:\n",
    "    def __init__(self):\n",
    "        self.side=int(input(\"enter a lenght of two equle side\"))\n",
    "        self.base=int(input(\"enter a length of base\"))\n",
    "        self.hight=math.sqrt((self.side**2)-((self.base/2)**2))\n",
    "    def areaIsosclase(self):\n",
    "        area=((1/2)*self.base*self.hight)\n",
    "        print(f\"area of isosclase is : {area}\")\n",
    "        perimeter=(2*self.side)+self.base\n",
    "        print(f\"perimeter of isosclase is : {perimeter}\")\n",
    "obj=isosclase()\n",
    "obj.areaIsosclase()"
   ]
  },
  {
   "cell_type": "code",
   "execution_count": 37,
   "id": "d0126f06-e99a-4d65-a294-7429ee2a7277",
   "metadata": {},
   "outputs": [
    {
     "name": "stdin",
     "output_type": "stream",
     "text": [
      "enter the length of base 10\n",
      "enter the length of side 6\n",
      "enter the length of hight 4\n"
     ]
    },
    {
     "name": "stdout",
     "output_type": "stream",
     "text": [
      " the area of parellelogram is : 40\n",
      " the perimeter of parellelogram is : 32\n"
     ]
    }
   ],
   "source": [
    "# 9.area of parellelogram and thire perimeter.\n",
    "class parellelogram:\n",
    "    def __init__(self):\n",
    "        self.base=int(input(\"enter the length of base\"))\n",
    "        self.side=int(input(\"enter the length of side\"))\n",
    "        self.hight=int(input(\"enter the length of hight\"))\n",
    "    def areaParellelogram(self):\n",
    "        area=self.base*self.hight\n",
    "        print(f\" the area of parellelogram is : {area}\")\n",
    "        perimeter=2*(self.base+self.side)\n",
    "        print(f\" the perimeter of parellelogram is : {perimeter}\")\n",
    "obj=parellelogram()\n",
    "obj.areaParellelogram()"
   ]
  },
  {
   "cell_type": "code",
   "execution_count": 40,
   "id": "90dacc3e-e268-4d82-ad74-ee452973c865",
   "metadata": {},
   "outputs": [
    {
     "name": "stdin",
     "output_type": "stream",
     "text": [
      "enter a length of base 8\n",
      "enter a length of other base 5\n",
      "enter a length of hight 4\n",
      "enter a length of side1 not parallel to side side 2 3\n",
      "enter a length of side2  4\n"
     ]
    },
    {
     "name": "stdout",
     "output_type": "stream",
     "text": [
      "area of trapezium is : 26.0\n",
      " perimeter of trapezium is : 20\n"
     ]
    }
   ],
   "source": [
    "# 10. find the area of trapezium and their paremeter.\n",
    "class trapezium:\n",
    "    def __init__(self):\n",
    "        self.base=int(input(\"enter a length of base\"))\n",
    "        self.base2=int(input(\"enter a length of other base\"))\n",
    "        self.hight=int(input(\"enter a length of hight\"))\n",
    "        self.side1=int(input(\"enter a length of side1 not parallel to side side 2\"))\n",
    "        self.side2=int(input(\"enter a length of side2 \"))\n",
    "    def areaTapezium(self):\n",
    "        area=((1/2)*(self.base+self.base2)*self.hight)\n",
    "        print(f\"area of trapezium is : {area}\")\n",
    "        perimeter=self.base+self.base2+self.side1+self.side2\n",
    "        print(f\" perimeter of trapezium is : {perimeter}\")\n",
    "obj=trapezium()\n",
    "obj.areaTapezium()\n",
    "\n"
   ]
  },
  {
   "cell_type": "code",
   "execution_count": 45,
   "id": "6f1fdab1-0020-41d2-ab80-b278f9103053",
   "metadata": {},
   "outputs": [
    {
     "name": "stdin",
     "output_type": "stream",
     "text": [
      "enter a length of one edge of cube 4\n"
     ]
    },
    {
     "name": "stdout",
     "output_type": "stream",
     "text": [
      "surface area of cube is : 96\n",
      "valume of cube is: 64\n",
      "perimeter of cube is : 48\n"
     ]
    }
   ],
   "source": [
    "#11. find the area of cube and their pparimeter.\n",
    "class cube:\n",
    "    def __init__(self):\n",
    "        self.edge=int(input(\"enter a length of one edge of cube\"))\n",
    "    def areaCube(self):\n",
    "        surfacearea=6*(self.edge**2)\n",
    "        print(f\"surface area of cube is : {surfacearea}\")\n",
    "        valume=self.edge**3\n",
    "        print(f\"valume of cube is: {valume}\")\n",
    "        perimeter=12*self.edge\n",
    "        print(f\"perimeter of cube is : {perimeter}\")\n",
    "obj=cube()\n",
    "obj.areaCube()"
   ]
  },
  {
   "cell_type": "code",
   "execution_count": 46,
   "id": "60615524-45d2-418e-9789-3540624812f4",
   "metadata": {},
   "outputs": [
    {
     "name": "stdin",
     "output_type": "stream",
     "text": [
      "enter a length 5\n",
      "enter a breadth 3\n",
      "enter a hight 2\n"
     ]
    },
    {
     "name": "stdout",
     "output_type": "stream",
     "text": [
      "surface area of cuboid is : 62\n",
      "valume of cuboid is : 30\n",
      "the perimeter of cuboid is : 40\n"
     ]
    }
   ],
   "source": [
    "#12. find area of cuboid and perimeter.\n",
    "class cuboid:\n",
    "    def __init__(self):\n",
    "        self.length=int(input(\"enter a length\"))\n",
    "        self.breadth=int(input(\"enter a breadth\"))\n",
    "        self.hight=int(input(\"enter a hight\"))\n",
    "    def areaCuboid(self):\n",
    "        surfacearea=2*((self.length*self.breadth)+(self.breadth*self.hight)+(self.hight*self.length))\n",
    "        print(f\"surface area of cuboid is : {surfacearea}\")\n",
    "        valume=(self.length*self.breadth*self.hight)\n",
    "        print(f\"valume of cuboid is : {valume}\")\n",
    "        perimeter=4*(self.length+self.hight+self.breadth)\n",
    "        print(f\"the perimeter of cuboid is : {perimeter}\")\n",
    "obj=cuboid()\n",
    "obj.areaCuboid()"
   ]
  },
  {
   "cell_type": "code",
   "execution_count": 48,
   "id": "dc051dcb-fe7a-4bd7-b7dd-4bc46022ecb0",
   "metadata": {},
   "outputs": [
    {
     "name": "stdin",
     "output_type": "stream",
     "text": [
      "enter a radius  5\n"
     ]
    },
    {
     "name": "stdout",
     "output_type": "stream",
     "text": [
      "the surface area of sphare is :314.1592653589793\n",
      "the valume of sphare is :523.5987755982989\n"
     ]
    }
   ],
   "source": [
    "#13. find the surfsce area of sphare and valume.\n",
    "import math\n",
    "class sphare:\n",
    "    def __init__(self):\n",
    "        self.radius=int(input(\"enter a radius \"))\n",
    "    def areaSphare(self):\n",
    "        surfacearea=4*(math.pi)*(self.radius**2)\n",
    "        print(f\"the surface area of sphare is :{surfacearea}\")\n",
    "        valume=(4/3)*math.pi*(self.radius**3)\n",
    "        print(f\"the valume of sphare is :{valume}\")\n",
    "obj=sphare()\n",
    "obj.areaSphare()"
   ]
  },
  {
   "cell_type": "code",
   "execution_count": 49,
   "id": "4fca7f97-c132-49c8-bceb-a25b50b3ce3c",
   "metadata": {},
   "outputs": [
    {
     "name": "stdin",
     "output_type": "stream",
     "text": [
      "enter a radius 3\n"
     ]
    },
    {
     "name": "stdout",
     "output_type": "stream",
     "text": [
      " surface area of hemisphere 84.82300164692441\n",
      "the valume of hemisphere is :56.54866776461627\n"
     ]
    }
   ],
   "source": [
    "#14. find the area of henisphera and parimeter.\n",
    "import math\n",
    "class hemisphere:\n",
    "    def __init__(self):\n",
    "        self.radius=int(input(\"enter a radius\"))\n",
    "    def areaHemisphere(self):\n",
    "        totalsurfacearea=3*math.pi*(self.radius**2)\n",
    "        print(\" surface area of hemisphere\",totalsurfacearea)\n",
    "        valume=(2/3)*math.pi*(self.radius**3)\n",
    "        print(f\"the valume of hemisphere is :{valume}\")\n",
    "obj=hemisphere()\n",
    "obj.areaHemisphere()"
   ]
  },
  {
   "cell_type": "code",
   "execution_count": 52,
   "id": "4f3f3197-70bf-4268-b6b7-5b519d742603",
   "metadata": {},
   "outputs": [
    {
     "name": "stdin",
     "output_type": "stream",
     "text": [
      "enter a radius 3\n",
      "enter a hight 5\n"
     ]
    },
    {
     "name": "stdout",
     "output_type": "stream",
     "text": [
      " area of cylinder is  150.79644737231007\n",
      " valume of cylinder is :141.3716694115407\n"
     ]
    }
   ],
   "source": [
    "# 15. find the area of cylinder and their valume.\n",
    "import math\n",
    "class cylinder:\n",
    "    def __init__(self):\n",
    "        self.radius=int(input(\"enter a radius\"))\n",
    "        self.hight=int(input(\"enter a hight\"))\n",
    "    def areaCylinder(self):\n",
    "        area=2*(math.pi)*self.radius*(self.radius+self.hight)\n",
    "        print(\" area of cylinder is \",area)\n",
    "        valume=math.pi*(self.radius**2)*self.hight\n",
    "        print(f\" valume of cylinder is :{valume}\")\n",
    "obj=cylinder()\n",
    "obj.areaCylinder()"
   ]
  },
  {
   "cell_type": "code",
   "execution_count": 53,
   "id": "6b7fd918-2166-4864-8321-2a1dc1fb9c93",
   "metadata": {},
   "outputs": [
    {
     "name": "stdin",
     "output_type": "stream",
     "text": [
      "enter a radius 3\n",
      "enter a hight 4\n",
      "enter a length 5\n"
     ]
    },
    {
     "name": "stdout",
     "output_type": "stream",
     "text": [
      "area of cone is : 75.39822368615503\n",
      "valume of the cone is : 37.69911184307752\n"
     ]
    }
   ],
   "source": [
    "#16. find the area of cone and their valume.\n",
    "import math\n",
    "class cone:\n",
    "    def __init__(self):\n",
    "        self.radius=int(input(\"enter a radius\"))\n",
    "        self.hight=int(input(\"enter a hight\"))\n",
    "        self.length=int(input(\"enter a length\"))\n",
    "    def areaCone(self):\n",
    "        area=math.pi*(self.radius)*(self.length+self.radius)\n",
    "        print(f\"area of cone is : {area}\")\n",
    "        valume=(1/3)*math.pi*(self.radius**2)*self.hight\n",
    "        print(f\"valume of the cone is : {valume}\")\n",
    "obj=cone()\n",
    "obj.areaCone()"
   ]
  },
  {
   "cell_type": "code",
   "execution_count": null,
   "id": "774f2dbd-2b62-430e-b28b-21b2275f0ebb",
   "metadata": {},
   "outputs": [],
   "source": []
  }
 ],
 "metadata": {
  "kernelspec": {
   "display_name": "Python 3 (ipykernel)",
   "language": "python",
   "name": "python3"
  },
  "language_info": {
   "codemirror_mode": {
    "name": "ipython",
    "version": 3
   },
   "file_extension": ".py",
   "mimetype": "text/x-python",
   "name": "python",
   "nbconvert_exporter": "python",
   "pygments_lexer": "ipython3",
   "version": "3.13.5"
  }
 },
 "nbformat": 4,
 "nbformat_minor": 5
}
