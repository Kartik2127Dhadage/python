{
 "cells": [
  {
   "cell_type": "markdown",
   "id": "88497536-2ad0-4e70-ac8b-f381a84c99b1",
   "metadata": {},
   "source": [
    "### loops in python \n",
    "* a for loop is used for itearing over a sequence (that is either a list a tuple,a dictionry,a set,a string ).\n",
    "* this is less like the for keyword in other proramming language and workes more like an iterator method as found in other object orinted programming language.\n",
    "* with the for loop we can excute a set of statement once for each item i a list .\n",
    "    * tupel, set,etc....\n",
    "* the for loop does not required an indecxing variable to set befarehnd.\n",
    "* whith the while loop we can execute a set of statement as long as a condition is true.\n",
    "\n",
    "* note: \n",
    "    * rember to increment i or else the loop wil continue loop.\n",
    "    * the while loop required relavent variable to be ready , in this example we need to define an indecxing variable i, which we set to 1."
   ]
  },
  {
   "cell_type": "markdown",
   "id": "e558788d-63e2-4d9e-954f-90b7ceac03a3",
   "metadata": {},
   "source": [
    "## range() function\n",
    "* it is helpful to think of the range object as an orderd list.\n",
    "* to loop through a set of code a specified number of time we can use the range() function.\n",
    "* the range() function returns a sequence of number, starting form 0 by defult and increment by 1 by defult and endes at a specifide number.\n"
   ]
  },
  {
   "cell_type": "code",
   "execution_count": 2,
   "id": "fec0861f-cb99-42e6-b455-7fd230bb24d5",
   "metadata": {},
   "outputs": [
    {
     "name": "stdout",
     "output_type": "stream",
     "text": [
      "hello world\n",
      "hello world\n",
      "hello world\n",
      "hello world\n",
      "hello world\n",
      "hello world\n",
      "hello world\n",
      "hello world\n",
      "hello world\n",
      "hello world\n",
      "hello world\n",
      "hello world\n",
      "hello world\n",
      "hello world\n",
      "hello world\n",
      "hello world\n",
      "hello world\n",
      "hello world\n",
      "hello world\n",
      "hello world\n",
      "hello world\n",
      "hello world\n",
      "hello world\n",
      "hello world\n",
      "hello world\n",
      "hello world\n",
      "hello world\n",
      "hello world\n",
      "hello world\n",
      "hello world\n",
      "hello world\n",
      "hello world\n",
      "hello world\n",
      "hello world\n",
      "hello world\n",
      "hello world\n",
      "hello world\n",
      "hello world\n",
      "hello world\n",
      "hello world\n",
      "hello world\n",
      "hello world\n",
      "hello world\n",
      "hello world\n",
      "hello world\n",
      "hello world\n",
      "hello world\n",
      "hello world\n",
      "hello world\n",
      "hello world\n",
      "hello world\n",
      "hello world\n",
      "hello world\n",
      "hello world\n",
      "hello world\n",
      "hello world\n",
      "hello world\n",
      "hello world\n",
      "hello world\n",
      "hello world\n",
      "hello world\n",
      "hello world\n",
      "hello world\n",
      "hello world\n",
      "hello world\n",
      "hello world\n",
      "hello world\n",
      "hello world\n",
      "hello world\n",
      "hello world\n",
      "hello world\n",
      "hello world\n",
      "hello world\n",
      "hello world\n",
      "hello world\n",
      "hello world\n",
      "hello world\n",
      "hello world\n",
      "hello world\n",
      "hello world\n",
      "hello world\n",
      "hello world\n",
      "hello world\n",
      "hello world\n",
      "hello world\n",
      "hello world\n",
      "hello world\n",
      "hello world\n",
      "hello world\n",
      "hello world\n",
      "hello world\n",
      "hello world\n",
      "hello world\n",
      "hello world\n",
      "hello world\n",
      "hello world\n",
      "hello world\n",
      "hello world\n",
      "hello world\n"
     ]
    }
   ],
   "source": [
    "for i in range(1,100):\n",
    "    print(\"hello world\")"
   ]
  },
  {
   "cell_type": "code",
   "execution_count": 10,
   "id": "d1dc2cc7-ec37-4365-9d09-d77c5e6fe0c3",
   "metadata": {},
   "outputs": [
    {
     "name": "stdout",
     "output_type": "stream",
     "text": [
      "55\n"
     ]
    }
   ],
   "source": [
    "sum1=0\n",
    "for i in range(1,11):\n",
    "    sum1=sum1+i\n",
    "print(sum1)"
   ]
  },
  {
   "cell_type": "code",
   "execution_count": 12,
   "id": "92a928d5-4ee4-4264-a167-5936e06edcd5",
   "metadata": {},
   "outputs": [
    {
     "name": "stdout",
     "output_type": "stream",
     "text": [
      "sum of 10 even number is 110\n"
     ]
    }
   ],
   "source": [
    "even=0\n",
    "for x in range(0,21):\n",
    "    if x%2==0:\n",
    "        even+=x\n",
    "print(\"sum of 10 even number is\",even)"
   ]
  },
  {
   "cell_type": "code",
   "execution_count": 13,
   "id": "7984da45-3d52-48a8-bf30-5288d9b5089f",
   "metadata": {},
   "outputs": [
    {
     "name": "stdout",
     "output_type": "stream",
     "text": [
      "sum of 20 odd number is  361\n"
     ]
    }
   ],
   "source": [
    "odd=0\n",
    "for num in range(0,38):\n",
    "    if num%2!=0:\n",
    "        odd+=num\n",
    "print(\"sum of 20 odd number is \",odd)"
   ]
  },
  {
   "cell_type": "code",
   "execution_count": 18,
   "id": "22054b68-af13-4f77-a17d-839bf8d59f4b",
   "metadata": {},
   "outputs": [
    {
     "name": "stdin",
     "output_type": "stream",
     "text": [
      "enter your name kartik\n"
     ]
    },
    {
     "name": "stdout",
     "output_type": "stream",
     "text": [
      "total charector in your name 6\n"
     ]
    }
   ],
   "source": [
    "name=input(\"enter your name\")\n",
    "count=0\n",
    "for i in name:\n",
    "    count+=1\n",
    "print(\"total charector in your name\",count)"
   ]
  },
  {
   "cell_type": "code",
   "execution_count": 20,
   "id": "e2554ffc-f2a3-4b65-aa80-aee7ee7cbdce",
   "metadata": {},
   "outputs": [
    {
     "name": "stdout",
     "output_type": "stream",
     "text": [
      "6 * 1 = 6\n",
      "6 * 2 = 12\n",
      "6 * 3 = 18\n",
      "6 * 4 = 24\n",
      "6 * 5 = 30\n",
      "6 * 6 = 36\n",
      "6 * 7 = 42\n",
      "6 * 8 = 48\n",
      "6 * 9 = 54\n",
      "6 * 10 = 60\n"
     ]
    }
   ],
   "source": [
    "for i in range(1,11):\n",
    "    print(6,\"*\",i,\"=\",6*i)"
   ]
  },
  {
   "cell_type": "code",
   "execution_count": 31,
   "id": "fe4c4edd-4c93-4bbe-99d5-bb9d3b5adfec",
   "metadata": {},
   "outputs": [
    {
     "name": "stdin",
     "output_type": "stream",
     "text": [
      "enter any value 4\n"
     ]
    },
    {
     "name": "stdout",
     "output_type": "stream",
     "text": [
      "4x1=4\n",
      "4x2=8\n",
      "4x3=12\n",
      "4x4=16\n",
      "4x5=20\n",
      "4x6=24\n",
      "4x7=28\n",
      "4x8=32\n",
      "4x9=36\n",
      "4x10=40\n"
     ]
    }
   ],
   "source": [
    "num=int(input(\"enter any value\"))\n",
    "for i in range(1,11):\n",
    "    print(\"%dx%d=%d\"%(num,i,num*i))"
   ]
  },
  {
   "cell_type": "code",
   "execution_count": 33,
   "id": "82563f7d-60de-4545-97f5-d82f5de8ae06",
   "metadata": {},
   "outputs": [
    {
     "name": "stdin",
     "output_type": "stream",
     "text": [
      "enter any value 6\n"
     ]
    },
    {
     "name": "stdout",
     "output_type": "stream",
     "text": [
      "6*1=6\n",
      "6*2=12\n",
      "6*3=18\n",
      "6*4=24\n",
      "6*5=30\n",
      "6*6=36\n",
      "6*7=42\n",
      "6*8=48\n",
      "6*9=54\n",
      "6*10=60\n"
     ]
    }
   ],
   "source": [
    "n=int(input(\"enter any value\"))\n",
    "for i in range(1,11):\n",
    "    print(\"{}*{}={}\".format(n,i,n*i))"
   ]
  },
  {
   "cell_type": "code",
   "execution_count": 35,
   "id": "d5602db2-8df7-4b90-a9c8-65d68203e611",
   "metadata": {},
   "outputs": [
    {
     "name": "stdin",
     "output_type": "stream",
     "text": [
      "enter any number 7\n"
     ]
    },
    {
     "name": "stdout",
     "output_type": "stream",
     "text": [
      "7*1=7\n",
      "7*2=14\n",
      "7*3=21\n",
      "7*4=28\n",
      "7*5=35\n",
      "7*6=42\n",
      "7*7=49\n",
      "7*8=56\n",
      "7*9=63\n",
      "7*10=70\n"
     ]
    }
   ],
   "source": [
    "m=int(input(\"enter any number\"))\n",
    "for i in range(1,11):\n",
    "    print(f\"{m}*{i}={m*i}\")"
   ]
  },
  {
   "cell_type": "code",
   "execution_count": 36,
   "id": "a16084de-96f5-48c7-8201-35ba07241947",
   "metadata": {},
   "outputs": [
    {
     "name": "stdout",
     "output_type": "stream",
     "text": [
      "\n",
      "\n",
      "1*1=1\n",
      "1*2=2\n",
      "1*3=3\n",
      "1*4=4\n",
      "1*5=5\n",
      "1*6=6\n",
      "1*7=7\n",
      "1*8=8\n",
      "1*9=9\n",
      "1*10=10\n",
      "\n",
      "\n",
      "2*1=2\n",
      "2*2=4\n",
      "2*3=6\n",
      "2*4=8\n",
      "2*5=10\n",
      "2*6=12\n",
      "2*7=14\n",
      "2*8=16\n",
      "2*9=18\n",
      "2*10=20\n",
      "\n",
      "\n",
      "3*1=3\n",
      "3*2=6\n",
      "3*3=9\n",
      "3*4=12\n",
      "3*5=15\n",
      "3*6=18\n",
      "3*7=21\n",
      "3*8=24\n",
      "3*9=27\n",
      "3*10=30\n",
      "\n",
      "\n",
      "4*1=4\n",
      "4*2=8\n",
      "4*3=12\n",
      "4*4=16\n",
      "4*5=20\n",
      "4*6=24\n",
      "4*7=28\n",
      "4*8=32\n",
      "4*9=36\n",
      "4*10=40\n",
      "\n",
      "\n",
      "5*1=5\n",
      "5*2=10\n",
      "5*3=15\n",
      "5*4=20\n",
      "5*5=25\n",
      "5*6=30\n",
      "5*7=35\n",
      "5*8=40\n",
      "5*9=45\n",
      "5*10=50\n",
      "\n",
      "\n",
      "6*1=6\n",
      "6*2=12\n",
      "6*3=18\n",
      "6*4=24\n",
      "6*5=30\n",
      "6*6=36\n",
      "6*7=42\n",
      "6*8=48\n",
      "6*9=54\n",
      "6*10=60\n",
      "\n",
      "\n",
      "7*1=7\n",
      "7*2=14\n",
      "7*3=21\n",
      "7*4=28\n",
      "7*5=35\n",
      "7*6=42\n",
      "7*7=49\n",
      "7*8=56\n",
      "7*9=63\n",
      "7*10=70\n",
      "\n",
      "\n",
      "8*1=8\n",
      "8*2=16\n",
      "8*3=24\n",
      "8*4=32\n",
      "8*5=40\n",
      "8*6=48\n",
      "8*7=56\n",
      "8*8=64\n",
      "8*9=72\n",
      "8*10=80\n",
      "\n",
      "\n",
      "9*1=9\n",
      "9*2=18\n",
      "9*3=27\n",
      "9*4=36\n",
      "9*5=45\n",
      "9*6=54\n",
      "9*7=63\n",
      "9*8=72\n",
      "9*9=81\n",
      "9*10=90\n",
      "\n",
      "\n",
      "10*1=10\n",
      "10*2=20\n",
      "10*3=30\n",
      "10*4=40\n",
      "10*5=50\n",
      "10*6=60\n",
      "10*7=70\n",
      "10*8=80\n",
      "10*9=90\n",
      "10*10=100\n",
      "\n",
      "\n",
      "11*1=11\n",
      "11*2=22\n",
      "11*3=33\n",
      "11*4=44\n",
      "11*5=55\n",
      "11*6=66\n",
      "11*7=77\n",
      "11*8=88\n",
      "11*9=99\n",
      "11*10=110\n",
      "\n",
      "\n",
      "12*1=12\n",
      "12*2=24\n",
      "12*3=36\n",
      "12*4=48\n",
      "12*5=60\n",
      "12*6=72\n",
      "12*7=84\n",
      "12*8=96\n",
      "12*9=108\n",
      "12*10=120\n",
      "\n",
      "\n",
      "13*1=13\n",
      "13*2=26\n",
      "13*3=39\n",
      "13*4=52\n",
      "13*5=65\n",
      "13*6=78\n",
      "13*7=91\n",
      "13*8=104\n",
      "13*9=117\n",
      "13*10=130\n",
      "\n",
      "\n",
      "14*1=14\n",
      "14*2=28\n",
      "14*3=42\n",
      "14*4=56\n",
      "14*5=70\n",
      "14*6=84\n",
      "14*7=98\n",
      "14*8=112\n",
      "14*9=126\n",
      "14*10=140\n",
      "\n",
      "\n",
      "15*1=15\n",
      "15*2=30\n",
      "15*3=45\n",
      "15*4=60\n",
      "15*5=75\n",
      "15*6=90\n",
      "15*7=105\n",
      "15*8=120\n",
      "15*9=135\n",
      "15*10=150\n",
      "\n",
      "\n",
      "16*1=16\n",
      "16*2=32\n",
      "16*3=48\n",
      "16*4=64\n",
      "16*5=80\n",
      "16*6=96\n",
      "16*7=112\n",
      "16*8=128\n",
      "16*9=144\n",
      "16*10=160\n",
      "\n",
      "\n",
      "17*1=17\n",
      "17*2=34\n",
      "17*3=51\n",
      "17*4=68\n",
      "17*5=85\n",
      "17*6=102\n",
      "17*7=119\n",
      "17*8=136\n",
      "17*9=153\n",
      "17*10=170\n",
      "\n",
      "\n",
      "18*1=18\n",
      "18*2=36\n",
      "18*3=54\n",
      "18*4=72\n",
      "18*5=90\n",
      "18*6=108\n",
      "18*7=126\n",
      "18*8=144\n",
      "18*9=162\n",
      "18*10=180\n",
      "\n",
      "\n",
      "19*1=19\n",
      "19*2=38\n",
      "19*3=57\n",
      "19*4=76\n",
      "19*5=95\n",
      "19*6=114\n",
      "19*7=133\n",
      "19*8=152\n",
      "19*9=171\n",
      "19*10=190\n",
      "\n",
      "\n",
      "20*1=20\n",
      "20*2=40\n",
      "20*3=60\n",
      "20*4=80\n",
      "20*5=100\n",
      "20*6=120\n",
      "20*7=140\n",
      "20*8=160\n",
      "20*9=180\n",
      "20*10=200\n",
      "\n",
      "\n",
      "21*1=21\n",
      "21*2=42\n",
      "21*3=63\n",
      "21*4=84\n",
      "21*5=105\n",
      "21*6=126\n",
      "21*7=147\n",
      "21*8=168\n",
      "21*9=189\n",
      "21*10=210\n",
      "\n",
      "\n",
      "22*1=22\n",
      "22*2=44\n",
      "22*3=66\n",
      "22*4=88\n",
      "22*5=110\n",
      "22*6=132\n",
      "22*7=154\n",
      "22*8=176\n",
      "22*9=198\n",
      "22*10=220\n",
      "\n",
      "\n",
      "23*1=23\n",
      "23*2=46\n",
      "23*3=69\n",
      "23*4=92\n",
      "23*5=115\n",
      "23*6=138\n",
      "23*7=161\n",
      "23*8=184\n",
      "23*9=207\n",
      "23*10=230\n",
      "\n",
      "\n",
      "24*1=24\n",
      "24*2=48\n",
      "24*3=72\n",
      "24*4=96\n",
      "24*5=120\n",
      "24*6=144\n",
      "24*7=168\n",
      "24*8=192\n",
      "24*9=216\n",
      "24*10=240\n",
      "\n",
      "\n",
      "25*1=25\n",
      "25*2=50\n",
      "25*3=75\n",
      "25*4=100\n",
      "25*5=125\n",
      "25*6=150\n",
      "25*7=175\n",
      "25*8=200\n",
      "25*9=225\n",
      "25*10=250\n",
      "\n",
      "\n",
      "26*1=26\n",
      "26*2=52\n",
      "26*3=78\n",
      "26*4=104\n",
      "26*5=130\n",
      "26*6=156\n",
      "26*7=182\n",
      "26*8=208\n",
      "26*9=234\n",
      "26*10=260\n",
      "\n",
      "\n",
      "27*1=27\n",
      "27*2=54\n",
      "27*3=81\n",
      "27*4=108\n",
      "27*5=135\n",
      "27*6=162\n",
      "27*7=189\n",
      "27*8=216\n",
      "27*9=243\n",
      "27*10=270\n",
      "\n",
      "\n",
      "28*1=28\n",
      "28*2=56\n",
      "28*3=84\n",
      "28*4=112\n",
      "28*5=140\n",
      "28*6=168\n",
      "28*7=196\n",
      "28*8=224\n",
      "28*9=252\n",
      "28*10=280\n",
      "\n",
      "\n",
      "29*1=29\n",
      "29*2=58\n",
      "29*3=87\n",
      "29*4=116\n",
      "29*5=145\n",
      "29*6=174\n",
      "29*7=203\n",
      "29*8=232\n",
      "29*9=261\n",
      "29*10=290\n",
      "\n",
      "\n",
      "30*1=30\n",
      "30*2=60\n",
      "30*3=90\n",
      "30*4=120\n",
      "30*5=150\n",
      "30*6=180\n",
      "30*7=210\n",
      "30*8=240\n",
      "30*9=270\n",
      "30*10=300\n",
      "\n",
      "\n",
      "31*1=31\n",
      "31*2=62\n",
      "31*3=93\n",
      "31*4=124\n",
      "31*5=155\n",
      "31*6=186\n",
      "31*7=217\n",
      "31*8=248\n",
      "31*9=279\n",
      "31*10=310\n",
      "\n",
      "\n",
      "32*1=32\n",
      "32*2=64\n",
      "32*3=96\n",
      "32*4=128\n",
      "32*5=160\n",
      "32*6=192\n",
      "32*7=224\n",
      "32*8=256\n",
      "32*9=288\n",
      "32*10=320\n",
      "\n",
      "\n",
      "33*1=33\n",
      "33*2=66\n",
      "33*3=99\n",
      "33*4=132\n",
      "33*5=165\n",
      "33*6=198\n",
      "33*7=231\n",
      "33*8=264\n",
      "33*9=297\n",
      "33*10=330\n",
      "\n",
      "\n",
      "34*1=34\n",
      "34*2=68\n",
      "34*3=102\n",
      "34*4=136\n",
      "34*5=170\n",
      "34*6=204\n",
      "34*7=238\n",
      "34*8=272\n",
      "34*9=306\n",
      "34*10=340\n",
      "\n",
      "\n",
      "35*1=35\n",
      "35*2=70\n",
      "35*3=105\n",
      "35*4=140\n",
      "35*5=175\n",
      "35*6=210\n",
      "35*7=245\n",
      "35*8=280\n",
      "35*9=315\n",
      "35*10=350\n",
      "\n",
      "\n",
      "36*1=36\n",
      "36*2=72\n",
      "36*3=108\n",
      "36*4=144\n",
      "36*5=180\n",
      "36*6=216\n",
      "36*7=252\n",
      "36*8=288\n",
      "36*9=324\n",
      "36*10=360\n",
      "\n",
      "\n",
      "37*1=37\n",
      "37*2=74\n",
      "37*3=111\n",
      "37*4=148\n",
      "37*5=185\n",
      "37*6=222\n",
      "37*7=259\n",
      "37*8=296\n",
      "37*9=333\n",
      "37*10=370\n",
      "\n",
      "\n",
      "38*1=38\n",
      "38*2=76\n",
      "38*3=114\n",
      "38*4=152\n",
      "38*5=190\n",
      "38*6=228\n",
      "38*7=266\n",
      "38*8=304\n",
      "38*9=342\n",
      "38*10=380\n",
      "\n",
      "\n",
      "39*1=39\n",
      "39*2=78\n",
      "39*3=117\n",
      "39*4=156\n",
      "39*5=195\n",
      "39*6=234\n",
      "39*7=273\n",
      "39*8=312\n",
      "39*9=351\n",
      "39*10=390\n",
      "\n",
      "\n",
      "40*1=40\n",
      "40*2=80\n",
      "40*3=120\n",
      "40*4=160\n",
      "40*5=200\n",
      "40*6=240\n",
      "40*7=280\n",
      "40*8=320\n",
      "40*9=360\n",
      "40*10=400\n"
     ]
    }
   ],
   "source": [
    "for i in range(1,41):\n",
    "    print(\"\\n\")\n",
    "    for x in range(1,11):\n",
    "        print(f\"{i}*{x}={i*x}\")"
   ]
  },
  {
   "cell_type": "code",
   "execution_count": 39,
   "id": "80e9c22f-3b5b-45ea-838f-b368bf2cb55d",
   "metadata": {},
   "outputs": [
    {
     "name": "stdout",
     "output_type": "stream",
     "text": [
      "0\n",
      "1\n",
      "2\n",
      "3\n",
      "4\n",
      "5\n"
     ]
    }
   ],
   "source": [
    "#break and continue\n",
    "\n",
    "for i in range(11):\n",
    "    if i==6:\n",
    "        break\n",
    "    print(i)"
   ]
  },
  {
   "cell_type": "code",
   "execution_count": 47,
   "id": "819c7732-3320-4aed-819f-f5e1a133574f",
   "metadata": {},
   "outputs": [
    {
     "name": "stdout",
     "output_type": "stream",
     "text": [
      "1 2 3 4 5 6 7 8 9 10 11 12 13 14 15 16 17 18 19 20 21 22 23 24 25 26 27 28 29 30 31 32 33 34 35 36 37 38 39 40 41 42 43 44 45 46 47 48 49 50 "
     ]
    }
   ],
   "source": [
    "for i in range(1,100):\n",
    "    if i==51:\n",
    "        break\n",
    "    print(i,end=\" \")"
   ]
  },
  {
   "cell_type": "code",
   "execution_count": 48,
   "id": "06c257c5-c4f1-4c4f-98b1-6f71c12cc950",
   "metadata": {},
   "outputs": [
    {
     "name": "stdout",
     "output_type": "stream",
     "text": [
      "1\n",
      "2\n",
      "3\n",
      "4\n",
      "6\n",
      "7\n",
      "8\n",
      "9\n",
      "10\n"
     ]
    }
   ],
   "source": [
    "for i in range(1,11):\n",
    "    if i==5:\n",
    "        continue\n",
    "    print(i)\n",
    "        "
   ]
  },
  {
   "cell_type": "code",
   "execution_count": 54,
   "id": "2ec06cf2-6dbc-4f16-bf0a-0edeb1e75cf8",
   "metadata": {},
   "outputs": [
    {
     "name": "stdout",
     "output_type": "stream",
     "text": [
      "0\n",
      "1\n",
      "2\n",
      "3\n",
      "4\n",
      "5\n",
      "6\n",
      "7\n",
      "8\n",
      "9\n",
      "10\n"
     ]
    }
   ],
   "source": [
    "i=0\n",
    "j=11\n",
    "while(i<j):\n",
    "    print(i)\n",
    "    i+=1"
   ]
  },
  {
   "cell_type": "code",
   "execution_count": 1,
   "id": "fdf37ce1-236a-4285-af29-a8b01bb111ec",
   "metadata": {},
   "outputs": [
    {
     "name": "stdin",
     "output_type": "stream",
     "text": [
      "enter any number 6\n"
     ]
    },
    {
     "name": "stdout",
     "output_type": "stream",
     "text": [
      "6*1=6\n",
      "6*2=12\n",
      "6*3=18\n",
      "6*4=24\n",
      "6*5=30\n",
      "6*6=36\n",
      "6*7=42\n",
      "6*8=48\n",
      "6*9=54\n",
      "6*10=60\n"
     ]
    }
   ],
   "source": [
    "num3=int(input(\"enter any number\"))\n",
    "i=1\n",
    "j=11\n",
    "while(i<j):\n",
    "    print(f\"{num3}*{i}={num3*i}\")\n",
    "    i+=1"
   ]
  },
  {
   "cell_type": "code",
   "execution_count": 3,
   "id": "7fcbc703-9ad4-410f-86ab-e791352465d1",
   "metadata": {},
   "outputs": [
    {
     "name": "stdin",
     "output_type": "stream",
     "text": [
      "enter your name KARTIK DHADGE\n"
     ]
    },
    {
     "name": "stdout",
     "output_type": "stream",
     "text": [
      "['a', 'i', 'a', 'e'] = 4\n",
      "['k', 'r', 't', 'k', ' ', 'd', 'h', 'd', 'g'] = 9\n",
      "total charector in your name 13\n"
     ]
    }
   ],
   "source": [
    "name=input(\"enter your name\")\n",
    "name1=name.lower()\n",
    "vow=0\n",
    "vowelchar=[]\n",
    "cons=0\n",
    "conschar=[]\n",
    "totalchar=0\n",
    "for i in name1:\n",
    "    if i in['a','e','i','o','u']:\n",
    "        vowelchar.append(i)\n",
    "        vow+=1\n",
    "    else:\n",
    "        cons+=1\n",
    "        conschar.append(i)\n",
    "    totalchar+=1\n",
    "print(vowelchar,\"=\",vow)\n",
    "print(conschar,\"=\",cons)\n",
    "print(\"total charector in your name\",totalchar)"
   ]
  },
  {
   "cell_type": "code",
   "execution_count": null,
   "id": "42167157-6348-440f-becc-4e44af3f7235",
   "metadata": {},
   "outputs": [],
   "source": []
  },
  {
   "cell_type": "code",
   "execution_count": 7,
   "id": "6a234cd1-f210-433b-9bb2-9f47381598d2",
   "metadata": {},
   "outputs": [
    {
     "name": "stdin",
     "output_type": "stream",
     "text": [
      "enter your name kartik dhadge\n"
     ]
    },
    {
     "name": "stdout",
     "output_type": "stream",
     "text": [
      "['a', 'i', 'a', 'e'] = 4\n",
      "['k', 'r', 't', 'k', ' ', 'd', 'h', 'd', 'g'] = 9\n",
      "total charector in your name 13 e\n"
     ]
    }
   ],
   "source": [
    "name=input(\"enter your name\")\n",
    "vow=0\n",
    "vowelchar=[]\n",
    "cons=0\n",
    "conschar=[]\n",
    "totalchar=0\n",
    "for i in name:\n",
    "    if i in['a','e','i','o','u','A','E','I','O','U']:\n",
    "        vowelchar.append(i)\n",
    "        vow+=1\n",
    "    else:\n",
    "        cons+=1\n",
    "        conschar.append(i)\n",
    "    totalchar+=1\n",
    "print(vowelchar,\"=\",vow)\n",
    "print(conschar,\"=\",cons)\n",
    "print(\"total charector in your name\",totalchar)"
   ]
  },
  {
   "cell_type": "code",
   "execution_count": 2,
   "id": "06a69102-311e-43c2-832c-319e19090796",
   "metadata": {},
   "outputs": [
    {
     "name": "stdout",
     "output_type": "stream",
     "text": [
      "sum of 10 natural number: 55\n"
     ]
    }
   ],
   "source": [
    "i=1\n",
    "j=11\n",
    "sum1=0\n",
    "while(i<j):\n",
    "    sum1+=i\n",
    "    i+=1\n",
    "print(\"sum of 10 natural number:\",sum1)"
   ]
  },
  {
   "cell_type": "code",
   "execution_count": 3,
   "id": "670c719c-7b62-4ba0-8e6f-143ca66a0809",
   "metadata": {},
   "outputs": [
    {
     "name": "stdout",
     "output_type": "stream",
     "text": [
      " the list of even [2, 4, 6, 8, 10] = 30 \n",
      " the list of odd numbers: [1, 3, 5, 7, 9] = 25\n"
     ]
    }
   ],
   "source": [
    "i=1\n",
    "j=11\n",
    "listeven=[]\n",
    "listodd=[]\n",
    "sumeven=0\n",
    "sumodd=0\n",
    "while(i<j):\n",
    "    if i%2==0:\n",
    "        listeven.append(i)\n",
    "        sumeven+=i\n",
    "    else:\n",
    "        listodd.append(i)\n",
    "        sumodd+=i\n",
    "    i+=1\n",
    "print(\" the list of even\",listeven,\"=\",sumeven,\"\\n the list of odd numbers:\",listodd,\"=\",sumodd)"
   ]
  },
  {
   "cell_type": "code",
   "execution_count": 6,
   "id": "30432ffa-9c0f-437c-99a4-3d00428a6188",
   "metadata": {},
   "outputs": [
    {
     "name": "stdout",
     "output_type": "stream",
     "text": [
      "1\n",
      "2\n",
      "3\n",
      "4\n"
     ]
    }
   ],
   "source": [
    "i=1\n",
    "j=11\n",
    "while(i<j):\n",
    "    if i==5:\n",
    "        break\n",
    "    print(i)\n",
    "    i+=1"
   ]
  },
  {
   "cell_type": "code",
   "execution_count": 4,
   "id": "a295de3f-7008-4306-96e9-94518f43623a",
   "metadata": {},
   "outputs": [
    {
     "name": "stdout",
     "output_type": "stream",
     "text": [
      "s\n",
      "t\n",
      "a\n",
      "r\n",
      "a\n",
      "b\n",
      "e\n",
      "r\n",
      "r\n",
      "y\n",
      "total charector of staraberry: 10\n"
     ]
    }
   ],
   "source": [
    "fruits=['apple','banan','pineapple','orange','grapes',['kartik dhadge','ruchika'],'mango','guava','staraberry','coconat','litchi','cherry']\n",
    "count=0\n",
    "for i in range(len(fruits)):\n",
    "    if fruits[i]==\"staraberry\":\n",
    "        for x in fruits[i]:\n",
    "            count+=1\n",
    "            print(x)\n",
    "print(\"total charector of staraberry:\",count)"
   ]
  },
  {
   "cell_type": "code",
   "execution_count": 10,
   "id": "74a81cc5-6204-4ca5-8bee-dcad970667b5",
   "metadata": {},
   "outputs": [
    {
     "name": "stdout",
     "output_type": "stream",
     "text": [
      "k\n",
      "a\n",
      "r\n",
      "t\n",
      "i\n",
      "k\n",
      " \n",
      "d\n",
      "h\n",
      "a\n",
      "d\n",
      "g\n",
      "e\n",
      "total charector in kartik dhadge: 13\n"
     ]
    }
   ],
   "source": [
    "count2=0\n",
    "for i in range(len(fruits)):\n",
    "    if i==5:\n",
    "       # print(i,fruits[i])\n",
    "        for y in fruits[i]:\n",
    "            #print(y)\n",
    "            if y==\"kartik dhadge\":\n",
    "                #print(y)\n",
    "                for j in y:\n",
    "                    count2+=1\n",
    "                    print(j)\n",
    "print(\"total charector in kartik dhadge:\",count2)"
   ]
  },
  {
   "cell_type": "code",
   "execution_count": 11,
   "id": "1c7ec980-d337-4a86-822e-48e8c45453e1",
   "metadata": {},
   "outputs": [
    {
     "name": "stdout",
     "output_type": "stream",
     "text": [
      "2\n",
      "4\n",
      "6\n",
      "8\n",
      "10\n",
      "12\n",
      "14\n",
      "16\n",
      "18\n",
      "20\n",
      "22\n",
      "24\n",
      "26\n",
      "28\n",
      "30\n",
      "32\n",
      "34\n",
      "36\n",
      "38\n",
      "40\n",
      "42\n",
      "44\n",
      "46\n",
      "48\n",
      "50\n",
      "52\n",
      "54\n",
      "56\n",
      "58\n",
      "60\n",
      "62\n",
      "64\n",
      "66\n",
      "68\n",
      "70\n",
      "72\n",
      "74\n",
      "76\n",
      "78\n",
      "80\n",
      "82\n",
      "84\n",
      "86\n",
      "88\n",
      "90\n",
      "92\n",
      "94\n",
      "96\n",
      "98\n",
      "100\n"
     ]
    }
   ],
   "source": [
    "for i in range(1,101):\n",
    "    if i%2==0:\n",
    "        print(i)"
   ]
  },
  {
   "cell_type": "code",
   "execution_count": 17,
   "id": "8deab910-1a6e-4407-9768-5d503446a546",
   "metadata": {},
   "outputs": [
    {
     "name": "stdout",
     "output_type": "stream",
     "text": [
      "15\n",
      "30\n",
      "45\n",
      "60\n",
      "75\n",
      "90\n"
     ]
    }
   ],
   "source": [
    "for i in range(1,101):\n",
    "    if i%3==0 and i%5==0:\n",
    "        print(i)\n",
    "    "
   ]
  },
  {
   "cell_type": "code",
   "execution_count": 29,
   "id": "34097e9c-75ca-423c-9426-97bb1b098d10",
   "metadata": {},
   "outputs": [
    {
     "name": "stdout",
     "output_type": "stream",
     "text": [
      "k\n",
      "a\n",
      "r\n",
      "i\n",
      "k\n",
      " \n",
      "d\n",
      "h\n",
      "a\n",
      "d\n",
      "g\n",
      "e\n",
      "total charecter in string 12\n"
     ]
    }
   ],
   "source": [
    "name=\"karik dhadge\"\n",
    "count3=0\n",
    "for i in name:\n",
    "    for j in i:\n",
    "        print(j)\n",
    "        count3+=1\n",
    "print(\"total charecter in string\",count3)"
   ]
  },
  {
   "cell_type": "code",
   "execution_count": 30,
   "id": "bef0e4ca-93dc-4796-840c-199592a83bae",
   "metadata": {},
   "outputs": [
    {
     "name": "stdin",
     "output_type": "stream",
     "text": [
      "enter any string kartikdhadge\n"
     ]
    },
    {
     "name": "stdout",
     "output_type": "stream",
     "text": [
      "a\n",
      "i\n",
      "a\n",
      "e\n"
     ]
    }
   ],
   "source": [
    "str1=input(\"enter any string\")\n",
    "for i in str1:\n",
    "    if i in ['a','e','i','o','u','A','E','I','O','U']:\n",
    "        print(i)"
   ]
  },
  {
   "cell_type": "code",
   "execution_count": 37,
   "id": "5f9a724e-5dd1-44a3-b067-5fa02744618a",
   "metadata": {},
   "outputs": [
    {
     "name": "stdout",
     "output_type": "stream",
     "text": [
      "10\n",
      "9\n",
      "8\n",
      "7\n",
      "6\n",
      "5\n",
      "4\n",
      "3\n",
      "2\n",
      "1\n"
     ]
    }
   ],
   "source": [
    "i=10\n",
    "j=1\n",
    "while(i>=j):\n",
    "    print(i)\n",
    "    i-=1"
   ]
  },
  {
   "cell_type": "code",
   "execution_count": 1,
   "id": "ecc42398-1808-42a4-894f-760e978bcff0",
   "metadata": {},
   "outputs": [
    {
     "name": "stdout",
     "output_type": "stream",
     "text": [
      "1 \n",
      "\n",
      "2 \n",
      "\n",
      "3 \n",
      "\n",
      "4 \n",
      "\n"
     ]
    }
   ],
   "source": [
    "i=1\n",
    "j=5\n",
    "while(i<j):\n",
    "    print(i,\"\\n\")\n",
    "    i+=1"
   ]
  },
  {
   "cell_type": "code",
   "execution_count": 4,
   "id": "1b0f3ce5-70e6-42f4-a607-0c474a816665",
   "metadata": {},
   "outputs": [
    {
     "name": "stdout",
     "output_type": "stream",
     "text": [
      "1 2 3 4 5 6 7 8 9 10 "
     ]
    }
   ],
   "source": [
    "#1 print number 1-10\n",
    "\n",
    "for i in range(1,11):\n",
    "    print(i,end=\" \")"
   ]
  },
  {
   "cell_type": "code",
   "execution_count": 8,
   "id": "b53f4bde-c561-4e43-8e60-cf167cb00c33",
   "metadata": {},
   "outputs": [
    {
     "name": "stdout",
     "output_type": "stream",
     "text": [
      "1 2 3 4 5 6 7 8 9 10 "
     ]
    }
   ],
   "source": [
    "#while loop\n",
    "\n",
    "i=1\n",
    "j=11\n",
    "while i<j:\n",
    "    print(i,end=\" \")\n",
    "    i+=1"
   ]
  },
  {
   "cell_type": "code",
   "execution_count": 10,
   "id": "2ee54eb8-7d30-46f7-8cac-5ba15c7a682e",
   "metadata": {},
   "outputs": [
    {
     "name": "stdout",
     "output_type": "stream",
     "text": [
      "2 4 6 8 10 12 14 16 18 20 22 24 26 28 30 32 34 36 38 40 42 44 46 48 50 52 54 56 58 60 62 64 66 68 70 72 74 76 78 80 82 84 86 88 90 92 94 96 98 100 "
     ]
    }
   ],
   "source": [
    "#2 print even number between 1 to 100\n",
    " \n",
    "\n",
    "for i in range(1,101):\n",
    "    if i%2==0:\n",
    "        print(i,end=\" \")"
   ]
  },
  {
   "cell_type": "code",
   "execution_count": 11,
   "id": "8a191d0b-bad7-425b-b77b-98c4c9b7bcad",
   "metadata": {},
   "outputs": [
    {
     "name": "stdout",
     "output_type": "stream",
     "text": [
      "2 4 6 8 10 12 14 16 18 20 22 24 26 28 30 32 34 36 38 40 42 44 46 48 50 52 54 56 58 60 62 64 66 68 70 72 74 76 78 80 82 84 86 88 90 92 94 96 98 100 "
     ]
    }
   ],
   "source": [
    "# while loop\n",
    "\n",
    "i=1\n",
    "j=101\n",
    "while i<j:\n",
    "    if i%2==0:\n",
    "        print(i,end=\" \")\n",
    "    i+=1"
   ]
  },
  {
   "cell_type": "code",
   "execution_count": 12,
   "id": "03cd3cd9-b47a-42c4-99fc-109543f20ad4",
   "metadata": {},
   "outputs": [
    {
     "name": "stdin",
     "output_type": "stream",
     "text": [
      "enter any number 5\n"
     ]
    },
    {
     "name": "stdout",
     "output_type": "stream",
     "text": [
      "5*1=5\n",
      "5*2=10\n",
      "5*3=15\n",
      "5*4=20\n",
      "5*5=25\n",
      "5*6=30\n",
      "5*7=35\n",
      "5*8=40\n",
      "5*9=45\n",
      "5*10=50\n"
     ]
    }
   ],
   "source": [
    "#3 print table\n",
    "\n",
    "\n",
    "num=int(input(\"enter any number\"))\n",
    "for i in range(1,11):\n",
    "    print(f\"{num}*{i}={num*i}\")"
   ]
  },
  {
   "cell_type": "code",
   "execution_count": 13,
   "id": "75ac8bc7-e791-4378-9776-5bb3a9afc743",
   "metadata": {},
   "outputs": [
    {
     "name": "stdin",
     "output_type": "stream",
     "text": [
      "enter any value 5\n"
     ]
    },
    {
     "name": "stdout",
     "output_type": "stream",
     "text": [
      "5*1=5\n",
      "5*2=10\n",
      "5*3=15\n",
      "5*4=20\n",
      "5*5=25\n",
      "5*6=30\n",
      "5*7=35\n",
      "5*8=40\n",
      "5*9=45\n",
      "5*10=50\n"
     ]
    }
   ],
   "source": [
    "#while loop\n",
    "\n",
    "\n",
    "num=int(input(\"enter any value\"))\n",
    "i=1\n",
    "j=11\n",
    "while i<j:\n",
    "    print(f\"{num}*{i}={num*i}\")\n",
    "    i+=1"
   ]
  },
  {
   "cell_type": "code",
   "execution_count": 14,
   "id": "26de2d18-4cfc-420f-8337-d47e6a6b8e5a",
   "metadata": {},
   "outputs": [
    {
     "name": "stdin",
     "output_type": "stream",
     "text": [
      "enter number 5\n"
     ]
    },
    {
     "name": "stdout",
     "output_type": "stream",
     "text": [
      "15\n"
     ]
    }
   ],
   "source": [
    "#4 calculate sun of number 1 to n \n",
    "\n",
    "n=int(input(\"enter number\"))\n",
    "sum1=0\n",
    "for i in range(1,n+1):\n",
    "    sum1+=i\n",
    "print(sum1)"
   ]
  },
  {
   "cell_type": "code",
   "execution_count": 15,
   "id": "cd0cc2b7-945e-4377-9661-db60a5c0132e",
   "metadata": {},
   "outputs": [
    {
     "name": "stdin",
     "output_type": "stream",
     "text": [
      "enter any number 5\n"
     ]
    },
    {
     "name": "stdout",
     "output_type": "stream",
     "text": [
      "15\n"
     ]
    }
   ],
   "source": [
    "# while loop\n",
    "\n",
    "n=int(input(\"enter any number\"))\n",
    "sum1=0\n",
    "i=0\n",
    "while i<n+1:\n",
    "    sum1+=i\n",
    "    i+=1\n",
    "print(sum1)"
   ]
  },
  {
   "cell_type": "code",
   "execution_count": 17,
   "id": "06f2c8cc-7592-4938-b863-2132276c2925",
   "metadata": {},
   "outputs": [
    {
     "name": "stdin",
     "output_type": "stream",
     "text": [
      "enter any number 5\n"
     ]
    },
    {
     "name": "stdout",
     "output_type": "stream",
     "text": [
      "120\n"
     ]
    }
   ],
   "source": [
    "#5 factorial of number\n",
    "\n",
    "n=int(input(\"enter any number\"))\n",
    "fact=1\n",
    "for i in range(1,n+1):\n",
    "    fact*=i\n",
    "print(fact)\n"
   ]
  },
  {
   "cell_type": "code",
   "execution_count": 19,
   "id": "ce878331-e1d5-45af-bc49-5f8b93c4b15c",
   "metadata": {},
   "outputs": [
    {
     "name": "stdin",
     "output_type": "stream",
     "text": [
      "enter any number 5\n"
     ]
    },
    {
     "name": "stdout",
     "output_type": "stream",
     "text": [
      "120\n"
     ]
    }
   ],
   "source": [
    "# while loop\n",
    "\n",
    "n=int(input(\"enter any number\"))\n",
    "fact=1\n",
    "i=1\n",
    "while i<=n:\n",
    "    fact*=i\n",
    "    i+=1\n",
    "print(fact)"
   ]
  },
  {
   "cell_type": "code",
   "execution_count": 22,
   "id": "40850d14-269a-45ca-9da7-2167cc7c41b4",
   "metadata": {},
   "outputs": [
    {
     "name": "stdout",
     "output_type": "stream",
     "text": [
      "3 5 6 9 10 12 15 18 20 21 24 25 27 30 33 35 36 39 40 42 45 48 50 51 54 55 57 60 63 65 66 69 70 72 75 78 80 81 84 85 87 90 93 95 96 99 100 "
     ]
    }
   ],
   "source": [
    "#6 print all number devisible by 3 and 5 between 1 to 100\n",
    "\n",
    "for i in range(1,101):\n",
    "    if i%3==0 or i%5==0:\n",
    "        print(i,end=\" \")"
   ]
  },
  {
   "cell_type": "code",
   "execution_count": 24,
   "id": "ff5e8d02-9e83-44ce-9ac3-60bb566f411d",
   "metadata": {},
   "outputs": [
    {
     "name": "stdout",
     "output_type": "stream",
     "text": [
      "3 5 6 9 10 12 15 18 20 21 24 25 27 30 33 35 36 39 40 42 45 48 50 51 54 55 57 60 63 65 66 69 70 72 75 78 80 81 84 85 87 90 93 95 96 99 100 "
     ]
    }
   ],
   "source": [
    "# while loop\n",
    "i=1\n",
    "j=101\n",
    "while i<j:\n",
    "    if i%3==0 or i%5==0:\n",
    "        print(i,end=\" \")\n",
    "    i+=1"
   ]
  },
  {
   "cell_type": "code",
   "execution_count": 29,
   "id": "ed8228c9-5f8b-475d-8ea7-6a769e826fb6",
   "metadata": {},
   "outputs": [
    {
     "data": {
      "text/plain": [
       "'654321'"
      ]
     },
     "execution_count": 29,
     "metadata": {},
     "output_type": "execute_result"
    }
   ],
   "source": [
    "#7 revers number\n",
    "num=\"123456\"\n",
    "num[::-1]"
   ]
  },
  {
   "cell_type": "code",
   "execution_count": 32,
   "id": "4fd18ad5-1526-4880-9c97-7508ec65aed8",
   "metadata": {},
   "outputs": [
    {
     "name": "stdout",
     "output_type": "stream",
     "text": [
      "654321\n"
     ]
    }
   ],
   "source": [
    "# while loop\n",
    "num=123456\n",
    "rev=0\n",
    "while num>0:\n",
    "    rev=rev*10+num%10\n",
    "    num//=10\n",
    "print(rev)"
   ]
  },
  {
   "cell_type": "code",
   "execution_count": 33,
   "id": "793d4e84-d0fc-4459-a847-3dcd327fc27b",
   "metadata": {},
   "outputs": [
    {
     "name": "stdout",
     "output_type": "stream",
     "text": [
      "6\n"
     ]
    }
   ],
   "source": [
    "#8 count digite in number\n",
    "\n",
    "num=\"123456\"\n",
    "count=0\n",
    "for i in range(len(num)):\n",
    "    count+=1\n",
    "print(count)"
   ]
  },
  {
   "cell_type": "code",
   "execution_count": 35,
   "id": "14c1ef61-58e9-407a-bd43-10e3bbe8637d",
   "metadata": {},
   "outputs": [
    {
     "name": "stdout",
     "output_type": "stream",
     "text": [
      "6\n"
     ]
    }
   ],
   "source": [
    "# while loop\n",
    "num=123456\n",
    "count=0\n",
    "while num>0:\n",
    "    count+=1\n",
    "    num//=10\n",
    "print(count)"
   ]
  },
  {
   "cell_type": "code",
   "execution_count": 36,
   "id": "c7e1e012-0c56-44dd-9dbd-c34e2ceeb7f1",
   "metadata": {},
   "outputs": [
    {
     "name": "stdout",
     "output_type": "stream",
     "text": [
      "k\n",
      "a\n",
      "r\n",
      "t\n",
      "i\n",
      "k\n",
      " \n",
      "d\n",
      "h\n",
      "a\n",
      "d\n",
      "g\n",
      "e\n"
     ]
    }
   ],
   "source": [
    "# 9 print all charector in string\n",
    "str1=\"kartik dhadge\"\n",
    "for i in str1:\n",
    "    print(i)"
   ]
  },
  {
   "cell_type": "code",
   "execution_count": 37,
   "id": "2b1354de-2f20-4d6a-bdbe-4d699f27157a",
   "metadata": {},
   "outputs": [
    {
     "name": "stdout",
     "output_type": "stream",
     "text": [
      "k\n",
      "a\n",
      "r\n",
      "t\n",
      "i\n",
      "k\n",
      " \n",
      "d\n",
      "h\n",
      "a\n",
      "d\n",
      "g\n",
      "e\n"
     ]
    }
   ],
   "source": [
    "# while loop\n",
    "ste1=\"kartik dhadge\"\n",
    "i=0\n",
    "while i<len(str1):\n",
    "    print(str1[i])\n",
    "    i+=1"
   ]
  },
  {
   "cell_type": "code",
   "execution_count": 40,
   "id": "3de3b050-e90f-4dd0-975f-66308e779dc6",
   "metadata": {},
   "outputs": [
    {
     "name": "stdin",
     "output_type": "stream",
     "text": [
      "enter your dada kartik\n"
     ]
    },
    {
     "name": "stdout",
     "output_type": "stream",
     "text": [
      "a\n",
      "i\n"
     ]
    }
   ],
   "source": [
    "#10 print vowels in string\n",
    "userdata=input(\"enter your dada\")\n",
    "vow=\"aiouAEIOU\"\n",
    "for i in userdata:\n",
    "    if i in vow:\n",
    "        print(i)"
   ]
  },
  {
   "cell_type": "code",
   "execution_count": 50,
   "id": "0b300a07-7399-46bc-861a-c63aea915ad6",
   "metadata": {},
   "outputs": [
    {
     "name": "stdin",
     "output_type": "stream",
     "text": [
      "ente your data kartik\n"
     ]
    },
    {
     "name": "stdout",
     "output_type": "stream",
     "text": [
      "['a', 'i']\n"
     ]
    }
   ],
   "source": [
    "# while loop\n",
    "\n",
    "userdata=input(\"ente your data\")\n",
    "vow=\"aeiouAEIOU\"\n",
    "i=0\n",
    "vowstring=[]\n",
    "while i<len(userdata):\n",
    "    if userdata[i] in vow:\n",
    "       vowstring.append(userdata[i])\n",
    "    i+=1\n",
    "print(vowstring)"
   ]
  },
  {
   "cell_type": "code",
   "execution_count": 53,
   "id": "7372194f-8829-4be9-bae2-27126f5faa18",
   "metadata": {},
   "outputs": [
    {
     "name": "stdout",
     "output_type": "stream",
     "text": [
      "10 9 8 7 6 5 4 3 2 1 "
     ]
    }
   ],
   "source": [
    "# 11 count down value from 10 to 1\n",
    "# while loop\n",
    "\n",
    "i=10\n",
    "j=1\n",
    "while i>=j:\n",
    "    print(i,end=\" \")\n",
    "    i-=1"
   ]
  },
  {
   "cell_type": "code",
   "execution_count": 54,
   "id": "b77ee347-054a-4a95-9a64-d093624cc1b3",
   "metadata": {},
   "outputs": [
    {
     "name": "stdin",
     "output_type": "stream",
     "text": [
      "enter number 1\n",
      "enter number 2\n",
      "enter number 3\n",
      "enter number 4\n",
      "enter number 5\n",
      "enter number 0\n"
     ]
    },
    {
     "name": "stdout",
     "output_type": "stream",
     "text": [
      "[1, 2, 3, 4, 5] \n",
      "tota sum of number is 15\n"
     ]
    }
   ],
   "source": [
    "#12 take a input from user enter a 0 then sum of number\n",
    "\n",
    "listnum=[]\n",
    "sum1=0\n",
    "for i in iter(int,1):\n",
    "    user=int(input(\"enter number\"))\n",
    "    if user==0:\n",
    "        break\n",
    "    listnum.append(user)\n",
    "    sum1+=user\n",
    "print(listnum,\"\\ntota sum of number is\",sum1)"
   ]
  },
  {
   "cell_type": "code",
   "execution_count": 59,
   "id": "db1ec0bf-b8c0-498c-aadd-338353e643dc",
   "metadata": {},
   "outputs": [
    {
     "name": "stdin",
     "output_type": "stream",
     "text": [
      "enter number 1\n",
      "enter number 2\n",
      "enter number 3\n",
      "enter number 4\n",
      "enter number 5\n",
      "enter number 0\n"
     ]
    },
    {
     "name": "stdout",
     "output_type": "stream",
     "text": [
      "[1, 2, 3, 4, 5] \n",
      "tota sum of number is 15\n"
     ]
    }
   ],
   "source": [
    "# while loop\n",
    "listnum=[]\n",
    "sum1=0\n",
    "while True:\n",
    "      user=int(input(\"enter number\"))\n",
    "      if user==0:\n",
    "          break\n",
    "      listnum.append(user)\n",
    "      sum1+=user\n",
    "print(listnum,\"\\ntota sum of number is\",sum1)"
   ]
  },
  {
   "cell_type": "code",
   "execution_count": 60,
   "id": "fdd1062e-7be4-4fa9-9fd8-9f8a74b7347a",
   "metadata": {},
   "outputs": [
    {
     "name": "stdin",
     "output_type": "stream",
     "text": [
      "enter password kartik\n"
     ]
    },
    {
     "name": "stdout",
     "output_type": "stream",
     "text": [
      "incorrcecot password\n"
     ]
    },
    {
     "name": "stdin",
     "output_type": "stream",
     "text": [
      "enter password python123\n"
     ]
    },
    {
     "name": "stdout",
     "output_type": "stream",
     "text": [
      "accsess granted\n"
     ]
    }
   ],
   "source": [
    "#13 keep asking password until user corract one is entered\n",
    "password=\"python123\"\n",
    "for i in iter(int,1):\n",
    "    userpass=input(\"enter password\")\n",
    "    if userpass==password:\n",
    "        print(\"accsess granted\")\n",
    "        break\n",
    "    else:\n",
    "        print(\"incorrect password\")\n",
    "        continue"
   ]
  },
  {
   "cell_type": "code",
   "execution_count": 61,
   "id": "7b98de3a-9a8c-4afd-b539-81bee2d045fd",
   "metadata": {},
   "outputs": [
    {
     "name": "stdin",
     "output_type": "stream",
     "text": [
      "enter password kadsfd\n"
     ]
    },
    {
     "name": "stdout",
     "output_type": "stream",
     "text": [
      "incorrect password\n"
     ]
    },
    {
     "name": "stdin",
     "output_type": "stream",
     "text": [
      "enter password python123\n"
     ]
    },
    {
     "name": "stdout",
     "output_type": "stream",
     "text": [
      "accasess granted\n"
     ]
    }
   ],
   "source": [
    "# while loop\n",
    "password=\"python123\"\n",
    "while True:\n",
    "    userpass=input(\"enter password\")\n",
    "    if userpass==password:\n",
    "        print(\"accasess granted\")\n",
    "        break\n",
    "    else:\n",
    "        print(\"incorrect password\")\n",
    "        continue"
   ]
  },
  {
   "cell_type": "code",
   "execution_count": 65,
   "id": "9b018a84-bdb8-4d3d-9bd2-6739d87e8a6e",
   "metadata": {},
   "outputs": [
    {
     "name": "stdout",
     "output_type": "stream",
     "text": [
      "kitrak\n"
     ]
    }
   ],
   "source": [
    "# 14 revers string in while loop\n",
    "string=\"kartik\"\n",
    "rev=\"\"\n",
    "i=len(string)-1\n",
    "while i>=0:\n",
    "    rev+=string[i]\n",
    "    i-=1\n",
    "print(rev)"
   ]
  },
  {
   "cell_type": "code",
   "execution_count": 67,
   "id": "34046549-edb5-4eba-99ba-1f3b4ea85999",
   "metadata": {},
   "outputs": [
    {
     "name": "stdout",
     "output_type": "stream",
     "text": [
      "*\n",
      "**\n",
      "***\n",
      "****\n"
     ]
    }
   ],
   "source": [
    "#15 print pattern\n",
    "for i in range(1,5):\n",
    "    print(\"*\"*i)"
   ]
  },
  {
   "cell_type": "code",
   "execution_count": 56,
   "id": "4e8711fb-37de-423c-8f27-231ff9671c33",
   "metadata": {},
   "outputs": [
    {
     "name": "stdout",
     "output_type": "stream",
     "text": [
      "*\n",
      "**\n",
      "***\n",
      "****\n"
     ]
    }
   ],
   "source": [
    "# while loop\n",
    "i=1\n",
    "j=5\n",
    "while i<j:\n",
    "    print(\"*\"*i)\n",
    "    i+=1"
   ]
  },
  {
   "cell_type": "code",
   "execution_count": 73,
   "id": "9b7088e9-abdd-47ab-8b84-2068ba8abd5c",
   "metadata": {},
   "outputs": [
    {
     "name": "stdout",
     "output_type": "stream",
     "text": [
      "1 \n",
      "1 2 \n",
      "1 2 3 \n",
      "1 2 3 4 \n"
     ]
    }
   ],
   "source": [
    "# 19 print the pattern\n",
    "# 1\n",
    "# 12\n",
    "# 123\n",
    "# 1234\n",
    "\n",
    "for i in range(1,5):\n",
    "    for j in range(1,i+1):\n",
    "        print(j,end=\" \")\n",
    "    print()"
   ]
  },
  {
   "cell_type": "code",
   "execution_count": 79,
   "id": "44bb6420-f853-4f32-bd85-a44243ca8e76",
   "metadata": {},
   "outputs": [
    {
     "name": "stdout",
     "output_type": "stream",
     "text": [
      "1 \n",
      "1 2 \n",
      "1 2 3 \n",
      "1 2 3 4 \n"
     ]
    }
   ],
   "source": [
    "# while loop\n",
    "i=1\n",
    "j=5\n",
    "while i<j:\n",
    "    x=1\n",
    "    y=i+1\n",
    "    while x<y:\n",
    "        print(x,end=\" \")\n",
    "        x+=1\n",
    "    print()\n",
    "    i+=1"
   ]
  },
  {
   "cell_type": "code",
   "execution_count": 83,
   "id": "ddd50962-f921-4529-ba95-403e96d76dd9",
   "metadata": {},
   "outputs": [
    {
     "name": "stdout",
     "output_type": "stream",
     "text": [
      "1 \n",
      "2 3 \n",
      "4 5 6 \n",
      "7 8 9 10 \n",
      "11 12 13 14 15 \n"
     ]
    }
   ],
   "source": [
    "#20 print floyd's tringle\n",
    "n=1\n",
    "for i in range(1,6):\n",
    "    for j in range(1,i+1):\n",
    "        print(n,end=\" \")\n",
    "        n+=1\n",
    "    print()"
   ]
  },
  {
   "cell_type": "code",
   "execution_count": 86,
   "id": "0a205a7a-ffff-4310-bd8e-1caa3ce9742d",
   "metadata": {},
   "outputs": [
    {
     "name": "stdout",
     "output_type": "stream",
     "text": [
      "1 \n",
      "2 3 \n",
      "4 5 6 \n",
      "7 8 9 10 \n",
      "11 12 13 14 15 \n"
     ]
    }
   ],
   "source": [
    "# while loop\n",
    "n=1\n",
    "i=1\n",
    "j=6\n",
    "while i<j:\n",
    "    x=1\n",
    "    y=i+1\n",
    "    while x<y:\n",
    "        print(n,end=\" \")\n",
    "        n+=1\n",
    "        x+=1\n",
    "    print()\n",
    "    i+=1"
   ]
  },
  {
   "cell_type": "code",
   "execution_count": 89,
   "id": "1f1607f5-c34b-42c3-9f4f-fed3a08edf32",
   "metadata": {},
   "outputs": [
    {
     "name": "stdout",
     "output_type": "stream",
     "text": [
      "100\n"
     ]
    }
   ],
   "source": [
    "# 21 find the msximum number in the list\n",
    "list1=[34,56,80,89,76,87,100]\n",
    "max1=list1[0]\n",
    "for i in list1:\n",
    "    if i>max1:\n",
    "        max1=i\n",
    "print(max1)"
   ]
  },
  {
   "cell_type": "code",
   "execution_count": 1,
   "id": "6299e5fe-f8fc-4dfe-840a-238f58c84bf3",
   "metadata": {},
   "outputs": [
    {
     "name": "stdout",
     "output_type": "stream",
     "text": [
      "100\n"
     ]
    }
   ],
   "source": [
    "# while loop\n",
    "list1=[34,56,80,89,76,87,100]\n",
    "max1=list1[0]\n",
    "i=0\n",
    "while i<len(list1):\n",
    "    if list1[i]>max1:\n",
    "        max1=list1[i]\n",
    "    i+=1\n",
    "print(max1)\n"
   ]
  },
  {
   "cell_type": "code",
   "execution_count": 2,
   "id": "355f95e9-f31e-4095-aeb7-4f33c2191d4d",
   "metadata": {},
   "outputs": [
    {
     "name": "stdout",
     "output_type": "stream",
     "text": [
      "total sum of list is  522\n",
      "total elemet in list 7\n",
      "average of list is  74.57142857142857\n"
     ]
    }
   ],
   "source": [
    "#22 calculate the avarage of the list \n",
    "list1=[34,56,80,89,76,87,100]\n",
    "sum1=0\n",
    "count=0\n",
    "avr=0\n",
    "for i in list1:\n",
    "    sum1+=i\n",
    "    count+=1\n",
    "    avr=sum1/count\n",
    "print(\"total sum of list is \",sum1)\n",
    "print(\"total elemet in list\",count)\n",
    "print(\"average of list is \",avr)"
   ]
  },
  {
   "cell_type": "code",
   "execution_count": 5,
   "id": "21420739-883a-494f-bedd-a4d16a83e93d",
   "metadata": {},
   "outputs": [
    {
     "name": "stdout",
     "output_type": "stream",
     "text": [
      "total sum of list is 522\n",
      "total element in list  7\n",
      "average of tha list is 74.57142857142857\n"
     ]
    }
   ],
   "source": [
    "# while loop\n",
    "list1=[34,56,80,89,76,87,100]\n",
    "sum1=0\n",
    "count=0\n",
    "avr=0\n",
    "i=0\n",
    "while i<len(list1):\n",
    "    sum1+=list1[i]\n",
    "    count+=1\n",
    "    avr=sum1/count\n",
    "    i+=1\n",
    "print(\"total sum of list is\",sum1)\n",
    "print(\"total element in list \",count)\n",
    "print(\"average of tha list is\",avr)"
   ]
  },
  {
   "cell_type": "code",
   "execution_count": 6,
   "id": "cc60a1f6-94d1-47ee-ae8f-deeeab05f2b1",
   "metadata": {},
   "outputs": [
    {
     "name": "stdout",
     "output_type": "stream",
     "text": [
      "total even number in list [34, 56, 80, 76, 100, 90] = 6\n"
     ]
    }
   ],
   "source": [
    "# 23 count how many even number in list\n",
    "list1=[34,56,80,89,76,87,100,33,43,67,90]\n",
    "evenlist=[]\n",
    "count=0\n",
    "for i in list1:\n",
    "    if i%2==0:\n",
    "        evenlist.append(i)\n",
    "        count+=1\n",
    "print(\"total even number in list\",evenlist,\"=\",count)"
   ]
  },
  {
   "cell_type": "code",
   "execution_count": 7,
   "id": "db99dab6-14f1-46b0-8c46-0443be415aec",
   "metadata": {},
   "outputs": [
    {
     "name": "stdout",
     "output_type": "stream",
     "text": [
      "total even number in list [34, 56, 80, 76, 100, 90] = 6\n"
     ]
    }
   ],
   "source": [
    "#while loop\n",
    "list1=[34,56,80,89,76,87,100,33,43,67,90]\n",
    "evenlist=[]\n",
    "count=0\n",
    "i=0\n",
    "while i<len(list1):\n",
    "    if list1[i]%2==0:\n",
    "        evenlist.append(list1[i])\n",
    "        count+=1\n",
    "    i+=1\n",
    "print(\"total even number in list\",evenlist,\"=\",count)\n"
   ]
  },
  {
   "cell_type": "code",
   "execution_count": 11,
   "id": "10eb2754-e843-400a-97ef-c1fd0f82c28c",
   "metadata": {},
   "outputs": [
    {
     "name": "stdout",
     "output_type": "stream",
     "text": [
      "origanal list is: [10, 43, -23, 45, -45, -65, 45, -67, -28, -28]\n",
      "after removing negative number : [10, 43, 45, 45]\n"
     ]
    }
   ],
   "source": [
    "#24 renove all negative number in list\n",
    "list2=[10,43,-23,45,-45,-65,45,-67,-28,-28]\n",
    "posnum=[]\n",
    "for i in list2:\n",
    "    if i>0:\n",
    "        posnum.append(i)\n",
    "print(\"origanal list is:\",list2)\n",
    "print(\"after removing negative number :\",posnum)\n",
    "        "
   ]
  },
  {
   "cell_type": "code",
   "execution_count": 12,
   "id": "c7262dd0-d82c-459a-bbcd-6fa4689201d5",
   "metadata": {},
   "outputs": [
    {
     "name": "stdout",
     "output_type": "stream",
     "text": [
      "oreganal list is: [10, 43, -23, 45, -45, -65, 45, -67, -28, -28]\n",
      "after removing negative number: [10, 43, 45, 45]\n"
     ]
    }
   ],
   "source": [
    "# while loop\n",
    "list2=[10,43,-23,45,-45,-65,45,-67,-28,-28]\n",
    "posnum=[]\n",
    "i=0\n",
    "while i<len(list2):\n",
    "    if list2[i]>0:\n",
    "        posnum.append(list2[i])\n",
    "    i+=1\n",
    "print(\"oreganal list is:\",list2)\n",
    "print(\"after removing negative number:\",posnum)"
   ]
  },
  {
   "cell_type": "code",
   "execution_count": 15,
   "id": "697cc229-4e48-43a9-b202-a4459f752b9e",
   "metadata": {},
   "outputs": [
    {
     "name": "stdout",
     "output_type": "stream",
     "text": [
      "origanl list is [34, 56, 80, 89, 76, 87, 100]\n",
      " squre of list is: [1156, 3136, 6400, 7921, 5776, 7569, 10000]\n"
     ]
    }
   ],
   "source": [
    "# 25 creat a new list with squre of number form another list\n",
    "list1=[34,56,80,89,76,87,100]\n",
    "sqrlist=[]\n",
    "for i in list1:\n",
    "    sqr=i**2\n",
    "    sqrlist.append(sqr)\n",
    "print(\"origanl list is\",list1)\n",
    "print(\" squre of list is:\",sqrlist)\n"
   ]
  },
  {
   "cell_type": "raw",
   "id": "c332b2a1-1fce-4cf1-800a-d808c6f3f539",
   "metadata": {},
   "source": []
  },
  {
   "cell_type": "code",
   "execution_count": 17,
   "id": "04edffa9-3f33-4245-91c5-d142c4045493",
   "metadata": {},
   "outputs": [
    {
     "name": "stdout",
     "output_type": "stream",
     "text": [
      "origanal list is: [34, 56, 80, 89, 76, 87, 100]\n",
      " squre of list is: [1156, 3136, 6400, 7921, 5776, 7569, 10000]\n"
     ]
    }
   ],
   "source": [
    "# while loop\n",
    "list1=[34,56,80,89,76,87,100]\n",
    "sqrlist=[]\n",
    "i=0\n",
    "while i<len(list1):\n",
    "    sqr=list1[i]**2\n",
    "    sqrlist.append(sqr)\n",
    "    i+=1\n",
    "print(\"origanal list is:\",list1)\n",
    "print(\" squre of list is:\",sqrlist)\n"
   ]
  },
  {
   "cell_type": "code",
   "execution_count": 20,
   "id": "ee63f272-e2e1-437c-98e9-61ffcbfdb980",
   "metadata": {},
   "outputs": [
    {
     "name": "stdin",
     "output_type": "stream",
     "text": [
      "enter your data kartik\n"
     ]
    },
    {
     "name": "stdout",
     "output_type": "stream",
     "text": [
      " vowels in string is: ['a', 'i']\n"
     ]
    }
   ],
   "source": [
    "# 26 count a number of vowel in string\n",
    "string=input(\"enter your data\")\n",
    "vow=\"aeoiuAEIOU\"\n",
    "vowlist=[]\n",
    "for i in string:\n",
    "    if i in vow:\n",
    "        vowlist.append(i)\n",
    "print(\" vowels in string is:\",vowlist)"
   ]
  },
  {
   "cell_type": "code",
   "execution_count": 24,
   "id": "4e7a199b-0496-4b92-a520-338981f35c1e",
   "metadata": {},
   "outputs": [
    {
     "name": "stdin",
     "output_type": "stream",
     "text": [
      "enter your data KARTIK\n"
     ]
    },
    {
     "name": "stdout",
     "output_type": "stream",
     "text": [
      " vowels in string : ['A', 'I']\n"
     ]
    }
   ],
   "source": [
    "# while loop\n",
    "string=input(\"enter your data\")\n",
    "vow=\"aeiouAEIOU\"\n",
    "vowlist=[]\n",
    "i=0\n",
    "while i<len(string):\n",
    "    if string[i] in vow:\n",
    "        vowlist.append(string[i])\n",
    "    i+=1\n",
    "print(\" vowels in string :\",vowlist)\n",
    "    "
   ]
  },
  {
   "cell_type": "code",
   "execution_count": 27,
   "id": "b29c37f8-e3df-4466-a785-6cc6da62356a",
   "metadata": {},
   "outputs": [
    {
     "name": "stdin",
     "output_type": "stream",
     "text": [
      "enter name kayak\n"
     ]
    },
    {
     "name": "stdout",
     "output_type": "stream",
     "text": [
      " palindrom\n"
     ]
    }
   ],
   "source": [
    "# 27 check astring is a palindrom\n",
    "string1=input(\"enter name\")\n",
    "string=string1.lower()\n",
    "rev=\"\"\n",
    "for char in string:\n",
    "    rev=char+rev\n",
    "if string==rev:\n",
    "    print(\" palindrom\")\n",
    "else:\n",
    "    print(\"not palindrom\")"
   ]
  },
  {
   "cell_type": "code",
   "execution_count": 31,
   "id": "a82b6894-6cd6-4546-879b-103952ef2fe8",
   "metadata": {},
   "outputs": [
    {
     "name": "stdin",
     "output_type": "stream",
     "text": [
      "enter name kayak\n"
     ]
    },
    {
     "name": "stdout",
     "output_type": "stream",
     "text": [
      "palindrom\n"
     ]
    }
   ],
   "source": [
    "# while loop\n",
    "string1=input(\"enter name\")\n",
    "string=string1.lower()\n",
    "res=\"\"\n",
    "while string != \"\":\n",
    "    if res[::-1]==res:\n",
    "        print(\"palindrom\")\n",
    "    else:\n",
    "        print(\" not palindrom\")\n",
    "    string==\"\"\n",
    "    break"
   ]
  },
  {
   "cell_type": "code",
   "execution_count": 38,
   "id": "3e2d4e84-1560-4117-9fdc-652da874d646",
   "metadata": {},
   "outputs": [
    {
     "name": "stdin",
     "output_type": "stream",
     "text": [
      "enter number 10\n"
     ]
    },
    {
     "name": "stdout",
     "output_type": "stream",
     "text": [
      "0 1 1 2 3 5 8 13 21 34 55 89 144\n"
     ]
    }
   ],
   "source": [
    "# 28 print a fabonecci series up to n turms using loop\n",
    "n=int(input(\"enter number\"))\n",
    "a=0\n",
    "b=1\n",
    "for _ in range(n+1):\n",
    "    print(a,end=\" \")\n",
    "    a,b=b,a+b\n",
    "print(a,b)"
   ]
  },
  {
   "cell_type": "code",
   "execution_count": 39,
   "id": "111012c4-88c0-4bab-b8b9-4b7b1ffdcf77",
   "metadata": {},
   "outputs": [
    {
     "name": "stdin",
     "output_type": "stream",
     "text": [
      " enter any number 10\n"
     ]
    },
    {
     "name": "stdout",
     "output_type": "stream",
     "text": [
      "0 1 1 2 3 5 8 13 21 34 55 89 144\n"
     ]
    }
   ],
   "source": [
    "# while loop\n",
    "n=int(input(\" enter any number\"))\n",
    "a=0\n",
    "b=1\n",
    "i=0\n",
    "while i<n+1:\n",
    "    print(a,end=\" \")\n",
    "    a,b=b,a+b\n",
    "    i+=1\n",
    "print(a,b)"
   ]
  },
  {
   "cell_type": "code",
   "execution_count": 40,
   "id": "e590b55a-8d8c-4a59-aa17-cba65cf21cca",
   "metadata": {},
   "outputs": [],
   "source": [
    "# 29 find the GCD of two number \n"
   ]
  },
  {
   "cell_type": "code",
   "execution_count": 42,
   "id": "cd82c5f6-a769-41aa-8e3b-910d23bd14c1",
   "metadata": {},
   "outputs": [
    {
     "name": "stdout",
     "output_type": "stream",
     "text": [
      "A\n",
      "BB\n",
      "CCC\n",
      "DDDD\n"
     ]
    }
   ],
   "source": [
    "# 30 print pattern\n",
    "# A\n",
    "# BB\n",
    "# CCC\n",
    "# DDDD\n",
    "\n",
    "for i in range(1,5):\n",
    "    print(chr(64+i)*i)"
   ]
  },
  {
   "cell_type": "code",
   "execution_count": 55,
   "id": "f63d47a8-5fd5-442d-9dbd-b914797e43bc",
   "metadata": {},
   "outputs": [
    {
     "name": "stdout",
     "output_type": "stream",
     "text": [
      "A\n",
      "BB\n",
      "CCC\n",
      "DDDD\n"
     ]
    }
   ],
   "source": [
    "#while loop\n",
    "i=1\n",
    "j=5\n",
    "while i<j:\n",
    "    print(chr(64+i)*i)\n",
    "    i+=1\n",
    "    \n",
    "    "
   ]
  },
  {
   "cell_type": "code",
   "execution_count": 63,
   "id": "5350796e-9381-49a4-9326-c6dd6c422e8a",
   "metadata": {},
   "outputs": [
    {
     "name": "stdout",
     "output_type": "stream",
     "text": [
      "2 3 5 7 11 13 17 19 23 29 31 37 41 43 47 53 59 61 67 71 73 79 83 89 97 "
     ]
    }
   ],
   "source": [
    "# print prime number between 1 to 100\n",
    "for num in range (2,101):\n",
    "    prime=True\n",
    "    for i in range(2,int(num**0.5)+1):\n",
    "        if num%i==0:\n",
    "            prime=False\n",
    "            break\n",
    "    if prime:\n",
    "        print(num,end=\" \")"
   ]
  },
  {
   "cell_type": "code",
   "execution_count": 68,
   "id": "73a1cde6-cc8d-4dee-b9d5-8064981d49b4",
   "metadata": {},
   "outputs": [
    {
     "name": "stdout",
     "output_type": "stream",
     "text": [
      "2 3 5 7 11 13 17 19 23 29 31 37 41 43 47 53 59 61 67 71 73 79 83 89 97 "
     ]
    }
   ],
   "source": [
    "# while loop\n",
    "num=2\n",
    "while num<=100:\n",
    "    prime=True\n",
    "    i=2\n",
    "    while i<num:\n",
    "        if num%i==0:\n",
    "            prime=False\n",
    "            break\n",
    "        i+=1\n",
    "    if prime:\n",
    "        print(num,end=\" \")\n",
    "    num+=1"
   ]
  },
  {
   "cell_type": "code",
   "execution_count": 79,
   "id": "ee4764cf-0f58-45bb-9fac-0bca2660fe04",
   "metadata": {},
   "outputs": [
    {
     "name": "stdout",
     "output_type": "stream",
     "text": [
      "*\n",
      "**\n",
      "***\n",
      "****\n",
      "****\n",
      "***\n",
      "**\n",
      "*\n"
     ]
    }
   ],
   "source": [
    "i=1\n",
    "j=5\n",
    "while i<j:\n",
    "    print(\"*\"*i)\n",
    "    i+=1\n",
    "i=j-1\n",
    "while i>=1:\n",
    "    print(\"*\"*i)\n",
    "    i-=1"
   ]
  },
  {
   "cell_type": "code",
   "execution_count": 102,
   "id": "0501873f-7c1c-4ad9-9822-9a5b68fd50fa",
   "metadata": {},
   "outputs": [
    {
     "name": "stdout",
     "output_type": "stream",
     "text": [
      "*      *\n",
      "**    **\n",
      "***  ***\n",
      "********\n",
      "***  ***\n",
      "**    **\n",
      "*      *\n"
     ]
    }
   ],
   "source": [
    "rows=4\n",
    "for i in range(1,rows+1):\n",
    "    for j in range(i):\n",
    "        print(\"*\",end=\"\")\n",
    "    space=2*(rows-i)\n",
    "    for j in range(space):\n",
    "        print(\" \",end=\"\")\n",
    "    for j in range(i):\n",
    "        print(\"*\",end=\"\")\n",
    "    print()\n",
    "for i in range(rows-1,0,-1):\n",
    "    for j in range(i):\n",
    "        print(\"*\",end=\"\")\n",
    "    space=2*(rows-i)\n",
    "    for j in range(space):\n",
    "        print(\" \",end=\"\")\n",
    "    for j in range(i):\n",
    "        print(\"*\",end=\"\")\n",
    "    print()"
   ]
  },
  {
   "cell_type": "code",
   "execution_count": null,
   "id": "6c2626be-2f5f-4baf-94fe-a973a6aacb99",
   "metadata": {},
   "outputs": [],
   "source": []
  }
 ],
 "metadata": {
  "kernelspec": {
   "display_name": "Python 3 (ipykernel)",
   "language": "python",
   "name": "python3"
  },
  "language_info": {
   "codemirror_mode": {
    "name": "ipython",
    "version": 3
   },
   "file_extension": ".py",
   "mimetype": "text/x-python",
   "name": "python",
   "nbconvert_exporter": "python",
   "pygments_lexer": "ipython3",
   "version": "3.13.5"
  }
 },
 "nbformat": 4,
 "nbformat_minor": 5
}
