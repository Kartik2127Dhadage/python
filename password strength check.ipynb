{
 "cells": [
  {
   "cell_type": "raw",
   "id": "253f1be9-6376-499f-b4b7-5a1be580f845",
   "metadata": {},
   "source": []
  },
  {
   "cell_type": "code",
   "execution_count": 31,
   "id": "0553ca07-61a3-40b2-a72f-26f90ffac5c3",
   "metadata": {},
   "outputs": [
    {
     "name": "stdin",
     "output_type": "stream",
     "text": [
      "Enter your password:  Kartik@1234\n"
     ]
    },
    {
     "name": "stdout",
     "output_type": "stream",
     "text": [
      "Your Password is strong.\n"
     ]
    }
   ],
   "source": [
    "import string\n",
    "\n",
    "password = input(\"Enter your password: \")\n",
    "\n",
    "if len(password) >= 8:\n",
    "    alphabet = False\n",
    "    uppercase = False\n",
    "    digit = False\n",
    "    special_char = False\n",
    "\n",
    "    for char in password:\n",
    "        if char in string.ascii_letters:\n",
    "            alphabet = True\n",
    "        if char in string.ascii_uppercase:\n",
    "            uppercase = True\n",
    "        if char in string.digits:\n",
    "            digit = True\n",
    "        if char in string.punctuation:\n",
    "            special_char = True\n",
    "\n",
    "    if alphabet and uppercase and digit and special_char:\n",
    "        print(\"Your Password is strong.\")\n",
    "    else:\n",
    "        print(\"Your Password is Weak,Please make sure it includes: \")\n",
    "        if not alphabet:\n",
    "           print(\"At least one alphabet charecter in your password (a-z or A-Z) \")\n",
    "        if not uppercase:\n",
    "           print(\"At least one uppercase letter in Your passsword (A-Z)\")\n",
    "        if not digit:\n",
    "            print(\"At least one digit in your password (0-9)\")\n",
    "        if not special_char:\n",
    "            print(\"At least one special charector in your password e.g(@,$,#)\")\n",
    "else:\n",
    "    print(\"Your password length is too short. Minimum password length is 8 characters.\")\n"
   ]
  },
  {
   "cell_type": "code",
   "execution_count": null,
   "id": "9e782738-9564-4d4e-94d6-a2626c7d3af5",
   "metadata": {},
   "outputs": [],
   "source": []
  }
 ],
 "metadata": {
  "kernelspec": {
   "display_name": "Python 3 (ipykernel)",
   "language": "python",
   "name": "python3"
  },
  "language_info": {
   "codemirror_mode": {
    "name": "ipython",
    "version": 3
   },
   "file_extension": ".py",
   "mimetype": "text/x-python",
   "name": "python",
   "nbconvert_exporter": "python",
   "pygments_lexer": "ipython3",
   "version": "3.13.5"
  }
 },
 "nbformat": 4,
 "nbformat_minor": 5
}
