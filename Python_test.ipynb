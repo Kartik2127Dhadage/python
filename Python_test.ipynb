{
 "cells": [
  {
   "cell_type": "markdown",
   "id": "13ae8c8f-7b52-41cd-bdad-c787c2e382ad",
   "metadata": {},
   "source": [
    "## practice set\n"
   ]
  },
  {
   "cell_type": "code",
   "execution_count": 1,
   "id": "4a540fe9-26cd-4111-8436-4551f3e446ea",
   "metadata": {},
   "outputs": [
    {
     "name": "stdin",
     "output_type": "stream",
     "text": [
      "enter your age 48\n"
     ]
    },
    {
     "name": "stdout",
     "output_type": "stream",
     "text": [
      "you are adult\n"
     ]
    }
   ],
   "source": [
    "# 1. Write a function to classifiy a person's age group child,teen,adult,senior\n",
    "\n",
    "age=int(input(\"enter your age\"))\n",
    "if age<=5:\n",
    "    print(\"you are child\")\n",
    "elif age>6 and age<=19:\n",
    "    print(\"you are teenager\")\n",
    "elif age>=20 and age<60:\n",
    "    print(\"you are adult\")\n",
    "elif age>=60:\n",
    "    print(\"you are senior\")"
   ]
  },
  {
   "cell_type": "code",
   "execution_count": 4,
   "id": "d6bf419c-3d5f-4854-a27a-4f43688cea6a",
   "metadata": {},
   "outputs": [
    {
     "name": "stdin",
     "output_type": "stream",
     "text": [
      "enter your string kartik\n"
     ]
    },
    {
     "name": "stdout",
     "output_type": "stream",
     "text": [
      " string are not palindrome\n"
     ]
    }
   ],
   "source": [
    "# 2 write a function to check a string a palindrome \n",
    "\n",
    "string=input(\"enter your string\")\n",
    "rev=string[::-1]\n",
    "if string==rev:\n",
    "    print(\"string is palindrome\")\n",
    "else:\n",
    "    print(\" string are not palindrome\")"
   ]
  },
  {
   "cell_type": "code",
   "execution_count": 35,
   "id": "014486f3-161e-4f9e-a53a-522c39fa0d85",
   "metadata": {},
   "outputs": [
    {
     "name": "stdin",
     "output_type": "stream",
     "text": [
      "Enter your number:  190\n"
     ]
    },
    {
     "name": "stdout",
     "output_type": "stream",
     "text": [
      "190 is not in the range 1 to 100.\n"
     ]
    }
   ],
   "source": [
    "# 3 write a function to check if number is within a given range(1-100)\n",
    "num = int(input(\"Enter your number: \"))\n",
    "if num < 1 or num > 100:\n",
    "    print(f\"{num} is not in the range 1 to 100.\")\n",
    "else:\n",
    "    print(f\"{num} is in the range 1 to 100.\")"
   ]
  },
  {
   "cell_type": "code",
   "execution_count": 13,
   "id": "1c7e1ce9-b8c5-4fcd-b5eb-8a3dd91fdcc9",
   "metadata": {},
   "outputs": [
    {
     "name": "stdin",
     "output_type": "stream",
     "text": [
      "enter your number 10\n"
     ]
    },
    {
     "name": "stdout",
     "output_type": "stream",
     "text": [
      "total sum of the numbe is : 55\n"
     ]
    }
   ],
   "source": [
    "# 4 write a function to find the sum of the numbers from 1 to n\n",
    "n=int(input(\"enter your number\"))\n",
    "sum1=0\n",
    "for i in range(1,n+1):\n",
    "    sum1+=i\n",
    "print(\"total sum of the numbe is :\",sum1)"
   ]
  },
  {
   "cell_type": "code",
   "execution_count": 19,
   "id": "aeb69493-f3af-4fae-9896-e484d8918650",
   "metadata": {},
   "outputs": [
    {
     "name": "stdin",
     "output_type": "stream",
     "text": [
      "Enter your numbers separated by space:  4 5 6\n"
     ]
    },
    {
     "name": "stdout",
     "output_type": "stream",
     "text": [
      "Original list: [4, 5, 6]\n",
      "Factorials: [24, 120, 720]\n"
     ]
    }
   ],
   "source": [
    "# 5 write a function to take n users number and find the factorial of all number \n",
    "list1 = []\n",
    "n = input(\"Enter your numbers separated by space: \").split()\n",
    "for i in n:\n",
    "    list1.append(int(i))\n",
    "\n",
    "print(\"Original list:\", list1)\n",
    "\n",
    "factlist = []\n",
    "\n",
    "for i in list1:\n",
    "    fact = 1\n",
    "    for j in range(1, i + 1):\n",
    "        fact *= j\n",
    "    factlist.append(fact)\n",
    "\n",
    "print(\"Factorials:\", factlist)\n",
    "    "
   ]
  },
  {
   "cell_type": "code",
   "execution_count": 20,
   "id": "0a7abbc0-f07b-4b70-80a8-51907863ae9d",
   "metadata": {},
   "outputs": [
    {
     "name": "stdout",
     "output_type": "stream",
     "text": [
      "[7, 14, 21, 28, 42, 49, 56, 63, 77, 84, 91, 98]\n"
     ]
    }
   ],
   "source": [
    "#6 write a function to print al number divisible by 7 but not by 5 from (1,100)\n",
    "numlist=[]\n",
    "for i in range(1,101):\n",
    "    if i%7==0 and i%5!=0:\n",
    "        numlist.append(i)\n",
    "print(numlist)"
   ]
  },
  {
   "cell_type": "code",
   "execution_count": 21,
   "id": "ea6911b9-8a25-432b-ac0c-9340d7379249",
   "metadata": {},
   "outputs": [
    {
     "name": "stdout",
     "output_type": "stream",
     "text": [
      "\n",
      "*\n",
      "**\n",
      "***\n",
      "****\n",
      "*****\n"
     ]
    }
   ],
   "source": [
    "# 7 print the pattern\n",
    "# *\n",
    "# **\n",
    "# ***\n",
    "# ****\n",
    "for i in range(0,6):\n",
    "    print(\"*\"*i)"
   ]
  },
  {
   "cell_type": "code",
   "execution_count": 22,
   "id": "29934ae8-d53e-4d1c-9410-49ce01bc26fa",
   "metadata": {},
   "outputs": [
    {
     "name": "stdout",
     "output_type": "stream",
     "text": [
      "******\n",
      "*****\n",
      "****\n",
      "***\n",
      "**\n",
      "*\n"
     ]
    }
   ],
   "source": [
    "# 8 print patter like this\n",
    "#*****\n",
    "#****\n",
    "#***\n",
    "#**\n",
    "#*\n",
    "i=6\n",
    "j=0\n",
    "while i>j:\n",
    "    print(\"*\"*i)\n",
    "    i-=1"
   ]
  },
  {
   "cell_type": "code",
   "execution_count": 25,
   "id": "3a1584dd-2159-4815-9ac5-8ddfe7d701c6",
   "metadata": {},
   "outputs": [
    {
     "name": "stdin",
     "output_type": "stream",
     "text": [
      "enter your number 12\n",
      "enter your number 6\n",
      "enter your number 46\n",
      "enter your number 88\n",
      "enter your number 77\n",
      "enter your number 89\n",
      "enter your number 53\n",
      "enter your number 3\n",
      "enter your number 0\n"
     ]
    },
    {
     "name": "stdout",
     "output_type": "stream",
     "text": [
      "list entered by user [12, 6, 46, 88, 77, 89, 53, 3]\n",
      "list of even number [12, 6, 46, 88]\n",
      "sum of the even list is: 152  avarage of list= 38.0\n",
      " list if odd number [77, 89, 53, 3]\n",
      "sum of the odd numbe list is: 222 avarage of list= 55.5\n"
     ]
    }
   ],
   "source": [
    "# 9 writea function to takes n users numbers and display even and odd seprataly and find their sum and avarage\n",
    "list1=[]\n",
    "evenlist=[]\n",
    "evenlen=0\n",
    "evensum=0\n",
    "evenavg=0\n",
    "oddlist=[]\n",
    "oddlen=0\n",
    "oddsum=0\n",
    "oddavg=0\n",
    "while True:\n",
    "    n=int(input(\"enter your number\"))\n",
    "    if n==0:\n",
    "        break\n",
    "    list1.append(n)\n",
    "    if n%2==0:\n",
    "        evenlist.append(n)\n",
    "        evenlen+=1\n",
    "        evensum+=n\n",
    "        evenavg=evensum/evenlen\n",
    "    else:\n",
    "        oddlist.append(n)\n",
    "        oddlen+=1\n",
    "        oddsum+=n\n",
    "        oddavg=oddsum/oddlen\n",
    "\n",
    "print(\"list entered by user\",list1)\n",
    "print(\"list of even number\",evenlist)\n",
    "print(\"sum of the even list is:\",evensum,\" avarage of list=\",evenavg)\n",
    "print(\" list if odd number\",oddlist)\n",
    "print(\"sum of the odd numbe list is:\",oddsum,\"avarage of list=\",oddavg)"
   ]
  },
  {
   "cell_type": "code",
   "execution_count": 28,
   "id": "3415a870-f6a4-489e-ac45-6fb6112be422",
   "metadata": {},
   "outputs": [
    {
     "name": "stdout",
     "output_type": "stream",
     "text": [
      "total vowel in the string is : ['e', 'u', 'i', 'o', 'o', 'u', 'o', 'e', 'e', 'a', 'o'] = 11\n",
      " total consonant in the string is : ['T', 'h', 'q', 'c', 'k', 'b', 'r', 'w', 'n', 'f', 'x', 'j', 'm', 'p', 's', 'v', 'r', 't', 'h', 'l', 'z', 'y', 'd', 'g'] = 24\n"
     ]
    }
   ],
   "source": [
    "# 10 creat a function to count the number of vowel and cansonant in a string\n",
    "string1=\"The quick brown fox jumps over the lazy dog\"\n",
    "string=string1.replace(\" \",\"\")\n",
    "vow=\"aeiouAEIOU\"\n",
    "vowlist=[]\n",
    "vowcount=0\n",
    "conslist=[]\n",
    "consCount=0\n",
    "for i in string:\n",
    "    if i in vow:\n",
    "        #print(i)\n",
    "        vowlist.append(i)\n",
    "        vowcount+=1\n",
    "    else:\n",
    "        conslist.append(i)\n",
    "        consCount+=1\n",
    "print(\"total vowel in the string is :\",vowlist,\"=\",vowcount)\n",
    "print(\" total consonant in the string is :\",conslist,\"=\",consCount)"
   ]
  },
  {
   "cell_type": "code",
   "execution_count": 45,
   "id": "668fe739-e848-4f93-99cd-3e729ec58990",
   "metadata": {},
   "outputs": [
    {
     "name": "stdin",
     "output_type": "stream",
     "text": [
      "enter your word bharat\n",
      "enter your word bhishama\n",
      "enter your word bugati\n",
      "enter your word bat\n",
      "enter your word kartik\n",
      "enter your word mango\n",
      "enter your word shivraj\n",
      "enter your word BHARAT\n",
      "enter your word BUGATI\n",
      "enter your word hero\n"
     ]
    },
    {
     "name": "stdout",
     "output_type": "stream",
     "text": [
      " user entered list= ['bharat', 'bhishama', 'bugati', 'bat', 'kartik', 'mango', 'shivraj', 'BHARAT', 'BUGATI', 'hero']\n",
      " word start charector from b ['bharat', 'bhishama', 'bugati', 'bat', 'BHARAT', 'BUGATI']\n"
     ]
    }
   ],
   "source": [
    "# 11 create a function to take 10 words from user and display words start from charector \"B\"\n",
    "list1=[]\n",
    "for i in iter(int,1):\n",
    "    word=input(\"enter your word\")\n",
    "    list1.append(word)\n",
    "    if len(list1)==10:\n",
    "        break\n",
    "startB=[]\n",
    "for i in list1:\n",
    "    if i[0]==\"b\" or i[0]==\"B\":\n",
    "        startB.append(i)\n",
    "print(\" user entered list=\",list1)\n",
    "print(\" word start charector from b\",startB)"
   ]
  },
  {
   "cell_type": "code",
   "execution_count": 11,
   "id": "af8dcaf6-d073-4c98-892b-f0515adc6a41",
   "metadata": {},
   "outputs": [
    {
     "name": "stdout",
     "output_type": "stream",
     "text": [
      "[8, 6, 10, 7, 6, 7, 5, 8, 7, 8, 6, 7, 8, 4, 5, 7, 6, 6, 6, 6]\n"
     ]
    }
   ],
   "source": [
    "# Q12. Define a function to count total length ofwords in list\n",
    "words = [\"Tranquil\",\"Meadow\" ,\"Illuminate\", \"Whisper\",\"Serene\",\"Cascade\",\"Ember\",\"Twilight\",\"Glimmer\",\"Solitude\", \"Wander\",\"Horizon\",\"Luminous\",\"Echo\", \"Drift\",\"Radiant\", \"Murmur\",\"Velvet\",\"Breeze\",\"Ethere\"]\n",
    "def wordCount():\n",
    "    wordlen=[]\n",
    "    for i in words:\n",
    "        wordlength=0\n",
    "        for j in i:\n",
    "            wordlength+=1\n",
    "        wordlen.append(wordlength)\n",
    "    print(wordlen)      \n",
    "wordCount()"
   ]
  },
  {
   "cell_type": "code",
   "execution_count": 12,
   "id": "327775e1-8114-4a02-a8ad-02303e4a916a",
   "metadata": {},
   "outputs": [
    {
     "name": "stdout",
     "output_type": "stream",
     "text": [
      "sum of total number is : 45\n"
     ]
    }
   ],
   "source": [
    "#13 write a function to find the sum of a string's \n",
    "number=\"1234567890\"\n",
    "sum1=0\n",
    "for i in number:\n",
    "    sum1+=int(i)\n",
    "print(\"sum of total number is :\",sum1)"
   ]
  },
  {
   "cell_type": "code",
   "execution_count": 13,
   "id": "5e7d0874-a2a1-483b-bfa7-9512c173715c",
   "metadata": {},
   "outputs": [
    {
     "data": {
      "text/plain": [
       "[1,\n",
       " 8,\n",
       " 27,\n",
       " 64,\n",
       " 125,\n",
       " 216,\n",
       " 343,\n",
       " 512,\n",
       " 729,\n",
       " 1000,\n",
       " 1331,\n",
       " 1728,\n",
       " 2197,\n",
       " 2744,\n",
       " 3375,\n",
       " 4096,\n",
       " 4913,\n",
       " 5832,\n",
       " 6859,\n",
       " 8000,\n",
       " 9261,\n",
       " 10648,\n",
       " 12167,\n",
       " 13824,\n",
       " 15625,\n",
       " 17576,\n",
       " 19683,\n",
       " 21952,\n",
       " 24389,\n",
       " 27000,\n",
       " 29791,\n",
       " 32768,\n",
       " 35937,\n",
       " 39304,\n",
       " 42875,\n",
       " 46656,\n",
       " 50653,\n",
       " 54872,\n",
       " 59319,\n",
       " 64000,\n",
       " 68921,\n",
       " 74088,\n",
       " 79507,\n",
       " 85184,\n",
       " 91125,\n",
       " 97336,\n",
       " 103823,\n",
       " 110592,\n",
       " 117649,\n",
       " 125000]"
      ]
     },
     "execution_count": 13,
     "metadata": {},
     "output_type": "execute_result"
    }
   ],
   "source": [
    "#14 write a function to display cube of numbers from 1=50 in a list\n",
    "[ i**3 for i in range(1,51)]"
   ]
  },
  {
   "cell_type": "code",
   "execution_count": 15,
   "id": "8016c504-fa2e-4418-8702-15135e3e1c24",
   "metadata": {},
   "outputs": [
    {
     "name": "stdin",
     "output_type": "stream",
     "text": [
      "enter celsius 0\n"
     ]
    },
    {
     "name": "stdout",
     "output_type": "stream",
     "text": [
      "32.0\n"
     ]
    }
   ],
   "source": [
    "# 15 write a function to convert Celsius to Farenheit.\n",
    "C=int(input(\"enter celsius\"))\n",
    "farenheit=((C*9/5)+32)\n",
    "print(farenheit)"
   ]
  },
  {
   "cell_type": "code",
   "execution_count": null,
   "id": "07d8477b-422c-468b-9d7d-98322d963e8b",
   "metadata": {},
   "outputs": [],
   "source": []
  }
 ],
 "metadata": {
  "kernelspec": {
   "display_name": "Python 3 (ipykernel)",
   "language": "python",
   "name": "python3"
  },
  "language_info": {
   "codemirror_mode": {
    "name": "ipython",
    "version": 3
   },
   "file_extension": ".py",
   "mimetype": "text/x-python",
   "name": "python",
   "nbconvert_exporter": "python",
   "pygments_lexer": "ipython3",
   "version": "3.13.5"
  }
 },
 "nbformat": 4,
 "nbformat_minor": 5
}
