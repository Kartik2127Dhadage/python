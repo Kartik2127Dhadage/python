{
 "cells": [
  {
   "cell_type": "code",
   "execution_count": 11,
   "id": "1f793d38-5dd5-4f13-a17f-f22cc5fb3dff",
   "metadata": {},
   "outputs": [
    {
     "name": "stdout",
     "output_type": "stream",
     "text": [
      "kartik dhadge\n"
     ]
    }
   ],
   "source": [
    "x1=\"kartik\"\n",
    "x2=\"dhadge\"\n",
    "y=x1+\" \"+x2\n",
    "print(y)"
   ]
  },
  {
   "cell_type": "code",
   "execution_count": 17,
   "id": "c6e40a9d-ced2-47da-b216-58c0a12eb2e2",
   "metadata": {},
   "outputs": [
    {
     "name": "stdout",
     "output_type": "stream",
     "text": [
      "kartikkartikkartikkartikkartikkartikkartikkartikkartikkartik\n"
     ]
    }
   ],
   "source": [
    "x=\"kartik\"\n",
    "repeat=x*10\n",
    "print(repeat)"
   ]
  },
  {
   "cell_type": "code",
   "execution_count": 18,
   "id": "42377e75-74b0-4c93-b870-1c99f204342f",
   "metadata": {},
   "outputs": [
    {
     "name": "stdout",
     "output_type": "stream",
     "text": [
      "4\n"
     ]
    }
   ],
   "source": [
    "y=\"hello world\"\n",
    "n=y.find(\"o\")\n",
    "print(n)"
   ]
  },
  {
   "cell_type": "code",
   "execution_count": 20,
   "id": "24180651-9f98-4e86-be93-7dac52fd5007",
   "metadata": {},
   "outputs": [
    {
     "name": "stdout",
     "output_type": "stream",
     "text": [
      "hello world\n",
      "Hello World\n",
      "HELLO WORLD\n",
      "hello world\n",
      "Hello world\n"
     ]
    }
   ],
   "source": [
    "a=\"HELLO WORLD\"\n",
    "print(a.casefold())\n",
    "print(a.title())\n",
    "print(a.upper())\n",
    "print(a.lower())\n",
    "print(a.capitalize())"
   ]
  },
  {
   "cell_type": "code",
   "execution_count": 23,
   "id": "d2b56ef1-5c43-463d-ac1e-b29a553e5078",
   "metadata": {},
   "outputs": [
    {
     "data": {
      "text/plain": [
       "'b@n@n@'"
      ]
     },
     "execution_count": 23,
     "metadata": {},
     "output_type": "execute_result"
    }
   ],
   "source": [
    "c=\"banana\"\n",
    "c.replace(\"a\",\"@\")"
   ]
  },
  {
   "cell_type": "code",
   "execution_count": 31,
   "id": "6d881bcf-efd5-4e77-ad77-73592a7d9628",
   "metadata": {},
   "outputs": [
    {
     "name": "stdout",
     "output_type": "stream",
     "text": [
      "apple|banana|orange|kokonat\n"
     ]
    }
   ],
   "source": [
    "txt='apple,banana,orange,kokonat'\n",
    "b=txt.split(\",\")\n",
    "n=\"|\".join(b)\n",
    "print(n)"
   ]
  },
  {
   "cell_type": "code",
   "execution_count": 32,
   "id": "24c1fe99-b9c1-4bdd-8cd6-db8b76773dd1",
   "metadata": {},
   "outputs": [
    {
     "data": {
      "text/plain": [
       "'kartik'"
      ]
     },
     "execution_count": 32,
     "metadata": {},
     "output_type": "execute_result"
    }
   ],
   "source": [
    "str1=\"    kartik     \"\n",
    "str1.strip()"
   ]
  },
  {
   "cell_type": "code",
   "execution_count": 36,
   "id": "b239dd81-02ca-43fd-8039-80bc55bf3964",
   "metadata": {},
   "outputs": [
    {
     "name": "stdout",
     "output_type": "stream",
     "text": [
      "0\n"
     ]
    }
   ],
   "source": [
    "f=\"banana\"\n",
    "print(f.count(a))"
   ]
  },
  {
   "cell_type": "code",
   "execution_count": null,
   "id": "47c0c895-193d-4b97-9157-858bb089fb8f",
   "metadata": {},
   "outputs": [],
   "source": []
  },
  {
   "cell_type": "code",
   "execution_count": null,
   "id": "50572c3e-3c27-4d2e-a9cd-704a35bc596a",
   "metadata": {},
   "outputs": [],
   "source": []
  },
  {
   "cell_type": "code",
   "execution_count": null,
   "id": "fccda83d-be7b-4d94-8d77-7c95aed6c5b0",
   "metadata": {},
   "outputs": [],
   "source": []
  },
  {
   "cell_type": "code",
   "execution_count": null,
   "id": "24d73917-11b5-4dc2-b0ca-659e23dbba4e",
   "metadata": {},
   "outputs": [],
   "source": []
  },
  {
   "cell_type": "code",
   "execution_count": null,
   "id": "b6f3b3fe-2087-4b2d-921a-b42c6438d45b",
   "metadata": {},
   "outputs": [],
   "source": []
  }
 ],
 "metadata": {
  "kernelspec": {
   "display_name": "Python 3 (ipykernel)",
   "language": "python",
   "name": "python3"
  },
  "language_info": {
   "codemirror_mode": {
    "name": "ipython",
    "version": 3
   },
   "file_extension": ".py",
   "mimetype": "text/x-python",
   "name": "python",
   "nbconvert_exporter": "python",
   "pygments_lexer": "ipython3",
   "version": "3.13.5"
  }
 },
 "nbformat": 4,
 "nbformat_minor": 5
}
