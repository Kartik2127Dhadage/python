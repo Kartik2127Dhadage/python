{
 "cells": [
  {
   "cell_type": "markdown",
   "id": "44da4702-5525-4c97-a004-40e0e309266b",
   "metadata": {},
   "source": [
    "## Exception handaling \n",
    "* an exception handaling is an event which accurs during the execution of a program that disrupets the normal flow of the programs instructions\n",
    "* In genaral ,When a python scripts encounters that it cannot cope with it it relase exception.\n",
    "* An exception is a python object that repates an error.\n",
    "* When python script realise an exception it must either handle the exception immediatly otherwise it terminate and quits.\n",
    "* If you can some suspecious code that mey raise an exception you can defende you  program by placing the suspecious in a try:block.\n",
    "* After that try block include an except: ststement followed by a block of code which handels the problem as elegantly as possible.\n",
    "* Some common Expection\n",
    "    * ZeroDivisonError\n",
    "    * NameError\n",
    "    * ValuError\n",
    "    * IOError(inputoutputerror)\n",
    "    * EOFError(EndOf File Error)\n",
    "    * IndintationError"
   ]
  },
  {
   "cell_type": "code",
   "execution_count": null,
   "id": "71fe22ed-5ec5-4b17-bea1-803073ed681f",
   "metadata": {},
   "outputs": [],
   "source": [
    "try:\n",
    "    x=int(input(\"enter first number\"))\n",
    "    y=int(input(\"enter second number\"))\n",
    "    div=x/y\n",
    "    print(div)\n",
    "except:\n",
    "    print(\"error\")"
   ]
  },
  {
   "cell_type": "code",
   "execution_count": 7,
   "id": "4b927996-ea5d-450a-971b-bc42eea5a651",
   "metadata": {},
   "outputs": [
    {
     "name": "stdout",
     "output_type": "stream",
     "text": [
      "apple\n",
      "areoplane\n",
      "aircraft\n",
      "anajali\n",
      "array\n"
     ]
    }
   ],
   "source": [
    "# 1. write a programe to takes some string and print only start with a charector name.\n",
    "str1=['apple','areoplane','cat','aircraft','anajali','zhebra','carroat','array','karrtik']\n",
    "try:\n",
    "    def startA():\n",
    "        for i in str1:\n",
    "            if i[0]==\"a\" or i[0]==\"A\":\n",
    "                print(i)\n",
    "    startA()\n",
    "except:\n",
    "    print(\"error\")"
   ]
  },
  {
   "cell_type": "code",
   "execution_count": 23,
   "id": "7eb12a93-55d6-4fb7-bf7d-3f5d78423e5c",
   "metadata": {},
   "outputs": [
    {
     "name": "stdin",
     "output_type": "stream",
     "text": [
      "enter string apple\n",
      "enter string array\n",
      "enter string kartik\n",
      "enter string stop\n"
     ]
    },
    {
     "name": "stdout",
     "output_type": "stream",
     "text": [
      "['apple', 'array', 'kartik']\n",
      "['apple', 'array']\n"
     ]
    }
   ],
   "source": [
    "# 2. write a program that takes string from user and print string start with charector A.\n",
    "try:\n",
    "    def stringA():\n",
    "        list1=[]\n",
    "        startA=[]\n",
    "        while True:\n",
    "            stri=input(\"enter string\")\n",
    "            if stri==\"stop\":\n",
    "                break\n",
    "            list1.append(stri)\n",
    "            if stri[0]==\"a\" or stri[0]==\"A\":\n",
    "                startA.append(stri)\n",
    "        print(list1)\n",
    "        print(startA)\n",
    "                    \n",
    "    stringA()\n",
    "except:\n",
    "    print(\"error\")"
   ]
  },
  {
   "cell_type": "code",
   "execution_count": null,
   "id": "3973cc9e-d235-4dbb-8356-198f5a3626ea",
   "metadata": {},
   "outputs": [],
   "source": []
  }
 ],
 "metadata": {
  "kernelspec": {
   "display_name": "Python 3 (ipykernel)",
   "language": "python",
   "name": "python3"
  },
  "language_info": {
   "codemirror_mode": {
    "name": "ipython",
    "version": 3
   },
   "file_extension": ".py",
   "mimetype": "text/x-python",
   "name": "python",
   "nbconvert_exporter": "python",
   "pygments_lexer": "ipython3",
   "version": "3.13.5"
  }
 },
 "nbformat": 4,
 "nbformat_minor": 5
}
