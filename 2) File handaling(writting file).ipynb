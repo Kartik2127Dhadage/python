{
 "cells": [
  {
   "cell_type": "markdown",
   "id": "61816bf9-f920-4f62-b980-575fbd8674b0",
   "metadata": {},
   "source": [
    "## Writing Files in Python\n",
    "* To write a text file in Python, you follow these steps:\n",
    "* 1.First, open the text for writing (or appending) using the open function.\n",
    "* 2.Second, Write to the text file using write(), or writelines() method.\n",
    "* 3.Third, close the file using the close() method.\n",
    "#### Some characters and their functions\n",
    "* \"r\" --------------> Open file for reading only. Start reading from the beginning of the file. This is default mode.\n",
    "* \"rb\" --------------> Open file for reading only in binary format. Starts reading from the beginning of the text.\n",
    "* \"r+\" --------------> Open file for reading and writing. File pointer places at beginning of the file.\n",
    "* \"w\" --------------> Open file for writing only. File pointer placed at beginning of the file. Overwrites an existing file and creates a new one if it does not exist.\n",
    "* \"wb\" --------------> Same as W but opens in binary mode.\n",
    "* \"wb+\" -------------> Same as wb but also allows reading text from the file.\n",
    "* \"a\" ---------------> Open file for appending. Starts writing at the end of the file. Create a new file if the file does not exist.\n",
    "* \"ab\" --------------> Same as a but in binary format. Creates a new file if files does not exists.\n",
    "* \"ab+\"--------------> Same as ab but also open for reading."
   ]
  },
  {
   "cell_type": "code",
   "execution_count": 6,
   "id": "779403a3-036a-4096-8dae-1e6374bdb1cb",
   "metadata": {},
   "outputs": [],
   "source": [
    "x=\"C:\\\\Users\\\\webasha\\\\Desktop\\\\kartik.tex\"\n",
    "with open(x,\"w\") as f:\n",
    "    f.write(\"hello kartik \\n\")\n",
    "    f.write(\"how are you\")"
   ]
  },
  {
   "cell_type": "code",
   "execution_count": 8,
   "id": "3ec13e0b-4537-41fd-a97a-4b8b5d71a8ec",
   "metadata": {},
   "outputs": [],
   "source": [
    "x=\"C:\\\\Users\\\\webasha\\\\Desktop\\\\kartik.tex\"\n",
    "with open(x,\"a\") as f:\n",
    "    f.write(\" i am kartik\\n\")\n",
    "    f.write(\" i am completed  my education from Dr.Babasahe Ambedkar university\")"
   ]
  },
  {
   "cell_type": "code",
   "execution_count": 11,
   "id": "3c0010ce-bf1f-4405-919b-1e1dc34855a6",
   "metadata": {},
   "outputs": [
    {
     "name": "stdin",
     "output_type": "stream",
     "text": [
      "enter your file name kartik\n",
      "enter number of line value 2\n",
      "enter your line i am kartik\n",
      "enter your line i am 20 years old\n"
     ]
    }
   ],
   "source": [
    "fileName=input(\"enter your file name\")\n",
    "complited_Filename= \"C:\\\\Users\\\\webasha\\\\Desktop\\\\\"+fileName+\".txt\"\n",
    "with open(complited_Filename,\"a\") as x:\n",
    "    endPoint=int(input(\"enter number of line value\"))\n",
    "    for i in range(1,endPoint+1):\n",
    "        sent=input(\"enter your line\")\n",
    "        x.write(str(i))\n",
    "        x.write(\".\")\n",
    "        x.write(sent)\n",
    "        x.write(\"\\n\")"
   ]
  },
  {
   "cell_type": "code",
   "execution_count": 1,
   "id": "cec23c78-d263-4aaa-b708-6075bd3bfc8d",
   "metadata": {},
   "outputs": [
    {
     "name": "stdin",
     "output_type": "stream",
     "text": [
      "enter your file name kartik\n",
      "enter number of line value 1\n",
      "enter your line hello i am kartik\n"
     ]
    }
   ],
   "source": [
    "fileName=input(\"enter your file name\")\n",
    "complited_Filename= \"C:\\\\Users\\\\webasha\\\\Desktop\\\\\"+fileName+\".txt\"\n",
    "with open(complited_Filename,\"a\") as x:\n",
    "    try:\n",
    "        endPoint=int(input(\"enter number of line value\"))\n",
    "        for i in range(1,endPoint+1):\n",
    "            sent=input(\"enter your line\")\n",
    "            x.write(str(i))\n",
    "            x.write(\".\")\n",
    "            x.write(sent)\n",
    "            x.write(\"\\n\")\n",
    "    except ValueError:\n",
    "        print(\"enter numeric value\")"
   ]
  },
  {
   "cell_type": "code",
   "execution_count": 4,
   "id": "65d1fef8-9df6-41d3-ad10-a962f87c798c",
   "metadata": {},
   "outputs": [
    {
     "name": "stdin",
     "output_type": "stream",
     "text": [
      "enter your file name kartik\n",
      "enter your text here cat\n",
      "enter your text here rat\n",
      "enter your text here mat\n",
      "enter your text here stop\n"
     ]
    }
   ],
   "source": [
    "fileName1=input(\"enter your file name\")\n",
    "complitfilename=\"D:\\\\\"+fileName1+\".txt\"\n",
    "with open(complitfilename,\"w\") as f:\n",
    "    try:\n",
    "        count=1\n",
    "        lstText=[]\n",
    "        for i in iter(int,1):\n",
    "            charcount=0\n",
    "            userText=input(\"enter your text here\")\n",
    "            if userText==\"stop\":\n",
    "                break\n",
    "            text=str(count)+\".\"+userText\n",
    "\n",
    "            f.write(text)\n",
    "            f.write(\"\\n\")\n",
    "            count+=1\n",
    "            lstText.append(userText)\n",
    "            word=\"total words in the file is:\"+str(len(lstText))\n",
    "            f.write(word)\n",
    "    except:\n",
    "        print(\"Error\")"
   ]
  },
  {
   "cell_type": "code",
   "execution_count": 5,
   "id": "504070ad-77b7-4f26-bb16-138eecb79da2",
   "metadata": {},
   "outputs": [],
   "source": [
    "import string"
   ]
  },
  {
   "cell_type": "code",
   "execution_count": 11,
   "id": "07d6cd7a-7c54-445a-b4a2-128b99bfcf5c",
   "metadata": {},
   "outputs": [
    {
     "name": "stdin",
     "output_type": "stream",
     "text": [
      "enter your file name kartik\n",
      "enter your number of lines 1\n",
      "enter your text here Contrary to popular belief, Lorem Ipsum is not simply random text. It has roots in a piece of classical Latin literature from 45 BC, making it over 2000 years old. Richard McClintock, a Latin professor at Hampden-Sydney College in Virginia, looked up one of the more obscure Latin words, consectetur, from a Lorem Ipsum passage, and going through the cites of the word in classical literature, discovered the undoubtable source. Lorem Ipsum comes from sections 1.10.32 and 1.10.33 of \"de Finibus Bonorum et Malorum\" (The Extremes of Good and Evil) by Cicero, written in 45 BC. This book is a treatise on the theory of ethics, very popular during the Renaissance. The first line of Lorem Ipsum, \"Lorem ipsum dolor sit amet..\", comes from a line in section 1.10.32.\n"
     ]
    }
   ],
   "source": [
    "fileName1=input(\"enter your file name\")\n",
    "complitfilename=\"D:\\\\\"+fileName1+\".txt\"\n",
    "with open(complitfilename,\"w\") as f:\n",
    "    endPoint=int(input(\"enter your number of lines\"))\n",
    "    for i in range(1,endPoint+1):\n",
    "        sent=input(\"enter your text here\")\n",
    "        f.write(sent)\n",
    "        f.write(\"\\n\")\n",
    "vowelChar=0\n",
    "vowelList=[]\n",
    "consChar=0\n",
    "consList=[]\n",
    "totalchar=0\n",
    "digit=0\n",
    "digitList=[]\n",
    "specilchar=0\n",
    "listSecialchar=[]\n",
    "with open(complitfilename,\"r\") as j:\n",
    "    data1=j.read()\n",
    "    data=data1.replace(\"\\n\",\"\")\n",
    "    for i in data:\n",
    "        totalchar+=1\n",
    "        vow=\"aeiouAEIOU\"\n",
    "        if i in vow:\n",
    "            vowelChar+=1\n",
    "            vowelList.append(i)\n",
    "        elif i.isdigit():\n",
    "            digit+=1\n",
    "            digitList.append(i)\n",
    "        elif i in string.punctuation:\n",
    "            specilchar+=1\n",
    "            listSecialchar.append(i)\n",
    "        else:\n",
    "            consChar+=1\n",
    "            consList.append(i)\n",
    "\n",
    "with open(complitfilename,\"a\") as x:\n",
    "    x.write(f\"\\n total charectors in the file: {totalchar}\\n\")\n",
    "    x.write(f\"total vowel charector in the file :{vowelList}=={vowelChar} \\n\")\n",
    "    x.write(f\"total consonant charector in the file:{consList}={consChar} \\n\")\n",
    "    x.write(f\"total digit in the file :{digitList}={digit}\\n \")\n",
    "    x.write(f\"total special charector in the file: {listSecialchar}={specilchar}\")"
   ]
  },
  {
   "cell_type": "code",
   "execution_count": 15,
   "id": "fcd1391e-35db-4a84-a59f-577a94a9b9bb",
   "metadata": {},
   "outputs": [
    {
     "name": "stdin",
     "output_type": "stream",
     "text": [
      "enter your file name kartik\n",
      "enter your number of lines 1\n",
      "enter your text here kertik342342#$$#%$^^\n"
     ]
    },
    {
     "name": "stdout",
     "output_type": "stream",
     "text": [
      " PDF file has been genarated successfully\n"
     ]
    }
   ],
   "source": [
    "from reportlab.pdfgen import canvas\n",
    "fileName1=input(\"enter your file name\")\n",
    "complitfilename=\"D:\\\\\"+fileName1+\".txt\"\n",
    "pdfFileName=\"D:\\\\\"+fileName1+\".pdf\"\n",
    "with open(complitfilename,\"w\") as f:\n",
    "    endPoint=int(input(\"enter your number of lines\"))\n",
    "    for i in range(1,endPoint+1):\n",
    "        sent=input(\"enter your text here\")\n",
    "        f.write(sent)\n",
    "        f.write(\"\\n\")\n",
    "vowelChar=0\n",
    "vowelList=[]\n",
    "consChar=0\n",
    "consList=[]\n",
    "totalchar=0\n",
    "digit=0\n",
    "digitList=[]\n",
    "specilchar=0\n",
    "listSecialchar=[]\n",
    "with open(complitfilename,\"r\") as j:\n",
    "    data1=j.read()\n",
    "    data=data1.replace(\"\\n\",\"\")\n",
    "    for i in data:\n",
    "        totalchar+=1\n",
    "        vow=\"aeiouAEIOU\"\n",
    "        if i in vow:\n",
    "            vowelChar+=1\n",
    "            vowelList.append(i)\n",
    "        elif i.isdigit():\n",
    "            digit+=1\n",
    "            digitList.append(i)\n",
    "        elif i in string.punctuation:\n",
    "            specilchar+=1\n",
    "            listSecialchar.append(i)\n",
    "        else:\n",
    "            consChar+=1\n",
    "            consList.append(i)\n",
    "\n",
    "with open(complitfilename,\"a\") as x:\n",
    "    x.write(f\"\\n total charectors in the file: {totalchar}\\n\")\n",
    "    x.write(f\"total vowel charector in the file :{vowelList}=={vowelChar} \\n\")\n",
    "    x.write(f\"total consonant charector in the file:{consList}={consChar} \\n\")\n",
    "    x.write(f\"total digit in the file :{digitList}={digit}\\n \")\n",
    "    x.write(f\"total special charector in the file: {listSecialchar}={specilchar}\")\n",
    "c = canvas.Canvas(pdfFileName)\n",
    "y=800\n",
    "c.setTitle(fileName1)\n",
    "with open(complitfilename,\"r\") as f:\n",
    "    lines=f.readlines()\n",
    "    for line in lines:\n",
    "        if y<50:\n",
    "            c.showPage()\n",
    "            y=800\n",
    "        c.drawString(50,y,line.strip())\n",
    "        y-=20\n",
    "c.save()\n",
    "print(f\" PDF file has been genarated successfully\")\n",
    "    "
   ]
  },
  {
   "cell_type": "code",
   "execution_count": null,
   "id": "b0425b1c-622a-4364-8dfc-b3ee9f0527a8",
   "metadata": {},
   "outputs": [],
   "source": []
  }
 ],
 "metadata": {
  "kernelspec": {
   "display_name": "Python 3 (ipykernel)",
   "language": "python",
   "name": "python3"
  },
  "language_info": {
   "codemirror_mode": {
    "name": "ipython",
    "version": 3
   },
   "file_extension": ".py",
   "mimetype": "text/x-python",
   "name": "python",
   "nbconvert_exporter": "python",
   "pygments_lexer": "ipython3",
   "version": "3.13.5"
  }
 },
 "nbformat": 4,
 "nbformat_minor": 5
}
