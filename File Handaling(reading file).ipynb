{
 "cells": [
  {
   "cell_type": "markdown",
   "id": "eb209a72-598c-43f1-8c4a-6886fc4a61c0",
   "metadata": {},
   "source": [
    "## Reading file in python\n",
    "* To read a text file in python you follow these steps.\n",
    "* First open a text file for reading by using the open() function.\n",
    "* Second read text from that text file using read(),readline(),readlines() method of the file object.\n",
    "* Third close the file using the file close() method, which frees up resources and ensurs consistany across different Python version.\n",
    "* Method():\n",
    "        discription\n",
    "1) Writable(): Return whether the file can be written or not.\n",
    "2) Readeble(): Return whether the file stream can be read or not.\n",
    "3) Read(): return the file content \n",
    "4) Readline(): return one line from thr file\n",
    "5) Readlines(): convert the file in list of string\n",
    "6) Write(): Writes a specified string in the file \n",
    "7) Writelins(): Writes the list of string in the file\n",
    "8) close(): close the file\n",
    "9) flush(): flush the internsl buffer\n",
    "10) seek(): change the file position\n",
    "11) tell(): return the current file\n",
    "12) truncate(): resize the file specified\n",
    "        "
   ]
  },
  {
   "cell_type": "markdown",
   "id": "b7e363cf-9600-4600-8c76-b43ee0e3cbff",
   "metadata": {},
   "source": [
    "fileName=\"C:\\\\Users\\\\webasha\\\\Downloads\\\\sample3.txt\"\n",
    "#print(fileName)\n",
    "newVar=open(fileName)\n",
    "content=newVar.read()\n",
    "print(content)"
   ]
  },
  {
   "cell_type": "code",
   "execution_count": 11,
   "id": "99919388-c8a6-4f27-a294-ce0b6696e214",
   "metadata": {},
   "outputs": [
    {
     "name": "stdout",
     "output_type": "stream",
     "text": [
      "C:\\Users\\webasha\\Downloads\\sample3.txt\n"
     ]
    }
   ],
   "source": [
    "# printing the path of files\n",
    "print(newVar.name)"
   ]
  },
  {
   "cell_type": "code",
   "execution_count": 12,
   "id": "3edbbfcc-4988-49a4-9a81-2c40c404c0e4",
   "metadata": {},
   "outputs": [
    {
     "name": "stdout",
     "output_type": "stream",
     "text": [
      "<class 'str'>\n"
     ]
    }
   ],
   "source": [
    "# printing the type of file\n",
    "print(type(content))"
   ]
  },
  {
   "cell_type": "code",
   "execution_count": 13,
   "id": "219a707d-ec46-4dc2-9f0d-8ae10d78957c",
   "metadata": {},
   "outputs": [
    {
     "data": {
      "text/plain": [
       "False"
      ]
     },
     "execution_count": 13,
     "metadata": {},
     "output_type": "execute_result"
    }
   ],
   "source": [
    "# verify the file is close or not \n",
    "newVar.closed"
   ]
  },
  {
   "cell_type": "code",
   "execution_count": 14,
   "id": "677bbe6a-2678-4fa5-88c2-7a4eecbf3a7a",
   "metadata": {},
   "outputs": [],
   "source": [
    "newVar.close()"
   ]
  },
  {
   "cell_type": "code",
   "execution_count": 15,
   "id": "58f54992-a913-4179-a406-26fe1f629004",
   "metadata": {},
   "outputs": [
    {
     "data": {
      "text/plain": [
       "True"
      ]
     },
     "execution_count": 15,
     "metadata": {},
     "output_type": "execute_result"
    }
   ],
   "source": [
    "newVar.closed"
   ]
  },
  {
   "cell_type": "code",
   "execution_count": 16,
   "id": "4569978d-6b73-4987-81f6-c55a63805ddc",
   "metadata": {},
   "outputs": [
    {
     "name": "stdout",
     "output_type": "stream",
     "text": [
      "Quod equidem non reprehendo;\n",
      "Lorem ipsum dolor sit amet, consectetur adipiscing elit. Quibus natura iure responderit non esse verum aliunde finem beate vivendi, a se principia rei gerendae peti; Quae enim adhuc protulisti, popularia sunt, ego autem a te elegantiora desidero. Duo Reges: constructio interrete. Tum Lucius: Mihi vero ista valde probata sunt, quod item fratri puto. Bestiarum vero nullum iudicium puto. Nihil enim iam habes, quod ad corpus referas; Deinde prima illa, quae in congressu solemus: Quid tu, inquit, huc? Et homini, qui ceteris animantibus plurimum praestat, praecipue a natura nihil datum esse dicemus?\n",
      "\n",
      "Iam id ipsum absurdum, maximum malum neglegi. Quod ea non occurrentia fingunt, vincunt Aristonem; Atqui perspicuum est hominem e corpore animoque constare, cum primae sint animi partes, secundae corporis. Fieri, inquam, Triari, nullo pacto potest, ut non dicas, quid non probes eius, a quo dissentias. Equidem e Cn. An dubium est, quin virtus ita maximam partem optineat in rebus humanis, ut reliquas obruat?\n",
      "\n",
      "Quis istum dolorem timet?\n",
      "Summus dolor plures dies manere non potest? Dicet pro me ipsa virtus nec dubitabit isti vestro beato M. Tubulum fuisse, qua illum, cuius is condemnatus est rogatione, P. Quod si ita sit, cur opera philosophiae sit danda nescio.\n",
      "\n",
      "Ex eorum enim scriptis et institutis cum omnis doctrina liberalis, omnis historia.\n",
      "Quod si ita est, sequitur id ipsum, quod te velle video, omnes semper beatos esse sapientes. Cum enim fertur quasi torrens oratio, quamvis multa cuiusque modi rapiat, nihil tamen teneas, nihil apprehendas, nusquam orationem rapidam coerceas. Ita redarguitur ipse a sese, convincunturque scripta eius probitate ipsius ac moribus. At quanta conantur! Mundum hunc omnem oppidum esse nostrum! Incendi igitur eos, qui audiunt, vides. Vide, ne magis, inquam, tuum fuerit, cum re idem tibi, quod mihi, videretur, non nova te rebus nomina inponere. Qui-vere falsone, quaerere mittimus-dicitur oculis se privasse; Si ista mala sunt, in quae potest incidere sapiens, sapientem esse non esse ad beate vivendum satis. At vero si ad vitem sensus accesserit, ut appetitum quendam habeat et per se ipsa moveatur, quid facturam putas?\n",
      "\n",
      "Quem si tenueris, non modo meum Ciceronem, sed etiam me ipsum abducas licebit.\n",
      "Stulti autem malorum memoria torquentur, sapientes bona praeterita grata recordatione renovata delectant.\n",
      "Esse enim quam vellet iniquus iustus poterat inpune.\n",
      "Quae autem natura suae primae institutionis oblita est?\n",
      "Verum tamen cum de rebus grandioribus dicas, ipsae res verba rapiunt;\n",
      "Hoc est non modo cor non habere, sed ne palatum quidem.\n",
      "Voluptatem cum summum bonum diceret, primum in eo ipso parum vidit, deinde hoc quoque alienum; Sed tu istuc dixti bene Latine, parum plane. Nam haec ipsa mihi erunt in promptu, quae modo audivi, nec ante aggrediar, quam te ab istis, quos dicis, instructum videro. Fatebuntur Stoici haec omnia dicta esse praeclare, neque eam causam Zenoni desciscendi fuisse. Non autem hoc: igitur ne illud quidem. Ratio quidem vestra sic cogit. Cum audissem Antiochum, Brute, ut solebam, cum M. An quod ita callida est, ut optime possit architectari voluptates?\n",
      "\n",
      "Idemne, quod iucunde?\n",
      "Haec mihi videtur delicatior, ut ita dicam, molliorque ratio, quam virtutis vis gravitasque postulat. Sed quoniam et advesperascit et mihi ad villam revertendum est, nunc quidem hactenus; Cuius ad naturam apta ratio vera illa et summa lex a philosophis dicitur. Neque solum ea communia, verum etiam paria esse dixerunt. Sed nunc, quod agimus; A mene tu?\n"
     ]
    }
   ],
   "source": [
    "# how to open file second method\n",
    "fileName=\"C:\\\\Users\\\\webasha\\\\Downloads\\\\sample3.txt\"\n",
    "with open(fileName,\"r\") as f:\n",
    "    print(f.read())"
   ]
  },
  {
   "cell_type": "code",
   "execution_count": 19,
   "id": "3081e51f-3783-48dd-bd89-a543cd2f958e",
   "metadata": {},
   "outputs": [
    {
     "name": "stdout",
     "output_type": "stream",
     "text": [
      "Quod equidem non reprehendo;\n",
      "Lorem ipsum dolor sit amet, consectetur adipiscing elit. Quibus natura \n",
      "iure responderit non esse verum aliunde finem beat\n",
      "e vivendi,\n"
     ]
    }
   ],
   "source": [
    "fileName=\"C:\\\\Users\\\\webasha\\\\Downloads\\\\sample3.txt\"\n",
    "with open(fileName,\"r\") as f:\n",
    "    print(f.read(100))\n",
    "    print(f.read(50))\n",
    "    print(f.read(10))\n",
    "    \n",
    "    "
   ]
  },
  {
   "cell_type": "code",
   "execution_count": 21,
   "id": "8e19dbf0-a60d-42e6-b8b1-95d8dfc96b7b",
   "metadata": {},
   "outputs": [
    {
     "name": "stdout",
     "output_type": "stream",
     "text": [
      "Quod equidem non reprehendo;\n",
      "\n",
      "Lorem ipsum dolor sit amet, consectetur adipiscing elit. Quibus natura iure responderit non esse verum aliunde finem beate vivendi, a se principia rei gerendae peti; Quae enim adhuc protulisti, popularia sunt, ego autem a te elegantiora desidero. Duo Reges: constructio interrete. Tum Lucius: Mihi vero ista valde probata sunt, quod item fratri puto. Bestiarum vero nullum iudicium puto. Nihil enim iam habes, quod ad corpus referas; Deinde prima illa, quae in congressu solemus: Quid tu, inquit, huc? Et homini, qui ceteris animantibus plurimum praestat, praecipue a natura nihil datum esse dicemus?\n",
      "\n"
     ]
    }
   ],
   "source": [
    "fileName=\"C:\\\\Users\\\\webasha\\\\Downloads\\\\sample3.txt\"\n",
    "with open(fileName,\"r\") as f:\n",
    "    print(f.readline())\n",
    "    print(f.readline())"
   ]
  },
  {
   "cell_type": "code",
   "execution_count": 24,
   "id": "86f64449-f242-4e45-92cb-25f5f12d2aad",
   "metadata": {},
   "outputs": [
    {
     "name": "stdout",
     "output_type": "stream",
     "text": [
      "['Quod equidem non reprehendo;\\n', 'Lorem ipsum dolor sit amet, consectetur adipiscing elit. Quibus natura iure responderit non esse verum aliunde finem beate vivendi, a se principia rei gerendae peti; Quae enim adhuc protulisti, popularia sunt, ego autem a te elegantiora desidero. Duo Reges: constructio interrete. Tum Lucius: Mihi vero ista valde probata sunt, quod item fratri puto. Bestiarum vero nullum iudicium puto. Nihil enim iam habes, quod ad corpus referas; Deinde prima illa, quae in congressu solemus: Quid tu, inquit, huc? Et homini, qui ceteris animantibus plurimum praestat, praecipue a natura nihil datum esse dicemus?\\n', '\\n', 'Iam id ipsum absurdum, maximum malum neglegi. Quod ea non occurrentia fingunt, vincunt Aristonem; Atqui perspicuum est hominem e corpore animoque constare, cum primae sint animi partes, secundae corporis. Fieri, inquam, Triari, nullo pacto potest, ut non dicas, quid non probes eius, a quo dissentias. Equidem e Cn. An dubium est, quin virtus ita maximam partem optineat in rebus humanis, ut reliquas obruat?\\n', '\\n', 'Quis istum dolorem timet?\\n', 'Summus dolor plures dies manere non potest? Dicet pro me ipsa virtus nec dubitabit isti vestro beato M. Tubulum fuisse, qua illum, cuius is condemnatus est rogatione, P. Quod si ita sit, cur opera philosophiae sit danda nescio.\\n', '\\n', 'Ex eorum enim scriptis et institutis cum omnis doctrina liberalis, omnis historia.\\n', 'Quod si ita est, sequitur id ipsum, quod te velle video, omnes semper beatos esse sapientes. Cum enim fertur quasi torrens oratio, quamvis multa cuiusque modi rapiat, nihil tamen teneas, nihil apprehendas, nusquam orationem rapidam coerceas. Ita redarguitur ipse a sese, convincunturque scripta eius probitate ipsius ac moribus. At quanta conantur! Mundum hunc omnem oppidum esse nostrum! Incendi igitur eos, qui audiunt, vides. Vide, ne magis, inquam, tuum fuerit, cum re idem tibi, quod mihi, videretur, non nova te rebus nomina inponere. Qui-vere falsone, quaerere mittimus-dicitur oculis se privasse; Si ista mala sunt, in quae potest incidere sapiens, sapientem esse non esse ad beate vivendum satis. At vero si ad vitem sensus accesserit, ut appetitum quendam habeat et per se ipsa moveatur, quid facturam putas?\\n', '\\n', 'Quem si tenueris, non modo meum Ciceronem, sed etiam me ipsum abducas licebit.\\n', 'Stulti autem malorum memoria torquentur, sapientes bona praeterita grata recordatione renovata delectant.\\n', 'Esse enim quam vellet iniquus iustus poterat inpune.\\n', 'Quae autem natura suae primae institutionis oblita est?\\n', 'Verum tamen cum de rebus grandioribus dicas, ipsae res verba rapiunt;\\n', 'Hoc est non modo cor non habere, sed ne palatum quidem.\\n', 'Voluptatem cum summum bonum diceret, primum in eo ipso parum vidit, deinde hoc quoque alienum; Sed tu istuc dixti bene Latine, parum plane. Nam haec ipsa mihi erunt in promptu, quae modo audivi, nec ante aggrediar, quam te ab istis, quos dicis, instructum videro. Fatebuntur Stoici haec omnia dicta esse praeclare, neque eam causam Zenoni desciscendi fuisse. Non autem hoc: igitur ne illud quidem. Ratio quidem vestra sic cogit. Cum audissem Antiochum, Brute, ut solebam, cum M. An quod ita callida est, ut optime possit architectari voluptates?\\n', '\\n', 'Idemne, quod iucunde?\\n', 'Haec mihi videtur delicatior, ut ita dicam, molliorque ratio, quam virtutis vis gravitasque postulat. Sed quoniam et advesperascit et mihi ad villam revertendum est, nunc quidem hactenus; Cuius ad naturam apta ratio vera illa et summa lex a philosophis dicitur. Neque solum ea communia, verum etiam paria esse dixerunt. Sed nunc, quod agimus; A mene tu?'] <class 'list'>\n"
     ]
    }
   ],
   "source": [
    "fileName=\"C:\\\\Users\\\\webasha\\\\Downloads\\\\sample3.txt\"\n",
    "with open(fileName,\"r\") as f:\n",
    "    print(f.readlines(),type(f.readlines()))"
   ]
  },
  {
   "cell_type": "code",
   "execution_count": 25,
   "id": "7d4982ed-8ce4-439a-8a9e-37c164c2841e",
   "metadata": {},
   "outputs": [
    {
     "name": "stdout",
     "output_type": "stream",
     "text": [
      "line Number: 1 Quod equidem non reprehendo;\n",
      "\n",
      "line Number: 2 Lorem ipsum dolor sit amet, consectetur adipiscing elit. Quibus natura iure responderit non esse verum aliunde finem beate vivendi, a se principia rei gerendae peti; Quae enim adhuc protulisti, popularia sunt, ego autem a te elegantiora desidero. Duo Reges: constructio interrete. Tum Lucius: Mihi vero ista valde probata sunt, quod item fratri puto. Bestiarum vero nullum iudicium puto. Nihil enim iam habes, quod ad corpus referas; Deinde prima illa, quae in congressu solemus: Quid tu, inquit, huc? Et homini, qui ceteris animantibus plurimum praestat, praecipue a natura nihil datum esse dicemus?\n",
      "\n",
      "line Number: 3 \n",
      "\n",
      "line Number: 4 Iam id ipsum absurdum, maximum malum neglegi. Quod ea non occurrentia fingunt, vincunt Aristonem; Atqui perspicuum est hominem e corpore animoque constare, cum primae sint animi partes, secundae corporis. Fieri, inquam, Triari, nullo pacto potest, ut non dicas, quid non probes eius, a quo dissentias. Equidem e Cn. An dubium est, quin virtus ita maximam partem optineat in rebus humanis, ut reliquas obruat?\n",
      "\n",
      "line Number: 5 \n",
      "\n",
      "line Number: 6 Quis istum dolorem timet?\n",
      "\n",
      "line Number: 7 Summus dolor plures dies manere non potest? Dicet pro me ipsa virtus nec dubitabit isti vestro beato M. Tubulum fuisse, qua illum, cuius is condemnatus est rogatione, P. Quod si ita sit, cur opera philosophiae sit danda nescio.\n",
      "\n",
      "line Number: 8 \n",
      "\n",
      "line Number: 9 Ex eorum enim scriptis et institutis cum omnis doctrina liberalis, omnis historia.\n",
      "\n",
      "line Number: 10 Quod si ita est, sequitur id ipsum, quod te velle video, omnes semper beatos esse sapientes. Cum enim fertur quasi torrens oratio, quamvis multa cuiusque modi rapiat, nihil tamen teneas, nihil apprehendas, nusquam orationem rapidam coerceas. Ita redarguitur ipse a sese, convincunturque scripta eius probitate ipsius ac moribus. At quanta conantur! Mundum hunc omnem oppidum esse nostrum! Incendi igitur eos, qui audiunt, vides. Vide, ne magis, inquam, tuum fuerit, cum re idem tibi, quod mihi, videretur, non nova te rebus nomina inponere. Qui-vere falsone, quaerere mittimus-dicitur oculis se privasse; Si ista mala sunt, in quae potest incidere sapiens, sapientem esse non esse ad beate vivendum satis. At vero si ad vitem sensus accesserit, ut appetitum quendam habeat et per se ipsa moveatur, quid facturam putas?\n",
      "\n",
      "line Number: 11 \n",
      "\n",
      "line Number: 12 Quem si tenueris, non modo meum Ciceronem, sed etiam me ipsum abducas licebit.\n",
      "\n",
      "line Number: 13 Stulti autem malorum memoria torquentur, sapientes bona praeterita grata recordatione renovata delectant.\n",
      "\n",
      "line Number: 14 Esse enim quam vellet iniquus iustus poterat inpune.\n",
      "\n",
      "line Number: 15 Quae autem natura suae primae institutionis oblita est?\n",
      "\n",
      "line Number: 16 Verum tamen cum de rebus grandioribus dicas, ipsae res verba rapiunt;\n",
      "\n",
      "line Number: 17 Hoc est non modo cor non habere, sed ne palatum quidem.\n",
      "\n",
      "line Number: 18 Voluptatem cum summum bonum diceret, primum in eo ipso parum vidit, deinde hoc quoque alienum; Sed tu istuc dixti bene Latine, parum plane. Nam haec ipsa mihi erunt in promptu, quae modo audivi, nec ante aggrediar, quam te ab istis, quos dicis, instructum videro. Fatebuntur Stoici haec omnia dicta esse praeclare, neque eam causam Zenoni desciscendi fuisse. Non autem hoc: igitur ne illud quidem. Ratio quidem vestra sic cogit. Cum audissem Antiochum, Brute, ut solebam, cum M. An quod ita callida est, ut optime possit architectari voluptates?\n",
      "\n",
      "line Number: 19 \n",
      "\n",
      "line Number: 20 Idemne, quod iucunde?\n",
      "\n",
      "line Number: 21 Haec mihi videtur delicatior, ut ita dicam, molliorque ratio, quam virtutis vis gravitasque postulat. Sed quoniam et advesperascit et mihi ad villam revertendum est, nunc quidem hactenus; Cuius ad naturam apta ratio vera illa et summa lex a philosophis dicitur. Neque solum ea communia, verum etiam paria esse dixerunt. Sed nunc, quod agimus; A mene tu?\n"
     ]
    }
   ],
   "source": [
    "fileName=\"C:\\\\Users\\\\webasha\\\\Downloads\\\\sample3.txt\"\n",
    "with open(fileName,\"r\") as f:\n",
    "    lineNumber=1\n",
    "    for i in f:\n",
    "        print(\"line Number:\",lineNumber,i)\n",
    "        lineNumber+=1"
   ]
  },
  {
   "cell_type": "code",
   "execution_count": 36,
   "id": "c66f2f98-ec1b-42f9-93fa-0f851b19809c",
   "metadata": {},
   "outputs": [
    {
     "name": "stdout",
     "output_type": "stream",
     "text": [
      " charector with space : 3541\n",
      " charector without space: 3011\n",
      " total words in this text : 546\n",
      " total punctuation in this data : 134\n"
     ]
    }
   ],
   "source": [
    "import string\n",
    "fileName=\"C:\\\\Users\\\\webasha\\\\Downloads\\\\sample3.txt\"\n",
    "with open(fileName,\"r\") as f:\n",
    "    data=f.read()\n",
    "    count=0\n",
    "    punctuationcount=0\n",
    "    for i in data:\n",
    "        count+=1\n",
    "        if i in string.punctuation:\n",
    "            punctuationcount+=1\n",
    "    print(\" charector with space :\",count)\n",
    "    print(\" charector without space:\",len(data.replace(\" \",\"\")))\n",
    "    print(\" total words in this text :\",len(data.split()))\n",
    "    print(\" total punctuation in this data :\",punctuationcount)"
   ]
  },
  {
   "cell_type": "code",
   "execution_count": 36,
   "id": "caf648c7-6e2d-4dc9-a6a5-54fde977367a",
   "metadata": {},
   "outputs": [
    {
     "name": "stdout",
     "output_type": "stream",
     "text": [
      "C:\\Users\\webasha\\Desktop\\twinkal.txt\n",
      "line number 1 Twinkle, Twinkle, Little Star\n",
      "\n",
      "line number 2 \n",
      "\n",
      "line number 3 By Jane Taylor\n",
      "\n",
      "line number 4 Twinkle, twinkle, little star,\n",
      "\n",
      "line number 5 How I wonder what you are!\n",
      "\n",
      "line number 6 Up above the world so high,\n",
      "\n",
      "line number 7 Like a diamond in the sky.\n",
      "\n",
      "line number 8 \n",
      "\n",
      "line number 9 When the blazing sun is gone,\n",
      "\n",
      "line number 10 When he nothing shines upon,\n",
      "\n",
      "line number 11 Then you show your little light,\n",
      "\n",
      "line number 12 Twinkle, twinkle, all the night.\n",
      "\n",
      "line number 13 \n",
      "\n",
      "line number 14 Then the traveler in the dark\n",
      "\n",
      "line number 15 Thanks you for your tiny spark,\n",
      "\n",
      "line number 16 How could he see where to go,\n",
      "\n",
      "line number 17 If you did not twinkle so?\n",
      "\n",
      "line number 18 \n",
      "\n",
      "line number 19 In the dark blue sky you keep,\n",
      "\n",
      "line number 20 Often through my curtains peep\n",
      "\n",
      "line number 21 For you never shut your eye,\n",
      "\n",
      "line number 22 Till the sun is in the sky.\n",
      "\n",
      "line number 23 \n",
      "\n",
      "line number 24 As your bright and tiny spark\n",
      "\n",
      "line number 25 Lights the traveler in the dark,\n",
      "\n",
      "line number 26 Though I know not what you are,\n",
      "\n",
      "line number 27 Twinkle, twinkle, little star.\n",
      " total charector in text is  651\n",
      "651\n"
     ]
    }
   ],
   "source": [
    "fileName=\"C:\\\\Users\\\\webasha\\\\Desktop\\\\twinkal.txt\"\n",
    "print(fileName)\n",
    "with open(fileName,\"r\") as k:\n",
    "    lineNumber=1\n",
    "    count=0\n",
    "    for i in k:\n",
    "        print(\"line number\",lineNumber,i)\n",
    "        lineNumber+=1\n",
    "        for j in i:\n",
    "            #print(j)\n",
    "            count=count+1  \n",
    "    print(\" total charector in text is \",count)\n",
    "    print( count1)\n",
    "   "
   ]
  },
  {
   "cell_type": "code",
   "execution_count": 37,
   "id": "3763f704-2bf7-46cc-b018-1d759742723e",
   "metadata": {},
   "outputs": [
    {
     "name": "stdout",
     "output_type": "stream",
     "text": [
      "word list: ['Twinkle,', 'Twinkle,', 'Little', 'Star', 'By', 'Jane', 'Taylor', 'Twinkle,', 'twinkle,', 'little', 'star,', 'How', 'I', 'wonder', 'what', 'you', 'are!', 'Up', 'above', 'the', 'world', 'so', 'high,', 'Like', 'a', 'diamond', 'in', 'the', 'sky.', 'When', 'the', 'blazing', 'sun', 'is', 'gone,', 'When', 'he', 'nothing', 'shines', 'upon,', 'Then', 'you', 'show', 'your', 'little', 'light,', 'Twinkle,', 'twinkle,', 'all', 'the', 'night.', 'Then', 'the', 'traveler', 'in', 'the', 'dark', 'Thanks', 'you', 'for', 'your', 'tiny', 'spark,', 'How', 'could', 'he', 'see', 'where', 'to', 'go,', 'If', 'you', 'did', 'not', 'twinkle', 'so?', 'In', 'the', 'dark', 'blue', 'sky', 'you', 'keep,', 'Often', 'through', 'my', 'curtains', 'peep', 'For', 'you', 'never', 'shut', 'your', 'eye,', 'Till', 'the', 'sun', 'is', 'in', 'the', 'sky.', 'As', 'your', 'bright', 'and', 'tiny', 'spark', 'Lights', 'the', 'traveler', 'in', 'the', 'dark,', 'Though', 'I', 'know', 'not', 'what', 'you', 'are,', 'Twinkle,', 'twinkle,', 'little', 'star.']\n",
      "total words: 124\n"
     ]
    }
   ],
   "source": [
    "fileName=\"C:\\\\Users\\\\webasha\\\\Desktop\\\\twinkal.txt\"\n",
    "#print(fileName)\n",
    "with open(fileName,\"r\") as k:\n",
    "    data=k.read()\n",
    "    words=data.split()\n",
    "    word_list=[]\n",
    "    count=0\n",
    "    for i in range(len(words)):\n",
    "        word=\"\"\n",
    "        for j in range(len(words[i])):\n",
    "            word+=words[i][j]\n",
    "        word_list.append(word)\n",
    "        count+=1\n",
    "    print(\"word list:\",word_list)\n",
    "    print(\"total words:\",count)"
   ]
  },
  {
   "cell_type": "code",
   "execution_count": 49,
   "id": "d9cc1db4-0c61-4a3e-947e-b1d569405b68",
   "metadata": {},
   "outputs": [
    {
     "name": "stdout",
     "output_type": "stream",
     "text": [
      "word lenght list: [8, 8, 6, 4, 2, 4, 6, 8, 8, 6, 5, 3, 1, 6, 4, 3, 4, 2, 5, 3, 5, 2, 5, 4, 1, 7, 2, 3, 4, 4, 3, 7, 3, 2, 5, 4, 2, 7, 6, 5, 4, 3, 4, 4, 6, 6, 8, 8, 3, 3, 6, 4, 3, 8, 2, 3, 4, 6, 3, 3, 4, 4, 6, 3, 5, 2, 3, 5, 2, 3, 2, 3, 3, 3, 7, 3, 2, 3, 4, 4, 3, 3, 5, 5, 7, 2, 8, 4, 3, 3, 5, 4, 4, 4, 4, 3, 3, 2, 2, 3, 4, 2, 4, 6, 3, 4, 5, 6, 3, 8, 2, 3, 5, 6, 1, 4, 3, 4, 3, 4, 8, 8, 6, 5]\n",
      " Total charector in the list : 523\n"
     ]
    }
   ],
   "source": [
    "fileName=\"C:\\\\Users\\\\webasha\\\\Desktop\\\\twinkal.txt\"\n",
    "#print(fileName)\n",
    "with open(fileName,\"r\") as k:\n",
    "    data=k.read()\n",
    "    words=data.split()\n",
    "    word_lenght=[]\n",
    "    #count=0\n",
    "    for i in range(len(words)):\n",
    "        length=0\n",
    "        for j in range(len(words[i])):\n",
    "            length+=1\n",
    "        word_lenght.append(length)\n",
    "        #count+=length\n",
    "    print(\"word lenght list:\",word_lenght)\n",
    "    print(\" Total charector in the list :\",sum(word_lenght))"
   ]
  },
  {
   "cell_type": "code",
   "execution_count": 52,
   "id": "d3dacbe1-a851-4793-8a85-436df0f596d3",
   "metadata": {},
   "outputs": [
    {
     "name": "stdout",
     "output_type": "stream",
     "text": [
      "651\n"
     ]
    }
   ],
   "source": [
    "fileName=\"C:\\\\Users\\\\webasha\\\\Desktop\\\\twinkal.txt\"\n",
    "#print(fileName)\n",
    "with open(fileName,\"r\") as k:\n",
    "    data=k.read()\n",
    "    charcount=0\n",
    "    for i in data:\n",
    "        charcount+=1\n",
    "    print(charcount)"
   ]
  },
  {
   "cell_type": "code",
   "execution_count": null,
   "id": "9de2c466-374f-4db4-ab1d-691358a85b3e",
   "metadata": {},
   "outputs": [],
   "source": []
  }
 ],
 "metadata": {
  "kernelspec": {
   "display_name": "Python 3 (ipykernel)",
   "language": "python",
   "name": "python3"
  },
  "language_info": {
   "codemirror_mode": {
    "name": "ipython",
    "version": 3
   },
   "file_extension": ".py",
   "mimetype": "text/x-python",
   "name": "python",
   "nbconvert_exporter": "python",
   "pygments_lexer": "ipython3",
   "version": "3.13.5"
  }
 },
 "nbformat": 4,
 "nbformat_minor": 5
}
