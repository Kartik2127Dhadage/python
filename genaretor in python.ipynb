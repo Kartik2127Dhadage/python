{
 "cells": [
  {
   "cell_type": "markdown",
   "id": "57b2855b-412b-49d3-8291-552bfaf0bdeb",
   "metadata": {},
   "source": [
    "## Generator in python\n",
    "* Python generator is a function that returns travesable object and a simple way to create itrato.\n",
    "* It traverses all the item at once.\n",
    "* The generator can also be expressed in a syntax similar to the list.\n",
    "* There is a lot of complaxity in creating itration in Python.It is required to implement iter() and next() methodes to keep track of internal satus.\n",
    "* It is lengthy process to creating to itrator,it raise stopitration exceptions..\n",
    "* It pauses the function execution by saving all status and yield to the caller.\n",
    "* Later.it resumes execution when a successive function is called."
   ]
  },
  {
   "cell_type": "code",
   "execution_count": 1,
   "id": "38f30a37-123b-41fe-9a1e-d18344091d4a",
   "metadata": {},
   "outputs": [
    {
     "data": {
      "text/plain": [
       "20"
      ]
     },
     "execution_count": 1,
     "metadata": {},
     "output_type": "execute_result"
    }
   ],
   "source": [
    "def checkVal(x=20):\n",
    "    if x%2==0:\n",
    "        return x\n",
    "checkVal()"
   ]
  },
  {
   "cell_type": "code",
   "execution_count": 2,
   "id": "8fae486e-26b2-4211-8810-3d77d2c4851a",
   "metadata": {},
   "outputs": [
    {
     "data": {
      "text/plain": [
       "<generator object checkVal at 0x0000020962E02F80>"
      ]
     },
     "execution_count": 2,
     "metadata": {},
     "output_type": "execute_result"
    }
   ],
   "source": [
    "def checkVal(x=20):\n",
    "    if x%2==0:\n",
    "        yield x\n",
    "checkVal()"
   ]
  },
  {
   "cell_type": "code",
   "execution_count": 4,
   "id": "70c3f2d2-9a64-404d-8c47-6fc4c99a03d1",
   "metadata": {},
   "outputs": [
    {
     "name": "stdout",
     "output_type": "stream",
     "text": [
      "[0, 1, 2, 3, 4, 5, 6, 7, 8, 9, 10, 11, 12, 13, 14, 15, 16, 17, 18, 19]\n"
     ]
    }
   ],
   "source": [
    "list1=[]\n",
    "for x in range(20):\n",
    "    list1.append(x)\n",
    "print(list1)"
   ]
  },
  {
   "cell_type": "code",
   "execution_count": 5,
   "id": "5a0cd875-6b38-42e2-835d-b3b1b45d76e6",
   "metadata": {},
   "outputs": [
    {
     "data": {
      "text/plain": [
       "<generator object displayVal at 0x0000020962E03280>"
      ]
     },
     "execution_count": 5,
     "metadata": {},
     "output_type": "execute_result"
    }
   ],
   "source": [
    "def displayVal():\n",
    "    for i in range(20):\n",
    "        yield i\n",
    "displayVal()"
   ]
  },
  {
   "cell_type": "code",
   "execution_count": 6,
   "id": "c6cc0e69-8240-4358-87e5-2f4a64fffbd6",
   "metadata": {},
   "outputs": [
    {
     "name": "stdout",
     "output_type": "stream",
     "text": [
      "[0, 1, 2, 3, 4, 5, 6, 7, 8, 9, 10, 11, 12, 13, 14, 15, 16, 17, 18, 19]\n"
     ]
    }
   ],
   "source": [
    "list2=[]\n",
    "for i in displayVal():\n",
    "    list2.append(i)\n",
    "print(list2)"
   ]
  },
  {
   "cell_type": "code",
   "execution_count": 7,
   "id": "2df79423-13ac-4c1b-9bdd-aac7b0635e0e",
   "metadata": {},
   "outputs": [
    {
     "data": {
      "text/plain": [
       "<generator object function1 at 0x00000209637A99C0>"
      ]
     },
     "execution_count": 7,
     "metadata": {},
     "output_type": "execute_result"
    }
   ],
   "source": [
    "def function1():\n",
    "    for i in range(20):\n",
    "        if i%2==0:\n",
    "            yield i\n",
    "function1()"
   ]
  },
  {
   "cell_type": "code",
   "execution_count": 8,
   "id": "9ace821e-176a-4b74-85ee-e39b67c62e3e",
   "metadata": {},
   "outputs": [
    {
     "name": "stdout",
     "output_type": "stream",
     "text": [
      "[0, 2, 4, 6, 8, 10, 12, 14, 16, 18]\n"
     ]
    }
   ],
   "source": [
    "evenList=[]\n",
    "for i in function1():\n",
    "    evenList.append(i)\n",
    "print(evenList)"
   ]
  },
  {
   "cell_type": "code",
   "execution_count": 9,
   "id": "6cdac508-e3ab-4d68-a1a7-e5d7f7063d27",
   "metadata": {},
   "outputs": [
    {
     "name": "stdout",
     "output_type": "stream",
     "text": [
      "Hello World\n",
      "Congratulations! kartik\n",
      "I am kartik\n"
     ]
    }
   ],
   "source": [
    "def messege():\n",
    "    oneMessege=\"Hello World\"\n",
    "    return oneMessege\n",
    "def messege2():\n",
    "    twoMessege=\"Congratulations! kartik\"\n",
    "    return twoMessege\n",
    "def messege3():\n",
    "    threeMessege=\"I am kartik\"\n",
    "    return threeMessege\n",
    "print(messege())\n",
    "print(messege2())\n",
    "print(messege3())"
   ]
  },
  {
   "cell_type": "code",
   "execution_count": 10,
   "id": "9061e0f9-08ed-4bc3-8e68-232b1b913a7a",
   "metadata": {},
   "outputs": [
    {
     "name": "stdout",
     "output_type": "stream",
     "text": [
      "Hello World\n"
     ]
    }
   ],
   "source": [
    "def messege():\n",
    "    oneMessege=\"Hello World\"\n",
    "    yield oneMessege\n",
    "\n",
    "    twoMessege=\"Congratulations! kartik\"\n",
    "    yield twoMessege\n",
    "\n",
    "    threeMessege=\"I am kartik\"\n",
    "    yield threeMessege\n",
    "x=messege()\n",
    "print(next(x))"
   ]
  },
  {
   "cell_type": "code",
   "execution_count": 11,
   "id": "2f280afc-76f1-4d12-afb6-5976800427a0",
   "metadata": {},
   "outputs": [
    {
     "name": "stdout",
     "output_type": "stream",
     "text": [
      "Congratulations! kartik\n"
     ]
    }
   ],
   "source": [
    "print(next(x))"
   ]
  },
  {
   "cell_type": "code",
   "execution_count": 12,
   "id": "1e828d1f-881e-45f7-a22c-a1d003f2d37b",
   "metadata": {},
   "outputs": [
    {
     "name": "stdout",
     "output_type": "stream",
     "text": [
      "I am kartik\n"
     ]
    }
   ],
   "source": [
    "print(next(x))"
   ]
  },
  {
   "cell_type": "code",
   "execution_count": 13,
   "id": "319bf362-66af-4e14-895b-4b536375b924",
   "metadata": {},
   "outputs": [
    {
     "ename": "StopIteration",
     "evalue": "",
     "output_type": "error",
     "traceback": [
      "\u001b[31m---------------------------------------------------------------------------\u001b[39m",
      "\u001b[31mStopIteration\u001b[39m                             Traceback (most recent call last)",
      "\u001b[36mCell\u001b[39m\u001b[36m \u001b[39m\u001b[32mIn[13]\u001b[39m\u001b[32m, line 1\u001b[39m\n\u001b[32m----> \u001b[39m\u001b[32m1\u001b[39m \u001b[38;5;28mprint\u001b[39m(\u001b[38;5;28;43mnext\u001b[39;49m\u001b[43m(\u001b[49m\u001b[43mx\u001b[49m\u001b[43m)\u001b[49m)\n",
      "\u001b[31mStopIteration\u001b[39m: "
     ]
    }
   ],
   "source": [
    "print(next(x))"
   ]
  },
  {
   "cell_type": "code",
   "execution_count": null,
   "id": "78bb6664-dbdd-48e8-b210-a6b623c7ba46",
   "metadata": {},
   "outputs": [],
   "source": []
  }
 ],
 "metadata": {
  "kernelspec": {
   "display_name": "Python 3 (ipykernel)",
   "language": "python",
   "name": "python3"
  },
  "language_info": {
   "codemirror_mode": {
    "name": "ipython",
    "version": 3
   },
   "file_extension": ".py",
   "mimetype": "text/x-python",
   "name": "python",
   "nbconvert_exporter": "python",
   "pygments_lexer": "ipython3",
   "version": "3.13.5"
  }
 },
 "nbformat": 4,
 "nbformat_minor": 5
}
