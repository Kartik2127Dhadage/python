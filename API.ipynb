{
 "cells": [
  {
   "cell_type": "code",
   "execution_count": 12,
   "id": "15273ce3-b0cf-4c09-ac1f-8c79ea84814e",
   "metadata": {},
   "outputs": [],
   "source": [
    "import requests"
   ]
  },
  {
   "cell_type": "code",
   "execution_count": 21,
   "id": "7d8b3fb2-c916-44c2-ad37-adb06940682e",
   "metadata": {},
   "outputs": [
    {
     "name": "stdout",
     "output_type": "stream",
     "text": [
      "https://api.openweathermap.org/data/2.5/weather?q=pune,IN&appid=0d1e643eb3906314440708528759c090\n",
      "<Response [200]>\n",
      "{'coord': {'lon': 73.8553, 'lat': 18.5196}, 'weather': [{'id': 804, 'main': 'Clouds', 'description': 'overcast clouds', 'icon': '04d'}], 'base': 'stations', 'main': {'temp': 299.29, 'feels_like': 299.29, 'temp_min': 299.29, 'temp_max': 299.29, 'pressure': 1006, 'humidity': 86, 'sea_level': 1006, 'grnd_level': 933}, 'visibility': 10000, 'wind': {'speed': 6.19, 'deg': 259, 'gust': 12.89}, 'clouds': {'all': 100}, 'dt': 1753860894, 'sys': {'country': 'IN', 'sunrise': 1753836086, 'sunset': 1753882825}, 'timezone': 19800, 'id': 1259229, 'name': 'Pune', 'cod': 200}\n"
     ]
    }
   ],
   "source": [
    "import requests\n",
    "def getWeather(api_keys,cityName):\n",
    "    url=f\"https://api.openweathermap.org/data/2.5/weather?q={cityName}&appid={api_keys}\"\n",
    "    print(url)\n",
    "\n",
    "    response=requests.get(url)\n",
    "    print(response)\n",
    "    if response.status_code==200:\n",
    "        data=response.json()\n",
    "        print(data)\n",
    "    else:\n",
    "        print(\"Error\")\n",
    "getWeather(\"0d1e643eb3906314440708528759c090\",\"pune,IN\")"
   ]
  },
  {
   "cell_type": "code",
   "execution_count": 27,
   "id": "abe5d187-e813-447a-8835-4ff31cba7322",
   "metadata": {},
   "outputs": [
    {
     "name": "stdin",
     "output_type": "stream",
     "text": [
      "Enter your country name and country code seprated with coma, Kanniyakumari,IN\n"
     ]
    },
    {
     "name": "stdout",
     "output_type": "stream",
     "text": [
      "https://api.openweathermap.org/data/2.5/weather?q=Kanniyakumari,IN&appid=1bfd0d9543f6da26956cda971915109e\n",
      "<Response [200]>\n",
      "~~~~~~~~~~~~~~~~~~~~~~~~~~~~~~~~~~~~~~~~~~~~~~~~~~~~~~~~~~~~~~~~~~~~~~~~~~~~~~~~~~~~~~~~~~~~~~~~~~~~~~~~~~~~~~~~~~~~~~\n",
      "current city name is: Kanniyākumāri,IN\n",
      "temprature is: 29.189999999999998\n",
      "feels like is: 32.57000000000005\n",
      "local time in  Kanniyākumāri is: 2025-07-31 13:24:00 PM\n",
      "Sunrise time in Kanniyākumāri: 2025-07-31 06:11:45 AM\n",
      "Sunset time in Kanniyākumāri: 2025-07-31 06:40:20 PM\n"
     ]
    }
   ],
   "source": [
    "import requests\n",
    "from datetime import datetime,timedelta,UTC\n",
    "def getWeather():\n",
    "    api_keys=\"1bfd0d9543f6da26956cda971915109e\"\n",
    "    cityName=input(\"Enter your country name and country code seprated with coma,\")\n",
    "    url=f\"https://api.openweathermap.org/data/2.5/weather?q={cityName}&appid={api_keys}\"\n",
    "    print(url)\n",
    "\n",
    "    response=requests.get(url)\n",
    "    print(response)\n",
    "    if response.status_code==200:\n",
    "        data=response.json()\n",
    "       # print(data)\n",
    "        print(\"~~~~~~~~~~~~~~~~~~~~~~~~~~~~~~~~~~~~~~~~~~~~~~~~~~~~~~~~~~~~~~~~~~~~~~~~~~~~~~~~~~~~~~~~~~~~~~~~~~~~~~~~~~~~~~~~~~~~~~\")\n",
    "        country=data[\"sys\"][\"country\"]\n",
    "        city_name=data[\"name\"]+\",\"+country\n",
    "        print(\"current city name is:\",city_name)\n",
    "        temp=data[\"main\"][\"temp\"]\n",
    "        temp=temp-273.15\n",
    "        print(\"temprature is:\",temp)\n",
    "        feels=data[\"main\"][\"feels_like\"]\n",
    "        feels=feels-273.15\n",
    "        print(\"feels like is:\",feels)\n",
    "\n",
    "        dateTime=data[\"timezone\"]\n",
    "        utc_now=datetime.now(UTC)\n",
    "        local_time=utc_now+timedelta(seconds=data[\"timezone\"])\n",
    "        print(\"local time in \",data[\"name\"],\"is:\",local_time.strftime(\"%Y-%m-%d %H:%M:%S %p\"))\n",
    "        \n",
    "        sunriceTime=data[\"sys\"][\"sunrise\"]\n",
    "        sunrise_utc = datetime.fromtimestamp(data[\"sys\"][\"sunrise\"] ,UTC)\n",
    "        sunrise_local = sunrise_utc + timedelta(seconds=data[\"timezone\"])\n",
    "        print(f\"Sunrise time in {data['name']}: {sunrise_local.strftime('%Y-%m-%d %I:%M:%S %p')}\")\n",
    "        \n",
    "        sunsetTime=data[\"sys\"][\"sunset\"]\n",
    "        sunset_utc = datetime.fromtimestamp(data[\"sys\"][\"sunset\"],UTC)\n",
    "        sunset_local = sunset_utc + timedelta(seconds=data[\"timezone\"])\n",
    "        print(f\"Sunset time in {data['name']}: {sunset_local.strftime('%Y-%m-%d %I:%M:%S %p')}\")\n",
    "        \n",
    "        \n",
    "    else:\n",
    "        print(\"Error\")\n",
    "        \n",
    "getWeather()"
   ]
  },
  {
   "cell_type": "code",
   "execution_count": null,
   "id": "d1b89057-3480-4e97-809b-edb4e6ec20d0",
   "metadata": {},
   "outputs": [],
   "source": []
  }
 ],
 "metadata": {
  "kernelspec": {
   "display_name": "Python 3 (ipykernel)",
   "language": "python",
   "name": "python3"
  },
  "language_info": {
   "codemirror_mode": {
    "name": "ipython",
    "version": 3
   },
   "file_extension": ".py",
   "mimetype": "text/x-python",
   "name": "python",
   "nbconvert_exporter": "python",
   "pygments_lexer": "ipython3",
   "version": "3.13.5"
  }
 },
 "nbformat": 4,
 "nbformat_minor": 5
}
