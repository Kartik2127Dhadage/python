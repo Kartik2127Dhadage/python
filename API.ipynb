{
 "cells": [
  {
   "cell_type": "code",
   "execution_count": 12,
   "id": "15273ce3-b0cf-4c09-ac1f-8c79ea84814e",
   "metadata": {},
   "outputs": [],
   "source": [
    "import requests"
   ]
  },
  {
   "cell_type": "code",
   "execution_count": 21,
   "id": "7d8b3fb2-c916-44c2-ad37-adb06940682e",
   "metadata": {},
   "outputs": [
    {
     "name": "stdout",
     "output_type": "stream",
     "text": [
      "https://api.openweathermap.org/data/2.5/weather?q=pune,IN&appid=0d1e643eb3906314440708528759c090\n",
      "<Response [200]>\n",
      "{'coord': {'lon': 73.8553, 'lat': 18.5196}, 'weather': [{'id': 804, 'main': 'Clouds', 'description': 'overcast clouds', 'icon': '04d'}], 'base': 'stations', 'main': {'temp': 299.29, 'feels_like': 299.29, 'temp_min': 299.29, 'temp_max': 299.29, 'pressure': 1006, 'humidity': 86, 'sea_level': 1006, 'grnd_level': 933}, 'visibility': 10000, 'wind': {'speed': 6.19, 'deg': 259, 'gust': 12.89}, 'clouds': {'all': 100}, 'dt': 1753860894, 'sys': {'country': 'IN', 'sunrise': 1753836086, 'sunset': 1753882825}, 'timezone': 19800, 'id': 1259229, 'name': 'Pune', 'cod': 200}\n"
     ]
    }
   ],
   "source": [
    "import requests\n",
    "def getWeather(api_keys,cityName):\n",
    "    url=f\"https://api.openweathermap.org/data/2.5/weather?q={cityName}&appid={api_keys}\"\n",
    "    print(url)\n",
    "\n",
    "    response=requests.get(url)\n",
    "    print(response)\n",
    "    if response.status_code==200:\n",
    "        data=response.json()\n",
    "        print(data)\n",
    "    else:\n",
    "        print(\"Error\")\n",
    "getWeather(\"0d1e643eb3906314440708528759c090\",\"pune,IN\")"
   ]
  },
  {
   "cell_type": "code",
   "execution_count": null,
   "id": "abe5d187-e813-447a-8835-4ff31cba7322",
   "metadata": {},
   "outputs": [],
   "source": [
    "import requests\n",
    "def getWeather(api_keys,cityName):\n",
    "    url=f\"https://api.openweathermap.org/data/2.5/weather?q={cityName}&appid={api_keys}\"\n",
    "    print(url)\n",
    "\n",
    "    response=requests.get(url)\n",
    "    print(response)\n",
    "    if response.status_code==200:\n",
    "        data=response.json()\n",
    "        print(data)\n",
    "    else:\n",
    "        print(\"Error\")\n",
    "getWeather(\"0d1e643eb3906314440708528759c090\",\"pune,IN\")"
   ]
  }
 ],
 "metadata": {
  "kernelspec": {
   "display_name": "Python 3 (ipykernel)",
   "language": "python",
   "name": "python3"
  },
  "language_info": {
   "codemirror_mode": {
    "name": "ipython",
    "version": 3
   },
   "file_extension": ".py",
   "mimetype": "text/x-python",
   "name": "python",
   "nbconvert_exporter": "python",
   "pygments_lexer": "ipython3",
   "version": "3.13.5"
  }
 },
 "nbformat": 4,
 "nbformat_minor": 5
}
