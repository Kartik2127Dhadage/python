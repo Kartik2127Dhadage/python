{
 "cells": [
  {
   "cell_type": "markdown",
   "id": "23f8efdb-64b9-4923-948f-2f8183a81498",
   "metadata": {},
   "source": [
    "## Lambda function in python\n",
    "* A lambda function is a small anonymous function.\n",
    "* A lambda function can take any number of argument but have one expression.\n",
    "* The expression is evaluated and returned.\n",
    "* Lambda expression ( or lambda function) essentially block of code  that can be assinge to variable, passed as an argument or returned from  function call,in language that support high order function.\n",
    "* The main role of lambda function is better discriber in the sinarios when we emplay them anonymously inside another function.\n",
    "* In python,the lambda function can be utilize as an argumente to the higher order function as an arguments.\n",
    "* Lambda function in python\n",
    "    * Syntax\n",
    "        * Normal function \n",
    "        * Anonymous function\n",
    "* Usages\n",
    "    * Lambda with filter()\n",
    "    * Lambda with map()\n",
    "    * Lambda with reduce()\n",
    "    * Lambda with apply()\n",
    "* Common Error\n",
    "    * SyntaxErroe\n",
    "    * TyprError\n",
    "    "
   ]
  },
  {
   "cell_type": "code",
   "execution_count": null,
   "id": "ce31d725-b502-4b5b-a777-ff54997e7153",
   "metadata": {},
   "outputs": [],
   "source": [
    "# using  user define function\n",
    "def func1(x):\n",
    "    return x+10\n",
    "func1(20)"
   ]
  },
  {
   "cell_type": "code",
   "execution_count": 2,
   "id": "0a9f1b86-a814-4226-9c50-b3a7f6403b9e",
   "metadata": {},
   "outputs": [
    {
     "data": {
      "text/plain": [
       "30"
      ]
     },
     "execution_count": 2,
     "metadata": {},
     "output_type": "execute_result"
    }
   ],
   "source": [
    "# using lambda\n",
    "(lambda x:x+10)(20)"
   ]
  },
  {
   "cell_type": "code",
   "execution_count": 3,
   "id": "6d6136d8-3e2a-46a3-be0a-5ba5fd62fe51",
   "metadata": {},
   "outputs": [
    {
     "data": {
      "text/plain": [
       "64"
      ]
     },
     "execution_count": 3,
     "metadata": {},
     "output_type": "execute_result"
    }
   ],
   "source": [
    "# squre using user define function\n",
    "def sqr(a):\n",
    "    return a**2\n",
    "sqr(8)"
   ]
  },
  {
   "cell_type": "code",
   "execution_count": 4,
   "id": "ec69b3b2-fbb5-44e5-abe8-99aed7beccda",
   "metadata": {},
   "outputs": [
    {
     "data": {
      "text/plain": [
       "64"
      ]
     },
     "execution_count": 4,
     "metadata": {},
     "output_type": "execute_result"
    }
   ],
   "source": [
    "# sqr using lambda\n",
    "(lambda y:y**2)(8)"
   ]
  },
  {
   "cell_type": "code",
   "execution_count": 5,
   "id": "fa0060ef-10c9-4081-94b8-19f02933cfd3",
   "metadata": {},
   "outputs": [
    {
     "name": "stdin",
     "output_type": "stream",
     "text": [
      "enter any value 10\n"
     ]
    },
    {
     "data": {
      "text/plain": [
       "3.1622776601683795"
      ]
     },
     "execution_count": 5,
     "metadata": {},
     "output_type": "execute_result"
    }
   ],
   "source": [
    " # squreroot using  user define  function\n",
    "import math\n",
    "def sqrRoot(n):\n",
    "    return math.sqrt(n)\n",
    "num=int(input(\"enter any value\"))\n",
    "sqrRoot(num)\n",
    "    "
   ]
  },
  {
   "cell_type": "code",
   "execution_count": 6,
   "id": "b3fd46c2-b727-4477-b82b-7ca3573dfe9d",
   "metadata": {},
   "outputs": [
    {
     "name": "stdin",
     "output_type": "stream",
     "text": [
      " enter any value 10\n"
     ]
    },
    {
     "data": {
      "text/plain": [
       "3.1622776601683795"
      ]
     },
     "execution_count": 6,
     "metadata": {},
     "output_type": "execute_result"
    }
   ],
   "source": [
    "# sqrt using lambda\n",
    "num=int(input(\" enter any value\"))\n",
    "(lambda n:math.sqrt(n))(num)"
   ]
  },
  {
   "cell_type": "code",
   "execution_count": 7,
   "id": "806cf883-7ce0-40a6-beb4-7a74fd39c583",
   "metadata": {},
   "outputs": [
    {
     "name": "stdin",
     "output_type": "stream",
     "text": [
      " enter any value  10\n",
      " enter any value 20\n"
     ]
    },
    {
     "data": {
      "text/plain": [
       "30"
      ]
     },
     "execution_count": 7,
     "metadata": {},
     "output_type": "execute_result"
    }
   ],
   "source": [
    "# sum of two number using user define function\n",
    "def sumtwo(x,y):\n",
    "    return x+y\n",
    "num1=int(input(\" enter any value \"))\n",
    "num2=int(input(\" enter any value\"))\n",
    "sumtwo(num1,num2)"
   ]
  },
  {
   "cell_type": "code",
   "execution_count": 8,
   "id": "48ea6a02-6b82-4edd-8314-f9a3ff824784",
   "metadata": {},
   "outputs": [
    {
     "name": "stdin",
     "output_type": "stream",
     "text": [
      "enter any value 10\n",
      "enter amy value 20\n"
     ]
    },
    {
     "data": {
      "text/plain": [
       "30"
      ]
     },
     "execution_count": 8,
     "metadata": {},
     "output_type": "execute_result"
    }
   ],
   "source": [
    "# sum of two number using lambda\n",
    "num1=int(input(\"enter any value\"))\n",
    "num2=int(input(\"enter amy value\"))\n",
    "(lambda x,y:x+y)(num1,num2)"
   ]
  },
  {
   "cell_type": "code",
   "execution_count": 9,
   "id": "b56bcbdd-9543-4746-998f-b9299e7c0381",
   "metadata": {},
   "outputs": [
    {
     "name": "stdout",
     "output_type": "stream",
     "text": [
      "[2, 4, 6, 8, 10]\n",
      "[1, 3, 5, 7, 9]\n"
     ]
    }
   ],
   "source": [
    "# filter odd even in list using user define function\n",
    "list1=[1,2,3,4,5,6,7,8,9,10]\n",
    "evenlist=[]\n",
    "oddlist=[]\n",
    "for i in list1:\n",
    "    if i%2==0:\n",
    "        evenlist.append(i)\n",
    "    else:\n",
    "        oddlist.append(i)\n",
    "print(evenlist)\n",
    "print(oddlist)\n",
    "        "
   ]
  },
  {
   "cell_type": "code",
   "execution_count": 11,
   "id": "7830fd3e-35bc-44d8-913d-d39ffd27bd28",
   "metadata": {},
   "outputs": [
    {
     "data": {
      "text/plain": [
       "[2, 4, 6, 8, 10]"
      ]
     },
     "execution_count": 11,
     "metadata": {},
     "output_type": "execute_result"
    }
   ],
   "source": [
    "# filter even using lambda function\n",
    "list1=[1,2,3,4,5,6,7,8,9,10]\n",
    "list(filter(lambda i:i%2==0,list1))"
   ]
  },
  {
   "cell_type": "code",
   "execution_count": 18,
   "id": "bda9ce4f-4821-4eb2-b889-882c201f7913",
   "metadata": {},
   "outputs": [
    {
     "data": {
      "text/plain": [
       "[1, 3, 5, 7, 9]"
      ]
     },
     "execution_count": 18,
     "metadata": {},
     "output_type": "execute_result"
    }
   ],
   "source": [
    "# filter odd using lambda function \n",
    "list1=[1,2,3,4,5,6,7,8,9,10]\n",
    "list(filter(lambda x:x%2!=0,list1))"
   ]
  },
  {
   "cell_type": "code",
   "execution_count": 20,
   "id": "b27be598-df8a-40f1-998a-822023ac0b14",
   "metadata": {},
   "outputs": [
    {
     "name": "stdout",
     "output_type": "stream",
     "text": [
      "['tuesday', 'wednesday', 'thursday', 'saturday']\n"
     ]
    }
   ],
   "source": [
    "# pick out string in list thats length greater than 7.\n",
    "weekdays=[\"monday\",\"tuesday\",\"wednesday\",\"thursday\",\"friday\",\"saturday\",\"sunday\"]\n",
    "newlist=[]\n",
    "for i in weekdays:\n",
    "    if len(i)>=7:\n",
    "        newlist.append(i)\n",
    "\n",
    "\n",
    "print(newlist)\n"
   ]
  },
  {
   "cell_type": "code",
   "execution_count": 22,
   "id": "ff4f3e21-f8b0-44c6-83a3-ae5091d17854",
   "metadata": {},
   "outputs": [
    {
     "data": {
      "text/plain": [
       "['tuesday', 'wednesday', 'thursday', 'saturday']"
      ]
     },
     "execution_count": 22,
     "metadata": {},
     "output_type": "execute_result"
    }
   ],
   "source": [
    "# using lambda\n",
    "weekdays=[\"monday\",\"tuesday\",\"wednesday\",\"thursday\",\"friday\",\"saturday\",\"sunday\"]\n",
    "list(filter(lambda i:len(i)>=7,weekdays))\n"
   ]
  },
  {
   "cell_type": "markdown",
   "id": "175b921d-7606-4c85-bca9-d7b94b2ae91b",
   "metadata": {},
   "source": []
  }
 ],
 "metadata": {
  "kernelspec": {
   "display_name": "Python 3 (ipykernel)",
   "language": "python",
   "name": "python3"
  },
  "language_info": {
   "codemirror_mode": {
    "name": "ipython",
    "version": 3
   },
   "file_extension": ".py",
   "mimetype": "text/x-python",
   "name": "python",
   "nbconvert_exporter": "python",
   "pygments_lexer": "ipython3",
   "version": "3.13.5"
  }
 },
 "nbformat": 4,
 "nbformat_minor": 5
}
