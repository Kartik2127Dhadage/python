{
 "cells": [
  {
   "cell_type": "markdown",
   "id": "23f8efdb-64b9-4923-948f-2f8183a81498",
   "metadata": {},
   "source": [
    "## Lambda function in python\n",
    "* A lambda function is a small anonymous function.\n",
    "* A lambda function can take any number of argument but have one expression.\n",
    "* The expression is evaluated and returned.\n",
    "* Lambda expression ( or lambda function) essentially block of code  that can be assinge to variable, passed as an argument or returned from  function call,in language that support high order function.\n",
    "* The main role of lambda function is better discriber in the sinarios when we emplay them anonymously inside another function.\n",
    "* In python,the lambda function can be utilize as an argumente to the higher order function as an arguments.\n",
    "* Lambda function in python\n",
    "    * Syntax\n",
    "        * Normal function \n",
    "        * Anonymous function\n",
    "* Usages\n",
    "    * Lambda with filter()\n",
    "    * Lambda with map()\n",
    "    * Lambda with reduce()\n",
    "    * Lambda with apply()\n",
    "* Common Error\n",
    "    * SyntaxErroe\n",
    "    * TyprError\n",
    "    "
   ]
  },
  {
   "cell_type": "code",
   "execution_count": null,
   "id": "ce31d725-b502-4b5b-a777-ff54997e7153",
   "metadata": {},
   "outputs": [],
   "source": [
    "# using  user define function\n",
    "def func1(x):\n",
    "    return x+10\n",
    "func1(20)"
   ]
  },
  {
   "cell_type": "code",
   "execution_count": 2,
   "id": "0a9f1b86-a814-4226-9c50-b3a7f6403b9e",
   "metadata": {},
   "outputs": [
    {
     "data": {
      "text/plain": [
       "30"
      ]
     },
     "execution_count": 2,
     "metadata": {},
     "output_type": "execute_result"
    }
   ],
   "source": [
    "# using lambda\n",
    "(lambda x:x+10)(20)"
   ]
  },
  {
   "cell_type": "code",
   "execution_count": 3,
   "id": "6d6136d8-3e2a-46a3-be0a-5ba5fd62fe51",
   "metadata": {},
   "outputs": [
    {
     "data": {
      "text/plain": [
       "64"
      ]
     },
     "execution_count": 3,
     "metadata": {},
     "output_type": "execute_result"
    }
   ],
   "source": [
    "# squre using user define function\n",
    "def sqr(a):\n",
    "    return a**2\n",
    "sqr(8)"
   ]
  },
  {
   "cell_type": "code",
   "execution_count": 4,
   "id": "ec69b3b2-fbb5-44e5-abe8-99aed7beccda",
   "metadata": {},
   "outputs": [
    {
     "data": {
      "text/plain": [
       "64"
      ]
     },
     "execution_count": 4,
     "metadata": {},
     "output_type": "execute_result"
    }
   ],
   "source": [
    "# sqr using lambda\n",
    "(lambda y:y**2)(8)"
   ]
  },
  {
   "cell_type": "code",
   "execution_count": 5,
   "id": "fa0060ef-10c9-4081-94b8-19f02933cfd3",
   "metadata": {},
   "outputs": [
    {
     "name": "stdin",
     "output_type": "stream",
     "text": [
      "enter any value 10\n"
     ]
    },
    {
     "data": {
      "text/plain": [
       "3.1622776601683795"
      ]
     },
     "execution_count": 5,
     "metadata": {},
     "output_type": "execute_result"
    }
   ],
   "source": [
    " # squreroot using  user define  function\n",
    "import math\n",
    "def sqrRoot(n):\n",
    "    return math.sqrt(n)\n",
    "num=int(input(\"enter any value\"))\n",
    "sqrRoot(num)\n",
    "    "
   ]
  },
  {
   "cell_type": "code",
   "execution_count": 6,
   "id": "b3fd46c2-b727-4477-b82b-7ca3573dfe9d",
   "metadata": {},
   "outputs": [
    {
     "name": "stdin",
     "output_type": "stream",
     "text": [
      " enter any value 10\n"
     ]
    },
    {
     "data": {
      "text/plain": [
       "3.1622776601683795"
      ]
     },
     "execution_count": 6,
     "metadata": {},
     "output_type": "execute_result"
    }
   ],
   "source": [
    "# sqrt using lambda\n",
    "num=int(input(\" enter any value\"))\n",
    "(lambda n:math.sqrt(n))(num)"
   ]
  },
  {
   "cell_type": "code",
   "execution_count": 7,
   "id": "806cf883-7ce0-40a6-beb4-7a74fd39c583",
   "metadata": {},
   "outputs": [
    {
     "name": "stdin",
     "output_type": "stream",
     "text": [
      " enter any value  10\n",
      " enter any value 20\n"
     ]
    },
    {
     "data": {
      "text/plain": [
       "30"
      ]
     },
     "execution_count": 7,
     "metadata": {},
     "output_type": "execute_result"
    }
   ],
   "source": [
    "# sum of two number using user define function\n",
    "def sumtwo(x,y):\n",
    "    return x+y\n",
    "num1=int(input(\" enter any value \"))\n",
    "num2=int(input(\" enter any value\"))\n",
    "sumtwo(num1,num2)"
   ]
  },
  {
   "cell_type": "code",
   "execution_count": 8,
   "id": "48ea6a02-6b82-4edd-8314-f9a3ff824784",
   "metadata": {},
   "outputs": [
    {
     "name": "stdin",
     "output_type": "stream",
     "text": [
      "enter any value 10\n",
      "enter amy value 20\n"
     ]
    },
    {
     "data": {
      "text/plain": [
       "30"
      ]
     },
     "execution_count": 8,
     "metadata": {},
     "output_type": "execute_result"
    }
   ],
   "source": [
    "# sum of two number using lambda\n",
    "num1=int(input(\"enter any value\"))\n",
    "num2=int(input(\"enter amy value\"))\n",
    "(lambda x,y:x+y)(num1,num2)"
   ]
  },
  {
   "cell_type": "code",
   "execution_count": 9,
   "id": "b56bcbdd-9543-4746-998f-b9299e7c0381",
   "metadata": {},
   "outputs": [
    {
     "name": "stdout",
     "output_type": "stream",
     "text": [
      "[2, 4, 6, 8, 10]\n",
      "[1, 3, 5, 7, 9]\n"
     ]
    }
   ],
   "source": [
    "# filter odd even in list using user define function\n",
    "list1=[1,2,3,4,5,6,7,8,9,10]\n",
    "evenlist=[]\n",
    "oddlist=[]\n",
    "for i in list1:\n",
    "    if i%2==0:\n",
    "        evenlist.append(i)\n",
    "    else:\n",
    "        oddlist.append(i)\n",
    "print(evenlist)\n",
    "print(oddlist)\n",
    "        "
   ]
  },
  {
   "cell_type": "code",
   "execution_count": 11,
   "id": "7830fd3e-35bc-44d8-913d-d39ffd27bd28",
   "metadata": {},
   "outputs": [
    {
     "data": {
      "text/plain": [
       "[2, 4, 6, 8, 10]"
      ]
     },
     "execution_count": 11,
     "metadata": {},
     "output_type": "execute_result"
    }
   ],
   "source": [
    "# filter even using lambda function\n",
    "list1=[1,2,3,4,5,6,7,8,9,10]\n",
    "list(filter(lambda i:i%2==0,list1))"
   ]
  },
  {
   "cell_type": "code",
   "execution_count": 18,
   "id": "bda9ce4f-4821-4eb2-b889-882c201f7913",
   "metadata": {},
   "outputs": [
    {
     "data": {
      "text/plain": [
       "[1, 3, 5, 7, 9]"
      ]
     },
     "execution_count": 18,
     "metadata": {},
     "output_type": "execute_result"
    }
   ],
   "source": [
    "# filter odd using lambda function \n",
    "list1=[1,2,3,4,5,6,7,8,9,10]\n",
    "list(filter(lambda x:x%2!=0,list1))"
   ]
  },
  {
   "cell_type": "code",
   "execution_count": 20,
   "id": "b27be598-df8a-40f1-998a-822023ac0b14",
   "metadata": {},
   "outputs": [
    {
     "name": "stdout",
     "output_type": "stream",
     "text": [
      "['tuesday', 'wednesday', 'thursday', 'saturday']\n"
     ]
    }
   ],
   "source": [
    "# pick out string in list thats length greater than 7.\n",
    "weekdays=[\"monday\",\"tuesday\",\"wednesday\",\"thursday\",\"friday\",\"saturday\",\"sunday\"]\n",
    "newlist=[]\n",
    "for i in weekdays:\n",
    "    if len(i)>=7:\n",
    "        newlist.append(i)\n",
    "\n",
    "\n",
    "print(newlist)\n"
   ]
  },
  {
   "cell_type": "code",
   "execution_count": 22,
   "id": "ff4f3e21-f8b0-44c6-83a3-ae5091d17854",
   "metadata": {},
   "outputs": [
    {
     "data": {
      "text/plain": [
       "['tuesday', 'wednesday', 'thursday', 'saturday']"
      ]
     },
     "execution_count": 22,
     "metadata": {},
     "output_type": "execute_result"
    }
   ],
   "source": [
    "# using lambda\n",
    "weekdays=[\"monday\",\"tuesday\",\"wednesday\",\"thursday\",\"friday\",\"saturday\",\"sunday\"]\n",
    "list(filter(lambda i:len(i)>=7,weekdays))\n"
   ]
  },
  {
   "cell_type": "code",
   "execution_count": 4,
   "id": "939d1d72-ada6-495e-9ec7-5f5dc43e92cc",
   "metadata": {},
   "outputs": [
    {
     "name": "stdout",
     "output_type": "stream",
     "text": [
      "custurdapple\n",
      "dragonfruit\n"
     ]
    }
   ],
   "source": [
    "fruits=[\"apple\",\"banana\",\"watermelon\",\"custurdapple\",\"dragonfruit\",\"painapple\",\"stawberry\"]\n",
    "i=0\n",
    "while i<len(fruits):\n",
    "    if len(fruits[i])>10:\n",
    "        print(fruits[i])\n",
    "    i+=1"
   ]
  },
  {
   "cell_type": "code",
   "execution_count": 5,
   "id": "a952c3b4-0f81-45d7-ab94-9f3b5fe742b9",
   "metadata": {},
   "outputs": [
    {
     "data": {
      "text/plain": [
       "['custurdapple', 'dragonfruit']"
      ]
     },
     "execution_count": 5,
     "metadata": {},
     "output_type": "execute_result"
    }
   ],
   "source": [
    "list(filter(lambda x:len(x)>10,fruits))"
   ]
  },
  {
   "cell_type": "code",
   "execution_count": 6,
   "id": "3035e3db-d5d0-4ff7-8ed2-b314ff6dcc36",
   "metadata": {},
   "outputs": [],
   "source": [
    "def filterfruits(x2):\n",
    "    if len(x2)>10:\n",
    "        return x2\n",
    "filterfruits(\"apple\")"
   ]
  },
  {
   "cell_type": "code",
   "execution_count": 7,
   "id": "bbb6b317-5cb5-4bfb-be9e-10f94d1b35ec",
   "metadata": {},
   "outputs": [
    {
     "data": {
      "text/plain": [
       "['custurdapple', 'dragonfruit']"
      ]
     },
     "execution_count": 7,
     "metadata": {},
     "output_type": "execute_result"
    }
   ],
   "source": [
    "list(filter(filterfruits,fruits))"
   ]
  },
  {
   "cell_type": "code",
   "execution_count": 15,
   "id": "36d34f36-d599-4934-bbc8-345dd080267d",
   "metadata": {},
   "outputs": [],
   "source": [
    "numbers=[10,20,30,40,50,50,-15,-55,-66,-88,100,101,3]\n",
    "\n",
    "def positiveVal(x):\n",
    "    if x>0:\n",
    "        return x\n",
    "positiveVal(-9)"
   ]
  },
  {
   "cell_type": "code",
   "execution_count": 16,
   "id": "ea3c27c0-acde-47b0-a21e-533cb03e1927",
   "metadata": {},
   "outputs": [
    {
     "data": {
      "text/plain": [
       "[10, 20, 30, 40, 50, 50, 100, 101, 3]"
      ]
     },
     "execution_count": 16,
     "metadata": {},
     "output_type": "execute_result"
    }
   ],
   "source": [
    "list(filter(positiveVal,numbers))"
   ]
  },
  {
   "cell_type": "code",
   "execution_count": 17,
   "id": "76cf0d4d-873c-40ef-97bb-5c774d3d8cf1",
   "metadata": {},
   "outputs": [
    {
     "data": {
      "text/plain": [
       "[10, 20, 30, 40, 50, 50, 100, 101, 3]"
      ]
     },
     "execution_count": 17,
     "metadata": {},
     "output_type": "execute_result"
    }
   ],
   "source": [
    "list(filter(lambda x:x>0,numbers))"
   ]
  },
  {
   "cell_type": "code",
   "execution_count": 18,
   "id": "eeaee13e-5b68-40ed-bce4-13df01c33c05",
   "metadata": {},
   "outputs": [
    {
     "data": {
      "text/plain": [
       "[-15, -55, -66, -88]"
      ]
     },
     "execution_count": 18,
     "metadata": {},
     "output_type": "execute_result"
    }
   ],
   "source": [
    "list(filter(lambda x:x<0,numbers))"
   ]
  },
  {
   "cell_type": "code",
   "execution_count": 19,
   "id": "5910d8b4-022d-4a67-ade8-28fd17bb66fa",
   "metadata": {},
   "outputs": [
    {
     "data": {
      "text/plain": [
       "9"
      ]
     },
     "execution_count": 19,
     "metadata": {},
     "output_type": "execute_result"
    }
   ],
   "source": [
    "# check number is divisible by 3\n",
    "def divisible3 (y):\n",
    "    if y%3==0:\n",
    "        return y\n",
    "divisible3(9)"
   ]
  },
  {
   "cell_type": "code",
   "execution_count": 20,
   "id": "829dda96-dac8-4832-ba4a-2703d7e08a57",
   "metadata": {},
   "outputs": [
    {
     "data": {
      "text/plain": [
       "[30, -15, -66, 3]"
      ]
     },
     "execution_count": 20,
     "metadata": {},
     "output_type": "execute_result"
    }
   ],
   "source": [
    "list(filter(divisible3,numbers))"
   ]
  },
  {
   "cell_type": "code",
   "execution_count": 21,
   "id": "d45efe90-8f45-4400-a69a-a4a9fc0b2d0e",
   "metadata": {},
   "outputs": [
    {
     "data": {
      "text/plain": [
       "[30, -15, -66, 3]"
      ]
     },
     "execution_count": 21,
     "metadata": {},
     "output_type": "execute_result"
    }
   ],
   "source": [
    "list(filter(lambda y:y%3==0,numbers))"
   ]
  },
  {
   "cell_type": "code",
   "execution_count": 22,
   "id": "262cb423-9bfa-4fc6-a82c-4b94d7eaf687",
   "metadata": {},
   "outputs": [
    {
     "data": {
      "text/plain": [
       "[20, 30, 40, 50, 50, 100, 101]"
      ]
     },
     "execution_count": 22,
     "metadata": {},
     "output_type": "execute_result"
    }
   ],
   "source": [
    "list(filter(lambda x:x>15,numbers))"
   ]
  },
  {
   "cell_type": "code",
   "execution_count": 43,
   "id": "46ae3aa4-3aea-4fb2-a9d3-ac8628d36136",
   "metadata": {},
   "outputs": [
    {
     "data": {
      "text/plain": [
       "True"
      ]
     },
     "execution_count": 43,
     "metadata": {},
     "output_type": "execute_result"
    }
   ],
   "source": [
    "string=[\"hello1234\",\"\",\"world\",\" \",\"python\",\"  \",\"123\",\"  kartik  \"]\n",
    "def removeSpace(a2):\n",
    "    x7=a2.isalpha() or a2.isnumeric() or a2.strip()\n",
    "    return x7\n",
    "removeSpace(\"123\")"
   ]
  },
  {
   "cell_type": "code",
   "execution_count": 42,
   "id": "3f3effa7-93b8-420b-bb2f-50f17223924d",
   "metadata": {},
   "outputs": [
    {
     "data": {
      "text/plain": [
       "['hello1234', 'world', 'python', '123', '  kartik  ']"
      ]
     },
     "execution_count": 42,
     "metadata": {},
     "output_type": "execute_result"
    }
   ],
   "source": [
    "list(filter(removeSpace,string))"
   ]
  },
  {
   "cell_type": "code",
   "execution_count": 48,
   "id": "0b05f98f-c4a7-4795-8364-ad8287761032",
   "metadata": {},
   "outputs": [
    {
     "data": {
      "text/plain": [
       "['hello1234', 'world', 'python', '123', '  kartik  ']"
      ]
     },
     "execution_count": 48,
     "metadata": {},
     "output_type": "execute_result"
    }
   ],
   "source": [
    "list(filter(lambda x:x.isalpha() or x.isalnum() or x.isnumeric() or x.strip(),string))"
   ]
  },
  {
   "cell_type": "markdown",
   "id": "5ecfab63-bab6-459f-b43e-d6cf47259e0e",
   "metadata": {},
   "source": [
    "* ### lambda with map()"
   ]
  },
  {
   "cell_type": "code",
   "execution_count": 49,
   "id": "164a16d3-a533-4a5e-a725-90c485e36990",
   "metadata": {},
   "outputs": [
    {
     "data": {
      "text/plain": [
       "16"
      ]
     },
     "execution_count": 49,
     "metadata": {},
     "output_type": "execute_result"
    }
   ],
   "source": [
    "def sqrval(x):\n",
    "    return x**2\n",
    "sqrval(4)"
   ]
  },
  {
   "cell_type": "code",
   "execution_count": 50,
   "id": "c27a9471-7326-48d2-ac1c-fc6435289cb0",
   "metadata": {},
   "outputs": [
    {
     "data": {
      "text/plain": [
       "[100, 400, 900, 1600, 2500, 2500, 10000, 10201, 9]"
      ]
     },
     "execution_count": 50,
     "metadata": {},
     "output_type": "execute_result"
    }
   ],
   "source": [
    "list1=[10, 20, 30, 40, 50, 50, 100, 101, 3]\n",
    "list(map(sqrval,list1))"
   ]
  },
  {
   "cell_type": "code",
   "execution_count": 51,
   "id": "5b4b0f93-3d1f-43db-9a7e-43ce351c81d6",
   "metadata": {},
   "outputs": [
    {
     "data": {
      "text/plain": [
       "[100, 400, 900, 1600, 2500, 2500, 10000, 10201, 9]"
      ]
     },
     "execution_count": 51,
     "metadata": {},
     "output_type": "execute_result"
    }
   ],
   "source": [
    "list(map(lambda x:x**2,list1))"
   ]
  },
  {
   "cell_type": "code",
   "execution_count": 53,
   "id": "07265e9f-51ae-4460-aa55-8356d07dfe61",
   "metadata": {},
   "outputs": [
    {
     "data": {
      "text/plain": [
       "10"
      ]
     },
     "execution_count": 53,
     "metadata": {},
     "output_type": "execute_result"
    }
   ],
   "source": [
    "# table 5\n",
    "\n",
    "list2=[1,2,3,4,5,6,7,8,9,10]\n",
    "def table5(x):\n",
    "    return x*5\n",
    "table5(2)"
   ]
  },
  {
   "cell_type": "code",
   "execution_count": 54,
   "id": "2ebd220c-dcae-42f4-ba10-d5df3569ccee",
   "metadata": {},
   "outputs": [
    {
     "data": {
      "text/plain": [
       "[5, 10, 15, 20, 25, 30, 35, 40, 45, 50]"
      ]
     },
     "execution_count": 54,
     "metadata": {},
     "output_type": "execute_result"
    }
   ],
   "source": [
    "list(map(table5,list2))"
   ]
  },
  {
   "cell_type": "code",
   "execution_count": 56,
   "id": "bc63edb3-da0d-4a63-8fa9-723225b86eb5",
   "metadata": {},
   "outputs": [
    {
     "data": {
      "text/plain": [
       "[5, 10, 15, 20, 25, 30, 35, 40, 45, 50]"
      ]
     },
     "execution_count": 56,
     "metadata": {},
     "output_type": "execute_result"
    }
   ],
   "source": [
    "list(map(lambda x:x*5,list2))"
   ]
  },
  {
   "cell_type": "code",
   "execution_count": 61,
   "id": "e6a5550b-5064-479c-8063-e0bb45b43fc9",
   "metadata": {},
   "outputs": [
    {
     "data": {
      "text/plain": [
       "[10, 20, 30, 40, 50, 50, 100, 101, 3]"
      ]
     },
     "execution_count": 61,
     "metadata": {},
     "output_type": "execute_result"
    }
   ],
   "source": [
    "list1"
   ]
  },
  {
   "cell_type": "code",
   "execution_count": 60,
   "id": "f18c6a69-496d-444e-a963-d7135e27ff5c",
   "metadata": {},
   "outputs": [
    {
     "data": {
      "text/plain": [
       "[3.1622776601683795,\n",
       " 4.47213595499958,\n",
       " 5.477225575051661,\n",
       " 6.324555320336759,\n",
       " 7.0710678118654755,\n",
       " 7.0710678118654755,\n",
       " 10.0,\n",
       " 10.04987562112089,\n",
       " 1.7320508075688772]"
      ]
     },
     "execution_count": 60,
     "metadata": {},
     "output_type": "execute_result"
    }
   ],
   "source": [
    "import math\n",
    "# squre root\n",
    "list(map(lambda x:math.sqrt(x),list1))"
   ]
  },
  {
   "cell_type": "markdown",
   "id": "231f448b-ee12-47b9-aedb-176eb572a537",
   "metadata": {},
   "source": [
    "* ### lambda with reduce()"
   ]
  },
  {
   "cell_type": "code",
   "execution_count": 2,
   "id": "6fd8a5cc-9291-40bf-81ef-78e2d890e0f1",
   "metadata": {},
   "outputs": [],
   "source": [
    "from functools import reduce"
   ]
  },
  {
   "cell_type": "code",
   "execution_count": 70,
   "id": "07a24fa6-baac-47d8-a41d-3ce6b25c4a84",
   "metadata": {},
   "outputs": [
    {
     "data": {
      "text/plain": [
       "18"
      ]
     },
     "execution_count": 70,
     "metadata": {},
     "output_type": "execute_result"
    }
   ],
   "source": [
    "list3=[5, 10, 15, 20, 25, 30, 35, 40, 45, 50]\n",
    "def rednum1(a,b):\n",
    "    return a+b\n",
    "rednum1(9,9)"
   ]
  },
  {
   "cell_type": "code",
   "execution_count": 71,
   "id": "5d082340-68ee-4ef1-88f4-13117c00e17f",
   "metadata": {},
   "outputs": [
    {
     "data": {
      "text/plain": [
       "275"
      ]
     },
     "execution_count": 71,
     "metadata": {},
     "output_type": "execute_result"
    }
   ],
   "source": [
    "reduce(rednum1,list3)"
   ]
  },
  {
   "cell_type": "code",
   "execution_count": 72,
   "id": "6c33559e-ff1d-41eb-bb05-af58d89d13a1",
   "metadata": {},
   "outputs": [
    {
     "data": {
      "text/plain": [
       "275"
      ]
     },
     "execution_count": 72,
     "metadata": {},
     "output_type": "execute_result"
    }
   ],
   "source": [
    "reduce(lambda a,b:a+b,list3)"
   ]
  },
  {
   "cell_type": "code",
   "execution_count": 73,
   "id": "c63b1d13-9b29-4029-830b-88ca9c7f834d",
   "metadata": {},
   "outputs": [
    {
     "data": {
      "text/plain": [
       "0"
      ]
     },
     "execution_count": 73,
     "metadata": {},
     "output_type": "execute_result"
    }
   ],
   "source": [
    "def rednum2(a,b):\n",
    "    return a-b\n",
    "rednum2(9,9)"
   ]
  },
  {
   "cell_type": "code",
   "execution_count": 74,
   "id": "ed877182-6189-4d19-aadd-74daf68c22ad",
   "metadata": {},
   "outputs": [
    {
     "data": {
      "text/plain": [
       "-265"
      ]
     },
     "execution_count": 74,
     "metadata": {},
     "output_type": "execute_result"
    }
   ],
   "source": [
    "reduce(rednum2,list3)"
   ]
  },
  {
   "cell_type": "code",
   "execution_count": 75,
   "id": "6cbca0a6-c98c-4737-a8b2-51efad210867",
   "metadata": {},
   "outputs": [
    {
     "data": {
      "text/plain": [
       "-265"
      ]
     },
     "execution_count": 75,
     "metadata": {},
     "output_type": "execute_result"
    }
   ],
   "source": [
    "reduce(lambda a,b:a-b,list3)"
   ]
  },
  {
   "cell_type": "code",
   "execution_count": 76,
   "id": "3bb88210-869c-41a4-b63d-52d9575531de",
   "metadata": {},
   "outputs": [
    {
     "data": {
      "text/plain": [
       "81"
      ]
     },
     "execution_count": 76,
     "metadata": {},
     "output_type": "execute_result"
    }
   ],
   "source": [
    "def rednum3(a,b):\n",
    "    return a*b\n",
    "rednum3(9,9)"
   ]
  },
  {
   "cell_type": "code",
   "execution_count": 77,
   "id": "454aeab9-db9c-4367-bd1e-d03d6b4e7768",
   "metadata": {},
   "outputs": [
    {
     "data": {
      "text/plain": [
       "35437500000000"
      ]
     },
     "execution_count": 77,
     "metadata": {},
     "output_type": "execute_result"
    }
   ],
   "source": [
    "reduce(rednum3,list3)"
   ]
  },
  {
   "cell_type": "code",
   "execution_count": 78,
   "id": "27417e1e-6823-4fa8-9ebe-e5ffa1c8396c",
   "metadata": {},
   "outputs": [
    {
     "data": {
      "text/plain": [
       "35437500000000"
      ]
     },
     "execution_count": 78,
     "metadata": {},
     "output_type": "execute_result"
    }
   ],
   "source": [
    "reduce(lambda a,b:a*b,list3)"
   ]
  },
  {
   "cell_type": "code",
   "execution_count": 81,
   "id": "6d53e281-3917-4d3b-9135-120b23984f2b",
   "metadata": {},
   "outputs": [
    {
     "data": {
      "text/plain": [
       "1.0"
      ]
     },
     "execution_count": 81,
     "metadata": {},
     "output_type": "execute_result"
    }
   ],
   "source": [
    "def rednum4(a,b):\n",
    "    return a/b\n",
    "rednum4(9,9)"
   ]
  },
  {
   "cell_type": "code",
   "execution_count": 82,
   "id": "952e16e3-4ee1-42ec-abfa-33f65b095443",
   "metadata": {},
   "outputs": [
    {
     "data": {
      "text/plain": [
       "7.054673721340387e-13"
      ]
     },
     "execution_count": 82,
     "metadata": {},
     "output_type": "execute_result"
    }
   ],
   "source": [
    "reduce(rednum4,list3)"
   ]
  },
  {
   "cell_type": "code",
   "execution_count": 83,
   "id": "be25d55a-9881-4b0e-9fa4-93e862d9db0f",
   "metadata": {},
   "outputs": [
    {
     "data": {
      "text/plain": [
       "7.054673721340387e-13"
      ]
     },
     "execution_count": 83,
     "metadata": {},
     "output_type": "execute_result"
    }
   ],
   "source": [
    "reduce(lambda a,b:a/b,list3)"
   ]
  },
  {
   "cell_type": "markdown",
   "id": "e7f14fbd-3746-4a2d-8f5f-1a7e4a8b4da0",
   "metadata": {},
   "source": [
    "* ### lambda with apply()"
   ]
  },
  {
   "cell_type": "code",
   "execution_count": 97,
   "id": "a575851f-cb24-4927-937a-be67bc28089b",
   "metadata": {},
   "outputs": [
    {
     "name": "stdout",
     "output_type": "stream",
     "text": [
      "Collecting pandas\n",
      "  Downloading pandas-2.3.1-cp313-cp313-win_amd64.whl.metadata (19 kB)\n",
      "Collecting numpy>=1.26.0 (from pandas)\n",
      "  Downloading numpy-2.3.1-cp313-cp313-win_amd64.whl.metadata (60 kB)\n",
      "Requirement already satisfied: python-dateutil>=2.8.2 in c:\\users\\webasha\\appdata\\local\\programs\\python\\python313\\lib\\site-packages (from pandas) (2.9.0.post0)\n",
      "Collecting pytz>=2020.1 (from pandas)\n",
      "  Downloading pytz-2025.2-py2.py3-none-any.whl.metadata (22 kB)\n",
      "Collecting tzdata>=2022.7 (from pandas)\n",
      "  Downloading tzdata-2025.2-py2.py3-none-any.whl.metadata (1.4 kB)\n",
      "Requirement already satisfied: six>=1.5 in c:\\users\\webasha\\appdata\\local\\programs\\python\\python313\\lib\\site-packages (from python-dateutil>=2.8.2->pandas) (1.17.0)\n",
      "Downloading pandas-2.3.1-cp313-cp313-win_amd64.whl (11.0 MB)\n",
      "   ---------------------------------------- 0.0/11.0 MB ? eta -:--:--\n",
      "   ----- ---------------------------------- 1.6/11.0 MB 8.4 MB/s eta 0:00:02\n",
      "   ------------ --------------------------- 3.4/11.0 MB 8.8 MB/s eta 0:00:01\n",
      "   --------------------- ------------------ 6.0/11.0 MB 9.9 MB/s eta 0:00:01\n",
      "   ------------------------------ --------- 8.4/11.0 MB 10.3 MB/s eta 0:00:01\n",
      "   -------------------------------------- - 10.5/11.0 MB 10.1 MB/s eta 0:00:01\n",
      "   ---------------------------------------- 11.0/11.0 MB 9.4 MB/s eta 0:00:00\n",
      "Downloading numpy-2.3.1-cp313-cp313-win_amd64.whl (12.7 MB)\n",
      "   ---------------------------------------- 0.0/12.7 MB ? eta -:--:--\n",
      "   ----- ---------------------------------- 1.8/12.7 MB 9.4 MB/s eta 0:00:02\n",
      "   -------------- ------------------------- 4.5/12.7 MB 10.7 MB/s eta 0:00:01\n",
      "   --------------------- ------------------ 6.8/12.7 MB 11.0 MB/s eta 0:00:01\n",
      "   ---------------------------- ----------- 9.2/12.7 MB 11.1 MB/s eta 0:00:01\n",
      "   ------------------------------------- -- 11.8/12.7 MB 11.3 MB/s eta 0:00:01\n",
      "   ---------------------------------------- 12.7/12.7 MB 10.5 MB/s eta 0:00:00\n",
      "Downloading pytz-2025.2-py2.py3-none-any.whl (509 kB)\n",
      "Downloading tzdata-2025.2-py2.py3-none-any.whl (347 kB)\n",
      "Installing collected packages: pytz, tzdata, numpy, pandas\n",
      "\n",
      "   ---------------------------------------- 0/4 [pytz]\n",
      "   ---------------------------------------- 0/4 [pytz]\n",
      "   ---------------------------------------- 0/4 [pytz]\n",
      "   ---------- ----------------------------- 1/4 [tzdata]\n",
      "   ---------- ----------------------------- 1/4 [tzdata]\n",
      "   ---------- ----------------------------- 1/4 [tzdata]\n",
      "   -------------------- ------------------- 2/4 [numpy]\n",
      "   -------------------- ------------------- 2/4 [numpy]\n",
      "   -------------------- ------------------- 2/4 [numpy]\n",
      "   -------------------- ------------------- 2/4 [numpy]\n",
      "   -------------------- ------------------- 2/4 [numpy]\n",
      "   -------------------- ------------------- 2/4 [numpy]\n",
      "   -------------------- ------------------- 2/4 [numpy]\n",
      "   -------------------- ------------------- 2/4 [numpy]\n",
      "   -------------------- ------------------- 2/4 [numpy]\n",
      "   -------------------- ------------------- 2/4 [numpy]\n",
      "   -------------------- ------------------- 2/4 [numpy]\n",
      "   -------------------- ------------------- 2/4 [numpy]\n",
      "   -------------------- ------------------- 2/4 [numpy]\n",
      "   -------------------- ------------------- 2/4 [numpy]\n",
      "   -------------------- ------------------- 2/4 [numpy]\n",
      "   -------------------- ------------------- 2/4 [numpy]\n",
      "   -------------------- ------------------- 2/4 [numpy]\n",
      "   -------------------- ------------------- 2/4 [numpy]\n",
      "   -------------------- ------------------- 2/4 [numpy]\n",
      "   -------------------- ------------------- 2/4 [numpy]\n",
      "   -------------------- ------------------- 2/4 [numpy]\n",
      "   -------------------- ------------------- 2/4 [numpy]\n",
      "   -------------------- ------------------- 2/4 [numpy]\n",
      "   -------------------- ------------------- 2/4 [numpy]\n",
      "   -------------------- ------------------- 2/4 [numpy]\n",
      "   -------------------- ------------------- 2/4 [numpy]\n",
      "   -------------------- ------------------- 2/4 [numpy]\n",
      "   -------------------- ------------------- 2/4 [numpy]\n",
      "   -------------------- ------------------- 2/4 [numpy]\n",
      "   -------------------- ------------------- 2/4 [numpy]\n",
      "   -------------------- ------------------- 2/4 [numpy]\n",
      "   -------------------- ------------------- 2/4 [numpy]\n",
      "   -------------------- ------------------- 2/4 [numpy]\n",
      "   -------------------- ------------------- 2/4 [numpy]\n",
      "   -------------------- ------------------- 2/4 [numpy]\n",
      "   -------------------- ------------------- 2/4 [numpy]\n",
      "   -------------------- ------------------- 2/4 [numpy]\n",
      "   -------------------- ------------------- 2/4 [numpy]\n",
      "   -------------------- ------------------- 2/4 [numpy]\n",
      "   -------------------- ------------------- 2/4 [numpy]\n",
      "   -------------------- ------------------- 2/4 [numpy]\n",
      "   -------------------- ------------------- 2/4 [numpy]\n",
      "   -------------------- ------------------- 2/4 [numpy]\n",
      "   -------------------- ------------------- 2/4 [numpy]\n",
      "   -------------------- ------------------- 2/4 [numpy]\n",
      "   -------------------- ------------------- 2/4 [numpy]\n",
      "   -------------------- ------------------- 2/4 [numpy]\n",
      "   -------------------- ------------------- 2/4 [numpy]\n",
      "   -------------------- ------------------- 2/4 [numpy]\n",
      "   -------------------- ------------------- 2/4 [numpy]\n",
      "   -------------------- ------------------- 2/4 [numpy]\n",
      "   -------------------- ------------------- 2/4 [numpy]\n",
      "   -------------------- ------------------- 2/4 [numpy]\n",
      "   -------------------- ------------------- 2/4 [numpy]\n",
      "   -------------------- ------------------- 2/4 [numpy]\n",
      "   -------------------- ------------------- 2/4 [numpy]\n",
      "   -------------------- ------------------- 2/4 [numpy]\n",
      "   -------------------- ------------------- 2/4 [numpy]\n",
      "   ------------------------------ --------- 3/4 [pandas]\n",
      "   ------------------------------ --------- 3/4 [pandas]\n",
      "   ------------------------------ --------- 3/4 [pandas]\n",
      "   ------------------------------ --------- 3/4 [pandas]\n",
      "   ------------------------------ --------- 3/4 [pandas]\n",
      "   ------------------------------ --------- 3/4 [pandas]\n",
      "   ------------------------------ --------- 3/4 [pandas]\n",
      "   ------------------------------ --------- 3/4 [pandas]\n",
      "   ------------------------------ --------- 3/4 [pandas]\n",
      "   ------------------------------ --------- 3/4 [pandas]\n",
      "   ------------------------------ --------- 3/4 [pandas]\n",
      "   ------------------------------ --------- 3/4 [pandas]\n",
      "   ------------------------------ --------- 3/4 [pandas]\n",
      "   ------------------------------ --------- 3/4 [pandas]\n",
      "   ------------------------------ --------- 3/4 [pandas]\n",
      "   ------------------------------ --------- 3/4 [pandas]\n",
      "   ------------------------------ --------- 3/4 [pandas]\n",
      "   ------------------------------ --------- 3/4 [pandas]\n",
      "   ------------------------------ --------- 3/4 [pandas]\n",
      "   ------------------------------ --------- 3/4 [pandas]\n",
      "   ------------------------------ --------- 3/4 [pandas]\n",
      "   ------------------------------ --------- 3/4 [pandas]\n",
      "   ------------------------------ --------- 3/4 [pandas]\n",
      "   ------------------------------ --------- 3/4 [pandas]\n",
      "   ------------------------------ --------- 3/4 [pandas]\n",
      "   ------------------------------ --------- 3/4 [pandas]\n",
      "   ------------------------------ --------- 3/4 [pandas]\n",
      "   ------------------------------ --------- 3/4 [pandas]\n",
      "   ------------------------------ --------- 3/4 [pandas]\n",
      "   ------------------------------ --------- 3/4 [pandas]\n",
      "   ------------------------------ --------- 3/4 [pandas]\n",
      "   ------------------------------ --------- 3/4 [pandas]\n",
      "   ------------------------------ --------- 3/4 [pandas]\n",
      "   ------------------------------ --------- 3/4 [pandas]\n",
      "   ------------------------------ --------- 3/4 [pandas]\n",
      "   ------------------------------ --------- 3/4 [pandas]\n",
      "   ------------------------------ --------- 3/4 [pandas]\n",
      "   ------------------------------ --------- 3/4 [pandas]\n",
      "   ------------------------------ --------- 3/4 [pandas]\n",
      "   ------------------------------ --------- 3/4 [pandas]\n",
      "   ------------------------------ --------- 3/4 [pandas]\n",
      "   ------------------------------ --------- 3/4 [pandas]\n",
      "   ------------------------------ --------- 3/4 [pandas]\n",
      "   ------------------------------ --------- 3/4 [pandas]\n",
      "   ------------------------------ --------- 3/4 [pandas]\n",
      "   ------------------------------ --------- 3/4 [pandas]\n",
      "   ------------------------------ --------- 3/4 [pandas]\n",
      "   ------------------------------ --------- 3/4 [pandas]\n",
      "   ------------------------------ --------- 3/4 [pandas]\n",
      "   ------------------------------ --------- 3/4 [pandas]\n",
      "   ------------------------------ --------- 3/4 [pandas]\n",
      "   ------------------------------ --------- 3/4 [pandas]\n",
      "   ------------------------------ --------- 3/4 [pandas]\n",
      "   ------------------------------ --------- 3/4 [pandas]\n",
      "   ------------------------------ --------- 3/4 [pandas]\n",
      "   ------------------------------ --------- 3/4 [pandas]\n",
      "   ------------------------------ --------- 3/4 [pandas]\n",
      "   ------------------------------ --------- 3/4 [pandas]\n",
      "   ------------------------------ --------- 3/4 [pandas]\n",
      "   ------------------------------ --------- 3/4 [pandas]\n",
      "   ------------------------------ --------- 3/4 [pandas]\n",
      "   ------------------------------ --------- 3/4 [pandas]\n",
      "   ------------------------------ --------- 3/4 [pandas]\n",
      "   ------------------------------ --------- 3/4 [pandas]\n",
      "   ------------------------------ --------- 3/4 [pandas]\n",
      "   ------------------------------ --------- 3/4 [pandas]\n",
      "   ------------------------------ --------- 3/4 [pandas]\n",
      "   ------------------------------ --------- 3/4 [pandas]\n",
      "   ------------------------------ --------- 3/4 [pandas]\n",
      "   ------------------------------ --------- 3/4 [pandas]\n",
      "   ------------------------------ --------- 3/4 [pandas]\n",
      "   ------------------------------ --------- 3/4 [pandas]\n",
      "   ------------------------------ --------- 3/4 [pandas]\n",
      "   ------------------------------ --------- 3/4 [pandas]\n",
      "   ------------------------------ --------- 3/4 [pandas]\n",
      "   ------------------------------ --------- 3/4 [pandas]\n",
      "   ------------------------------ --------- 3/4 [pandas]\n",
      "   ------------------------------ --------- 3/4 [pandas]\n",
      "   ------------------------------ --------- 3/4 [pandas]\n",
      "   ------------------------------ --------- 3/4 [pandas]\n",
      "   ------------------------------ --------- 3/4 [pandas]\n",
      "   ------------------------------ --------- 3/4 [pandas]\n",
      "   ------------------------------ --------- 3/4 [pandas]\n",
      "   ------------------------------ --------- 3/4 [pandas]\n",
      "   ------------------------------ --------- 3/4 [pandas]\n",
      "   ------------------------------ --------- 3/4 [pandas]\n",
      "   ------------------------------ --------- 3/4 [pandas]\n",
      "   ------------------------------ --------- 3/4 [pandas]\n",
      "   ------------------------------ --------- 3/4 [pandas]\n",
      "   ------------------------------ --------- 3/4 [pandas]\n",
      "   ------------------------------ --------- 3/4 [pandas]\n",
      "   ------------------------------ --------- 3/4 [pandas]\n",
      "   ------------------------------ --------- 3/4 [pandas]\n",
      "   ------------------------------ --------- 3/4 [pandas]\n",
      "   ------------------------------ --------- 3/4 [pandas]\n",
      "   ------------------------------ --------- 3/4 [pandas]\n",
      "   ------------------------------ --------- 3/4 [pandas]\n",
      "   ------------------------------ --------- 3/4 [pandas]\n",
      "   ------------------------------ --------- 3/4 [pandas]\n",
      "   ------------------------------ --------- 3/4 [pandas]\n",
      "   ------------------------------ --------- 3/4 [pandas]\n",
      "   ------------------------------ --------- 3/4 [pandas]\n",
      "   ------------------------------ --------- 3/4 [pandas]\n",
      "   ------------------------------ --------- 3/4 [pandas]\n",
      "   ------------------------------ --------- 3/4 [pandas]\n",
      "   ------------------------------ --------- 3/4 [pandas]\n",
      "   ------------------------------ --------- 3/4 [pandas]\n",
      "   ------------------------------ --------- 3/4 [pandas]\n",
      "   ------------------------------ --------- 3/4 [pandas]\n",
      "   ------------------------------ --------- 3/4 [pandas]\n",
      "   ------------------------------ --------- 3/4 [pandas]\n",
      "   ------------------------------ --------- 3/4 [pandas]\n",
      "   ------------------------------ --------- 3/4 [pandas]\n",
      "   ------------------------------ --------- 3/4 [pandas]\n",
      "   ------------------------------ --------- 3/4 [pandas]\n",
      "   ------------------------------ --------- 3/4 [pandas]\n",
      "   ------------------------------ --------- 3/4 [pandas]\n",
      "   ------------------------------ --------- 3/4 [pandas]\n",
      "   ------------------------------ --------- 3/4 [pandas]\n",
      "   ------------------------------ --------- 3/4 [pandas]\n",
      "   ------------------------------ --------- 3/4 [pandas]\n",
      "   ------------------------------ --------- 3/4 [pandas]\n",
      "   ------------------------------ --------- 3/4 [pandas]\n",
      "   ------------------------------ --------- 3/4 [pandas]\n",
      "   ------------------------------ --------- 3/4 [pandas]\n",
      "   ------------------------------ --------- 3/4 [pandas]\n",
      "   ------------------------------ --------- 3/4 [pandas]\n",
      "   ------------------------------ --------- 3/4 [pandas]\n",
      "   ------------------------------ --------- 3/4 [pandas]\n",
      "   ------------------------------ --------- 3/4 [pandas]\n",
      "   ------------------------------ --------- 3/4 [pandas]\n",
      "   ------------------------------ --------- 3/4 [pandas]\n",
      "   ------------------------------ --------- 3/4 [pandas]\n",
      "   ------------------------------ --------- 3/4 [pandas]\n",
      "   ------------------------------ --------- 3/4 [pandas]\n",
      "   ------------------------------ --------- 3/4 [pandas]\n",
      "   ------------------------------ --------- 3/4 [pandas]\n",
      "   ------------------------------ --------- 3/4 [pandas]\n",
      "   ------------------------------ --------- 3/4 [pandas]\n",
      "   ------------------------------ --------- 3/4 [pandas]\n",
      "   ------------------------------ --------- 3/4 [pandas]\n",
      "   ------------------------------ --------- 3/4 [pandas]\n",
      "   ------------------------------ --------- 3/4 [pandas]\n",
      "   ------------------------------ --------- 3/4 [pandas]\n",
      "   ------------------------------ --------- 3/4 [pandas]\n",
      "   ------------------------------ --------- 3/4 [pandas]\n",
      "   ------------------------------ --------- 3/4 [pandas]\n",
      "   ------------------------------ --------- 3/4 [pandas]\n",
      "   ------------------------------ --------- 3/4 [pandas]\n",
      "   ------------------------------ --------- 3/4 [pandas]\n",
      "   ------------------------------ --------- 3/4 [pandas]\n",
      "   ------------------------------ --------- 3/4 [pandas]\n",
      "   ------------------------------ --------- 3/4 [pandas]\n",
      "   ------------------------------ --------- 3/4 [pandas]\n",
      "   ------------------------------ --------- 3/4 [pandas]\n",
      "   ------------------------------ --------- 3/4 [pandas]\n",
      "   ------------------------------ --------- 3/4 [pandas]\n",
      "   ------------------------------ --------- 3/4 [pandas]\n",
      "   ------------------------------ --------- 3/4 [pandas]\n",
      "   ------------------------------ --------- 3/4 [pandas]\n",
      "   ------------------------------ --------- 3/4 [pandas]\n",
      "   ------------------------------ --------- 3/4 [pandas]\n",
      "   ---------------------------------------- 4/4 [pandas]\n",
      "\n",
      "Successfully installed numpy-2.3.1 pandas-2.3.1 pytz-2025.2 tzdata-2025.2\n"
     ]
    }
   ],
   "source": [
    "!pip install pandas\n"
   ]
  },
  {
   "cell_type": "code",
   "execution_count": 100,
   "id": "52fdb6a2-cf67-4735-a056-0ae5daea673e",
   "metadata": {},
   "outputs": [],
   "source": [
    "\n",
    "from pandas import pandas\n",
    "import pandas as pd "
   ]
  },
  {
   "cell_type": "code",
   "execution_count": 99,
   "id": "80ae7de2-6dcd-4673-96b9-b356dc596292",
   "metadata": {},
   "outputs": [
    {
     "name": "stdout",
     "output_type": "stream",
     "text": [
      "[[1, 2, 3, 4, 5], [6, 7, 8, 9, 10], [11, 12, 13, 14, 15]]\n"
     ]
    }
   ],
   "source": [
    "x=[[1,2,3,4,5],[6,7,8,9,10],[11,12,13,14,15]]\n",
    "print(x)"
   ]
  },
  {
   "cell_type": "code",
   "execution_count": 103,
   "id": "f5225faa-a409-4d36-970a-68a08bf4d391",
   "metadata": {},
   "outputs": [
    {
     "name": "stdout",
     "output_type": "stream",
     "text": [
      "    0   1   2   3   4\n",
      "0   1   2   3   4   5\n",
      "1   6   7   8   9  10\n",
      "2  11  12  13  14  15\n"
     ]
    }
   ],
   "source": [
    "df=pd.DataFrame(x)\n",
    "print(df)"
   ]
  },
  {
   "cell_type": "code",
   "execution_count": 106,
   "id": "05a7b702-9073-4f26-838e-734eea6428a3",
   "metadata": {},
   "outputs": [
    {
     "name": "stdout",
     "output_type": "stream",
     "text": [
      "9\n"
     ]
    }
   ],
   "source": [
    "a=df[3][1]\n",
    "print(a)"
   ]
  },
  {
   "cell_type": "code",
   "execution_count": 107,
   "id": "162358e6-e704-4be2-b0f3-ba3adc24ca95",
   "metadata": {},
   "outputs": [
    {
     "name": "stdout",
     "output_type": "stream",
     "text": [
      "    0   1   2   3   4\n",
      "0   3   6   9  12  15\n",
      "1  18  21  24  27  30\n",
      "2  33  36  39  42  45\n"
     ]
    }
   ],
   "source": [
    "b=df*3\n",
    "print(b)"
   ]
  },
  {
   "cell_type": "code",
   "execution_count": 108,
   "id": "9c002100-fae7-4b5b-a3f9-9a5021fc3c52",
   "metadata": {},
   "outputs": [
    {
     "name": "stdout",
     "output_type": "stream",
     "text": [
      "    0   1   2   3   4\n",
      "0   6   7   8   9  10\n",
      "1  11  12  13  14  15\n",
      "2  16  17  18  19  20\n"
     ]
    }
   ],
   "source": [
    "c=df+5\n",
    "print(c)"
   ]
  },
  {
   "cell_type": "code",
   "execution_count": 111,
   "id": "5788e684-0650-4130-83b9-0814c92c7b34",
   "metadata": {},
   "outputs": [
    {
     "data": {
      "text/html": [
       "<div>\n",
       "<style scoped>\n",
       "    .dataframe tbody tr th:only-of-type {\n",
       "        vertical-align: middle;\n",
       "    }\n",
       "\n",
       "    .dataframe tbody tr th {\n",
       "        vertical-align: top;\n",
       "    }\n",
       "\n",
       "    .dataframe thead th {\n",
       "        text-align: right;\n",
       "    }\n",
       "</style>\n",
       "<table border=\"1\" class=\"dataframe\">\n",
       "  <thead>\n",
       "    <tr style=\"text-align: right;\">\n",
       "      <th></th>\n",
       "      <th>0</th>\n",
       "      <th>1</th>\n",
       "      <th>2</th>\n",
       "      <th>3</th>\n",
       "      <th>4</th>\n",
       "    </tr>\n",
       "  </thead>\n",
       "  <tbody>\n",
       "    <tr>\n",
       "      <th>0</th>\n",
       "      <td>1</td>\n",
       "      <td>2</td>\n",
       "      <td>3</td>\n",
       "      <td>4</td>\n",
       "      <td>5</td>\n",
       "    </tr>\n",
       "    <tr>\n",
       "      <th>1</th>\n",
       "      <td>6</td>\n",
       "      <td>7</td>\n",
       "      <td>8</td>\n",
       "      <td>9</td>\n",
       "      <td>10</td>\n",
       "    </tr>\n",
       "    <tr>\n",
       "      <th>2</th>\n",
       "      <td>11</td>\n",
       "      <td>12</td>\n",
       "      <td>13</td>\n",
       "      <td>14</td>\n",
       "      <td>15</td>\n",
       "    </tr>\n",
       "  </tbody>\n",
       "</table>\n",
       "</div>"
      ],
      "text/plain": [
       "    0   1   2   3   4\n",
       "0   1   2   3   4   5\n",
       "1   6   7   8   9  10\n",
       "2  11  12  13  14  15"
      ]
     },
     "execution_count": 111,
     "metadata": {},
     "output_type": "execute_result"
    }
   ],
   "source": [
    "df"
   ]
  },
  {
   "cell_type": "code",
   "execution_count": 110,
   "id": "785771ae-0f35-4645-97c5-4235c4446202",
   "metadata": {},
   "outputs": [
    {
     "name": "stdout",
     "output_type": "stream",
     "text": [
      "     0    1    2    3    4\n",
      "0    1    4    9   16   25\n",
      "1   36   49   64   81  100\n",
      "2  121  144  169  196  225\n"
     ]
    }
   ],
   "source": [
    "y=df.apply(lambda x:x*x)\n",
    "print(y)"
   ]
  },
  {
   "cell_type": "markdown",
   "id": "81f3d210-bb9c-459e-b19b-61fe3d191e59",
   "metadata": {},
   "source": [
    "## practice set"
   ]
  },
  {
   "cell_type": "code",
   "execution_count": 2,
   "id": "0fd16eb7-23a8-4752-9f90-4f315ad25c78",
   "metadata": {},
   "outputs": [
    {
     "name": "stdin",
     "output_type": "stream",
     "text": [
      "enter any number 5\n"
     ]
    },
    {
     "data": {
      "text/plain": [
       "25"
      ]
     },
     "execution_count": 2,
     "metadata": {},
     "output_type": "execute_result"
    }
   ],
   "source": [
    "# 1. write a lambda function to calculate the squre of a number.\n",
    "n=int(input(\"enter any number\"))\n",
    "(lambda x:x**2)(n)"
   ]
  },
  {
   "cell_type": "code",
   "execution_count": 3,
   "id": "e078b852-ca3e-4453-ac6a-49d12d6c772d",
   "metadata": {},
   "outputs": [
    {
     "data": {
      "text/plain": [
       "[6, 7, 8, 9]"
      ]
     },
     "execution_count": 3,
     "metadata": {},
     "output_type": "execute_result"
    }
   ],
   "source": [
    "# 2. Use a Lambda function with map() to add 5 to each number in the list \n",
    "num=[1,2,3,4]\n",
    "list(map(lambda x:x+5,num))"
   ]
  },
  {
   "cell_type": "code",
   "execution_count": 4,
   "id": "67942b81-ad49-48c8-8cd4-13bd8f2e7199",
   "metadata": {},
   "outputs": [
    {
     "data": {
      "text/plain": [
       "[8, 14, 20]"
      ]
     },
     "execution_count": 4,
     "metadata": {},
     "output_type": "execute_result"
    }
   ],
   "source": [
    "# 3. Use filter() with lambda to find evev numbers from list \n",
    "num1=[5,8,11,14,17,20]\n",
    "list(filter(lambda y:y%2==0,num1))"
   ]
  },
  {
   "cell_type": "code",
   "execution_count": 3,
   "id": "ce91d539-46da-4253-bc1d-677114985375",
   "metadata": {},
   "outputs": [
    {
     "data": {
      "text/plain": [
       "120"
      ]
     },
     "execution_count": 3,
     "metadata": {},
     "output_type": "execute_result"
    }
   ],
   "source": [
    "# 4. Use reduce() with lambda to comput the product of all element in list \n",
    "nums=[2,3,4,5]\n",
    "reduce(lambda a,b:a*b,nums)"
   ]
  },
  {
   "cell_type": "code",
   "execution_count": 5,
   "id": "142b34ec-0e65-430d-b8f6-1c8c477be014",
   "metadata": {},
   "outputs": [
    {
     "name": "stdout",
     "output_type": "stream",
     "text": [
      "[(2, 1), (4, 2), (1, 3)]\n"
     ]
    }
   ],
   "source": [
    "# 5. Sort the following list of tupels by the second value using a lambda function \n",
    "data=((1,3),(2,1),(4,2))\n",
    "sortedData=sorted(data,key=lambda x:x[1])\n",
    "print(sortedData)"
   ]
  },
  {
   "cell_type": "code",
   "execution_count": 17,
   "id": "49ae208b-b452-4f4c-8338-58560a4c5136",
   "metadata": {},
   "outputs": [
    {
     "name": "stdin",
     "output_type": "stream",
     "text": [
      "enter any string banana\n"
     ]
    },
    {
     "data": {
      "text/plain": [
       "False"
      ]
     },
     "execution_count": 17,
     "metadata": {},
     "output_type": "execute_result"
    }
   ],
   "source": [
    "# 6. Write a lambda function that check if string start with \"A\"\n",
    "b=input(\"enter any string\")\n",
    "(lambda b:b[0]==\"A\")(b)\n"
   ]
  },
  {
   "cell_type": "code",
   "execution_count": 19,
   "id": "96c1784f-c428-4d2c-bb5a-7767067941f1",
   "metadata": {},
   "outputs": [
    {
     "data": {
      "text/plain": [
       "[32.0, 68.0, 98.6, 212.0]"
      ]
     },
     "execution_count": 19,
     "metadata": {},
     "output_type": "execute_result"
    }
   ],
   "source": [
    "# 7. use a lambda function with map() to convert a list of celsius tempreture to farenhite.\n",
    "temp=[0,20,37,100]\n",
    "list(map(lambda x:(x*9/5)+32,temp))"
   ]
  },
  {
   "cell_type": "code",
   "execution_count": 27,
   "id": "75d8c198-9dd3-48da-997e-1f7f4d8c9170",
   "metadata": {},
   "outputs": [
    {
     "data": {
      "text/plain": [
       "['notebook', 'apple']"
      ]
     },
     "execution_count": 27,
     "metadata": {},
     "output_type": "execute_result"
    }
   ],
   "source": [
    "#8. given a list of string filter all string with length<3 using lambda.\n",
    "word=[\"pen\",\"notebook\",\"apple\",\"go\"]\n",
    "list(filter(lambda a:len(a)>3,word))"
   ]
  },
  {
   "cell_type": "code",
   "execution_count": 30,
   "id": "f4cae9a8-13aa-49cf-a5c3-c8aedb82d307",
   "metadata": {},
   "outputs": [
    {
     "name": "stdin",
     "output_type": "stream",
     "text": [
      "enter first number 10\n",
      "enter a second number 5\n"
     ]
    },
    {
     "data": {
      "text/plain": [
       "7.5"
      ]
     },
     "execution_count": 30,
     "metadata": {},
     "output_type": "execute_result"
    }
   ],
   "source": [
    "#9 create a lambda function that takes two argument a return their average.\n",
    "a=int(input(\"enter first number\"))\n",
    "b=int(input(\"enter a second number\"))\n",
    "(lambda a,b:(a+b)/2)(a,b)"
   ]
  },
  {
   "cell_type": "code",
   "execution_count": 31,
   "id": "40ecca53-5236-459a-a16c-89cf7303033b",
   "metadata": {},
   "outputs": [
    {
     "data": {
      "text/plain": [
       "['Python', 'Lambda', 'Function']"
      ]
     },
     "execution_count": 31,
     "metadata": {},
     "output_type": "execute_result"
    }
   ],
   "source": [
    "# 10. Use lambda and map() to capitalize the first letter of each words in a list:\n",
    "words=[\"python\",\"lambda\",\"function\"]\n",
    "list(map(lambda x:x.capitalize(),words))"
   ]
  },
  {
   "cell_type": "code",
   "execution_count": 13,
   "id": "90f1ad11-5f26-4352-95f4-371fbf8e1dc1",
   "metadata": {},
   "outputs": [
    {
     "name": "stdout",
     "output_type": "stream",
     "text": [
      "Pomagranate\n",
      "Python\n",
      "purpose\n"
     ]
    }
   ],
   "source": [
    "# print word start from\"P\" or\"p\" using while loop.\n",
    "list1=[\"Pomagranate\",\"Python\",\"hello\",\"game\",\"ultra\",\"purpose\"]\n",
    "i=0\n",
    "while i<len(list1):\n",
    "    if list1[i][0] == \"p\" or list1[i][0]==\"P\":\n",
    "        print(list1[i])\n",
    "    i+=1"
   ]
  },
  {
   "cell_type": "code",
   "execution_count": 14,
   "id": "7919145c-fe3d-4c3b-ae63-5bc901c5f369",
   "metadata": {},
   "outputs": [
    {
     "name": "stdout",
     "output_type": "stream",
     "text": [
      "21\n"
     ]
    }
   ],
   "source": [
    "# sum string \"123456\"\n",
    "x=\"123456\"\n",
    "sum1=0\n",
    "for i in x:\n",
    "    val=int(i)\n",
    "    sum1+=val\n",
    "print(sum1)"
   ]
  },
  {
   "cell_type": "code",
   "execution_count": 15,
   "id": "71df7516-ca08-4af1-bf7e-6cb771a19210",
   "metadata": {},
   "outputs": [
    {
     "name": "stdout",
     "output_type": "stream",
     "text": [
      "10\n",
      "9\n",
      "8\n",
      "7\n",
      "6\n",
      "5\n",
      "4\n",
      "3\n",
      "2\n",
      "1\n"
     ]
    }
   ],
   "source": [
    "# count down 10 to 1\n",
    "i=10\n",
    "j=0\n",
    "while i>j:\n",
    "    print(i)\n",
    "    i-=1"
   ]
  },
  {
   "cell_type": "code",
   "execution_count": 17,
   "id": "5f98c8fd-22b8-45e2-a754-db983b9a0cf2",
   "metadata": {},
   "outputs": [
    {
     "name": "stdout",
     "output_type": "stream",
     "text": [
      "nohtyp\n"
     ]
    }
   ],
   "source": [
    "# revers string using logic not scaling\n",
    "string=\"python\"\n",
    "rev=\"\"\n",
    "for i in string:\n",
    "    rev=i+rev\n",
    "print(rev)"
   ]
  },
  {
   "cell_type": "code",
   "execution_count": 45,
   "id": "0bc43554-8e80-4e4b-a6a7-21f489780048",
   "metadata": {},
   "outputs": [
    {
     "name": "stdout",
     "output_type": "stream",
     "text": [
      "*****  \n",
      "****  \n",
      "***  \n",
      "**  \n",
      "*  \n"
     ]
    }
   ],
   "source": [
    "# revers star pattern 5 to 1\n",
    "i=5\n",
    "j=0\n",
    "while i>j:\n",
    "    print(\"*\"*i)\n",
    "    i-=1\n",
    "    "
   ]
  },
  {
   "cell_type": "code",
   "execution_count": 26,
   "id": "0200ca8f-d676-4baa-a084-b07612f345df",
   "metadata": {},
   "outputs": [
    {
     "name": "stdout",
     "output_type": "stream",
     "text": [
      "2 3 5 7 11 13 17 19 23 29 31 37 41 43 47 "
     ]
    }
   ],
   "source": [
    "# prime number between 1 to 50\n",
    "for i in range(2,51):\n",
    "    for j in range(2,i):\n",
    "        if i%j==0:\n",
    "            break\n",
    "    else:\n",
    "        print(i,end=\" \")"
   ]
  },
  {
   "cell_type": "code",
   "execution_count": 29,
   "id": "f963560b-5586-4c25-8f5a-ba00b5fa22fa",
   "metadata": {},
   "outputs": [
    {
     "name": "stdout",
     "output_type": "stream",
     "text": [
      "99\n"
     ]
    }
   ],
   "source": [
    "# find the largest [8,9,5,12,6]\n",
    "nums=[8,9,5,12,6,99]\n",
    "largest=nums[0]\n",
    "for i in nums:\n",
    "    if i>largest:\n",
    "        largest=i\n",
    "print(largest)"
   ]
  },
  {
   "cell_type": "code",
   "execution_count": 30,
   "id": "ee3919a3-6bbb-41ce-8a6f-797fb10a83de",
   "metadata": {},
   "outputs": [
    {
     "name": "stdout",
     "output_type": "stream",
     "text": [
      "560\n"
     ]
    }
   ],
   "source": [
    "# product of element in the list\n",
    "list1=[2,5,7,8]\n",
    "product=1\n",
    "for i in list1:\n",
    "    product*=i\n",
    "print(product)"
   ]
  },
  {
   "cell_type": "code",
   "execution_count": 33,
   "id": "17034a7d-f1cb-4a78-8b21-ada04a508a77",
   "metadata": {},
   "outputs": [
    {
     "name": "stdout",
     "output_type": "stream",
     "text": [
      "    *\n",
      "   ***\n",
      "  *****\n",
      " *******\n"
     ]
    }
   ],
   "source": [
    "# paramide star print\n",
    "for i in range(1,5):\n",
    "    print(\" \"*(5-i)+\"*\"*(2*i-1))"
   ]
  },
  {
   "cell_type": "code",
   "execution_count": 40,
   "id": "bdf71691-594a-4844-9021-04e220306c4d",
   "metadata": {},
   "outputs": [
    {
     "name": "stdin",
     "output_type": "stream",
     "text": [
      "enter any number 6\n"
     ]
    },
    {
     "name": "stdout",
     "output_type": "stream",
     "text": [
      "     * \n",
      "    * * \n",
      "   * * * \n",
      "  * * * * \n",
      " * * * * * \n",
      "* * * * * * \n"
     ]
    }
   ],
   "source": [
    "row=int(input(\"enter any number\"))\n",
    "for i in range(1,row+1):\n",
    "    print(\" \"*(row-i)+\"* \"*i)"
   ]
  },
  {
   "cell_type": "code",
   "execution_count": 44,
   "id": "8fa89039-c95b-4f38-827d-fb32dd61eb1f",
   "metadata": {
    "scrolled": true
   },
   "outputs": [
    {
     "name": "stdin",
     "output_type": "stream",
     "text": [
      "enter any number 5\n"
     ]
    },
    {
     "name": "stdout",
     "output_type": "stream",
     "text": [
      "    * \n",
      "   * * \n",
      "  * * * \n",
      " * * * * \n",
      "* * * * * \n",
      "* * * * * \n",
      " * * * * \n",
      "  * * * \n",
      "   * * \n",
      "    * \n"
     ]
    }
   ],
   "source": [
    "row=int(input(\"enter any number\"))\n",
    "for i in range(1,row+1):\n",
    "    print(\" \"*(row-i)+\"* \"*i)\n",
    "for i in range(row, 0, -1):\n",
    "    print(\" \" * (row - i) + \"* \" * i)"
   ]
  },
  {
   "cell_type": "code",
   "execution_count": 56,
   "id": "2ec7b514-ef45-4802-baab-b3c72f25fc84",
   "metadata": {},
   "outputs": [
    {
     "name": "stdout",
     "output_type": "stream",
     "text": [
      "1 \n",
      "2 3 \n",
      "4 5 6 \n",
      "7 8 9 10 \n",
      "11 12 13 14 15 \n"
     ]
    }
   ],
   "source": [
    "n=1\n",
    "for i in range(1,6):\n",
    "    for j in range(1,i+1):\n",
    "        print(n,end=\" \")\n",
    "        n+=1\n",
    "    print()\n",
    "    "
   ]
  },
  {
   "cell_type": "code",
   "execution_count": 75,
   "id": "f45eeef4-e593-4822-ad11-cd0a6d8d7d28",
   "metadata": {},
   "outputs": [
    {
     "name": "stdout",
     "output_type": "stream",
     "text": [
      "* * * * * \n",
      " * * * * \n",
      "  * * * \n",
      "   * * \n",
      "    * \n",
      "   * * \n",
      "  * * * \n",
      " * * * * \n",
      "* * * * * \n"
     ]
    }
   ],
   "source": [
    "row=5\n",
    "for i in range(row,0,-1):\n",
    "    print(\" \"*(row-i)+\"* \"*i)\n",
    "for i in range(2,row+1):\n",
    "    print(\" \"*(row-i)+\"* \"*i)"
   ]
  },
  {
   "cell_type": "code",
   "execution_count": 69,
   "id": "0cd91de9-03e8-45a7-9df9-31f343da4c2a",
   "metadata": {},
   "outputs": [
    {
     "name": "stdout",
     "output_type": "stream",
     "text": [
      "1\n",
      "22\n",
      "333\n",
      "4444\n",
      "55555\n"
     ]
    }
   ],
   "source": [
    "for i in range(1,6):\n",
    "    print(str(i)*i)"
   ]
  },
  {
   "cell_type": "code",
   "execution_count": 79,
   "id": "610ee752-09bf-45da-8e34-065697cfbd48",
   "metadata": {},
   "outputs": [
    {
     "name": "stdout",
     "output_type": "stream",
     "text": [
      "A\n",
      "BB\n",
      "CCC\n",
      "DDDD\n",
      "EEEEE\n",
      "FFFFFF\n",
      "GGGGGGG\n",
      "HHHHHHHH\n",
      "IIIIIIIII\n"
     ]
    }
   ],
   "source": [
    "for i in range(1,10):\n",
    "    print(chr(64+i)*i)"
   ]
  },
  {
   "cell_type": "code",
   "execution_count": null,
   "id": "5f0175cc-e0db-4350-a751-cbce27ca50a7",
   "metadata": {},
   "outputs": [],
   "source": []
  }
 ],
 "metadata": {
  "kernelspec": {
   "display_name": "Python 3 (ipykernel)",
   "language": "python",
   "name": "python3"
  },
  "language_info": {
   "codemirror_mode": {
    "name": "ipython",
    "version": 3
   },
   "file_extension": ".py",
   "mimetype": "text/x-python",
   "name": "python",
   "nbconvert_exporter": "python",
   "pygments_lexer": "ipython3",
   "version": "3.13.5"
  }
 },
 "nbformat": 4,
 "nbformat_minor": 5
}
